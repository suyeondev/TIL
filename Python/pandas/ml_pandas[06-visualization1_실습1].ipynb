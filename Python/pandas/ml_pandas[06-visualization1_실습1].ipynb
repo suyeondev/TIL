{
 "cells": [
  {
   "cell_type": "markdown",
   "id": "d42b0f75",
   "metadata": {},
   "source": [
    "# pandas 시각화 실습\n",
    "### mpg_visualization.xlsx파일을 활용하여 시각화해보자"
   ]
  },
  {
   "cell_type": "code",
   "execution_count": 2,
   "id": "4f67e9a0",
   "metadata": {},
   "outputs": [
    {
     "name": "stdout",
     "output_type": "stream",
     "text": [
      "numpy version: 1.20.1\n",
      "pandas version: 1.2.4\n"
     ]
    }
   ],
   "source": [
    "# 필요한 라이브러리 import\n",
    "import numpy as np\n",
    "import pandas as pd\n",
    "import matplotlib.pyplot as plt\n",
    "%matplotlib inline\n",
    "\n",
    "import json\n",
    "\n",
    "import warnings\n",
    "warnings.filterwarnings(action = 'ignore') \n",
    "\n",
    "from datetime import date, datetime, timedelta\n",
    "from dateutil.parser import parse\n",
    "\n",
    "print(\"numpy version:\",np.__version__) \n",
    "print(\"pandas version:\",pd.__version__)\n",
    "\n",
    "# 한글 폰트 문제 해결\n",
    "import platform\n",
    "\n",
    "from matplotlib import font_manager, rc\n",
    "\n",
    "if platform.system() == 'Darwin':\n",
    "    rc('font', family='AppleGothic')\n",
    "elif platform.system() == 'Windows':\n",
    "    path = \"c:/Windows/Fonts/malgun.ttf\"\n",
    "    font_name = font_manager.FontProperties(fname=path).get_name()\n",
    "    rc('font', family=font_name)\n",
    "else:\n",
    "    print('Unknown system... sorry~~~~') \n",
    "\n",
    "\n",
    "# 차트 축 <- 음수 부호 지원\n",
    "import matplotlib\n",
    "matplotlib.rcParams['axes.unicode_minus'] = False"
   ]
  },
  {
   "cell_type": "code",
   "execution_count": 6,
   "id": "e270d3cc",
   "metadata": {},
   "outputs": [
    {
     "data": {
      "text/html": [
       "<div>\n",
       "<style scoped>\n",
       "    .dataframe tbody tr th:only-of-type {\n",
       "        vertical-align: middle;\n",
       "    }\n",
       "\n",
       "    .dataframe tbody tr th {\n",
       "        vertical-align: top;\n",
       "    }\n",
       "\n",
       "    .dataframe thead th {\n",
       "        text-align: right;\n",
       "    }\n",
       "</style>\n",
       "<table border=\"1\" class=\"dataframe\">\n",
       "  <thead>\n",
       "    <tr style=\"text-align: right;\">\n",
       "      <th></th>\n",
       "      <th>manufacturer</th>\n",
       "      <th>model</th>\n",
       "      <th>displ</th>\n",
       "      <th>year</th>\n",
       "      <th>cyl</th>\n",
       "      <th>trans</th>\n",
       "      <th>drv</th>\n",
       "      <th>cty</th>\n",
       "      <th>hwy</th>\n",
       "      <th>fl</th>\n",
       "      <th>class</th>\n",
       "    </tr>\n",
       "  </thead>\n",
       "  <tbody>\n",
       "    <tr>\n",
       "      <th>0</th>\n",
       "      <td>audi</td>\n",
       "      <td>a4</td>\n",
       "      <td>1.8</td>\n",
       "      <td>1999</td>\n",
       "      <td>4</td>\n",
       "      <td>auto(l5)</td>\n",
       "      <td>f</td>\n",
       "      <td>18</td>\n",
       "      <td>29</td>\n",
       "      <td>p</td>\n",
       "      <td>compact</td>\n",
       "    </tr>\n",
       "    <tr>\n",
       "      <th>1</th>\n",
       "      <td>audi</td>\n",
       "      <td>a4</td>\n",
       "      <td>1.8</td>\n",
       "      <td>1999</td>\n",
       "      <td>4</td>\n",
       "      <td>manual(m5)</td>\n",
       "      <td>f</td>\n",
       "      <td>21</td>\n",
       "      <td>29</td>\n",
       "      <td>p</td>\n",
       "      <td>compact</td>\n",
       "    </tr>\n",
       "    <tr>\n",
       "      <th>2</th>\n",
       "      <td>audi</td>\n",
       "      <td>a4</td>\n",
       "      <td>2.0</td>\n",
       "      <td>2008</td>\n",
       "      <td>4</td>\n",
       "      <td>manual(m6)</td>\n",
       "      <td>f</td>\n",
       "      <td>20</td>\n",
       "      <td>31</td>\n",
       "      <td>p</td>\n",
       "      <td>compact</td>\n",
       "    </tr>\n",
       "    <tr>\n",
       "      <th>3</th>\n",
       "      <td>audi</td>\n",
       "      <td>a4</td>\n",
       "      <td>2.0</td>\n",
       "      <td>2008</td>\n",
       "      <td>4</td>\n",
       "      <td>auto(av)</td>\n",
       "      <td>f</td>\n",
       "      <td>21</td>\n",
       "      <td>30</td>\n",
       "      <td>p</td>\n",
       "      <td>compact</td>\n",
       "    </tr>\n",
       "    <tr>\n",
       "      <th>4</th>\n",
       "      <td>audi</td>\n",
       "      <td>a4</td>\n",
       "      <td>2.8</td>\n",
       "      <td>1999</td>\n",
       "      <td>6</td>\n",
       "      <td>auto(l5)</td>\n",
       "      <td>f</td>\n",
       "      <td>16</td>\n",
       "      <td>26</td>\n",
       "      <td>p</td>\n",
       "      <td>compact</td>\n",
       "    </tr>\n",
       "    <tr>\n",
       "      <th>...</th>\n",
       "      <td>...</td>\n",
       "      <td>...</td>\n",
       "      <td>...</td>\n",
       "      <td>...</td>\n",
       "      <td>...</td>\n",
       "      <td>...</td>\n",
       "      <td>...</td>\n",
       "      <td>...</td>\n",
       "      <td>...</td>\n",
       "      <td>...</td>\n",
       "      <td>...</td>\n",
       "    </tr>\n",
       "    <tr>\n",
       "      <th>229</th>\n",
       "      <td>volkswagen</td>\n",
       "      <td>passat</td>\n",
       "      <td>2.0</td>\n",
       "      <td>2008</td>\n",
       "      <td>4</td>\n",
       "      <td>auto(s6)</td>\n",
       "      <td>f</td>\n",
       "      <td>19</td>\n",
       "      <td>28</td>\n",
       "      <td>p</td>\n",
       "      <td>midsize</td>\n",
       "    </tr>\n",
       "    <tr>\n",
       "      <th>230</th>\n",
       "      <td>volkswagen</td>\n",
       "      <td>passat</td>\n",
       "      <td>2.0</td>\n",
       "      <td>2008</td>\n",
       "      <td>4</td>\n",
       "      <td>manual(m6)</td>\n",
       "      <td>f</td>\n",
       "      <td>21</td>\n",
       "      <td>29</td>\n",
       "      <td>p</td>\n",
       "      <td>midsize</td>\n",
       "    </tr>\n",
       "    <tr>\n",
       "      <th>231</th>\n",
       "      <td>volkswagen</td>\n",
       "      <td>passat</td>\n",
       "      <td>2.8</td>\n",
       "      <td>1999</td>\n",
       "      <td>6</td>\n",
       "      <td>auto(l5)</td>\n",
       "      <td>f</td>\n",
       "      <td>16</td>\n",
       "      <td>26</td>\n",
       "      <td>p</td>\n",
       "      <td>midsize</td>\n",
       "    </tr>\n",
       "    <tr>\n",
       "      <th>232</th>\n",
       "      <td>volkswagen</td>\n",
       "      <td>passat</td>\n",
       "      <td>2.8</td>\n",
       "      <td>1999</td>\n",
       "      <td>6</td>\n",
       "      <td>manual(m5)</td>\n",
       "      <td>f</td>\n",
       "      <td>18</td>\n",
       "      <td>26</td>\n",
       "      <td>p</td>\n",
       "      <td>midsize</td>\n",
       "    </tr>\n",
       "    <tr>\n",
       "      <th>233</th>\n",
       "      <td>volkswagen</td>\n",
       "      <td>passat</td>\n",
       "      <td>3.6</td>\n",
       "      <td>2008</td>\n",
       "      <td>6</td>\n",
       "      <td>auto(s6)</td>\n",
       "      <td>f</td>\n",
       "      <td>17</td>\n",
       "      <td>26</td>\n",
       "      <td>p</td>\n",
       "      <td>midsize</td>\n",
       "    </tr>\n",
       "  </tbody>\n",
       "</table>\n",
       "<p>234 rows × 11 columns</p>\n",
       "</div>"
      ],
      "text/plain": [
       "    manufacturer   model  displ  year  cyl       trans drv  cty  hwy fl  \\\n",
       "0           audi      a4    1.8  1999    4    auto(l5)   f   18   29  p   \n",
       "1           audi      a4    1.8  1999    4  manual(m5)   f   21   29  p   \n",
       "2           audi      a4    2.0  2008    4  manual(m6)   f   20   31  p   \n",
       "3           audi      a4    2.0  2008    4    auto(av)   f   21   30  p   \n",
       "4           audi      a4    2.8  1999    6    auto(l5)   f   16   26  p   \n",
       "..           ...     ...    ...   ...  ...         ...  ..  ...  ... ..   \n",
       "229   volkswagen  passat    2.0  2008    4    auto(s6)   f   19   28  p   \n",
       "230   volkswagen  passat    2.0  2008    4  manual(m6)   f   21   29  p   \n",
       "231   volkswagen  passat    2.8  1999    6    auto(l5)   f   16   26  p   \n",
       "232   volkswagen  passat    2.8  1999    6  manual(m5)   f   18   26  p   \n",
       "233   volkswagen  passat    3.6  2008    6    auto(s6)   f   17   26  p   \n",
       "\n",
       "       class  \n",
       "0    compact  \n",
       "1    compact  \n",
       "2    compact  \n",
       "3    compact  \n",
       "4    compact  \n",
       "..       ...  \n",
       "229  midsize  \n",
       "230  midsize  \n",
       "231  midsize  \n",
       "232  midsize  \n",
       "233  midsize  \n",
       "\n",
       "[234 rows x 11 columns]"
      ]
     },
     "execution_count": 6,
     "metadata": {},
     "output_type": "execute_result"
    }
   ],
   "source": [
    "dataset=pd.read_excel('C:/Users/whgud/data/mpg_visualization.xlsx',header=0)\n",
    "dataset.drop('Unnamed: 0',axis=1, inplace=True)\n",
    "dataset"
   ]
  },
  {
   "cell_type": "code",
   "execution_count": 7,
   "id": "4b15bbce",
   "metadata": {},
   "outputs": [
    {
     "name": "stdout",
     "output_type": "stream",
     "text": [
      "<class 'pandas.core.frame.DataFrame'>\n",
      "RangeIndex: 234 entries, 0 to 233\n",
      "Data columns (total 11 columns):\n",
      " #   Column        Non-Null Count  Dtype  \n",
      "---  ------        --------------  -----  \n",
      " 0   manufacturer  234 non-null    object \n",
      " 1   model         234 non-null    object \n",
      " 2   displ         234 non-null    float64\n",
      " 3   year          234 non-null    int64  \n",
      " 4   cyl           234 non-null    int64  \n",
      " 5   trans         234 non-null    object \n",
      " 6   drv           234 non-null    object \n",
      " 7   cty           234 non-null    int64  \n",
      " 8   hwy           234 non-null    int64  \n",
      " 9   fl            234 non-null    object \n",
      " 10  class         234 non-null    object \n",
      "dtypes: float64(1), int64(4), object(6)\n",
      "memory usage: 20.2+ KB\n"
     ]
    }
   ],
   "source": [
    "dataset.info()"
   ]
  },
  {
   "cell_type": "code",
   "execution_count": 10,
   "id": "f9a139d5",
   "metadata": {},
   "outputs": [
    {
     "data": {
      "text/plain": [
       "<AxesSubplot:>"
      ]
     },
     "execution_count": 10,
     "metadata": {},
     "output_type": "execute_result"
    },
    {
     "data": {
      "image/png": "[encoded data removed]",
      "text/plain": [
       "<Figure size 432x288 with 1 Axes>"
      ]
     },
     "metadata": {
      "needs_background": "light"
     },
     "output_type": "display_data"
    }
   ],
   "source": [
    "# 양적 자료의 데이터 분포 확인(boxplot)\n",
    "dataset[['displ','cyl','cty','hwy']].boxplot()"
   ]
  },
  {
   "cell_type": "code",
   "execution_count": 18,
   "id": "c0830c5d",
   "metadata": {},
   "outputs": [
    {
     "name": "stdout",
     "output_type": "stream",
     "text": [
      "제조회사 데이터 빈도 확인\n",
      "dodge         37\n",
      "toyota        34\n",
      "volkswagen    27\n",
      "ford          25\n",
      "chevrolet     19\n",
      "audi          18\n",
      "hyundai       14\n",
      "subaru        14\n",
      "nissan        13\n",
      "honda          9\n",
      "jeep           8\n",
      "pontiac        5\n",
      "mercury        4\n",
      "land rover     4\n",
      "lincoln        3\n",
      "Name: manufacturer, dtype: int64 \n",
      "\n",
      "모델명 데이터 빈도 확인\n",
      "caravan 2wd               11\n",
      "ram 1500 pickup 4wd       10\n",
      "jetta                      9\n",
      "civic                      9\n",
      "mustang                    9\n",
      "dakota pickup 4wd          9\n",
      "impreza awd                8\n",
      "a4 quattro                 8\n",
      "grand cherokee 4wd         8\n",
      "toyota tacoma 4wd          7\n",
      "f150 pickup 4wd            7\n",
      "a4                         7\n",
      "tiburon                    7\n",
      "durango 4wd                7\n",
      "sonata                     7\n",
      "camry solara               7\n",
      "passat                     7\n",
      "camry                      7\n",
      "altima                     6\n",
      "forester awd               6\n",
      "new beetle                 6\n",
      "4runner 4wd                6\n",
      "explorer 4wd               6\n",
      "corvette                   5\n",
      "gti                        5\n",
      "malibu                     5\n",
      "corolla                    5\n",
      "c1500 suburban 2wd         5\n",
      "grand prix                 5\n",
      "range rover                4\n",
      "pathfinder 4wd             4\n",
      "mountaineer 4wd            4\n",
      "k1500 tahoe 4wd            4\n",
      "maxima                     3\n",
      "navigator 2wd              3\n",
      "a6 quattro                 3\n",
      "expedition 2wd             3\n",
      "land cruiser wagon 4wd     2\n",
      "Name: model, dtype: int64\n"
     ]
    }
   ],
   "source": [
    "# 질적 자료에 대한 데이터 빈도 확인(value_counts)\n",
    "# 제조회사\n",
    "print('제조회사 데이터 빈도 확인')\n",
    "print(dataset['manufacturer'].value_counts(),\"\\n\")\n",
    "\n",
    "# 모델명\n",
    "print('모델명 데이터 빈도 확인')\n",
    "print(dataset['model'].value_counts())"
   ]
  },
  {
   "cell_type": "code",
   "execution_count": 20,
   "id": "9d2c6d16",
   "metadata": {},
   "outputs": [
    {
     "name": "stdout",
     "output_type": "stream",
     "text": [
      "변속기 종류 데이터 빈도 확인\n",
      "auto(l4)      83\n",
      "manual(m5)    58\n",
      "auto(l5)      39\n",
      "manual(m6)    19\n",
      "auto(s6)      16\n",
      "auto(l6)       6\n",
      "auto(av)       5\n",
      "auto(s4)       3\n",
      "auto(s5)       3\n",
      "auto(l3)       2\n",
      "Name: trans, dtype: int64 \n",
      "\n",
      "구동방식 데이터 빈도 확인\n",
      "f    106\n",
      "4    103\n",
      "r     25\n",
      "Name: drv, dtype: int64\n"
     ]
    }
   ],
   "source": [
    "# 질적 자료에 대한 데이터 빈도 확인(value_counts)\n",
    "# 변속기 종류\n",
    "print('변속기 종류 데이터 빈도 확인')\n",
    "print(dataset['trans'].value_counts(),\"\\n\")\n",
    "\n",
    "\n",
    "# 구동방식\n",
    "print('구동방식 데이터 빈도 확인')\n",
    "print(dataset['drv'].value_counts())"
   ]
  },
  {
   "cell_type": "code",
   "execution_count": 21,
   "id": "9b9a17c2",
   "metadata": {},
   "outputs": [
    {
     "name": "stdout",
     "output_type": "stream",
     "text": [
      "연료종류 데이터 빈도 확인\n",
      "r    168\n",
      "p     52\n",
      "e      8\n",
      "d      5\n",
      "c      1\n",
      "Name: fl, dtype: int64\n",
      "자동차 종류  데이터 빈도 확인\n",
      "suv           62\n",
      "compact       47\n",
      "midsize       41\n",
      "subcompact    35\n",
      "pickup        33\n",
      "minivan       11\n",
      "2seater        5\n",
      "Name: class, dtype: int64\n"
     ]
    }
   ],
   "source": [
    "# 질적 자료에 대한 데이터 빈도 확인(value_counts)\n",
    "# 연료종류\n",
    "print('연료종류 데이터 빈도 확인')\n",
    "print(dataset['fl'].value_counts())\n",
    "# 자동차 종류  \n",
    "print('자동차 종류  데이터 빈도 확인')\n",
    "print(dataset['class'].value_counts())"
   ]
  },
  {
   "cell_type": "code",
   "execution_count": 14,
   "id": "0507b3bb",
   "metadata": {},
   "outputs": [
    {
     "name": "stdout",
     "output_type": "stream",
     "text": [
      "배기량 4이하인 자동차의 고속도로 평균 연비: 25.96319018404908\n",
      "배기량 5이상인 자동차의 고속도로 평균 연비: 18.07894736842105\n",
      "배기량이 4이하인 자동차의 고속도로 연비가  5이상인 자동차보다 평균적으로 더 높습니다\n"
     ]
    }
   ],
   "source": [
    "# [문제01]\n",
    "# 자동차 배기량(displ)에 따라 고속도로 연비(hwy)가 다른지를 알아보자\n",
    "# 배기량이 4 이하인 자동차와 5이상인 자동차 중 \n",
    "# 어떤 자동차의 고속도로연비가 평균적으로 높은지 알아보자\n",
    "# dataframe - query() -- where조건절을 유사\n",
    "\n",
    "under_4=dataset.query('displ<=4')['hwy'].mean()\n",
    "up_5=dataset.query('displ>=5')['hwy'].mean()\n",
    "print(\"배기량 4이하인 자동차의 고속도로 평균 연비:\",under_4)\n",
    "print(\"배기량 5이상인 자동차의 고속도로 평균 연비:\",up_5)\n",
    "\n",
    "if under_4>up_5:\n",
    "    print('배기량이 4이하인 자동차의 고속도로 연비가  5이상인 자동차보다 평균적으로 더 높습니다')\n",
    "else:\n",
    "    print('배기량이 5이상인 자동차의 고속도로 연비가  4이하인 자동차보다 평균적으로 더 높습니다')\n"
   ]
  },
  {
   "cell_type": "code",
   "execution_count": 40,
   "id": "5a350318",
   "metadata": {},
   "outputs": [
    {
     "data": {
      "text/html": [
       "<div>\n",
       "<style scoped>\n",
       "    .dataframe tbody tr th:only-of-type {\n",
       "        vertical-align: middle;\n",
       "    }\n",
       "\n",
       "    .dataframe tbody tr th {\n",
       "        vertical-align: top;\n",
       "    }\n",
       "\n",
       "    .dataframe thead th {\n",
       "        text-align: right;\n",
       "    }\n",
       "</style>\n",
       "<table border=\"1\" class=\"dataframe\">\n",
       "  <thead>\n",
       "    <tr style=\"text-align: right;\">\n",
       "      <th></th>\n",
       "      <th>cty</th>\n",
       "    </tr>\n",
       "    <tr>\n",
       "      <th>manufacturer</th>\n",
       "      <th></th>\n",
       "    </tr>\n",
       "  </thead>\n",
       "  <tbody>\n",
       "    <tr>\n",
       "      <th>audi</th>\n",
       "      <td>17.611111</td>\n",
       "    </tr>\n",
       "    <tr>\n",
       "      <th>toyota</th>\n",
       "      <td>18.529412</td>\n",
       "    </tr>\n",
       "  </tbody>\n",
       "</table>\n",
       "</div>"
      ],
      "text/plain": [
       "                    cty\n",
       "manufacturer           \n",
       "audi          17.611111\n",
       "toyota        18.529412"
      ]
     },
     "metadata": {},
     "output_type": "display_data"
    },
    {
     "name": "stdout",
     "output_type": "stream",
     "text": [
      "toyota 회사 자동차의 cty(도시연비)가 audi보다 평균적으로 더 높습니다\n"
     ]
    }
   ],
   "source": [
    "# [문제 02]\n",
    "# 자동차 제조 회사에 따라 도시 연비가 다른지 알아보려고 한다. \n",
    "# audi와 toyota 중 어느 manufacturer(자동차 제조 회사)의 cty(도시연비)가 평균적으로 더 높은지 알아보시오.\n",
    "audi_toyota_cty_frm=dataset[(dataset['manufacturer']=='audi') |( dataset['manufacturer']=='toyota') ][['manufacturer','cty']]\n",
    "ex02_frm=audi_toyota_cty_frm.groupby('manufacturer').agg('mean')\n",
    "display(ex02_frm)\n",
    "if (ex02_frm.loc['audi'].values) > (ex02_frm.loc['toyota'].values):\n",
    "    print('audi 회사 자동차의 cty(도시연비)가 toyota보다 평균적으로 더 높습니다')\n",
    "else:\n",
    "    print('toyota 회사 자동차의 cty(도시연비)가 audi보다 평균적으로 더 높습니다')\n"
   ]
  },
  {
   "cell_type": "code",
   "execution_count": 59,
   "id": "7b6566ae",
   "metadata": {},
   "outputs": [
    {
     "data": {
      "text/html": [
       "<div>\n",
       "<style scoped>\n",
       "    .dataframe tbody tr th:only-of-type {\n",
       "        vertical-align: middle;\n",
       "    }\n",
       "\n",
       "    .dataframe tbody tr th {\n",
       "        vertical-align: top;\n",
       "    }\n",
       "\n",
       "    .dataframe thead th {\n",
       "        text-align: right;\n",
       "    }\n",
       "</style>\n",
       "<table border=\"1\" class=\"dataframe\">\n",
       "  <thead>\n",
       "    <tr style=\"text-align: right;\">\n",
       "      <th></th>\n",
       "      <th>hwy</th>\n",
       "    </tr>\n",
       "    <tr>\n",
       "      <th>manufacturer</th>\n",
       "      <th></th>\n",
       "    </tr>\n",
       "  </thead>\n",
       "  <tbody>\n",
       "    <tr>\n",
       "      <th>chevrolet</th>\n",
       "      <td>21.894737</td>\n",
       "    </tr>\n",
       "    <tr>\n",
       "      <th>ford</th>\n",
       "      <td>19.360000</td>\n",
       "    </tr>\n",
       "    <tr>\n",
       "      <th>honda</th>\n",
       "      <td>32.555556</td>\n",
       "    </tr>\n",
       "  </tbody>\n",
       "</table>\n",
       "</div>"
      ],
      "text/plain": [
       "                    hwy\n",
       "manufacturer           \n",
       "chevrolet     21.894737\n",
       "ford          19.360000\n",
       "honda         32.555556"
      ]
     },
     "metadata": {},
     "output_type": "display_data"
    },
    {
     "name": "stdout",
     "output_type": "stream",
     "text": [
      "\n",
      "chevrolet, ford, honda 회사 hwy전체평균: 22.50943396226415\n"
     ]
    }
   ],
   "source": [
    "# [문제 03]\n",
    "# chevrolet, ford, honda 자동차의 고속도로 연비 평균을 알아보려고 한다. \n",
    "# 이 회사들의 데이터를 추출한 후 hwy 전체 평균을 확인하시오.\n",
    "\n",
    "cfh_frm=dataset[(dataset['manufacturer']=='chevrolet')|(dataset['manufacturer']=='ford')|(dataset['manufacturer']=='honda')]\n",
    "hwy_cfh_frm=cfh_frm[['manufacturer','hwy']]\n",
    "display(hwy_cfh_frm.groupby('manufacturer').agg('mean')) # 회사별 hwy 평균\n",
    "print()\n",
    "# chevrolet, ford, honda 회사 hwy전체평균\n",
    "print(\"chevrolet, ford, honda 회사 hwy전체평균:\",hwy_cfh_frm['hwy'].mean())"
   ]
  },
  {
   "cell_type": "code",
   "execution_count": 71,
   "id": "7574c245",
   "metadata": {},
   "outputs": [
    {
     "name": "stdout",
     "output_type": "stream",
     "text": [
      "hwy 결측값 개수 확인 :  0\n"
     ]
    },
    {
     "data": {
      "text/html": [
       "<div>\n",
       "<style scoped>\n",
       "    .dataframe tbody tr th:only-of-type {\n",
       "        vertical-align: middle;\n",
       "    }\n",
       "\n",
       "    .dataframe tbody tr th {\n",
       "        vertical-align: top;\n",
       "    }\n",
       "\n",
       "    .dataframe thead th {\n",
       "        text-align: right;\n",
       "    }\n",
       "</style>\n",
       "<table border=\"1\" class=\"dataframe\">\n",
       "  <thead>\n",
       "    <tr style=\"text-align: right;\">\n",
       "      <th></th>\n",
       "      <th>hwy</th>\n",
       "    </tr>\n",
       "    <tr>\n",
       "      <th>drv</th>\n",
       "      <th></th>\n",
       "    </tr>\n",
       "  </thead>\n",
       "  <tbody>\n",
       "    <tr>\n",
       "      <th>4</th>\n",
       "      <td>19.174757</td>\n",
       "    </tr>\n",
       "    <tr>\n",
       "      <th>f</th>\n",
       "      <td>28.160377</td>\n",
       "    </tr>\n",
       "    <tr>\n",
       "      <th>r</th>\n",
       "      <td>21.000000</td>\n",
       "    </tr>\n",
       "  </tbody>\n",
       "</table>\n",
       "</div>"
      ],
      "text/plain": [
       "           hwy\n",
       "drv           \n",
       "4    19.174757\n",
       "f    28.160377\n",
       "r    21.000000"
      ]
     },
     "execution_count": 71,
     "metadata": {},
     "output_type": "execute_result"
    }
   ],
   "source": [
    "# 데이터 전처리 과정에서 결측값 확인하기\n",
    "# 구동방식(drv) 별 고속도로 연비(hwy)평균\n",
    "# 임의적으로 결측값 처리를 위해서 더미 값을 넣어보도록 하자\n",
    "drv_hwy_frm=dataset[['drv','hwy']]\n",
    "print(\"hwy 결측값 개수 확인 : \",drv_hwy_frm['hwy'].isnull().sum()) # 결측값 없음.\n",
    "drv_hwy_frm_grp=drv_hwy_frm.groupby('drv').agg('mean')\n",
    "drv_hwy_frm_grp"
   ]
  },
  {
   "cell_type": "code",
   "execution_count": 90,
   "id": "01ff0c89",
   "metadata": {},
   "outputs": [
    {
     "data": {
      "text/plain": [
       "<AxesSubplot:xlabel='drv'>"
      ]
     },
     "execution_count": 90,
     "metadata": {},
     "output_type": "execute_result"
    },
    {
     "data": {
      "image/png": "[encoded data removed]",
      "text/plain": [
       "<Figure size 720x360 with 1 Axes>"
      ]
     },
     "metadata": {
      "needs_background": "light"
     },
     "output_type": "display_data"
    }
   ],
   "source": [
    "# hwy변수의 결측값을 제외하고, 어떤 구동방식의 고속도로평균 연비가 높은지 알아보자\n",
    "drv_hwy_frm_grp[drv_hwy_frm_grp['hwy'].values==np.max(drv_hwy_frm_grp.values)]\n",
    "\n",
    "# 구동방식별 연비평균을 비교하기 위한 막대 그래프로 시각화 해 보자\n",
    "drv_hwy_frm_grp.plot(kind = 'bar',figsize=(10,5),\n",
    "                    rot=0)"
   ]
  },
  {
   "cell_type": "code",
   "execution_count": 95,
   "id": "41a6ae49",
   "metadata": {},
   "outputs": [
    {
     "name": "stdout",
     "output_type": "stream",
     "text": [
      "hwy 결측값 개수 확인 :  0\n"
     ]
    },
    {
     "data": {
      "text/plain": [
       "<AxesSubplot:xlabel='drv'>"
      ]
     },
     "execution_count": 95,
     "metadata": {},
     "output_type": "execute_result"
    },
    {
     "data": {
      "image/png": "[encoded data removed]",
      "text/plain": [
       "<Figure size 720x360 with 1 Axes>"
      ]
     },
     "metadata": {
      "needs_background": "light"
     },
     "output_type": "display_data"
    }
   ],
   "source": [
    "# 위에서 했던 방식과 동일하게 구동방식별 고속도로, 도시연비의 평균을 구해보고\n",
    "\n",
    "drv_hwy_cty_frm=dataset[['drv','hwy','cty']]\n",
    "print(\"hwy 결측값 개수 확인 : \",drv_hwy_frm['hwy'].isnull().sum()) # 결측값 없음.\n",
    "drv_hwy_cty_frm_grp=drv_hwy_cty_frm.groupby('drv').agg('mean')\n",
    "drv_hwy_cty_frm_grp\n",
    "\n",
    "# hwy변수의 결측값을 제외하고, 어떤 구동방식의 고속도로평균 연비가 높은지 알아보자\n",
    "drv_hwy_cty_frm_grp[drv_hwy_cty_frm_grp['hwy'].values==np.max(drv_hwy_cty_frm_grp.values)]\n",
    "\n",
    "# 이를 데이터 프레임으로 만들어서 막대바로 시각화 해 보자\n",
    "\n",
    "drv_hwy_cty_frm_grp.plot(kind = 'bar',figsize=(10,5),\n",
    "                    rot=0)"
   ]
  },
  {
   "cell_type": "code",
   "execution_count": 98,
   "id": "d8118fe5",
   "metadata": {},
   "outputs": [
    {
     "data": {
      "text/plain": [
       "<AxesSubplot:>"
      ]
     },
     "execution_count": 98,
     "metadata": {},
     "output_type": "execute_result"
    },
    {
     "data": {
      "image/png": "[encoded data removed]",
      "text/plain": [
       "<Figure size 720x360 with 1 Axes>"
      ]
     },
     "metadata": {
      "needs_background": "light"
     },
     "output_type": "display_data"
    }
   ],
   "source": [
    "# 자동차(class)중에서 어떤 자동차가 가장 많은지 알아보려고 한다.\n",
    "# 종류별 빈도를 막대바로 시각화 해 보자\n",
    "class_freq=dataset['class'].value_counts()\n",
    "class_freq.plot(kind = 'bar',figsize=(10,5),\n",
    "                    rot=0)"
   ]
  },
  {
   "cell_type": "code",
   "execution_count": 108,
   "id": "21c09c3b",
   "metadata": {},
   "outputs": [
    {
     "data": {
      "text/html": [
       "<div>\n",
       "<style scoped>\n",
       "    .dataframe tbody tr th:only-of-type {\n",
       "        vertical-align: middle;\n",
       "    }\n",
       "\n",
       "    .dataframe tbody tr th {\n",
       "        vertical-align: top;\n",
       "    }\n",
       "\n",
       "    .dataframe thead th {\n",
       "        text-align: right;\n",
       "    }\n",
       "</style>\n",
       "<table border=\"1\" class=\"dataframe\">\n",
       "  <thead>\n",
       "    <tr style=\"text-align: right;\">\n",
       "      <th></th>\n",
       "      <th>cty</th>\n",
       "    </tr>\n",
       "    <tr>\n",
       "      <th>manufacturer</th>\n",
       "      <th></th>\n",
       "    </tr>\n",
       "  </thead>\n",
       "  <tbody>\n",
       "    <tr>\n",
       "      <th>subaru</th>\n",
       "      <td>18.833333</td>\n",
       "    </tr>\n",
       "    <tr>\n",
       "      <th>toyota</th>\n",
       "      <td>14.375000</td>\n",
       "    </tr>\n",
       "    <tr>\n",
       "      <th>nissan</th>\n",
       "      <td>13.750000</td>\n",
       "    </tr>\n",
       "    <tr>\n",
       "      <th>jeep</th>\n",
       "      <td>13.500000</td>\n",
       "    </tr>\n",
       "    <tr>\n",
       "      <th>mercury</th>\n",
       "      <td>13.250000</td>\n",
       "    </tr>\n",
       "  </tbody>\n",
       "</table>\n",
       "</div>"
      ],
      "text/plain": [
       "                    cty\n",
       "manufacturer           \n",
       "subaru        18.833333\n",
       "toyota        14.375000\n",
       "nissan        13.750000\n",
       "jeep          13.500000\n",
       "mercury       13.250000"
      ]
     },
     "metadata": {},
     "output_type": "display_data"
    },
    {
     "data": {
      "text/plain": [
       "<AxesSubplot:xlabel='manufacturer'>"
      ]
     },
     "execution_count": 108,
     "metadata": {},
     "output_type": "execute_result"
    },
    {
     "data": {
      "image/png": "[encoded data removed]",
      "text/plain": [
       "<Figure size 720x360 with 1 Axes>"
      ]
     },
     "metadata": {
      "needs_background": "light"
     },
     "output_type": "display_data"
    }
   ],
   "source": [
    "# 어떤 회사에서 생산한 suv 차종의 도시 연비가 높은지를 알아보려고 한다\n",
    "# suv 차종을 대상으로 평균 도시연비가 가장 높은 회사 다섯곳을 막대 바로 시각화 해 보자\n",
    "suv_cty_frm=dataset[dataset['class']=='suv'][['manufacturer','cty']]\n",
    "suv_cty_frm_grp=suv_cty_frm.groupby('manufacturer').agg('mean')\n",
    "suv_cty_frm_grp_top5=suv_cty_frm_grp.sort_values(by='cty',ascending=False).head()\n",
    "display(suv_cty_frm_grp_top5)\n",
    "\n",
    "suv_cty_frm_grp_top5.plot(kind = 'bar',figsize=(10,5),\n",
    "                    rot=0)"
   ]
  },
  {
   "cell_type": "code",
   "execution_count": null,
   "id": "5a036a0a",
   "metadata": {},
   "outputs": [],
   "source": []
  },
  {
   "cell_type": "code",
   "execution_count": null,
   "id": "08cc9e2b",
   "metadata": {},
   "outputs": [],
   "source": []
  },
  {
   "cell_type": "code",
   "execution_count": null,
   "id": "a57bfd11",
   "metadata": {},
   "outputs": [],
   "source": []
  },
  {
   "cell_type": "code",
   "execution_count": null,
   "id": "7b1eb1c4",
   "metadata": {},
   "outputs": [],
   "source": []
  },
  {
   "cell_type": "code",
   "execution_count": null,
   "id": "e6b0e1da",
   "metadata": {},
   "outputs": [],
   "source": []
  },
  {
   "cell_type": "code",
   "execution_count": null,
   "id": "8a0ede61",
   "metadata": {},
   "outputs": [],
   "source": []
  },
  {
   "cell_type": "code",
   "execution_count": null,
   "id": "1997d42e",
   "metadata": {},
   "outputs": [],
   "source": []
  },
  {
   "cell_type": "code",
   "execution_count": null,
   "id": "e4eff023",
   "metadata": {},
   "outputs": [],
   "source": []
  },
  {
   "cell_type": "code",
   "execution_count": null,
   "id": "f61a7ec0",
   "metadata": {},
   "outputs": [],
   "source": []
  },
  {
   "cell_type": "code",
   "execution_count": null,
   "id": "dbd058eb",
   "metadata": {},
   "outputs": [],
   "source": []
  },
  {
   "cell_type": "code",
   "execution_count": null,
   "id": "0eddc368",
   "metadata": {},
   "outputs": [],
   "source": []
  },
  {
   "cell_type": "code",
   "execution_count": null,
   "id": "e6dbc983",
   "metadata": {},
   "outputs": [],
   "source": []
  },
  {
   "cell_type": "code",
   "execution_count": null,
   "id": "e412a878",
   "metadata": {},
   "outputs": [],
   "source": []
  },
  {
   "cell_type": "code",
   "execution_count": null,
   "id": "76f94d2c",
   "metadata": {},
   "outputs": [],
   "source": []
  }
 ],
 "metadata": {
  "kernelspec": {
   "display_name": "Python 3",
   "language": "python",
   "name": "python3"
  },
  "language_info": {
   "codemirror_mode": {
    "name": "ipython",
    "version": 3
   },
   "file_extension": ".py",
   "mimetype": "text/x-python",
   "name": "python",
   "nbconvert_exporter": "python",
   "pygments_lexer": "ipython3",
   "version": "3.8.8"
  }
 },
 "nbformat": 4,
 "nbformat_minor": 5
}
