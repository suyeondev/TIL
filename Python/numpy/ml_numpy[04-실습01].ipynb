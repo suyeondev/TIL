{
 "cells": [
  {
   "cell_type": "markdown",
   "id": "19132c61",
   "metadata": {},
   "source": [
    "# Numpy실습"
   ]
  },
  {
   "cell_type": "markdown",
   "id": "3fe11e46",
   "metadata": {},
   "source": [
    "## [실습 01] - ratings.dat"
   ]
  },
  {
   "cell_type": "code",
   "execution_count": 4,
   "id": "5803bf34",
   "metadata": {},
   "outputs": [
    {
     "name": "stdout",
     "output_type": "stream",
     "text": [
      "type       :<class 'numpy.ndarray'>\n",
      "shape      :(1000209, 4)\n",
      "dimension  :2\n",
      "dtype      :int64\n",
      "Array Data :\n",
      " [[        1      1193         5 978300760]\n",
      " [        1       661         3 978302109]\n",
      " [        1       914         3 978301968]\n",
      " ...\n",
      " [     6040       562         5 956704746]\n",
      " [     6040      1096         4 956715648]\n",
      " [     6040      1097         4 956715569]]\n"
     ]
    }
   ],
   "source": [
    "# data 불러오기\n",
    "# loadtxt()  : 텍스트 파일 로딩\n",
    "# delimiter  : 필드 구분자\n",
    "# dtype      : 자료형\n",
    "import numpy as np\n",
    "# 배열정보를 확인하기 위한 함수 정의\n",
    "def aryInfo(ary):\n",
    "    print('type       :{}'.format(type(ary)))\n",
    "    print('shape      :{}'.format(ary.shape)) \n",
    "    print('dimension  :{}'.format(ary.ndim))  # 몇차원의 배열인지\n",
    "    print('dtype      :{}'.format(ary.dtype)) # 데이터 타입\n",
    "    print('Array Data :\\n',ary)\n",
    "    \n",
    "data = np.loadtxt('C:/Users/whgud/data/ratings.dat' , delimiter = \"::\", dtype=np.int64)\n",
    "aryInfo(data)"
   ]
  },
  {
   "cell_type": "code",
   "execution_count": 5,
   "id": "d54e651c",
   "metadata": {},
   "outputs": [
    {
     "name": "stdout",
     "output_type": "stream",
     "text": [
      "첫 5행:\n",
      " [[        1      1193         5 978300760]\n",
      " [        1       661         3 978302109]\n",
      " [        1       914         3 978301968]\n",
      " [        1      3408         4 978300275]\n",
      " [        1      2355         5 978824291]]\n",
      "형태 확인:\n",
      " (1000209, 4)\n"
     ]
    }
   ],
   "source": [
    "# 사용자id::영화id::평점::timestamp(날짜)\n",
    "\n",
    "# 데이터의 첫 5 행만 확인\n",
    "print(\"첫 5행:\\n\",data[:5,:])\n",
    "# 데이터의 형태 확인\n",
    "print(\"형태 확인:\\n\",data.shape)\n"
   ]
  },
  {
   "cell_type": "code",
   "execution_count": 6,
   "id": "e2fb28a7",
   "metadata": {},
   "outputs": [
    {
     "name": "stdout",
     "output_type": "stream",
     "text": [
      "전체 평균 평점 : 3.581564453029317\n"
     ]
    }
   ],
   "source": [
    "# 전체 평균 평점 계산\n",
    "# data[ : , 2] 전체 행, 2번 열\n",
    "print(\"전체 평균 평점 :\" , np.mean(data[:,2]))"
   ]
  },
  {
   "cell_type": "code",
   "execution_count": 7,
   "id": "6b0655df",
   "metadata": {},
   "outputs": [
    {
     "name": "stdout",
     "output_type": "stream",
     "text": [
      "[[1, 4.188679245283019], [2, 3.7131782945736433], [3, 3.9019607843137254], [4, 4.190476190476191], [5, 3.1464646464646466]]\n",
      "[[1.         4.18867925]\n",
      " [2.         3.71317829]\n",
      " [3.         3.90196078]\n",
      " [4.         4.19047619]\n",
      " [5.         3.14646465]]\n"
     ]
    }
   ],
   "source": [
    "# 사용자 아이디 수집\n",
    "# 전체 행 , 0번 열\n",
    "user_ids=np.unique(data[:,0]) # 사용자 아이디 리스트(중복X)\n",
    "\n",
    "\n",
    "id_rating_list=[]\n",
    "#사용자별 평점 확인을 위한 코드 구문 작성\n",
    "for user_id in user_ids :\n",
    "    data_users=data[data[:,0]==user_id,:] # 예를 들어 현재 user_id가 1이라면 user_id가 1인 행들만 추출\n",
    "    id_rating_mean=np.mean(data_users[:,2]) # 2번째 인덱스(평점)에 해당하는 값의 평균값\n",
    "    id_rating_list.append([user_id, id_rating_mean])\n",
    "         \n",
    "print(id_rating_list[:5])\n",
    "id_rating_ary = np.array(id_rating_list,np.float64)\n",
    "print(id_rating_ary[:5])# 사용자 아이디별 평점 확인\n",
    "\n",
    "   \n"
   ]
  },
  {
   "cell_type": "code",
   "execution_count": 9,
   "id": "e67702d1",
   "metadata": {},
   "outputs": [
    {
     "name": "stdout",
     "output_type": "stream",
     "text": [
      "type       :<class 'numpy.ndarray'>\n",
      "shape      :(6040, 2)\n",
      "dimension  :2\n",
      "dtype      :float64\n",
      "Array Data :\n",
      " [[1.00000000e+00 4.18867925e+00]\n",
      " [2.00000000e+00 3.71317829e+00]\n",
      " [3.00000000e+00 3.90196078e+00]\n",
      " ...\n",
      " [6.03800000e+03 3.80000000e+00]\n",
      " [6.03900000e+03 3.87804878e+00]\n",
      " [6.04000000e+03 3.57771261e+00]]\n"
     ]
    }
   ],
   "source": [
    "# 각 사용자 별 평균 평점이 4점 이상인 사용자 구하기 \n",
    "aryInfo(id_rating_ary)\n",
    "upper_id=id_rating_ary[id_rating_ary[:,1]>=4.0,:]"
   ]
  },
  {
   "cell_type": "code",
   "execution_count": 10,
   "id": "ac79ce75",
   "metadata": {
    "scrolled": true
   },
   "outputs": [],
   "source": [
    "# # 계산 결과를 csv 파일로 저장하기\n",
    "np.savetxt('test.csv', upper_id, fmt='%.1f', delimiter=',' )"
   ]
  },
  {
   "cell_type": "code",
   "execution_count": 11,
   "id": "8c2f9133",
   "metadata": {
    "scrolled": true
   },
   "outputs": [
    {
     "name": "stdout",
     "output_type": "stream",
     "text": [
      "['날짜', '지점', '평균기온(℃)', '최저기온(℃)', '최고기온(℃)']\n",
      "기상 관측 이래, 서울의 최고 기온이 가장 높았던 날은 2018-08-01 였고,  39.6 도입니다.\n"
     ]
    }
   ],
   "source": [
    "# [실습 02]\n",
    "\n",
    "import csv                  \n",
    "f_seoul = open('C:/Users/whgud/data/seoul.csv','r')\n",
    "seoul = csv.reader(f_seoul, delimiter=',')\n",
    "s_header = next(seoul)\n",
    "print(s_header)\n",
    "f_daegu = open('C:/Users/whgud/data/daegu.csv','r')\n",
    "daegu = csv.reader(f_daegu, delimiter=',')\n",
    "d_header = next(daegu)\n",
    "\n",
    "\n",
    "# 1. 기상 관측 이래, 서울의 최고 기온이 가장 높았던 날은 언제였고, 몇도인가요?\n",
    "max_temp = -999               # 최고 기온을 저장할 변수 초기화\n",
    "max_date = ''                 # 최고 기온이었던 날짜를 저장할 변수 초기화\n",
    "\n",
    "for row in seoul :\n",
    "    if row[-1] == '' :        # 만약 데이터가 누락되었다면 최고 기온을 -999로 저장\n",
    "        row[-1] = -999\n",
    "    row[-1] = float(row[-1])  # 문자열로 저장된 최고 기온 값을 실수로 변환\n",
    "    if max_temp < row[-1] :   # 만약 지금까지 최고 기온보다 더 높다면 업데이트\n",
    "        max_date = row[0]\n",
    "        max_temp = row[-1]\n",
    "f_seoul.close()\n",
    "print(\"기상 관측 이래, 서울의 최고 기온이 가장 높았던 날은\", max_date,\"였고, \",max_temp,\"도입니다.\")\n",
    "\n",
    "\n",
    "\n"
   ]
  },
  {
   "cell_type": "code",
   "execution_count": 12,
   "id": "32626bd4",
   "metadata": {},
   "outputs": [
    {
     "name": "stdout",
     "output_type": "stream",
     "text": [
      "역사적으로 서울 지역의 일교차가 가장 큰 날짜는  1942-04-19 이고, 일교차는  21.8 입니다\n",
      "역사적으로 대구 지역의 일교차가 가장 큰 날짜는  1913-04-04 이고, 일교차는  26.2 입니다\n"
     ]
    }
   ],
   "source": [
    "# 2. 역사적으로 일교차가 가장 큰 날짜는 몇년 몇월 몇일 인가요?\n",
    "f_seoul = open('C:/Users/whgud/data/seoul.csv','r')\n",
    "seoul = csv.reader(f_seoul, delimiter=',')\n",
    "s_header = next(seoul)\n",
    "\n",
    "f_daegu = open('C:/Users/whgud/data/daegu.csv','r')\n",
    "daegu = csv.reader(f_daegu, delimiter=',')\n",
    "d_header = next(daegu)\n",
    "\n",
    "max_temp=0\n",
    "min_temp=0\n",
    "max_temp_diff=0\n",
    "date=''\n",
    "\n",
    "for row in seoul:\n",
    "    if row[4] == '':\n",
    "        row[4] = 0\n",
    "    if row[3] == '':\n",
    "        row[3] = 0\n",
    "    row[3]=float(row[3])\n",
    "    row[4]=float(row[4])\n",
    "    temp_diff=row[4]-row[3]\n",
    "    if max_temp_diff < temp_diff:\n",
    "        date=row[0]\n",
    "        max_temp_diff=temp_diff\n",
    "f_seoul.close()\n",
    "print(\"역사적으로 서울 지역의 일교차가 가장 큰 날짜는 \",date,\"이고, 일교차는 \",max_temp_diff,\"입니다\")\n",
    "\n",
    "for row in daegu:\n",
    "    if row[4] == '':\n",
    "        row[4] = 0\n",
    "    if row[3] == '':\n",
    "        row[3] = 0\n",
    "    row[3]=float(row[3])\n",
    "    row[4]=float(row[4])\n",
    "    temp_diff=row[4]-row[3]\n",
    "    if max_temp_diff < temp_diff:\n",
    "        date=row[0]\n",
    "        max_temp_diff=temp_diff\n",
    "f_daegu.close()\n",
    "print(\"역사적으로 대구 지역의 일교차가 가장 큰 날짜는 \",date,\"이고, 일교차는 \",max_temp_diff,\"입니다\")\n",
    "\n"
   ]
  },
  {
   "cell_type": "code",
   "execution_count": 34,
   "id": "2b538600",
   "metadata": {},
   "outputs": [
    {
     "name": "stderr",
     "output_type": "stream",
     "text": [
      "<ipython-input-34-8fa04cf19293>:2: DeprecationWarning: `np.str` is a deprecated alias for the builtin `str`. To silence this warning, use `str` by itself. Doing this will not modify any behavior and is safe. If you specifically wanted the numpy scalar type, use `np.str_` here.\n",
      "Deprecated in NumPy 1.20; for more details and guidance: https://numpy.org/devdocs/release/1.20.0-notes.html#deprecations\n",
      "  seoul = np.loadtxt('C:/Users/whgud/data/seoul.csv' , delimiter = \",\", dtype=np.str, skiprows=1)\n",
      "<ipython-input-34-8fa04cf19293>:20: DeprecationWarning: `np.float` is a deprecated alias for the builtin `float`. To silence this warning, use `float` by itself. Doing this will not modify any behavior and is safe. If you specifically wanted the numpy scalar type, use `np.float64` here.\n",
      "Deprecated in NumPy 1.20; for more details and guidance: https://numpy.org/devdocs/release/1.20.0-notes.html#deprecations\n",
      "  temp = day_list[day_list[:,0]==d, 1].astype(np.float).mean()\n"
     ]
    },
    {
     "name": "stdout",
     "output_type": "stream",
     "text": [
      "역사적으로 서울 지역의 1년 중 평균적으로 일교차가 가장 큰 날짜는  04-29 이고, 일교차는  11.740178571428572 입니다\n"
     ]
    },
    {
     "name": "stderr",
     "output_type": "stream",
     "text": [
      "<ipython-input-34-8fa04cf19293>:23: DeprecationWarning: `np.float` is a deprecated alias for the builtin `float`. To silence this warning, use `float` by itself. Doing this will not modify any behavior and is safe. If you specifically wanted the numpy scalar type, use `np.float64` here.\n",
      "Deprecated in NumPy 1.20; for more details and guidance: https://numpy.org/devdocs/release/1.20.0-notes.html#deprecations\n",
      "  day_max = np.array(day_mean)[:,1].astype(np.float).argmax()\n"
     ]
    }
   ],
   "source": [
    "# 3. 1년 중 평균적으로 일교차가 가장 큰 날짜는 몇월 몇일 인가요?\n",
    "seoul = np.loadtxt('C:/Users/whgud/data/seoul.csv' , delimiter = \",\", dtype=np.str, skiprows=1)\n",
    "\n",
    "day_list = []\n",
    "day = []\n",
    "for d in seoul:\n",
    "    d[0] = d[0][5:] # 월-일만.\n",
    "    if d[3] == '':\n",
    "        d[3] = -20\n",
    "    if d[4] == '':\n",
    "        d[4] = -20\n",
    "    temp = float(d[4]) - float(d[3])\n",
    "    day_list.append([d[0], float(temp)])\n",
    "    if d[0] not in day:\n",
    "        day.append(d[0])\n",
    "day_list = np.array(day_list)\n",
    "\n",
    "day_mean = []\n",
    "for d in day:\n",
    "    temp = day_list[day_list[:,0]==d, 1].astype(np.float).mean()\n",
    "    day_mean.append([d, temp])\n",
    "day_mean = np.array(day_mean)\n",
    "day_max = np.array(day_mean)[:,1].astype(np.float).argmax()\n",
    "result_list=day_mean[day_max, :]\n",
    "print(\"역사적으로 서울 지역의 1년 중 평균적으로 일교차가 가장 큰 날짜는 \",result_list[0],\"이고, 일교차는 \",result_list[1],\"입니다\")\n",
    "\n",
    "\n"
   ]
  },
  {
   "cell_type": "code",
   "execution_count": 36,
   "id": "ffd192b0",
   "metadata": {},
   "outputs": [
    {
     "name": "stderr",
     "output_type": "stream",
     "text": [
      "<ipython-input-36-d528bd360409>:1: DeprecationWarning: `np.str` is a deprecated alias for the builtin `str`. To silence this warning, use `str` by itself. Doing this will not modify any behavior and is safe. If you specifically wanted the numpy scalar type, use `np.str_` here.\n",
      "Deprecated in NumPy 1.20; for more details and guidance: https://numpy.org/devdocs/release/1.20.0-notes.html#deprecations\n",
      "  daegu = np.loadtxt('C:/Users/whgud/data/daegu.csv' , delimiter = \",\", dtype=np.str, skiprows=1)\n",
      "<ipython-input-36-d528bd360409>:19: DeprecationWarning: `np.float` is a deprecated alias for the builtin `float`. To silence this warning, use `float` by itself. Doing this will not modify any behavior and is safe. If you specifically wanted the numpy scalar type, use `np.float64` here.\n",
      "Deprecated in NumPy 1.20; for more details and guidance: https://numpy.org/devdocs/release/1.20.0-notes.html#deprecations\n",
      "  temp = day_list[day_list[:,0]==d, 1].astype(np.float).mean()\n"
     ]
    },
    {
     "name": "stdout",
     "output_type": "stream",
     "text": [
      "역사적으로 대구 지역의 1년 중 평균적으로 일교차가 가장 큰 날짜는  04-19 이고, 일교차는  12.703508771929824 입니다\n"
     ]
    },
    {
     "name": "stderr",
     "output_type": "stream",
     "text": [
      "<ipython-input-36-d528bd360409>:22: DeprecationWarning: `np.float` is a deprecated alias for the builtin `float`. To silence this warning, use `float` by itself. Doing this will not modify any behavior and is safe. If you specifically wanted the numpy scalar type, use `np.float64` here.\n",
      "Deprecated in NumPy 1.20; for more details and guidance: https://numpy.org/devdocs/release/1.20.0-notes.html#deprecations\n",
      "  day_max = np.array(day_mean)[:,1].astype(np.float).argmax()\n"
     ]
    }
   ],
   "source": [
    "daegu = np.loadtxt('C:/Users/whgud/data/daegu.csv' , delimiter = \",\", dtype=np.str, skiprows=1)\n",
    "\n",
    "day_list = []\n",
    "day = []\n",
    "for d in daegu:\n",
    "    d[0] = d[0][5:] # 월-일만.\n",
    "    if d[3] == '':\n",
    "        d[3] = -20\n",
    "    if d[4] == '':\n",
    "        d[4] = -20\n",
    "    temp = float(d[4]) - float(d[3])\n",
    "    day_list.append([d[0], float(temp)])\n",
    "    if d[0] not in day:\n",
    "        day.append(d[0])\n",
    "day_list = np.array(day_list)\n",
    "\n",
    "day_mean = []\n",
    "for d in day:\n",
    "    temp = day_list[day_list[:,0]==d, 1].astype(np.float).mean()\n",
    "    day_mean.append([d, temp])\n",
    "day_mean = np.array(day_mean)\n",
    "day_max = np.array(day_mean)[:,1].astype(np.float).argmax()\n",
    "result_list=day_mean[day_max, :]\n",
    "result_list\n",
    "print(\"역사적으로 대구 지역의 1년 중 평균적으로 일교차가 가장 큰 날짜는 \",result_list[0],\"이고, 일교차는 \",result_list[1],\"입니다\")\n"
   ]
  },
  {
   "cell_type": "code",
   "execution_count": 41,
   "id": "d5223d5d",
   "metadata": {
    "scrolled": true
   },
   "outputs": [
    {
     "name": "stderr",
     "output_type": "stream",
     "text": [
      "<ipython-input-41-02e9d0499d33>:2: DeprecationWarning: `np.str` is a deprecated alias for the builtin `str`. To silence this warning, use `str` by itself. Doing this will not modify any behavior and is safe. If you specifically wanted the numpy scalar type, use `np.str_` here.\n",
      "Deprecated in NumPy 1.20; for more details and guidance: https://numpy.org/devdocs/release/1.20.0-notes.html#deprecations\n",
      "  seoul = np.loadtxt('C:/Users/whgud/data/seoul.csv' , delimiter = \",\", dtype=np.str, skiprows=1)\n",
      "<ipython-input-41-02e9d0499d33>:3: DeprecationWarning: `np.str` is a deprecated alias for the builtin `str`. To silence this warning, use `str` by itself. Doing this will not modify any behavior and is safe. If you specifically wanted the numpy scalar type, use `np.str_` here.\n",
      "Deprecated in NumPy 1.20; for more details and guidance: https://numpy.org/devdocs/release/1.20.0-notes.html#deprecations\n",
      "  daegu = np.loadtxt('C:/Users/whgud/data/daegu.csv' , delimiter = \",\", dtype=np.str, skiprows=1)\n"
     ]
    },
    {
     "name": "stdout",
     "output_type": "stream",
     "text": [
      "['1907' '1908' '1909' '1910' '1911' '1912' '1913' '1914' '1915' '1916'\n",
      " '1917' '1918' '1919' '1920' '1921' '1922' '1923' '1924' '1925' '1926'\n",
      " '1927' '1928' '1929' '1930' '1931' '1932' '1933' '1934' '1935' '1936'\n",
      " '1937' '1938' '1939' '1940' '1941' '1942' '1943' '1944' '1945' '1946'\n",
      " '1947' '1948' '1949' '1950' '1953' '1954' '1955' '1956' '1957' '1958'\n",
      " '1959' '1960' '1961' '1962' '1963' '1964' '1965' '1966' '1967' '1968'\n",
      " '1969' '1970' '1971' '1972' '1973' '1974' '1975' '1976' '1977' '1978'\n",
      " '1979' '1980' '1981' '1982' '1983' '1984' '1985' '1986' '1987' '1988'\n",
      " '1989' '1990' '1991' '1992' '1993' '1994' '1995' '1996' '1997' '1998'\n",
      " '1999' '2000' '2001' '2002' '2003' '2004' '2005' '2006' '2007' '2008'\n",
      " '2009' '2010' '2011' '2012' '2013' '2014' '2015' '2016' '2017' '2018'\n",
      " '2019' '2020'] 112\n",
      "[  1   7  52  81  71  50  67  64  46 119  94  98 103 115 121  78  91  98\n",
      " 102  78  92  95 107 133 122 104  64  61  78  79 107  89 109  94 122  83\n",
      " 132  80  94 106  77 119 106  88   1  97  88  81  80  84  81  77  93  64\n",
      "  83  72  77  89  85 102  70  96  73  87  63  68 103  88  78  55  67  73\n",
      "  57  82  86  75  67  63  61  76  82  53  91  58  82  61  46  63  71 113\n",
      " 103  78  75  82 101  63  46  76  68  65  59  48  68  76  41  93 119 128\n",
      "  83  98  94  65] 112\n",
      "대구보다 서울이 더 더운날이 가장 많은 연도는  1930 년 입니다\n"
     ]
    }
   ],
   "source": [
    "# 4. 가장 덥다고 알려진 대구보다 서울이 더 더운날이 가장 많은 연도는 언제인가요?\n",
    "seoul = np.loadtxt('C:/Users/whgud/data/seoul.csv' , delimiter = \",\", dtype=np.str, skiprows=1)\n",
    "daegu = np.loadtxt('C:/Users/whgud/data/daegu.csv' , delimiter = \",\", dtype=np.str, skiprows=1)\n",
    "\n",
    "\n",
    "for x in seoul: # null값이 경우 초기화\n",
    "    if x[4]=='':\n",
    "        x[4]=-20\n",
    "for x in daegu:\n",
    "    if x[4]=='':\n",
    "        x[4]=-20\n",
    "        \n",
    "winner = []\n",
    "\n",
    "for d in seoul:\n",
    "    t = daegu[daegu[:,0]==d[0], 4]\n",
    "    if (float(d[4]) > float(t) and t!='-20'):\n",
    "        winner.append(d[0][:4]) # 연도만 winner에 append\n",
    "winner = np.array(winner)\n",
    "(a, b) = np.unique(winner, return_counts=True)\n",
    "print(a ,len(a))\n",
    "print(b, len(b))\n",
    "c = b.argmax()\n",
    "\n",
    "\n",
    "print(\"대구보다 서울이 더 더운날이 가장 많은 연도는 \",a[c],\"년 입니다\")"
   ]
  },
  {
   "cell_type": "code",
   "execution_count": null,
   "id": "e02439e7",
   "metadata": {},
   "outputs": [],
   "source": []
  },
  {
   "cell_type": "code",
   "execution_count": null,
   "id": "52950689",
   "metadata": {},
   "outputs": [],
   "source": []
  },
  {
   "cell_type": "code",
   "execution_count": null,
   "id": "b607c1b8",
   "metadata": {},
   "outputs": [],
   "source": []
  },
  {
   "cell_type": "code",
   "execution_count": null,
   "id": "6af1420a",
   "metadata": {},
   "outputs": [],
   "source": []
  }
 ],
 "metadata": {
  "kernelspec": {
   "display_name": "Python 3",
   "language": "python",
   "name": "python3"
  },
  "language_info": {
   "codemirror_mode": {
    "name": "ipython",
    "version": 3
   },
   "file_extension": ".py",
   "mimetype": "text/x-python",
   "name": "python",
   "nbconvert_exporter": "python",
   "pygments_lexer": "ipython3",
   "version": "3.8.8"
  }
 },
 "nbformat": 4,
 "nbformat_minor": 5
}
