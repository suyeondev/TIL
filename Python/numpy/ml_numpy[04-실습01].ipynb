{
 "cells": [
  {
   "cell_type": "markdown",
   "id": "19132c61",
   "metadata": {},
   "source": [
    "# Numpy실습"
   ]
  },
  {
   "cell_type": "markdown",
   "id": "3fe11e46",
   "metadata": {},
   "source": [
    "## [실습 01] - ratings.dat"
   ]
  },
  {
   "cell_type": "code",
   "execution_count": 9,
   "id": "5803bf34",
   "metadata": {},
   "outputs": [
    {
     "name": "stdout",
     "output_type": "stream",
     "text": [
      "type       :<class 'numpy.ndarray'>\n",
      "shape      :(1000209, 4)\n",
      "dimension  :2\n",
      "dtype      :int64\n",
      "Array Data :\n",
      " [[        1      1193         5 978300760]\n",
      " [        1       661         3 978302109]\n",
      " [        1       914         3 978301968]\n",
      " ...\n",
      " [     6040       562         5 956704746]\n",
      " [     6040      1096         4 956715648]\n",
      " [     6040      1097         4 956715569]]\n"
     ]
    }
   ],
   "source": [
    "# data 불러오기\n",
    "# loadtxt()  : 텍스트 파일 로딩\n",
    "# delimiter  : 필드 구분자\n",
    "# dtype      : 자료형\n",
    "import numpy as np\n",
    "# 배열정보를 확인하기 위한 함수 정의\n",
    "def aryInfo(ary):\n",
    "    print('type       :{}'.format(type(ary)))\n",
    "    print('shape      :{}'.format(ary.shape)) \n",
    "    print('dimension  :{}'.format(ary.ndim))  # 몇차원의 배열인지\n",
    "    print('dtype      :{}'.format(ary.dtype)) # 데이터 타입\n",
    "    print('Array Data :\\n',ary)\n",
    "    \n",
    "data = np.loadtxt('C:/Users/whgud/data/ratings.dat' , delimiter = \"::\", dtype=np.int64)\n",
    "aryInfo(data)"
   ]
  },
  {
   "cell_type": "code",
   "execution_count": 14,
   "id": "d54e651c",
   "metadata": {},
   "outputs": [
    {
     "name": "stdout",
     "output_type": "stream",
     "text": [
      "첫 5행:\n",
      " [[        1      1193         5 978300760]\n",
      " [        1       661         3 978302109]\n",
      " [        1       914         3 978301968]\n",
      " [        1      3408         4 978300275]\n",
      " [        1      2355         5 978824291]]\n",
      "형태 확인:\n",
      " (1000209, 4)\n"
     ]
    }
   ],
   "source": [
    "# 사용자id::영화id::평점::timestamp(날짜)\n",
    "\n",
    "# 데이터의 첫 5 행만 확인\n",
    "print(\"첫 5행:\\n\",data[:5,:])\n",
    "# 데이터의 형태 확인\n",
    "print(\"형태 확인:\\n\",data.shape)\n"
   ]
  },
  {
   "cell_type": "code",
   "execution_count": 15,
   "id": "e2fb28a7",
   "metadata": {},
   "outputs": [
    {
     "name": "stdout",
     "output_type": "stream",
     "text": [
      "전체 평균 평점 : 3.581564453029317\n"
     ]
    }
   ],
   "source": [
    "# 전체 평균 평점 계산\n",
    "# data[ : , 2] 전체 행, 2번 열\n",
    "print(\"전체 평균 평점 :\" , np.mean(data[:,2]))"
   ]
  },
  {
   "cell_type": "code",
   "execution_count": 64,
   "id": "6b0655df",
   "metadata": {},
   "outputs": [
    {
     "name": "stdout",
     "output_type": "stream",
     "text": [
      "[[1, 4.188679245283019], [2, 3.7131782945736433], [3, 3.9019607843137254], [4, 4.190476190476191], [5, 3.1464646464646466]]\n",
      "[[1.         4.18867925]\n",
      " [2.         3.71317829]\n",
      " [3.         3.90196078]\n",
      " [4.         4.19047619]\n",
      " [5.         3.14646465]]\n"
     ]
    }
   ],
   "source": [
    "# 사용자 아이디 수집\n",
    "# 전체 행 , 0번 열\n",
    "user_ids=np.unique(data[:,0]) # 사용자 아이디 리스트(중복X)\n",
    "\n",
    "\n",
    "id_rating_list=[]\n",
    "#사용자별 평점 확인을 위한 코드 구문 작성\n",
    "for user_id in user_ids :\n",
    "    data_users=data[data[:,0]==user_id,:] # 예를 들어 현재 user_id가 1이라면 user_id가 1인 행들만 추출\n",
    "    id_rating_mean=np.mean(data_users[:,2]) # 2번째 인덱스(평점)에 해당하는 값의 평균값\n",
    "    id_rating_list.append([user_id, id_rating_mean])\n",
    "         \n",
    "print(id_rating_list[:5])\n",
    "id_rating_ary = np.array(id_rating_list,np.float64)\n",
    "print(id_rating_ary[:5])# 사용자 아이디별 평점 확인\n",
    "\n",
    "   \n"
   ]
  },
  {
   "cell_type": "code",
   "execution_count": 66,
   "id": "e67702d1",
   "metadata": {},
   "outputs": [
    {
     "name": "stdout",
     "output_type": "stream",
     "text": [
      "type       :<class 'numpy.ndarray'>\n",
      "shape      :(6040, 2)\n",
      "dimension  :2\n",
      "dtype      :float64\n",
      "Array Data :\n",
      " [[1.00000000e+00 4.18867925e+00]\n",
      " [2.00000000e+00 3.71317829e+00]\n",
      " [3.00000000e+00 3.90196078e+00]\n",
      " ...\n",
      " [6.03800000e+03 3.80000000e+00]\n",
      " [6.03900000e+03 3.87804878e+00]\n",
      " [6.04000000e+03 3.57771261e+00]]\n"
     ]
    },
    {
     "data": {
      "text/plain": [
       "array([[1.00000000e+00, 4.18867925e+00],\n",
       "       [4.00000000e+00, 4.19047619e+00],\n",
       "       [7.00000000e+00, 4.32258065e+00],\n",
       "       ...,\n",
       "       [6.02700000e+03, 4.25000000e+00],\n",
       "       [6.03200000e+03, 4.13461538e+00],\n",
       "       [6.03400000e+03, 4.09523810e+00]])"
      ]
     },
     "execution_count": 66,
     "metadata": {},
     "output_type": "execute_result"
    }
   ],
   "source": [
    "# 각 사용자 별 평균 평점이 4점 이상인 사용자 구하기 \n",
    "aryInfo(id_rating_ary)\n",
    "id_rating_ary[id_rating_ary[:,1]>=4.0,:]"
   ]
  },
  {
   "cell_type": "code",
   "execution_count": null,
   "id": "ac79ce75",
   "metadata": {},
   "outputs": [],
   "source": [
    "\n"
   ]
  },
  {
   "cell_type": "code",
   "execution_count": 115,
   "id": "8c2f9133",
   "metadata": {
    "scrolled": true
   },
   "outputs": [
    {
     "name": "stdout",
     "output_type": "stream",
     "text": [
      "['날짜', '지점', '평균기온(℃)', '최저기온(℃)', '최고기온(℃)']\n",
      "기상 관측 이래, 서울의 최고 기온이 가장 높았던 날은 2018-08-01 였고,  39.6 도입니다.\n"
     ]
    }
   ],
   "source": [
    "# [실습 02]\n",
    "\n",
    "import csv                  \n",
    "f_seoul = open('C:/Users/whgud/data/seoul.csv','r')\n",
    "seoul = csv.reader(f_seoul, delimiter=',')\n",
    "s_header = next(seoul)\n",
    "print(s_header)\n",
    "f_daegu = open('C:/Users/whgud/data/daegu.csv','r')\n",
    "daegu = csv.reader(f_daegu, delimiter=',')\n",
    "d_header = next(daegu)\n",
    "\n",
    "\n",
    "# 1. 기상 관측 이래, 서울의 최고 기온이 가장 높았던 날은 언제였고, 몇도인가요?\n",
    "max_temp = -999               # 최고 기온을 저장할 변수 초기화\n",
    "max_date = ''                 # 최고 기온이었던 날짜를 저장할 변수 초기화\n",
    "\n",
    "for row in seoul :\n",
    "    if row[-1] == '' :        # 만약 데이터가 누락되었다면 최고 기온을 -999로 저장\n",
    "        row[-1] = -999\n",
    "    row[-1] = float(row[-1])  # 문자열로 저장된 최고 기온 값을 실수로 변환\n",
    "    if max_temp < row[-1] :   # 만약 지금까지 최고 기온보다 더 높다면 업데이트\n",
    "        max_date = row[0]\n",
    "        max_temp = row[-1]\n",
    "f_seoul.close()\n",
    "print(\"기상 관측 이래, 서울의 최고 기온이 가장 높았던 날은\", max_date,\"였고, \",max_temp,\"도입니다.\")\n",
    "\n",
    "\n",
    "\n"
   ]
  },
  {
   "cell_type": "code",
   "execution_count": 114,
   "id": "32626bd4",
   "metadata": {},
   "outputs": [
    {
     "name": "stdout",
     "output_type": "stream",
     "text": [
      "역사적으로 서울 지역의 일교차가 가장 큰 날짜는  1942-04-19 이고, 일교차는  21.8 입니다\n",
      "역사적으로 대구 지역의 일교차가 가장 큰 날짜는  1913-04-04 이고, 일교차는  26.2 입니다\n"
     ]
    }
   ],
   "source": [
    "# 2. 역사적으로 일교차가 가장 큰 날짜는 몇년 몇월 몇일 인가요?\n",
    "f_seoul = open('C:/Users/whgud/data/seoul.csv','r')\n",
    "seoul = csv.reader(f_seoul, delimiter=',')\n",
    "s_header = next(seoul)\n",
    "\n",
    "f_daegu = open('C:/Users/whgud/data/daegu.csv','r')\n",
    "daegu = csv.reader(f_daegu, delimiter=',')\n",
    "d_header = next(daegu)\n",
    "\n",
    "max_temp=0\n",
    "min_temp=0\n",
    "max_temp_diff=0\n",
    "date=''\n",
    "\n",
    "for row in seoul:\n",
    "    if row[4] == '':\n",
    "        row[4] = 0\n",
    "    if row[3] == '':\n",
    "        row[3] = 0\n",
    "    row[3]=float(row[3])\n",
    "    row[4]=float(row[4])\n",
    "    temp_diff=row[4]-row[3]\n",
    "    if max_temp_diff < temp_diff:\n",
    "        date=row[0]\n",
    "        max_temp_diff=temp_diff\n",
    "f_seoul.close()\n",
    "print(\"역사적으로 서울 지역의 일교차가 가장 큰 날짜는 \",date,\"이고, 일교차는 \",max_temp_diff,\"입니다\")\n",
    "\n",
    "for row in daegu:\n",
    "    if row[4] == '':\n",
    "        row[4] = 0\n",
    "    if row[3] == '':\n",
    "        row[3] = 0\n",
    "    row[3]=float(row[3])\n",
    "    row[4]=float(row[4])\n",
    "    temp_diff=row[4]-row[3]\n",
    "    if max_temp_diff < temp_diff:\n",
    "        date=row[0]\n",
    "        max_temp_diff=temp_diff\n",
    "f_daegu.close()\n",
    "print(\"역사적으로 대구 지역의 일교차가 가장 큰 날짜는 \",date,\"이고, 일교차는 \",max_temp_diff,\"입니다\")\n",
    "\n"
   ]
  },
  {
   "cell_type": "code",
   "execution_count": 124,
   "id": "2b538600",
   "metadata": {},
   "outputs": [
    {
     "name": "stdout",
     "output_type": "stream",
     "text": [
      "type       :<class 'numpy.ndarray'>\n",
      "shape      :()\n",
      "dimension  :0\n",
      "dtype      :<U42\n",
      "Array Data :\n",
      " <_csv.reader object at 0x0000029780DF93A0>\n"
     ]
    },
    {
     "ename": "IndexError",
     "evalue": "too many indices for array: array is 0-dimensional, but 2 were indexed",
     "output_type": "error",
     "traceback": [
      "\u001b[1;31m---------------------------------------------------------------------------\u001b[0m",
      "\u001b[1;31mIndexError\u001b[0m                                Traceback (most recent call last)",
      "\u001b[1;32m<ipython-input-124-936fbd9dc09f>\u001b[0m in \u001b[0;36m<module>\u001b[1;34m\u001b[0m\n\u001b[0;32m     10\u001b[0m \u001b[0mseoul\u001b[0m\u001b[1;33m=\u001b[0m\u001b[0mnp\u001b[0m\u001b[1;33m.\u001b[0m\u001b[0marray\u001b[0m\u001b[1;33m(\u001b[0m\u001b[0mseoul\u001b[0m\u001b[1;33m,\u001b[0m\u001b[0mdtype\u001b[0m\u001b[1;33m=\u001b[0m\u001b[1;34m\"U\"\u001b[0m\u001b[1;33m)\u001b[0m\u001b[1;33m\u001b[0m\u001b[1;33m\u001b[0m\u001b[0m\n\u001b[0;32m     11\u001b[0m \u001b[0maryInfo\u001b[0m\u001b[1;33m(\u001b[0m\u001b[0mseoul\u001b[0m\u001b[1;33m)\u001b[0m\u001b[1;33m\u001b[0m\u001b[1;33m\u001b[0m\u001b[0m\n\u001b[1;32m---> 12\u001b[1;33m \u001b[0mprint\u001b[0m\u001b[1;33m(\u001b[0m\u001b[0mnp\u001b[0m\u001b[1;33m.\u001b[0m\u001b[0munique\u001b[0m\u001b[1;33m(\u001b[0m\u001b[0mseoul\u001b[0m\u001b[1;33m[\u001b[0m\u001b[1;33m:\u001b[0m\u001b[1;33m,\u001b[0m\u001b[1;36m0\u001b[0m\u001b[1;33m]\u001b[0m\u001b[1;33m)\u001b[0m\u001b[1;33m)\u001b[0m\u001b[1;33m\u001b[0m\u001b[1;33m\u001b[0m\u001b[0m\n\u001b[0m\u001b[0;32m     13\u001b[0m \u001b[1;31m# max_temp=0\u001b[0m\u001b[1;33m\u001b[0m\u001b[1;33m\u001b[0m\u001b[1;33m\u001b[0m\u001b[0m\n\u001b[0;32m     14\u001b[0m \u001b[1;31m# min_temp=0\u001b[0m\u001b[1;33m\u001b[0m\u001b[1;33m\u001b[0m\u001b[1;33m\u001b[0m\u001b[0m\n",
      "\u001b[1;31mIndexError\u001b[0m: too many indices for array: array is 0-dimensional, but 2 were indexed"
     ]
    }
   ],
   "source": [
    "# 3. 1년 중 평균적으로 일교차가 가장 큰 날짜는 몇월 몇일 인가요?\n",
    "f_seoul = open('C:/Users/whgud/data/seoul.csv','r')\n",
    "seoul = csv.reader(f_seoul, delimiter=',')\n",
    "s_header = next(seoul)\n",
    "\n",
    "f_daegu = open('C:/Users/whgud/data/daegu.csv','r')\n",
    "daegu = csv.reader(f_daegu, delimiter=',')\n",
    "d_header = next(daegu)\n",
    "\n",
    "seoul=np.array(seoul,dtype=\"U\")\n",
    "aryInfo(seoul)\n",
    "print(np.unique(seoul[:,0]))\n",
    "# max_temp=0\n",
    "# min_temp=0\n",
    "# max_temp_diff=0\n",
    "# date=''\n",
    "\n",
    "# for row in seoul:\n",
    "    \n",
    "    \n",
    "# f_seoul.close()\n",
    "print(\"역사적으로 서울 지역의 1년 중 평균적으로 일교차가 가장 큰 날짜는 \",date,\"이고, 일교차는 \",max_temp_diff,\"입니다\")\n",
    "    "
   ]
  },
  {
   "cell_type": "code",
   "execution_count": null,
   "id": "bdcc8fd4",
   "metadata": {},
   "outputs": [],
   "source": [
    "# 4. 가장 덥다고 알려진 대구보다 서울이 더 더운날이 가장 많은 연도는 언제인가요?"
   ]
  },
  {
   "cell_type": "code",
   "execution_count": 130,
   "id": "d5223d5d",
   "metadata": {},
   "outputs": [
    {
     "name": "stdout",
     "output_type": "stream",
     "text": [
      "type       :<class 'numpy.ndarray'>\n",
      "shape      :(2,)\n",
      "dimension  :1\n",
      "dtype      :object\n",
      "Array Data :\n",
      " [<_csv.reader object at 0x0000029780DF9DC0>\n",
      " <_csv.reader object at 0x0000029780DF9940>]\n"
     ]
    },
    {
     "data": {
      "text/plain": [
       "array([<_csv.reader object at 0x0000029780DF9DC0>,\n",
       "       <_csv.reader object at 0x0000029780DF9940>], dtype=object)"
      ]
     },
     "execution_count": 130,
     "metadata": {},
     "output_type": "execute_result"
    }
   ],
   "source": [
    "f_seoul = open('C:/Users/whgud/data/seoul.csv','r')\n",
    "seoul = csv.reader(f_seoul, delimiter=',')\n",
    "s_header = next(seoul)\n",
    "\n",
    "f_daegu = open('C:/Users/whgud/data/daegu.csv','r')\n",
    "daegu = csv.reader(f_daegu, delimiter=',')\n",
    "d_header = next(daegu)\n",
    "\n",
    "data= np.hstack([seoul,daegu])\n",
    "aryInfo(data)\n",
    "data[:4]"
   ]
  },
  {
   "cell_type": "code",
   "execution_count": null,
   "id": "e02439e7",
   "metadata": {},
   "outputs": [],
   "source": []
  },
  {
   "cell_type": "code",
   "execution_count": null,
   "id": "52950689",
   "metadata": {},
   "outputs": [],
   "source": []
  },
  {
   "cell_type": "code",
   "execution_count": null,
   "id": "b607c1b8",
   "metadata": {},
   "outputs": [],
   "source": []
  },
  {
   "cell_type": "code",
   "execution_count": null,
   "id": "6af1420a",
   "metadata": {},
   "outputs": [],
   "source": []
  }
 ],
 "metadata": {
  "kernelspec": {
   "display_name": "Python 3",
   "language": "python",
   "name": "python3"
  },
  "language_info": {
   "codemirror_mode": {
    "name": "ipython",
    "version": 3
   },
   "file_extension": ".py",
   "mimetype": "text/x-python",
   "name": "python",
   "nbconvert_exporter": "python",
   "pygments_lexer": "ipython3",
   "version": "3.8.8"
  }
 },
 "nbformat": 4,
 "nbformat_minor": 5
}
