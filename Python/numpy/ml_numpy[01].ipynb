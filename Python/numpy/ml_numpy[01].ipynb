{
 "cells": [
  {
   "cell_type": "markdown",
   "id": "ada7b1bb",
   "metadata": {},
   "source": [
    "# Numpy 학습\n",
    "### 학습목표\n",
    "- 배열과 리스트의 차이점\n",
    "- 배열생성 및 다루는 기법\n",
    "- 기술통계함수\n",
    "- 결과에 대해 분석하는 방법"
   ]
  },
  {
   "cell_type": "markdown",
   "id": "2aae2a8b",
   "metadata": {},
   "source": [
    "### 배열(Array)\n",
    "- 모든 원소가 같은 자료형이어야 한다.\n",
    "- 원소의 갯수를 바꿀수 없다(resizing X)\n",
    "- 배열의 차원, 크기, 타입(ndim, shape, dtype)"
   ]
  },
  {
   "cell_type": "code",
   "execution_count": 4,
   "id": "ccbc83ed",
   "metadata": {},
   "outputs": [
    {
     "data": {
      "text/plain": [
       "'1.20.1'"
      ]
     },
     "execution_count": 4,
     "metadata": {},
     "output_type": "execute_result"
    }
   ],
   "source": [
    "import numpy as np # numpy모듈을 np라는 별칭으로 사용하겠다.\n",
    "np.__version__ #numpy버전 확인"
   ]
  },
  {
   "cell_type": "code",
   "execution_count": 5,
   "id": "cfbe8309",
   "metadata": {},
   "outputs": [],
   "source": [
    "# 배열정보를 확인하기 위한 함수 정의\n",
    "def aryInfo(ary):\n",
    "    print('type       :{}'.format(type(ary)))\n",
    "    print('shape      :{}'.format(ary.shape)) \n",
    "    print('dimension  :{}'.format(ary.ndim))  # 몇차원의 배열인지\n",
    "    print('dtype      :{}'.format(ary.dtype)) # 데이터 타입\n",
    "    print('Array Data :\\n',ary)"
   ]
  },
  {
   "cell_type": "markdown",
   "id": "b81aaf64",
   "metadata": {},
   "source": [
    "#### 1차원 배열 생성\n",
    "- array() 함수 사용"
   ]
  },
  {
   "cell_type": "code",
   "execution_count": 6,
   "id": "2168cb9e",
   "metadata": {},
   "outputs": [
    {
     "name": "stdout",
     "output_type": "stream",
     "text": [
      "type       :<class 'numpy.ndarray'>\n",
      "shape      :(10,)\n",
      "dimension  :1\n",
      "dtype      :int32\n",
      "Array Data :\n",
      " [0 1 2 3 4 5 6 7 8 9]\n"
     ]
    }
   ],
   "source": [
    "oneAry = np.array([0,1,2,3,4,5,6,7,8,9])\n",
    "aryInfo(oneAry)"
   ]
  },
  {
   "cell_type": "markdown",
   "id": "c0c18e31",
   "metadata": {},
   "source": [
    "- vectorized operation(벡터화 연산)\n"
   ]
  },
  {
   "cell_type": "code",
   "execution_count": 7,
   "id": "7c3e90ea",
   "metadata": {},
   "outputs": [
    {
     "data": {
      "text/plain": [
       "[0, 1, 2, 3, 4, 5, 6, 7, 8, 9, 0, 1, 2, 3, 4, 5, 6, 7, 8, 9]"
      ]
     },
     "execution_count": 7,
     "metadata": {},
     "output_type": "execute_result"
    }
   ],
   "source": [
    "data=[0,1,2,3,4,5,6,7,8,9] \n",
    "data*2 # 각각의 요소에 2씩 곱하고 싶은건데 파이썬의 리스트는 수만큼 반복된다."
   ]
  },
  {
   "cell_type": "code",
   "execution_count": 9,
   "id": "517505d0",
   "metadata": {},
   "outputs": [
    {
     "name": "stdout",
     "output_type": "stream",
     "text": [
      "[0, 2, 4, 6, 8, 10, 12, 14, 16, 18]\n",
      "[0, 2, 4, 6, 8, 10, 12, 14, 16, 18]\n",
      "[ 0  2  4  6  8 10 12 14 16 18]\n"
     ]
    }
   ],
   "source": [
    "result1=[]\n",
    "for d in data:     # for문 활용했을 때\n",
    "    result1.append(d*2)\n",
    "print(result1)\n",
    "\n",
    "result2=[d*2 for d in data] # list comprehension 활용했을 때\n",
    "print(result2)\n",
    "\n",
    "result3=oneAry*2 # numpy 활용했을 때\n",
    "print(result3)"
   ]
  },
  {
   "cell_type": "markdown",
   "id": "c223bcb4",
   "metadata": {},
   "source": [
    "- 벡터화 연산은 비교, 산술, 논리연산을 포함하는 모든 수학연산에 적용된다."
   ]
  },
  {
   "cell_type": "code",
   "execution_count": 19,
   "id": "c6d58a00",
   "metadata": {},
   "outputs": [
    {
     "name": "stdout",
     "output_type": "stream",
     "text": [
      "<class 'list'> <class 'list'>\n",
      "<class 'numpy.ndarray'> <class 'numpy.ndarray'>\n",
      "xAry + yAry =  [11 22 33 44 55]\n",
      "2*xAry + yAry= [12 24 36 48 60]\n",
      "xAry==2 ? [False  True False False False]\n",
      "yAry>10 ? [False  True  True  True  True]\n",
      "(xAry==2) & (yAry>10)  [False  True False False False]\n",
      "(xAry==2) | (yAry>10)  [False  True  True  True  True]\n"
     ]
    }
   ],
   "source": [
    "data01=[1,2,3,4,5]\n",
    "data02=[10,20,30,40,50]\n",
    "print(type(data01),type(data02))\n",
    "\n",
    "xAry=np.array(data01)\n",
    "yAry=np.array(data02)\n",
    "print(type(xAry),type(yAry))\n",
    "\n",
    "# 산술연산\n",
    "print(\"xAry + yAry = \",xAry + yAry) \n",
    "print(\"2*xAry + yAry=\",2*xAry + yAry) \n",
    "\n",
    "# 비교연산 - boolean masking\n",
    "print(\"xAry==2 ?\",xAry==2) \n",
    "print(\"yAry>10 ?\",yAry>10)\n",
    "\n",
    "# 논리연산\n",
    "print(\"(xAry==2) & (yAry>10) \", (xAry==2)&(yAry>10))\n",
    "print(\"(xAry==2) | (yAry>10) \", (xAry==2)|(yAry>10))"
   ]
  },
  {
   "cell_type": "markdown",
   "id": "d63cb1e9",
   "metadata": {},
   "source": [
    "#### 2차원 배열\n",
    "\n",
    "- N - dimmensional Array\n",
    "- 행렬(Matrix)\n",
    "- list of list -> 2차원\n",
    "- list of list of list -> 3차원"
   ]
  },
  {
   "cell_type": "code",
   "execution_count": 24,
   "id": "b28efe98",
   "metadata": {},
   "outputs": [
    {
     "name": "stdout",
     "output_type": "stream",
     "text": [
      "type       :<class 'numpy.ndarray'>\n",
      "shape      :(2, 3)\n",
      "dimension  :2\n",
      "dtype      :float64\n",
      "Array Data :\n",
      " [[1. 2. 3.]\n",
      " [4. 5. 6.]]\n",
      "len(twoAry): 2\n",
      "len(twoAry[0]): 3\n",
      "len(twoAry[1]): 3\n"
     ]
    }
   ],
   "source": [
    "# 2개의 행과 3개의 열을 갖는 배열을 만든다면?\n",
    "# shape(행의 수, 열의 수)\n",
    "twoAry= np.array([[1,2,3],[4,5,6]], dtype =np.float64)\n",
    "aryInfo(twoAry)\n",
    "print(\"len(twoAry):\",len(twoAry))\n",
    "print(\"len(twoAry[0]):\",len(twoAry[0])) \n",
    "print(\"len(twoAry[1]):\",len(twoAry[1]))"
   ]
  },
  {
   "cell_type": "code",
   "execution_count": 29,
   "id": "61f5ceb0",
   "metadata": {},
   "outputs": [
    {
     "name": "stdout",
     "output_type": "stream",
     "text": [
      "type       :<class 'numpy.ndarray'>\n",
      "shape      :(2, 3, 4)\n",
      "dimension  :3\n",
      "dtype      :int32\n",
      "Array Data :\n",
      " [[[ 1  2  3  4]\n",
      "  [ 5  6  7  8]\n",
      "  [ 9 10 11 12]]\n",
      "\n",
      " [[13 14 15 16]\n",
      "  [17 18 19 20]\n",
      "  [21 22 23 24]]]\n",
      "len(threeAry): 2\n",
      "len(threeAry[0][0]): 4\n"
     ]
    }
   ],
   "source": [
    "# 3차원 - 3 * 4 행렬 2개 만드려면? (2 * 3 * 4)\n",
    "\n",
    "threeAry = np.array([[[1,2,3,4],[5,6,7,8],[9,10,11,12]],\n",
    "                     [[13,14,15,16],[17,18,19,20],[21,22,23,24]]])\n",
    "aryInfo(threeAry)\n",
    "print(\"len(threeAry):\",len(threeAry)) # 층(깊이)이라고 이해하면 쉬움.\n",
    "print('len(threeAry[0][0])',len(threeAry[0][0]))"
   ]
  },
  {
   "cell_type": "markdown",
   "id": "5f102eee",
   "metadata": {},
   "source": [
    "- astype() : 요소의 타입을 변경할때 사용하는 함수 "
   ]
  },
  {
   "cell_type": "code",
   "execution_count": 32,
   "id": "f0e40897",
   "metadata": {},
   "outputs": [
    {
     "name": "stdout",
     "output_type": "stream",
     "text": [
      "type       :<class 'numpy.ndarray'>\n",
      "shape      :(2, 3, 4)\n",
      "dimension  :3\n",
      "dtype      :float64\n",
      "Array Data :\n",
      " [[[ 1.  2.  3.  4.]\n",
      "  [ 5.  6.  7.  8.]\n",
      "  [ 9. 10. 11. 12.]]\n",
      "\n",
      " [[13. 14. 15. 16.]\n",
      "  [17. 18. 19. 20.]\n",
      "  [21. 22. 23. 24.]]]\n"
     ]
    }
   ],
   "source": [
    "typeChange=threeAry.astype(np.float64)\n",
    "aryInfo(typeChange)"
   ]
  },
  {
   "cell_type": "markdown",
   "id": "96b25725",
   "metadata": {},
   "source": [
    "#### 배열의 인덱싱(indexing)"
   ]
  },
  {
   "cell_type": "code",
   "execution_count": 39,
   "id": "26cac90e",
   "metadata": {},
   "outputs": [
    {
     "name": "stdout",
     "output_type": "stream",
     "text": [
      "--------indexing--------\n",
      "indexAry[1]: 2\n",
      "indexAry[-1]: 9\n",
      "--------ary Info--------\n",
      "type       :<class 'numpy.ndarray'>\n",
      "shape      :(2, 3)\n",
      "dimension  :2\n",
      "dtype      :float64\n",
      "Array Data :\n",
      " [[1. 2. 3.]\n",
      " [4. 5. 6.]]\n",
      "첫번째 행의 첫번째 열 :  1.0\n",
      "두번째 행의 두번째 열:  5.0\n",
      "마지막 행의 마지막 열:  6.0\n"
     ]
    }
   ],
   "source": [
    "indexAry=np.array([1,2,3,4,5,6,7,8,9])\n",
    "\n",
    "print('--------indexing--------')\n",
    "print('indexAry[1]:',indexAry[1])\n",
    "print('indexAry[-1]:',indexAry[-1])\n",
    "\n",
    "print('--------ary Info--------')\n",
    "aryInfo(twoAry)\n",
    "# 첫번째 행의 첫번째 열\n",
    "print(\"첫번째 행의 첫번째 열 : \",twoAry[0,0])\n",
    "# 두번째 행의 두번째 열\n",
    "print(\"두번째 행의 두번째 열: \",twoAry[1,1])\n",
    "# 마지막 행의 마지막 열\n",
    "print(\"마지막 행의 마지막 열: \",twoAry[-1,-1])"
   ]
  },
  {
   "cell_type": "markdown",
   "id": "4fb1a05c",
   "metadata": {},
   "source": [
    "#### 배열의 슬라이싱(Slicing)"
   ]
  },
  {
   "cell_type": "code",
   "execution_count": 54,
   "id": "31f6851e",
   "metadata": {},
   "outputs": [
    {
     "name": "stdout",
     "output_type": "stream",
     "text": [
      "array:\n",
      " [[1. 2. 3.]\n",
      " [4. 5. 6.]]\n",
      "첫번째행의 전체: [1. 2. 3.]\n",
      "두번째열의 전체 [2. 5.]\n",
      "두번째 행의 두번째부터 끝까지 [5. 6.]\n"
     ]
    }
   ],
   "source": [
    "print(\"array:\\n\",twoAry)\n",
    "# 첫번째행의 전체\n",
    "print(\"첫번째행의 전체:\",twoAry[0,:])\n",
    "# 두번째열의 전체\n",
    "print(\"두번째열의 전체\",twoAry[:,1])\n",
    "# 두번째 행의 두번째부터 끝까지\n",
    "print(\"두번째 행의 두번째부터 끝까지\",twoAry[1,1:])"
   ]
  },
  {
   "cell_type": "code",
   "execution_count": 67,
   "id": "c4acb4f3",
   "metadata": {},
   "outputs": [
    {
     "name": "stdout",
     "output_type": "stream",
     "text": [
      "type       :<class 'numpy.ndarray'>\n",
      "shape      :(3, 5)\n",
      "dimension  :2\n",
      "dtype      :int32\n",
      "Array Data :\n",
      " [[ 0  1  2  3  4]\n",
      " [ 5  6  7  8  9]\n",
      " [10 11 12 13 14]]\n",
      "이 행렬에서 값 7 을 인덱싱한다 : 7\n",
      "이 행렬에서 값 14 을 인덱싱한다 : 14 14\n",
      "이 행렬에서 배열 [6, 7] 을 슬라이싱한다. : [6 7]\n",
      "이 행렬에서 배열 [7, 12] 을 슬라이싱한다.: [ 7 12]\n",
      "이 행렬에서 배열 [[3, 4], [8, 9]] 을 슬라이싱한다.: [[3 4]\n",
      " [8 9]] <class 'numpy.ndarray'> 2\n"
     ]
    }
   ],
   "source": [
    "matrixAry=np.array([[0,1,2,3,4],\n",
    "                   [5,6,7,8,9],\n",
    "                  [10,11,12,13,14]]) # 3*5배열\n",
    "\n",
    "aryInfo(matrixAry)\n",
    "\n",
    "# 이 행렬에서 값 7 을 인덱싱한다.\n",
    "print(\"이 행렬에서 값 7 을 인덱싱한다 :\", matrixAry[1,2])\n",
    "# 이 행렬에서 값 14 을 인덱싱한다.\n",
    "print(\"이 행렬에서 값 14 을 인덱싱한다 :\", matrixAry[2,4], matrixAry[2,-1])\n",
    "# 이 행렬에서 배열 [6, 7] 을 슬라이싱한다.\n",
    "print(\"이 행렬에서 배열 [6, 7] 을 슬라이싱한다. :\", matrixAry[1,1:3])\n",
    "# 이 행렬에서 배열 [7, 12] 을 슬라이싱한다.\n",
    "print(\"이 행렬에서 배열 [7, 12] 을 슬라이싱한다.:\", matrixAry[1:3,2])\n",
    "# 이 행렬에서 배열 [[3, 4], [8, 9]] 을 슬라이싱한다.\n",
    "print(\"이 행렬에서 배열 [[3, 4], [8, 9]] 을 슬라이싱한다.:\", matrixAry[0:2,3:5],type(matrixAry[0:2,3:5]),matrixAry[0:2,3:5].ndim)"
   ]
  },
  {
   "cell_type": "markdown",
   "id": "10b1588c",
   "metadata": {},
   "source": [
    "#### fancy indexing\n",
    "- boolean indexing\n",
    "- 정수 배열 인덱싱"
   ]
  },
  {
   "cell_type": "code",
   "execution_count": 76,
   "id": "61624fde",
   "metadata": {},
   "outputs": [
    {
     "name": "stdout",
     "output_type": "stream",
     "text": [
      "파이썬문법 사용하면 ary[ary%2==0]: [0 2 4 6 8]\n",
      "ary%2==0: [ True False  True False  True False  True False  True False]\n",
      "ary[idx]: [0 2 4 6 8]\n",
      "[1 3 5 7 9]\n",
      "[1 3 5 7 9]\n",
      "[0 2 4 6 8]\n"
     ]
    }
   ],
   "source": [
    "# 짝수의 원소를 골라내기 위해서 boolean index를 활용할 수 있다.\n",
    "ary=np.array([0,1,2,3,4,5,6,7,8,9])\n",
    "# ary[ary%2==0] 파이썬 문법 사용한 경우\n",
    "print(\"파이썬문법 사용하면 ary[ary%2==0]:\",ary[ary%2==0])\n",
    "print(\"ary%2==0:\",ary%2==0)\n",
    "idx=np.array([True,False,True,False,True,False,True,False,True,False])\n",
    "print(\"ary[idx]:\",ary[idx])\n",
    "\n",
    "\n",
    "# 홀수의 원소를 골라내기 위해서 정수 배열 인덱스를 활용할 수 있다.\n",
    "print(ary[ary%2!=0])\n",
    "evenidx=np.array([1,3,5,7,9])\n",
    "oddidx=np.array([0,2,4,6,8])\n",
    "print(ary[evenidx])\n",
    "print(ary[oddidx])\n"
   ]
  },
  {
   "cell_type": "code",
   "execution_count": 88,
   "id": "b013d092",
   "metadata": {},
   "outputs": [
    {
     "name": "stdout",
     "output_type": "stream",
     "text": [
      "--x array Info--\n",
      "\n",
      "3의 배수를 출력: [ 3  6  9 12 15 18]\n",
      "4를 나누면 1이 남는 수를 출력 :  [ 1  5  9 13 17]\n",
      "3의 배수이고 4로 나누면 1이 남는 수를 출력: [9]\n"
     ]
    }
   ],
   "source": [
    "x=np.array([1,2,3,4,5,6,7,8,9,10,11,12,13,14,15,16,17,18,19,20])\n",
    "print('--x array Info--')\n",
    "print()\n",
    "print('3의 배수를 출력:',x[x%3==0])\n",
    "print('4를 나누면 1이 남는 수를 출력 : ', x[x%4==1])\n",
    "print('3의 배수이고 4로 나누면 1이 남는 수를 출력:', (x[(x%3==0)&(x%4==1)]))\n"
   ]
  },
  {
   "cell_type": "code",
   "execution_count": 136,
   "id": "fe80cc99",
   "metadata": {},
   "outputs": [
    {
     "name": "stdout",
     "output_type": "stream",
     "text": [
      "type       :<class 'numpy.ndarray'>\n",
      "shape      :(3, 4)\n",
      "dimension  :2\n",
      "dtype      :int32\n",
      "Array Data :\n",
      " [[ 1  2  3  4]\n",
      " [ 5  6  7  8]\n",
      " [ 9 10 11 12]]\n",
      "[[ 1  4]\n",
      " [ 5  8]\n",
      " [ 9 12]] \n",
      "\n",
      "정수배열 인덱스 사용:\n",
      " [[ 1  4]\n",
      " [ 5  8]\n",
      " [ 9 12]]\n",
      "boolean indexing 사용 \n",
      ": [[ 1  4]\n",
      " [ 5  8]\n",
      " [ 9 12]]\n",
      "type       :<class 'numpy.ndarray'>\n",
      "shape      :(1, 1)\n",
      "dimension  :2\n",
      "dtype      :int32\n",
      "Array Data :\n",
      " [[5]]\n",
      "type       :<class 'numpy.int32'>\n",
      "shape      :()\n",
      "dimension  :0\n",
      "dtype      :int32\n",
      "Array Data :\n",
      " 5\n",
      "\n",
      "[2 10]으로 가져오기: [ 2 10] 1\n",
      "[[2][10]]으로 가져오기: [[ 2]\n",
      " [10]] 2\n",
      "[[1,3],[9,11]]: [[ 1  3]\n",
      " [ 9 11]]\n"
     ]
    },
    {
     "name": "stderr",
     "output_type": "stream",
     "text": [
      "<ipython-input-136-eb2d041295b8>:18: FutureWarning: Using a non-tuple sequence for multidimensional indexing is deprecated; use `arr[tuple(seq)]` instead of `arr[seq]`. In the future this will be interpreted as an array index, `arr[np.array(seq)]`, which will result either in an error or a different result.\n",
      "  print('[[1,3],[9,11]]:',ary[[rowidx]][:,colidx])\n"
     ]
    }
   ],
   "source": [
    "ary=np.arange(1,13,1).reshape(3,4) # reshape()함수로 배열 형태 변환.\n",
    "aryInfo(ary)\n",
    "print(ary[:,[0,3]],\"\\n\")\n",
    "digitidx=[0,3]\n",
    "print(\"정수배열 인덱스 사용:\\n\",ary[:,digitidx])\n",
    "booleanidx=[True,False,False,True]\n",
    "print(\"boolean indexing 사용 \\n:\",ary[:,booleanidx])\n",
    "\n",
    "# 5만 가져와서 aryinfo확인\n",
    "aryInfo(ary[1:2,0:1]) # 2차원으로 나옴.\n",
    "aryInfo(ary[1,0]) # 요소로 나옴.\n",
    "\n",
    "print()\n",
    "print('[2 10]으로 가져오기:', ary[[0,2],1], ary[[0,2],1].ndim) # 1차원으로 꺼내기\n",
    "print('[[2][10]]으로 가져오기:', ary[[0,2],1:2],ary[[0,2],1:2].ndim) # 2차원으로 꺼내기\n",
    "rowidx=np.array([0,2])\n",
    "colidx=np.array([0,2])\n",
    "print('[[1,3],[9,11]]:',ary[[rowidx]][:,colidx])\n",
    "\n"
   ]
  },
  {
   "cell_type": "markdown",
   "id": "894ccab4",
   "metadata": {},
   "source": [
    "#### numpy datatype\n",
    "- dtype: b ->boolean, i -> integer, u -> 부호없는 정수, f->float, U->문자열"
   ]
  },
  {
   "cell_type": "code",
   "execution_count": 138,
   "id": "1a7741bf",
   "metadata": {},
   "outputs": [
    {
     "name": "stdout",
     "output_type": "stream",
     "text": [
      "type       :<class 'numpy.ndarray'>\n",
      "shape      :(4,)\n",
      "dimension  :1\n",
      "dtype      :<U1\n",
      "Array Data :\n",
      " ['1' '2' '3' '4']\n",
      "14\n"
     ]
    }
   ],
   "source": [
    "ary=np.array([1,2,3,4],dtype='U') # 데이터 타입:문자열\n",
    "aryInfo(ary)\n",
    "\n",
    "print(ary[0]+ary[3])"
   ]
  },
  {
   "cell_type": "markdown",
   "id": "068d5e2a",
   "metadata": {},
   "source": [
    "#### Inf & NaN\n",
    "- infinity\n",
    "- Not a Number"
   ]
  },
  {
   "cell_type": "code",
   "execution_count": 139,
   "id": "a174bbd7",
   "metadata": {},
   "outputs": [
    {
     "name": "stderr",
     "output_type": "stream",
     "text": [
      "<ipython-input-139-dc768ac6b521>:1: RuntimeWarning: divide by zero encountered in true_divide\n",
      "  np.array([0,1,-1,0])/np.array([1,0,0,0])\n",
      "<ipython-input-139-dc768ac6b521>:1: RuntimeWarning: invalid value encountered in true_divide\n",
      "  np.array([0,1,-1,0])/np.array([1,0,0,0])\n"
     ]
    },
    {
     "data": {
      "text/plain": [
       "array([  0.,  inf, -inf,  nan])"
      ]
     },
     "execution_count": 139,
     "metadata": {},
     "output_type": "execute_result"
    }
   ],
   "source": [
    "np.array([0,1,-1,0])/np.array([1,0,0,0])"
   ]
  },
  {
   "cell_type": "code",
   "execution_count": 140,
   "id": "5e83585f",
   "metadata": {},
   "outputs": [
    {
     "name": "stderr",
     "output_type": "stream",
     "text": [
      "<ipython-input-140-f6e7c0610b57>:1: RuntimeWarning: divide by zero encountered in log\n",
      "  np.log(0)\n"
     ]
    },
    {
     "data": {
      "text/plain": [
       "-inf"
      ]
     },
     "execution_count": 140,
     "metadata": {},
     "output_type": "execute_result"
    }
   ],
   "source": [
    "np.log(0)"
   ]
  },
  {
   "cell_type": "markdown",
   "id": "8108c8d1",
   "metadata": {},
   "source": [
    "#### 배열 생성 함수\n",
    "- array()\n",
    "- zeros(), ones(), zeros_like(), ones_like(), empty(), arrange(),linespace(),logspace()"
   ]
  },
  {
   "cell_type": "code",
   "execution_count": 149,
   "id": "41ee6603",
   "metadata": {
    "collapsed": true
   },
   "outputs": [
    {
     "name": "stdout",
     "output_type": "stream",
     "text": [
      "-----1차원-----\n",
      "type       :<class 'numpy.ndarray'>\n",
      "shape      :(5,)\n",
      "dimension  :1\n",
      "dtype      :int32\n",
      "Array Data :\n",
      " [0 0 0 0 0]\n",
      "\n",
      "-----2차원-----\n",
      "type       :<class 'numpy.ndarray'>\n",
      "shape      :(3, 4)\n",
      "dimension  :2\n",
      "dtype      :<U1\n",
      "Array Data :\n",
      " [['' '' '' '']\n",
      " ['' '' '' '']\n",
      " ['' '' '' '']]\n",
      "\n",
      "-----3차원-----\n",
      "type       :<class 'numpy.ndarray'>\n",
      "shape      :(2, 3, 4)\n",
      "dimension  :3\n",
      "dtype      :int32\n",
      "Array Data :\n",
      " [[[0 0 0 0]\n",
      "  [0 0 0 0]\n",
      "  [0 0 0 0]]\n",
      "\n",
      " [[0 0 0 0]\n",
      "  [0 0 0 0]\n",
      "  [0 0 0 0]]]\n"
     ]
    }
   ],
   "source": [
    "# 1차원\n",
    "print('-----1차원-----')\n",
    "zero= np.zeros(5,dtype='i') # 모든 요소의 값을 0으로 채워줌.\n",
    "aryInfo(zero)\n",
    "\n",
    "print()\n",
    "# 2차원\n",
    "print('-----2차원-----')\n",
    "zero1=np.zeros((3,4), dtype='U') # dtype을 문자열로 줄경우, 0은 NULL로 인식 \n",
    "aryInfo(zero1)\n",
    "\n",
    "print()\n",
    "# 3차원\n",
    "print('-----3차원-----')\n",
    "zero2=np.zeros((2,3,4),dtype='i')\n",
    "aryInfo(zero2)"
   ]
  },
  {
   "cell_type": "code",
   "execution_count": 146,
   "id": "cacd52a3",
   "metadata": {},
   "outputs": [
    {
     "name": "stdout",
     "output_type": "stream",
     "text": [
      "type       :<class 'numpy.ndarray'>\n",
      "shape      :(5,)\n",
      "dimension  :1\n",
      "dtype      :<U1\n",
      "Array Data :\n",
      " ['1' '1' '1' '1' '1']\n"
     ]
    }
   ],
   "source": [
    "one=np.ones(5, dtype='U') # 모든 요소의 값을 1로 채워줌.\n",
    "aryInfo(one)"
   ]
  },
  {
   "cell_type": "code",
   "execution_count": 152,
   "id": "92dd9ddf",
   "metadata": {},
   "outputs": [
    {
     "name": "stdout",
     "output_type": "stream",
     "text": [
      "type       :<class 'numpy.ndarray'>\n",
      "shape      :(5,)\n",
      "dimension  :1\n",
      "dtype      :int32\n",
      "Array Data :\n",
      " [0 0 0 0 0]\n"
     ]
    }
   ],
   "source": [
    "z_like=np.zeros_like(zero) # zeros()로 만들어준 배열을 그대로 copy할때\n",
    "aryInfo(z_like)"
   ]
  },
  {
   "cell_type": "code",
   "execution_count": 153,
   "id": "4f950abe",
   "metadata": {},
   "outputs": [
    {
     "name": "stdout",
     "output_type": "stream",
     "text": [
      "type       :<class 'numpy.ndarray'>\n",
      "shape      :(5,)\n",
      "dimension  :1\n",
      "dtype      :<U1\n",
      "Array Data :\n",
      " ['1' '1' '1' '1' '1']\n"
     ]
    }
   ],
   "source": [
    "o_like=np.ones_like(one) # ones()로 만들어준 배열을 그대로 copy할때\n",
    "aryInfo(o_like)"
   ]
  },
  {
   "cell_type": "code",
   "execution_count": 154,
   "id": "18c5d594",
   "metadata": {},
   "outputs": [
    {
     "name": "stdout",
     "output_type": "stream",
     "text": [
      "type       :<class 'numpy.ndarray'>\n",
      "shape      :(4, 3)\n",
      "dimension  :2\n",
      "dtype      :float64\n",
      "Array Data :\n",
      " [[1.06114615e-311 3.16202013e-322 0.00000000e+000]\n",
      " [0.00000000e+000 0.00000000e+000 1.37055580e-071]\n",
      " [2.21499697e+160 5.64602831e-038 5.74017190e+174]\n",
      " [1.05161866e-046 3.43833333e+179 1.72345756e-047]]\n"
     ]
    }
   ],
   "source": [
    "e=np.empty((4,3)) # 비어있는 배열이지만, 메모리의 주소값이 대신해서 들어가있는 형태가 출력된다.\n",
    "aryInfo(e)"
   ]
  },
  {
   "cell_type": "code",
   "execution_count": 159,
   "id": "b024998d",
   "metadata": {},
   "outputs": [
    {
     "data": {
      "text/plain": [
       "array([0, 1, 2, 3, 4, 5, 6, 7, 8, 9])"
      ]
     },
     "execution_count": 159,
     "metadata": {},
     "output_type": "execute_result"
    }
   ],
   "source": [
    "np.arange(0,10) # start...end-1"
   ]
  },
  {
   "cell_type": "code",
   "execution_count": 161,
   "id": "f194cbb3",
   "metadata": {},
   "outputs": [
    {
     "data": {
      "text/plain": [
       "array([[0],\n",
       "       [2],\n",
       "       [4],\n",
       "       [6],\n",
       "       [8]])"
      ]
     },
     "execution_count": 161,
     "metadata": {},
     "output_type": "execute_result"
    }
   ],
   "source": [
    "np.arange(0,10,2).reshape(5,1) # reshape()사용할때, 사이즈 맞춰줘야함. 사이즈 안맞추면 오류!"
   ]
  },
  {
   "cell_type": "code",
   "execution_count": 162,
   "id": "b3394117",
   "metadata": {},
   "outputs": [
    {
     "data": {
      "text/plain": [
       "array([  0.,  25.,  50.,  75., 100.])"
      ]
     },
     "execution_count": 162,
     "metadata": {},
     "output_type": "execute_result"
    }
   ],
   "source": [
    "np.linspace(0,100,5) # (시작값, 끝값, 개수)"
   ]
  },
  {
   "cell_type": "markdown",
   "id": "62423521",
   "metadata": {},
   "source": [
    "#### 전치행렬(transpose matrix)? 행렬의 행은 열ㄹ로 열은 행으로 바꾼 행렬을 의미한다.\n",
    "- T\n",
    "- transpose operation"
   ]
  },
  {
   "cell_type": "code",
   "execution_count": 164,
   "id": "4f7b6ff1",
   "metadata": {},
   "outputs": [
    {
     "name": "stdout",
     "output_type": "stream",
     "text": [
      "type       :<class 'numpy.ndarray'>\n",
      "shape      :(2, 3)\n",
      "dimension  :2\n",
      "dtype      :int32\n",
      "Array Data :\n",
      " [[1 2 3]\n",
      " [4 5 6]]\n"
     ]
    }
   ],
   "source": [
    "ary=np.arange(1,7).reshape(2,3)\n",
    "aryInfo(ary)"
   ]
  },
  {
   "cell_type": "code",
   "execution_count": 165,
   "id": "6df415c3",
   "metadata": {},
   "outputs": [
    {
     "name": "stdout",
     "output_type": "stream",
     "text": [
      "type       :<class 'numpy.ndarray'>\n",
      "shape      :(3, 2)\n",
      "dimension  :2\n",
      "dtype      :int32\n",
      "Array Data :\n",
      " [[1 4]\n",
      " [2 5]\n",
      " [3 6]]\n"
     ]
    }
   ],
   "source": [
    "ary_transpose=ary.T\n",
    "aryInfo(ary_transpose)"
   ]
  },
  {
   "cell_type": "code",
   "execution_count": 180,
   "id": "e4fe1bfb",
   "metadata": {},
   "outputs": [
    {
     "name": "stdout",
     "output_type": "stream",
     "text": [
      "type       :<class 'numpy.ndarray'>\n",
      "shape      :(10,)\n",
      "dimension  :1\n",
      "dtype      :int32\n",
      "Array Data :\n",
      " [0 1 2 3 4 5 6 7 8 9]\n",
      "1차원 배열에 대한 전치연산은 가능할까? [0 1 2 3 4 5 6 7 8 9] \n",
      "\n",
      ".T로는 불가능하다. 그래도 전치행렬로 바꿔본다면?\n",
      " [[0]\n",
      " [1]\n",
      " [2]\n",
      " [3]\n",
      " [4]\n",
      " [5]\n",
      " [6]\n",
      " [7]\n",
      " [8]\n",
      " [9]]\n"
     ]
    }
   ],
   "source": [
    "vec=np.arange(10)\n",
    "aryInfo(vec)\n",
    "print(\"1차원 배열에 대한 전치연산은 가능할까?\",vec.T,\"\\n\")\n",
    "vec_transpose=vec.reshape(1,10).T\n",
    "print(\".T로는 불가능하다. 그래도 전치행렬로 바꿔본다면?\\n\",vec_transpose)\n"
   ]
  },
  {
   "cell_type": "markdown",
   "id": "92330859",
   "metadata": {},
   "source": [
    "- 다차원 배열을 1차원으로 만들어야 한다면?\n",
    "- flatten()"
   ]
  },
  {
   "cell_type": "code",
   "execution_count": 182,
   "id": "8d1aa5fa",
   "metadata": {},
   "outputs": [
    {
     "name": "stdout",
     "output_type": "stream",
     "text": [
      "type       :<class 'numpy.ndarray'>\n",
      "shape      :(10,)\n",
      "dimension  :1\n",
      "dtype      :int32\n",
      "Array Data :\n",
      " [0 1 2 3 4 5 6 7 8 9]\n"
     ]
    }
   ],
   "source": [
    "aryInfo(vec_transpose.flatten())"
   ]
  },
  {
   "cell_type": "markdown",
   "id": "d67cd08b",
   "metadata": {},
   "source": [
    "- 배열 사용시 주의점(차원에 대한 주의가 필요함!)"
   ]
  },
  {
   "cell_type": "code",
   "execution_count": 188,
   "id": "5b743e71",
   "metadata": {},
   "outputs": [
    {
     "name": "stdout",
     "output_type": "stream",
     "text": [
      "type       :<class 'numpy.ndarray'>\n",
      "shape      :(10,)\n",
      "dimension  :1\n",
      "dtype      :int32\n",
      "Array Data :\n",
      " [0 1 2 3 4 5 6 7 8 9]\n",
      "\n",
      "-----reshape-----\n",
      "type       :<class 'numpy.ndarray'>\n",
      "shape      :(1, 10)\n",
      "dimension  :2\n",
      "dtype      :int32\n",
      "Array Data :\n",
      " [[0 1 2 3 4 5 6 7 8 9]]\n",
      "\n",
      "-----reshape-----\n",
      "type       :<class 'numpy.ndarray'>\n",
      "shape      :(10, 1)\n",
      "dimension  :2\n",
      "dtype      :int32\n",
      "Array Data :\n",
      " [[0]\n",
      " [1]\n",
      " [2]\n",
      " [3]\n",
      " [4]\n",
      " [5]\n",
      " [6]\n",
      " [7]\n",
      " [8]\n",
      " [9]]\n",
      "\n",
      "reshape이 아닌 차원증가를 위해서는: newaxis\n",
      "type       :<class 'numpy.ndarray'>\n",
      "shape      :(10, 1)\n",
      "dimension  :2\n",
      "dtype      :int32\n",
      "Array Data :\n",
      " [[0]\n",
      " [1]\n",
      " [2]\n",
      " [3]\n",
      " [4]\n",
      " [5]\n",
      " [6]\n",
      " [7]\n",
      " [8]\n",
      " [9]]\n",
      "type       :<class 'numpy.ndarray'>\n",
      "shape      :(1, 10)\n",
      "dimension  :2\n",
      "dtype      :int32\n",
      "Array Data :\n",
      " [[0 1 2 3 4 5 6 7 8 9]]\n"
     ]
    }
   ],
   "source": [
    "ary=np.arange(10)\n",
    "aryInfo(ary) # 1차원\n",
    "\n",
    "print()\n",
    "print('-----reshape-----')\n",
    "aryInfo(ary.reshape(1,10)) # 2차원\n",
    "\n",
    "print()\n",
    "print('-----reshape-----')\n",
    "aryInfo(ary.reshape(10,1)) # 2차원\n",
    "\n",
    "print()\n",
    "print('reshape이 아닌 차원증가를 위해서는: newaxis')\n",
    "aryInfo(ary[:,np.newaxis]) # 2차원\n",
    "aryInfo(ary[np.newaxis,:]) # 2차원"
   ]
  },
  {
   "cell_type": "markdown",
   "id": "6492a034",
   "metadata": {},
   "source": [
    "#### ndarray(배열) 모든 원소에 대해서 순차적으로 접근해야하는 경우\n",
    "- iternext(), finished"
   ]
  },
  {
   "cell_type": "code",
   "execution_count": 189,
   "id": "72e76792",
   "metadata": {},
   "outputs": [
    {
     "data": {
      "text/plain": [
       "array([0, 1, 2, 3, 4, 5, 6, 7, 8, 9])"
      ]
     },
     "execution_count": 189,
     "metadata": {},
     "output_type": "execute_result"
    }
   ],
   "source": [
    "ary = np.arange(10)\n",
    "ary"
   ]
  },
  {
   "cell_type": "code",
   "execution_count": 190,
   "id": "1874dd7d",
   "metadata": {},
   "outputs": [
    {
     "name": "stdout",
     "output_type": "stream",
     "text": [
      "0123456789"
     ]
    }
   ],
   "source": [
    "# 파이썬 문법 for문 활용한 경우\n",
    "for tmp in ary: \n",
    "    print(tmp,end='') "
   ]
  },
  {
   "cell_type": "code",
   "execution_count": 193,
   "id": "4b5987f7",
   "metadata": {},
   "outputs": [
    {
     "name": "stdout",
     "output_type": "stream",
     "text": [
      "1차원 ndarray에 대한 iterator\n",
      "0 1 2 3 4 5 6 7 8 9 "
     ]
    }
   ],
   "source": [
    "# numpy iternext() 활용한 경우\n",
    "print('1차원 ndarray에 대한 iterator')\n",
    "ite=np.nditer(ary,flags=['c_index'])\n",
    "while not ite.finished:\n",
    "    idx=ite.index\n",
    "    print(ary[idx],end=\" \")\n",
    "    ite.iternext()"
   ]
  },
  {
   "cell_type": "code",
   "execution_count": 194,
   "id": "386466a8",
   "metadata": {},
   "outputs": [
    {
     "name": "stdout",
     "output_type": "stream",
     "text": [
      "2차원 ndarray에 대한 iterator\n"
     ]
    },
    {
     "data": {
      "text/plain": [
       "array([[0, 1, 2, 3, 4],\n",
       "       [5, 6, 7, 8, 9]])"
      ]
     },
     "execution_count": 194,
     "metadata": {},
     "output_type": "execute_result"
    }
   ],
   "source": [
    "print('2차원 ndarray에 대한 iterator')\n",
    "ary=ary.reshape(2,5)\n",
    "ary"
   ]
  },
  {
   "cell_type": "code",
   "execution_count": 208,
   "id": "125d202b",
   "metadata": {
    "scrolled": true
   },
   "outputs": [
    {
     "name": "stdout",
     "output_type": "stream",
     "text": [
      "shape: (2, 5)\n",
      "row: 2\n",
      "col: 5\n",
      "\n",
      "파이썬 문법 for문 활용한 경우\n",
      "0 1 2 3 4 \n",
      "5 6 7 8 9 \n",
      "\n",
      "numpy iternext() 활용한 경우\n",
      "0 1 2 3 4 5 6 7 8 9 "
     ]
    }
   ],
   "source": [
    "print(\"shape:\",ary.shape)\n",
    "print(\"row:\",ary.shape[0])\n",
    "print(\"col:\",ary.shape[1])\n",
    "\n",
    "print()\n",
    "print(\"파이썬 문법 for문 활용한 경우\")\n",
    "for i in range(ary.shape[0]):\n",
    "    for j in range(ary.shape[1]):\n",
    "        print(ary[i][j],end=\" \")\n",
    "    print()\n",
    "    \n",
    "print()\n",
    "print(\"numpy iternext() 활용한 경우\")\n",
    "ite= np.nditer(ary, flags=['multi_index'])\n",
    "\n",
    "while not ite.finished: # multi index라서 2*5로 표현X\n",
    "    idx=ite.multi_index\n",
    "    print(ary[idx],end=' ')\n",
    "    ite.iternext()"
   ]
  },
  {
   "cell_type": "code",
   "execution_count": null,
   "id": "9cf38856",
   "metadata": {},
   "outputs": [],
   "source": []
  }
 ],
 "metadata": {
  "kernelspec": {
   "display_name": "Python 3",
   "language": "python",
   "name": "python3"
  },
  "language_info": {
   "codemirror_mode": {
    "name": "ipython",
    "version": 3
   },
   "file_extension": ".py",
   "mimetype": "text/x-python",
   "name": "python",
   "nbconvert_exporter": "python",
   "pygments_lexer": "ipython3",
   "version": "3.8.8"
  }
 },
 "nbformat": 4,
 "nbformat_minor": 5
}
