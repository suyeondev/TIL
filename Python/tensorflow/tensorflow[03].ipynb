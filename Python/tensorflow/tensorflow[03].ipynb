{
  "nbformat": 4,
  "nbformat_minor": 0,
  "metadata": {
    "colab": {
      "name": "tensorflow[03].ipynb",
      "provenance": [],
      "collapsed_sections": []
    },
    "kernelspec": {
      "name": "python3",
      "display_name": "Python 3"
    },
    "language_info": {
      "name": "python"
    }
  },
  "cells": [
    {
      "cell_type": "markdown",
      "metadata": {
        "id": "vUMRioBlPmds"
      },
      "source": [
        "# 합성곱신경망 - Convolutional Neural Network\n",
        "- 합성곱레이어(Conv2D) - 풀링레이어(MaxPooling2D) - Flatten - Full Connect  "
      ]
    },
    {
      "cell_type": "code",
      "metadata": {
        "id": "Y8pKGwdRbG2S"
      },
      "source": [
        "from tensorflow.keras.models     import Sequential \n",
        "from tensorflow.keras.layers     import Activation , Dense , BatchNormalization , Dropout, Conv2D, MaxPooling2D, AveragePooling2D, GlobalMaxPooling2D,ZeroPadding2D, Flatten, Input\n",
        "from tensorflow.keras.optimizers import SGD , Adam\n",
        "from tensorflow.keras.utils      import plot_model , to_categorical\n",
        "from tensorflow.keras.callbacks  import EarlyStopping , ModelCheckpoint\n",
        "\n",
        "from tensorflow.keras.wrappers.scikit_learn import KerasClassifier\n",
        "\n",
        "\n",
        "from sklearn.model_selection     import train_test_split\n",
        "from sklearn.preprocessing       import StandardScaler , MinMaxScaler , LabelEncoder\n",
        "from sklearn.datasets            import load_breast_cancer\n",
        "from sklearn.model_selection     import KFold\n",
        "from sklearn.ensemble            import VotingClassifier\n",
        "from sklearn.metrics             import accuracy_score\n",
        "\n",
        "\n",
        "\n",
        "import matplotlib.pyplot as plt\n",
        "\n",
        "import pandas  as pd\n",
        "import numpy   as np\n",
        "import seaborn as sns\n",
        "\n",
        "# dataset\n",
        "from tensorflow.keras.datasets.mnist import load_data\n",
        "from sklearn.datasets                import load_digits"
      ],
      "execution_count": 1,
      "outputs": []
    },
    {
      "cell_type": "code",
      "metadata": {
        "colab": {
          "base_uri": "https://localhost:8080/"
        },
        "id": "yuKma_xscOAl",
        "outputId": "76f5e221-f828-4a59-b5e1-006a2c273392"
      },
      "source": [
        "# 데이터 불러오기\n",
        "data = load_digits()\n",
        "data.keys()"
      ],
      "execution_count": 44,
      "outputs": [
        {
          "output_type": "execute_result",
          "data": {
            "text/plain": [
              "dict_keys(['data', 'target', 'target_names', 'images', 'DESCR'])"
            ]
          },
          "metadata": {},
          "execution_count": 44
        }
      ]
    },
    {
      "cell_type": "code",
      "metadata": {
        "colab": {
          "base_uri": "https://localhost:8080/",
          "height": 282
        },
        "id": "qN3Tli5vcN6X",
        "outputId": "732b87a8-281c-43f5-c1ac-65579478ad3b"
      },
      "source": [
        "plt.figure()\n",
        "plt.imshow(data.images[0])\n",
        "plt.show()\n",
        "print('target : ', data.target[0])"
      ],
      "execution_count": 45,
      "outputs": [
        {
          "output_type": "display_data",
          "data": {
            "image/png": "[encoded data removed]",
            "text/plain": [
              "<Figure size 432x288 with 1 Axes>"
            ]
          },
          "metadata": {
            "needs_background": "light"
          }
        },
        {
          "output_type": "stream",
          "name": "stdout",
          "text": [
            "target :  0\n"
          ]
        }
      ]
    },
    {
      "cell_type": "code",
      "metadata": {
        "colab": {
          "base_uri": "https://localhost:8080/"
        },
        "id": "L9UXAe-IcN1w",
        "outputId": "f37be7bb-e43e-484d-9642-10052d2fc91d"
      },
      "source": [
        "data.data"
      ],
      "execution_count": 46,
      "outputs": [
        {
          "output_type": "execute_result",
          "data": {
            "text/plain": [
              "array([[ 0.,  0.,  5., ...,  0.,  0.,  0.],\n",
              "       [ 0.,  0.,  0., ..., 10.,  0.,  0.],\n",
              "       [ 0.,  0.,  0., ..., 16.,  9.,  0.],\n",
              "       ...,\n",
              "       [ 0.,  0.,  1., ...,  6.,  0.,  0.],\n",
              "       [ 0.,  0.,  2., ..., 12.,  0.,  0.],\n",
              "       [ 0.,  0., 10., ..., 12.,  1.,  0.]])"
            ]
          },
          "metadata": {},
          "execution_count": 46
        }
      ]
    },
    {
      "cell_type": "code",
      "metadata": {
        "colab": {
          "base_uri": "https://localhost:8080/"
        },
        "id": "SnKru3bdcNPz",
        "outputId": "ecd6c6d2-7e23-4e1a-8966-3b72eebfb176"
      },
      "source": [
        "X_data = data.images\n",
        "y_data = data.target\n",
        "\n",
        "X_data.shape, y_data.shape"
      ],
      "execution_count": 47,
      "outputs": [
        {
          "output_type": "execute_result",
          "data": {
            "text/plain": [
              "((1797, 8, 8), (1797,))"
            ]
          },
          "metadata": {},
          "execution_count": 47
        }
      ]
    },
    {
      "cell_type": "code",
      "metadata": {
        "colab": {
          "base_uri": "https://localhost:8080/"
        },
        "id": "H-rd4PQEcNLz",
        "outputId": "e5ab8e4e-e529-49a8-c3ee-079483b1c28e"
      },
      "source": [
        "X_data.shape[0],X_data.shape[1],X_data.shape[2]"
      ],
      "execution_count": 48,
      "outputs": [
        {
          "output_type": "execute_result",
          "data": {
            "text/plain": [
              "(1797, 8, 8)"
            ]
          },
          "metadata": {},
          "execution_count": 48
        }
      ]
    },
    {
      "cell_type": "code",
      "metadata": {
        "colab": {
          "base_uri": "https://localhost:8080/"
        },
        "id": "kmFHu27ocNHy",
        "outputId": "1eccad6c-c950-4674-a25f-ddb89ee84504"
      },
      "source": [
        "X_data = X_data.reshape(X_data.shape[0], X_data.shape[1], X_data.shape[2],1)\n",
        "X_data.shape"
      ],
      "execution_count": 49,
      "outputs": [
        {
          "output_type": "execute_result",
          "data": {
            "text/plain": [
              "(1797, 8, 8, 1)"
            ]
          },
          "metadata": {},
          "execution_count": 49
        }
      ]
    },
    {
      "cell_type": "markdown",
      "metadata": {
        "id": "MyYncVetos4A"
      },
      "source": [
        "마지막 1은 흑백이라는 의미! 3일때는 컬러라는 의미\n"
      ]
    },
    {
      "cell_type": "code",
      "metadata": {
        "colab": {
          "base_uri": "https://localhost:8080/"
        },
        "id": "oT7kHDFmcND4",
        "outputId": "dc8b647e-da8b-4e30-ce06-d9b6b76378c5"
      },
      "source": [
        "# 원-핫 인코딩\n",
        "y_data = to_categorical(y_data)\n",
        "y_data[0]"
      ],
      "execution_count": 50,
      "outputs": [
        {
          "output_type": "execute_result",
          "data": {
            "text/plain": [
              "array([1., 0., 0., 0., 0., 0., 0., 0., 0., 0.], dtype=float32)"
            ]
          },
          "metadata": {},
          "execution_count": 50
        }
      ]
    },
    {
      "cell_type": "code",
      "metadata": {
        "colab": {
          "base_uri": "https://localhost:8080/"
        },
        "id": "XJkArVCocNAK",
        "outputId": "6afe484c-77e3-4405-f9bb-c8b8710bcdf8"
      },
      "source": [
        "# 데이터 분리\n",
        "X_train, X_test, y_train, y_test = train_test_split(X_data, y_data, test_size=0.2, random_state = 111)\n",
        "X_train.shape, X_test.shape, y_train.shape, y_test.shape"
      ],
      "execution_count": 51,
      "outputs": [
        {
          "output_type": "execute_result",
          "data": {
            "text/plain": [
              "((1437, 8, 8, 1), (360, 8, 8, 1), (1437, 10), (360, 10))"
            ]
          },
          "metadata": {},
          "execution_count": 51
        }
      ]
    },
    {
      "cell_type": "code",
      "metadata": {
        "id": "H-npAryocM7s"
      },
      "source": [
        "# 모델 생성\n",
        "model = Sequential()"
      ],
      "execution_count": 52,
      "outputs": []
    },
    {
      "cell_type": "code",
      "metadata": {
        "colab": {
          "base_uri": "https://localhost:8080/"
        },
        "id": "8LIwD7PAcM4t",
        "outputId": "fe37f374-565d-4035-f5c8-de454da58835"
      },
      "source": [
        "# cnn은 입력층 대신에 합성곱레이어가 필요! \n",
        "# cnn이라 활성함수는 relu\n",
        "# padding='same' : 패딩을 하겠다는 의미\n",
        "# padding='valid' : 패딩을 안하겠다는 의미\n",
        "model.add(Conv2D(input_shape = (X_data.shape[1], X_data.shape[2],X_data.shape[3]), kernel_size = (3,3), strides = (1,1),filters = 10, padding = 'valid', activation = 'relu'))\n",
        "print('shape : ', model.output_shape)"
      ],
      "execution_count": 53,
      "outputs": [
        {
          "output_type": "stream",
          "name": "stdout",
          "text": [
            "shape :  (None, 6, 6, 10)\n"
          ]
        }
      ]
    },
    {
      "cell_type": "code",
      "metadata": {
        "colab": {
          "base_uri": "https://localhost:8080/"
        },
        "id": "NlrToJheioES",
        "outputId": "aef55c62-187d-46b9-d7f2-ad62c6ce5bb7"
      },
      "source": [
        "# 풀링레이어 만들기\n",
        "model.add(MaxPooling2D(pool_size=(2,2),padding='valid'))\n",
        "print('shape : ', model.output_shape)"
      ],
      "execution_count": 54,
      "outputs": [
        {
          "output_type": "stream",
          "name": "stdout",
          "text": [
            "shape :  (None, 3, 3, 10)\n"
          ]
        }
      ]
    },
    {
      "cell_type": "code",
      "metadata": {
        "id": "qs7_8Os7in35"
      },
      "source": [
        "model.add(Flatten())\n",
        "model.add(Dense(50, activation = 'relu'))\n",
        "model.add(Dense(10, activation = 'softmax'))"
      ],
      "execution_count": 55,
      "outputs": []
    },
    {
      "cell_type": "code",
      "metadata": {
        "colab": {
          "base_uri": "https://localhost:8080/"
        },
        "id": "Hd_0GYpxkEFz",
        "outputId": "98264fd5-b376-428d-dd88-04d7d06625e4"
      },
      "source": [
        "model.summary()"
      ],
      "execution_count": 56,
      "outputs": [
        {
          "output_type": "stream",
          "name": "stdout",
          "text": [
            "Model: \"sequential_4\"\n",
            "_________________________________________________________________\n",
            "Layer (type)                 Output Shape              Param #   \n",
            "=================================================================\n",
            "conv2d_12 (Conv2D)           (None, 6, 6, 10)          100       \n",
            "_________________________________________________________________\n",
            "max_pooling2d_6 (MaxPooling2 (None, 3, 3, 10)          0         \n",
            "_________________________________________________________________\n",
            "flatten_4 (Flatten)          (None, 90)                0         \n",
            "_________________________________________________________________\n",
            "dense_8 (Dense)              (None, 50)                4550      \n",
            "_________________________________________________________________\n",
            "dense_9 (Dense)              (None, 10)                510       \n",
            "=================================================================\n",
            "Total params: 5,160\n",
            "Trainable params: 5,160\n",
            "Non-trainable params: 0\n",
            "_________________________________________________________________\n"
          ]
        }
      ]
    },
    {
      "cell_type": "code",
      "metadata": {
        "id": "SQACCAOIkHA0"
      },
      "source": [
        "# 컴파일하기\n",
        "model.compile(optimizer = Adam(learning_rate=0.01),\n",
        "              loss ='categorical_crossentropy',\n",
        "              metrics = ['accuracy'])"
      ],
      "execution_count": 57,
      "outputs": []
    },
    {
      "cell_type": "code",
      "metadata": {
        "colab": {
          "base_uri": "https://localhost:8080/"
        },
        "id": "tBMzwnwjkHMm",
        "outputId": "adc3eca0-1d99-4c67-c8e1-e1d626ef0545"
      },
      "source": [
        "# 학습시키기\n",
        "model_history = model.fit(X_train, y_train, batch_size=50, validation_split=0.3, epochs=100, verbose=1)"
      ],
      "execution_count": 58,
      "outputs": [
        {
          "output_type": "stream",
          "name": "stdout",
          "text": [
            "Epoch 1/100\n",
            "21/21 [==============================] - 1s 10ms/step - loss: 1.9616 - accuracy: 0.4925 - val_loss: 0.6828 - val_accuracy: 0.8449\n",
            "Epoch 2/100\n",
            "21/21 [==============================] - 0s 4ms/step - loss: 0.4288 - accuracy: 0.8726 - val_loss: 0.3494 - val_accuracy: 0.8819\n",
            "Epoch 3/100\n",
            "21/21 [==============================] - 0s 6ms/step - loss: 0.2103 - accuracy: 0.9204 - val_loss: 0.2246 - val_accuracy: 0.9144\n",
            "Epoch 4/100\n",
            "21/21 [==============================] - 0s 4ms/step - loss: 0.0964 - accuracy: 0.9731 - val_loss: 0.1540 - val_accuracy: 0.9468\n",
            "Epoch 5/100\n",
            "21/21 [==============================] - 0s 4ms/step - loss: 0.1112 - accuracy: 0.9662 - val_loss: 0.1663 - val_accuracy: 0.9491\n",
            "Epoch 6/100\n",
            "21/21 [==============================] - 0s 4ms/step - loss: 0.0772 - accuracy: 0.9761 - val_loss: 0.2112 - val_accuracy: 0.9329\n",
            "Epoch 7/100\n",
            "21/21 [==============================] - 0s 3ms/step - loss: 0.0551 - accuracy: 0.9831 - val_loss: 0.1716 - val_accuracy: 0.9514\n",
            "Epoch 8/100\n",
            "21/21 [==============================] - 0s 3ms/step - loss: 0.1013 - accuracy: 0.9672 - val_loss: 0.1956 - val_accuracy: 0.9444\n",
            "Epoch 9/100\n",
            "21/21 [==============================] - 0s 4ms/step - loss: 0.0420 - accuracy: 0.9861 - val_loss: 0.1248 - val_accuracy: 0.9653\n",
            "Epoch 10/100\n",
            "21/21 [==============================] - 0s 4ms/step - loss: 0.0233 - accuracy: 0.9920 - val_loss: 0.1229 - val_accuracy: 0.9606\n",
            "Epoch 11/100\n",
            "21/21 [==============================] - 0s 4ms/step - loss: 0.0130 - accuracy: 0.9990 - val_loss: 0.1185 - val_accuracy: 0.9560\n",
            "Epoch 12/100\n",
            "21/21 [==============================] - 0s 4ms/step - loss: 0.0092 - accuracy: 0.9990 - val_loss: 0.1348 - val_accuracy: 0.9606\n",
            "Epoch 13/100\n",
            "21/21 [==============================] - 0s 4ms/step - loss: 0.0086 - accuracy: 0.9990 - val_loss: 0.1098 - val_accuracy: 0.9583\n",
            "Epoch 14/100\n",
            "21/21 [==============================] - 0s 4ms/step - loss: 0.0060 - accuracy: 1.0000 - val_loss: 0.0954 - val_accuracy: 0.9583\n",
            "Epoch 15/100\n",
            "21/21 [==============================] - 0s 4ms/step - loss: 0.0055 - accuracy: 0.9990 - val_loss: 0.0931 - val_accuracy: 0.9630\n",
            "Epoch 16/100\n",
            "21/21 [==============================] - 0s 3ms/step - loss: 0.0027 - accuracy: 1.0000 - val_loss: 0.0945 - val_accuracy: 0.9630\n",
            "Epoch 17/100\n",
            "21/21 [==============================] - 0s 3ms/step - loss: 0.0020 - accuracy: 1.0000 - val_loss: 0.0929 - val_accuracy: 0.9606\n",
            "Epoch 18/100\n",
            "21/21 [==============================] - 0s 4ms/step - loss: 0.0017 - accuracy: 1.0000 - val_loss: 0.0916 - val_accuracy: 0.9676\n",
            "Epoch 19/100\n",
            "21/21 [==============================] - 0s 4ms/step - loss: 0.0015 - accuracy: 1.0000 - val_loss: 0.0887 - val_accuracy: 0.9606\n",
            "Epoch 20/100\n",
            "21/21 [==============================] - 0s 3ms/step - loss: 0.0014 - accuracy: 1.0000 - val_loss: 0.0893 - val_accuracy: 0.9653\n",
            "Epoch 21/100\n",
            "21/21 [==============================] - 0s 4ms/step - loss: 0.0013 - accuracy: 1.0000 - val_loss: 0.0876 - val_accuracy: 0.9676\n",
            "Epoch 22/100\n",
            "21/21 [==============================] - 0s 4ms/step - loss: 0.0011 - accuracy: 1.0000 - val_loss: 0.0876 - val_accuracy: 0.9653\n",
            "Epoch 23/100\n",
            "21/21 [==============================] - 0s 3ms/step - loss: 0.0017 - accuracy: 1.0000 - val_loss: 0.0936 - val_accuracy: 0.9676\n",
            "Epoch 24/100\n",
            "21/21 [==============================] - 0s 4ms/step - loss: 0.0011 - accuracy: 1.0000 - val_loss: 0.0878 - val_accuracy: 0.9676\n",
            "Epoch 25/100\n",
            "21/21 [==============================] - 0s 4ms/step - loss: 9.1466e-04 - accuracy: 1.0000 - val_loss: 0.0876 - val_accuracy: 0.9676\n",
            "Epoch 26/100\n",
            "21/21 [==============================] - 0s 4ms/step - loss: 8.2485e-04 - accuracy: 1.0000 - val_loss: 0.0879 - val_accuracy: 0.9676\n",
            "Epoch 27/100\n",
            "21/21 [==============================] - 0s 3ms/step - loss: 7.6379e-04 - accuracy: 1.0000 - val_loss: 0.0878 - val_accuracy: 0.9676\n",
            "Epoch 28/100\n",
            "21/21 [==============================] - 0s 4ms/step - loss: 7.1679e-04 - accuracy: 1.0000 - val_loss: 0.0875 - val_accuracy: 0.9676\n",
            "Epoch 29/100\n",
            "21/21 [==============================] - 0s 4ms/step - loss: 6.7865e-04 - accuracy: 1.0000 - val_loss: 0.0880 - val_accuracy: 0.9676\n",
            "Epoch 30/100\n",
            "21/21 [==============================] - 0s 4ms/step - loss: 6.4454e-04 - accuracy: 1.0000 - val_loss: 0.0874 - val_accuracy: 0.9653\n",
            "Epoch 31/100\n",
            "21/21 [==============================] - 0s 4ms/step - loss: 6.1526e-04 - accuracy: 1.0000 - val_loss: 0.0885 - val_accuracy: 0.9653\n",
            "Epoch 32/100\n",
            "21/21 [==============================] - 0s 4ms/step - loss: 5.8336e-04 - accuracy: 1.0000 - val_loss: 0.0879 - val_accuracy: 0.9676\n",
            "Epoch 33/100\n",
            "21/21 [==============================] - 0s 4ms/step - loss: 5.4108e-04 - accuracy: 1.0000 - val_loss: 0.0882 - val_accuracy: 0.9653\n",
            "Epoch 34/100\n",
            "21/21 [==============================] - 0s 3ms/step - loss: 8.6656e-04 - accuracy: 1.0000 - val_loss: 0.0913 - val_accuracy: 0.9722\n",
            "Epoch 35/100\n",
            "21/21 [==============================] - 0s 4ms/step - loss: 6.9231e-04 - accuracy: 1.0000 - val_loss: 0.0931 - val_accuracy: 0.9676\n",
            "Epoch 36/100\n",
            "21/21 [==============================] - 0s 3ms/step - loss: 5.5562e-04 - accuracy: 1.0000 - val_loss: 0.0890 - val_accuracy: 0.9699\n",
            "Epoch 37/100\n",
            "21/21 [==============================] - 0s 3ms/step - loss: 4.5432e-04 - accuracy: 1.0000 - val_loss: 0.0892 - val_accuracy: 0.9676\n",
            "Epoch 38/100\n",
            "21/21 [==============================] - 0s 3ms/step - loss: 4.2098e-04 - accuracy: 1.0000 - val_loss: 0.0899 - val_accuracy: 0.9653\n",
            "Epoch 39/100\n",
            "21/21 [==============================] - 0s 4ms/step - loss: 3.9678e-04 - accuracy: 1.0000 - val_loss: 0.0889 - val_accuracy: 0.9653\n",
            "Epoch 40/100\n",
            "21/21 [==============================] - 0s 4ms/step - loss: 3.7075e-04 - accuracy: 1.0000 - val_loss: 0.0894 - val_accuracy: 0.9653\n",
            "Epoch 41/100\n",
            "21/21 [==============================] - 0s 3ms/step - loss: 3.5298e-04 - accuracy: 1.0000 - val_loss: 0.0882 - val_accuracy: 0.9653\n",
            "Epoch 42/100\n",
            "21/21 [==============================] - 0s 4ms/step - loss: 4.4177e-04 - accuracy: 1.0000 - val_loss: 0.0906 - val_accuracy: 0.9630\n",
            "Epoch 43/100\n",
            "21/21 [==============================] - 0s 4ms/step - loss: 4.4573e-04 - accuracy: 1.0000 - val_loss: 0.0891 - val_accuracy: 0.9653\n",
            "Epoch 44/100\n",
            "21/21 [==============================] - 0s 4ms/step - loss: 3.2068e-04 - accuracy: 1.0000 - val_loss: 0.0873 - val_accuracy: 0.9699\n",
            "Epoch 45/100\n",
            "21/21 [==============================] - 0s 3ms/step - loss: 3.2046e-04 - accuracy: 1.0000 - val_loss: 0.0888 - val_accuracy: 0.9653\n",
            "Epoch 46/100\n",
            "21/21 [==============================] - 0s 3ms/step - loss: 2.8664e-04 - accuracy: 1.0000 - val_loss: 0.0886 - val_accuracy: 0.9653\n",
            "Epoch 47/100\n",
            "21/21 [==============================] - 0s 4ms/step - loss: 2.7018e-04 - accuracy: 1.0000 - val_loss: 0.0888 - val_accuracy: 0.9676\n",
            "Epoch 48/100\n",
            "21/21 [==============================] - 0s 3ms/step - loss: 4.3412e-04 - accuracy: 1.0000 - val_loss: 0.0964 - val_accuracy: 0.9676\n",
            "Epoch 49/100\n",
            "21/21 [==============================] - 0s 4ms/step - loss: 3.4118e-04 - accuracy: 1.0000 - val_loss: 0.0916 - val_accuracy: 0.9676\n",
            "Epoch 50/100\n",
            "21/21 [==============================] - 0s 4ms/step - loss: 2.5495e-04 - accuracy: 1.0000 - val_loss: 0.0902 - val_accuracy: 0.9676\n",
            "Epoch 51/100\n",
            "21/21 [==============================] - 0s 4ms/step - loss: 2.2778e-04 - accuracy: 1.0000 - val_loss: 0.0901 - val_accuracy: 0.9676\n",
            "Epoch 52/100\n",
            "21/21 [==============================] - 0s 4ms/step - loss: 2.2145e-04 - accuracy: 1.0000 - val_loss: 0.0903 - val_accuracy: 0.9653\n",
            "Epoch 53/100\n",
            "21/21 [==============================] - 0s 4ms/step - loss: 2.1446e-04 - accuracy: 1.0000 - val_loss: 0.0904 - val_accuracy: 0.9630\n",
            "Epoch 54/100\n",
            "21/21 [==============================] - 0s 4ms/step - loss: 2.0134e-04 - accuracy: 1.0000 - val_loss: 0.0903 - val_accuracy: 0.9653\n",
            "Epoch 55/100\n",
            "21/21 [==============================] - 0s 4ms/step - loss: 1.9571e-04 - accuracy: 1.0000 - val_loss: 0.0899 - val_accuracy: 0.9630\n",
            "Epoch 56/100\n",
            "21/21 [==============================] - 0s 4ms/step - loss: 1.8926e-04 - accuracy: 1.0000 - val_loss: 0.0902 - val_accuracy: 0.9653\n",
            "Epoch 57/100\n",
            "21/21 [==============================] - 0s 3ms/step - loss: 1.8358e-04 - accuracy: 1.0000 - val_loss: 0.0907 - val_accuracy: 0.9630\n",
            "Epoch 58/100\n",
            "21/21 [==============================] - 0s 4ms/step - loss: 1.8842e-04 - accuracy: 1.0000 - val_loss: 0.0899 - val_accuracy: 0.9653\n",
            "Epoch 59/100\n",
            "21/21 [==============================] - 0s 4ms/step - loss: 1.7585e-04 - accuracy: 1.0000 - val_loss: 0.0900 - val_accuracy: 0.9653\n",
            "Epoch 60/100\n",
            "21/21 [==============================] - 0s 4ms/step - loss: 1.6653e-04 - accuracy: 1.0000 - val_loss: 0.0901 - val_accuracy: 0.9676\n",
            "Epoch 61/100\n",
            "21/21 [==============================] - 0s 3ms/step - loss: 1.6101e-04 - accuracy: 1.0000 - val_loss: 0.0906 - val_accuracy: 0.9653\n",
            "Epoch 62/100\n",
            "21/21 [==============================] - 0s 4ms/step - loss: 1.5638e-04 - accuracy: 1.0000 - val_loss: 0.0903 - val_accuracy: 0.9676\n",
            "Epoch 63/100\n",
            "21/21 [==============================] - 0s 4ms/step - loss: 1.5177e-04 - accuracy: 1.0000 - val_loss: 0.0908 - val_accuracy: 0.9676\n",
            "Epoch 64/100\n",
            "21/21 [==============================] - 0s 4ms/step - loss: 1.4774e-04 - accuracy: 1.0000 - val_loss: 0.0914 - val_accuracy: 0.9653\n",
            "Epoch 65/100\n",
            "21/21 [==============================] - 0s 3ms/step - loss: 1.4279e-04 - accuracy: 1.0000 - val_loss: 0.0910 - val_accuracy: 0.9676\n",
            "Epoch 66/100\n",
            "21/21 [==============================] - 0s 4ms/step - loss: 1.3847e-04 - accuracy: 1.0000 - val_loss: 0.0908 - val_accuracy: 0.9676\n",
            "Epoch 67/100\n",
            "21/21 [==============================] - 0s 3ms/step - loss: 1.3377e-04 - accuracy: 1.0000 - val_loss: 0.0906 - val_accuracy: 0.9676\n",
            "Epoch 68/100\n",
            "21/21 [==============================] - 0s 4ms/step - loss: 1.4692e-04 - accuracy: 1.0000 - val_loss: 0.0885 - val_accuracy: 0.9722\n",
            "Epoch 69/100\n",
            "21/21 [==============================] - 0s 3ms/step - loss: 1.3232e-04 - accuracy: 1.0000 - val_loss: 0.0895 - val_accuracy: 0.9699\n",
            "Epoch 70/100\n",
            "21/21 [==============================] - 0s 3ms/step - loss: 1.2462e-04 - accuracy: 1.0000 - val_loss: 0.0904 - val_accuracy: 0.9699\n",
            "Epoch 71/100\n",
            "21/21 [==============================] - 0s 4ms/step - loss: 1.2016e-04 - accuracy: 1.0000 - val_loss: 0.0902 - val_accuracy: 0.9699\n",
            "Epoch 72/100\n",
            "21/21 [==============================] - 0s 4ms/step - loss: 1.1714e-04 - accuracy: 1.0000 - val_loss: 0.0907 - val_accuracy: 0.9699\n",
            "Epoch 73/100\n",
            "21/21 [==============================] - 0s 4ms/step - loss: 1.1408e-04 - accuracy: 1.0000 - val_loss: 0.0911 - val_accuracy: 0.9676\n",
            "Epoch 74/100\n",
            "21/21 [==============================] - 0s 5ms/step - loss: 1.1109e-04 - accuracy: 1.0000 - val_loss: 0.0910 - val_accuracy: 0.9676\n",
            "Epoch 75/100\n",
            "21/21 [==============================] - 0s 4ms/step - loss: 1.0777e-04 - accuracy: 1.0000 - val_loss: 0.0909 - val_accuracy: 0.9676\n",
            "Epoch 76/100\n",
            "21/21 [==============================] - 0s 4ms/step - loss: 1.0580e-04 - accuracy: 1.0000 - val_loss: 0.0910 - val_accuracy: 0.9676\n",
            "Epoch 77/100\n",
            "21/21 [==============================] - 0s 4ms/step - loss: 1.0389e-04 - accuracy: 1.0000 - val_loss: 0.0913 - val_accuracy: 0.9676\n",
            "Epoch 78/100\n",
            "21/21 [==============================] - 0s 4ms/step - loss: 1.0149e-04 - accuracy: 1.0000 - val_loss: 0.0922 - val_accuracy: 0.9676\n",
            "Epoch 79/100\n",
            "21/21 [==============================] - 0s 4ms/step - loss: 9.8595e-05 - accuracy: 1.0000 - val_loss: 0.0915 - val_accuracy: 0.9676\n",
            "Epoch 80/100\n",
            "21/21 [==============================] - 0s 3ms/step - loss: 9.6404e-05 - accuracy: 1.0000 - val_loss: 0.0921 - val_accuracy: 0.9676\n",
            "Epoch 81/100\n",
            "21/21 [==============================] - 0s 4ms/step - loss: 9.4522e-05 - accuracy: 1.0000 - val_loss: 0.0943 - val_accuracy: 0.9653\n",
            "Epoch 82/100\n",
            "21/21 [==============================] - 0s 4ms/step - loss: 9.0864e-05 - accuracy: 1.0000 - val_loss: 0.0929 - val_accuracy: 0.9676\n",
            "Epoch 83/100\n",
            "21/21 [==============================] - 0s 4ms/step - loss: 8.8554e-05 - accuracy: 1.0000 - val_loss: 0.0927 - val_accuracy: 0.9653\n",
            "Epoch 84/100\n",
            "21/21 [==============================] - 0s 3ms/step - loss: 8.7064e-05 - accuracy: 1.0000 - val_loss: 0.0917 - val_accuracy: 0.9653\n",
            "Epoch 85/100\n",
            "21/21 [==============================] - 0s 4ms/step - loss: 8.6892e-05 - accuracy: 1.0000 - val_loss: 0.0922 - val_accuracy: 0.9653\n",
            "Epoch 86/100\n",
            "21/21 [==============================] - 0s 4ms/step - loss: 8.2150e-05 - accuracy: 1.0000 - val_loss: 0.0926 - val_accuracy: 0.9699\n",
            "Epoch 87/100\n",
            "21/21 [==============================] - 0s 4ms/step - loss: 8.0649e-05 - accuracy: 1.0000 - val_loss: 0.0925 - val_accuracy: 0.9676\n",
            "Epoch 88/100\n",
            "21/21 [==============================] - 0s 5ms/step - loss: 7.9039e-05 - accuracy: 1.0000 - val_loss: 0.0923 - val_accuracy: 0.9699\n",
            "Epoch 89/100\n",
            "21/21 [==============================] - 0s 3ms/step - loss: 7.8495e-05 - accuracy: 1.0000 - val_loss: 0.0921 - val_accuracy: 0.9676\n",
            "Epoch 90/100\n",
            "21/21 [==============================] - 0s 4ms/step - loss: 7.9750e-05 - accuracy: 1.0000 - val_loss: 0.0918 - val_accuracy: 0.9699\n",
            "Epoch 91/100\n",
            "21/21 [==============================] - 0s 4ms/step - loss: 7.2556e-05 - accuracy: 1.0000 - val_loss: 0.0929 - val_accuracy: 0.9699\n",
            "Epoch 92/100\n",
            "21/21 [==============================] - 0s 4ms/step - loss: 7.5045e-05 - accuracy: 1.0000 - val_loss: 0.0934 - val_accuracy: 0.9676\n",
            "Epoch 93/100\n",
            "21/21 [==============================] - 0s 4ms/step - loss: 7.0927e-05 - accuracy: 1.0000 - val_loss: 0.0929 - val_accuracy: 0.9676\n",
            "Epoch 94/100\n",
            "21/21 [==============================] - 0s 4ms/step - loss: 6.9395e-05 - accuracy: 1.0000 - val_loss: 0.0965 - val_accuracy: 0.9676\n",
            "Epoch 95/100\n",
            "21/21 [==============================] - 0s 3ms/step - loss: 6.8284e-05 - accuracy: 1.0000 - val_loss: 0.0954 - val_accuracy: 0.9676\n",
            "Epoch 96/100\n",
            "21/21 [==============================] - 0s 4ms/step - loss: 6.4385e-05 - accuracy: 1.0000 - val_loss: 0.0935 - val_accuracy: 0.9699\n",
            "Epoch 97/100\n",
            "21/21 [==============================] - 0s 4ms/step - loss: 6.4086e-05 - accuracy: 1.0000 - val_loss: 0.0941 - val_accuracy: 0.9699\n",
            "Epoch 98/100\n",
            "21/21 [==============================] - 0s 3ms/step - loss: 6.2380e-05 - accuracy: 1.0000 - val_loss: 0.0933 - val_accuracy: 0.9699\n",
            "Epoch 99/100\n",
            "21/21 [==============================] - 0s 3ms/step - loss: 6.0833e-05 - accuracy: 1.0000 - val_loss: 0.0936 - val_accuracy: 0.9699\n",
            "Epoch 100/100\n",
            "21/21 [==============================] - 0s 4ms/step - loss: 5.9991e-05 - accuracy: 1.0000 - val_loss: 0.0937 - val_accuracy: 0.9699\n"
          ]
        }
      ]
    },
    {
      "cell_type": "code",
      "metadata": {
        "colab": {
          "base_uri": "https://localhost:8080/",
          "height": 334
        },
        "id": "PSMz_cAqkHPf",
        "outputId": "8fdbbc1c-f8e6-40a9-9b79-fe7e9cf034cd"
      },
      "source": [
        "# 모델 성능 시각화\n",
        "plt. figure(figsize = (15,5))\n",
        "\n",
        "plt.plot(model_history.history['accuracy'])\n",
        "plt.plot(model_history.history['val_accuracy'])\n",
        "plt.legend(['training', 'validation'], loc = 'best')\n",
        "plt.xlabel('Epoch')\n",
        "plt.ylabel('accuracy')\n",
        "\n",
        "plt.show()\n",
        "plt.close()"
      ],
      "execution_count": 59,
      "outputs": [
        {
          "output_type": "display_data",
          "data": {
            "image/png": "[encoded data removed]",
            "text/plain": [
              "<Figure size 1080x360 with 1 Axes>"
            ]
          },
          "metadata": {
            "needs_background": "light"
          }
        }
      ]
    },
    {
      "cell_type": "code",
      "metadata": {
        "colab": {
          "base_uri": "https://localhost:8080/"
        },
        "id": "NUwQpQrZkHUY",
        "outputId": "a257fd28-7e5e-400f-d04f-c1d53e7ad4bf"
      },
      "source": [
        "model_eval = model.evaluate(X_test,y_test)\n",
        "print(model_eval[1])"
      ],
      "execution_count": 60,
      "outputs": [
        {
          "output_type": "stream",
          "name": "stdout",
          "text": [
            "12/12 [==============================] - 0s 1ms/step - loss: 0.3001 - accuracy: 0.9472\n",
            "0.9472222328186035\n"
          ]
        }
      ]
    },
    {
      "cell_type": "markdown",
      "metadata": {
        "id": "2MJ8wxOTPmkd"
      },
      "source": [
        "Deep CNN"
      ]
    },
    {
      "cell_type": "code",
      "metadata": {
        "id": "06yWZC0Mq2YC"
      },
      "source": [
        "def digit_deep_cnn():\n",
        "  model = Sequential() # 모델생성\n",
        "  \n",
        "  model.add(Conv2D(input_shape = (X_data.shape[1], X_data.shape[2],X_data.shape[3]), kernel_size = (3,3), strides = (1,1),filters = 10, padding = 'same', activation = 'relu'))# 합성곱 입력층 생성\n",
        "  model.add(Conv2D(kernel_size = (3,3), strides = (1,1),filters = 50, padding = 'same', activation = 'relu'))\n",
        "  model.add(Conv2D(kernel_size = (3,3), strides = (1,1),filters = 50, padding = 'same', activation = 'relu'))\n",
        "  model.add(Conv2D(kernel_size = (3,3), strides = (1,1),filters = 50, padding = 'same', activation = 'relu'))\n",
        "\n",
        "  model.add(MaxPooling2D(pool_size=(2,2), padding = 'same')) # pooling\n",
        "  \n",
        "  model.add(Conv2D(kernel_size = (3,3), strides = (1,1),filters = 50, padding = 'same', activation = 'relu'))\n",
        "  model.add(Conv2D(kernel_size = (3,3), strides = (1,1),filters = 50, padding = 'same', activation = 'relu'))\n",
        "\n",
        "  model.add(MaxPooling2D(pool_size=(2,2), padding = 'same')) # pooling\n",
        "\n",
        "  model.add(Flatten())\n",
        "  model.add(Dense(50, activation = 'relu'))\n",
        "  model.add(Dense(10, activation = 'softmax'))\n",
        "\n",
        "  model.compile(optimizer = Adam(learning_rate=0.01),\n",
        "              loss ='categorical_crossentropy',\n",
        "              metrics = ['accuracy'])\n",
        "  return model"
      ],
      "execution_count": 61,
      "outputs": []
    },
    {
      "cell_type": "code",
      "metadata": {
        "colab": {
          "base_uri": "https://localhost:8080/"
        },
        "id": "HGEBk7bIseln",
        "outputId": "5137c77e-f322-40b3-f154-7f9f0f84b1fe"
      },
      "source": [
        "model =digit_deep_cnn()\n",
        "model.summary()"
      ],
      "execution_count": 62,
      "outputs": [
        {
          "output_type": "stream",
          "name": "stdout",
          "text": [
            "Model: \"sequential_5\"\n",
            "_________________________________________________________________\n",
            "Layer (type)                 Output Shape              Param #   \n",
            "=================================================================\n",
            "conv2d_13 (Conv2D)           (None, 8, 8, 10)          100       \n",
            "_________________________________________________________________\n",
            "conv2d_14 (Conv2D)           (None, 8, 8, 50)          4550      \n",
            "_________________________________________________________________\n",
            "conv2d_15 (Conv2D)           (None, 8, 8, 50)          22550     \n",
            "_________________________________________________________________\n",
            "conv2d_16 (Conv2D)           (None, 8, 8, 50)          22550     \n",
            "_________________________________________________________________\n",
            "max_pooling2d_7 (MaxPooling2 (None, 4, 4, 50)          0         \n",
            "_________________________________________________________________\n",
            "conv2d_17 (Conv2D)           (None, 4, 4, 50)          22550     \n",
            "_________________________________________________________________\n",
            "conv2d_18 (Conv2D)           (None, 4, 4, 50)          22550     \n",
            "_________________________________________________________________\n",
            "max_pooling2d_8 (MaxPooling2 (None, 2, 2, 50)          0         \n",
            "_________________________________________________________________\n",
            "flatten_5 (Flatten)          (None, 200)               0         \n",
            "_________________________________________________________________\n",
            "dense_10 (Dense)             (None, 50)                10050     \n",
            "_________________________________________________________________\n",
            "dense_11 (Dense)             (None, 10)                510       \n",
            "=================================================================\n",
            "Total params: 105,410\n",
            "Trainable params: 105,410\n",
            "Non-trainable params: 0\n",
            "_________________________________________________________________\n"
          ]
        }
      ]
    },
    {
      "cell_type": "code",
      "metadata": {
        "colab": {
          "base_uri": "https://localhost:8080/"
        },
        "id": "2MUlO9KGsedi",
        "outputId": "581fcce2-3aed-4be9-9f0a-86482e9a75cd"
      },
      "source": [
        "# 학습시키기\n",
        "model_history = model.fit(X_train, y_train, batch_size=50, validation_split=0.3, epochs=100, verbose=1)"
      ],
      "execution_count": 63,
      "outputs": [
        {
          "output_type": "stream",
          "name": "stdout",
          "text": [
            "Epoch 1/100\n",
            "21/21 [==============================] - 2s 59ms/step - loss: 2.3512 - accuracy: 0.1234 - val_loss: 2.1493 - val_accuracy: 0.1991\n",
            "Epoch 2/100\n",
            "21/21 [==============================] - 1s 49ms/step - loss: 1.5366 - accuracy: 0.4338 - val_loss: 0.9204 - val_accuracy: 0.6968\n",
            "Epoch 3/100\n",
            "21/21 [==============================] - 1s 48ms/step - loss: 0.6160 - accuracy: 0.7990 - val_loss: 0.3997 - val_accuracy: 0.8704\n",
            "Epoch 4/100\n",
            "21/21 [==============================] - 1s 47ms/step - loss: 0.2513 - accuracy: 0.9164 - val_loss: 0.2836 - val_accuracy: 0.9236\n",
            "Epoch 5/100\n",
            "21/21 [==============================] - 1s 48ms/step - loss: 0.2679 - accuracy: 0.9214 - val_loss: 0.5161 - val_accuracy: 0.8657\n",
            "Epoch 6/100\n",
            "21/21 [==============================] - 1s 48ms/step - loss: 0.2154 - accuracy: 0.9284 - val_loss: 0.2117 - val_accuracy: 0.9398\n",
            "Epoch 7/100\n",
            "21/21 [==============================] - 1s 49ms/step - loss: 0.1344 - accuracy: 0.9572 - val_loss: 0.1861 - val_accuracy: 0.9352\n",
            "Epoch 8/100\n",
            "21/21 [==============================] - 1s 49ms/step - loss: 0.0521 - accuracy: 0.9801 - val_loss: 0.1976 - val_accuracy: 0.9606\n",
            "Epoch 9/100\n",
            "21/21 [==============================] - 1s 48ms/step - loss: 0.0500 - accuracy: 0.9851 - val_loss: 0.2203 - val_accuracy: 0.9398\n",
            "Epoch 10/100\n",
            "21/21 [==============================] - 1s 49ms/step - loss: 0.0507 - accuracy: 0.9861 - val_loss: 0.2867 - val_accuracy: 0.9375\n",
            "Epoch 11/100\n",
            "21/21 [==============================] - 1s 49ms/step - loss: 0.0515 - accuracy: 0.9881 - val_loss: 0.1503 - val_accuracy: 0.9676\n",
            "Epoch 12/100\n",
            "21/21 [==============================] - 1s 48ms/step - loss: 0.0467 - accuracy: 0.9851 - val_loss: 0.7813 - val_accuracy: 0.8981\n",
            "Epoch 13/100\n",
            "21/21 [==============================] - 1s 48ms/step - loss: 0.3319 - accuracy: 0.9015 - val_loss: 0.5291 - val_accuracy: 0.8611\n",
            "Epoch 14/100\n",
            "21/21 [==============================] - 1s 48ms/step - loss: 0.1518 - accuracy: 0.9512 - val_loss: 0.5378 - val_accuracy: 0.9097\n",
            "Epoch 15/100\n",
            "21/21 [==============================] - 1s 48ms/step - loss: 0.2328 - accuracy: 0.9463 - val_loss: 0.2890 - val_accuracy: 0.9329\n",
            "Epoch 16/100\n",
            "21/21 [==============================] - 1s 48ms/step - loss: 0.2214 - accuracy: 0.9323 - val_loss: 0.2954 - val_accuracy: 0.9306\n",
            "Epoch 17/100\n",
            "21/21 [==============================] - 1s 48ms/step - loss: 0.1611 - accuracy: 0.9602 - val_loss: 0.1373 - val_accuracy: 0.9606\n",
            "Epoch 18/100\n",
            "21/21 [==============================] - 1s 48ms/step - loss: 0.1297 - accuracy: 0.9612 - val_loss: 0.4148 - val_accuracy: 0.9190\n",
            "Epoch 19/100\n",
            "21/21 [==============================] - 1s 49ms/step - loss: 0.2137 - accuracy: 0.9363 - val_loss: 0.3500 - val_accuracy: 0.9282\n",
            "Epoch 20/100\n",
            "21/21 [==============================] - 1s 48ms/step - loss: 0.2854 - accuracy: 0.9353 - val_loss: 0.2903 - val_accuracy: 0.9120\n",
            "Epoch 21/100\n",
            "21/21 [==============================] - 1s 48ms/step - loss: 0.1267 - accuracy: 0.9662 - val_loss: 0.1895 - val_accuracy: 0.9491\n",
            "Epoch 22/100\n",
            "21/21 [==============================] - 1s 48ms/step - loss: 0.0417 - accuracy: 0.9891 - val_loss: 0.0995 - val_accuracy: 0.9792\n",
            "Epoch 23/100\n",
            "21/21 [==============================] - 1s 48ms/step - loss: 0.0186 - accuracy: 0.9930 - val_loss: 0.1667 - val_accuracy: 0.9606\n",
            "Epoch 24/100\n",
            "21/21 [==============================] - 1s 48ms/step - loss: 0.0485 - accuracy: 0.9861 - val_loss: 0.1233 - val_accuracy: 0.9722\n",
            "Epoch 25/100\n",
            "21/21 [==============================] - 1s 48ms/step - loss: 0.0145 - accuracy: 0.9970 - val_loss: 0.1028 - val_accuracy: 0.9722\n",
            "Epoch 26/100\n",
            "21/21 [==============================] - 1s 48ms/step - loss: 0.0114 - accuracy: 0.9970 - val_loss: 0.1542 - val_accuracy: 0.9676\n",
            "Epoch 27/100\n",
            "21/21 [==============================] - 1s 49ms/step - loss: 0.0026 - accuracy: 0.9990 - val_loss: 0.0829 - val_accuracy: 0.9769\n",
            "Epoch 28/100\n",
            "21/21 [==============================] - 1s 51ms/step - loss: 0.0017 - accuracy: 0.9990 - val_loss: 0.1374 - val_accuracy: 0.9769\n",
            "Epoch 29/100\n",
            "21/21 [==============================] - 1s 49ms/step - loss: 7.8152e-04 - accuracy: 1.0000 - val_loss: 0.0680 - val_accuracy: 0.9792\n",
            "Epoch 30/100\n",
            "21/21 [==============================] - 1s 49ms/step - loss: 5.8192e-04 - accuracy: 1.0000 - val_loss: 0.0595 - val_accuracy: 0.9792\n",
            "Epoch 31/100\n",
            "21/21 [==============================] - 1s 49ms/step - loss: 1.0583e-04 - accuracy: 1.0000 - val_loss: 0.0612 - val_accuracy: 0.9769\n",
            "Epoch 32/100\n",
            "21/21 [==============================] - 1s 48ms/step - loss: 4.6439e-05 - accuracy: 1.0000 - val_loss: 0.0626 - val_accuracy: 0.9769\n",
            "Epoch 33/100\n",
            "21/21 [==============================] - 1s 49ms/step - loss: 3.9359e-05 - accuracy: 1.0000 - val_loss: 0.0635 - val_accuracy: 0.9769\n",
            "Epoch 34/100\n",
            "21/21 [==============================] - 1s 49ms/step - loss: 3.4224e-05 - accuracy: 1.0000 - val_loss: 0.0643 - val_accuracy: 0.9769\n",
            "Epoch 35/100\n",
            "21/21 [==============================] - 1s 48ms/step - loss: 3.0699e-05 - accuracy: 1.0000 - val_loss: 0.0650 - val_accuracy: 0.9769\n",
            "Epoch 36/100\n",
            "21/21 [==============================] - 1s 48ms/step - loss: 2.7624e-05 - accuracy: 1.0000 - val_loss: 0.0655 - val_accuracy: 0.9769\n",
            "Epoch 37/100\n",
            "21/21 [==============================] - 1s 49ms/step - loss: 2.5185e-05 - accuracy: 1.0000 - val_loss: 0.0659 - val_accuracy: 0.9769\n",
            "Epoch 38/100\n",
            "21/21 [==============================] - 1s 49ms/step - loss: 2.3261e-05 - accuracy: 1.0000 - val_loss: 0.0664 - val_accuracy: 0.9769\n",
            "Epoch 39/100\n",
            "21/21 [==============================] - 1s 50ms/step - loss: 2.1457e-05 - accuracy: 1.0000 - val_loss: 0.0668 - val_accuracy: 0.9769\n",
            "Epoch 40/100\n",
            "21/21 [==============================] - 1s 48ms/step - loss: 2.0015e-05 - accuracy: 1.0000 - val_loss: 0.0670 - val_accuracy: 0.9769\n",
            "Epoch 41/100\n",
            "21/21 [==============================] - 1s 48ms/step - loss: 1.8666e-05 - accuracy: 1.0000 - val_loss: 0.0673 - val_accuracy: 0.9769\n",
            "Epoch 42/100\n",
            "21/21 [==============================] - 1s 48ms/step - loss: 1.7526e-05 - accuracy: 1.0000 - val_loss: 0.0676 - val_accuracy: 0.9769\n",
            "Epoch 43/100\n",
            "21/21 [==============================] - 1s 48ms/step - loss: 1.6431e-05 - accuracy: 1.0000 - val_loss: 0.0678 - val_accuracy: 0.9769\n",
            "Epoch 44/100\n",
            "21/21 [==============================] - 1s 48ms/step - loss: 1.5615e-05 - accuracy: 1.0000 - val_loss: 0.0681 - val_accuracy: 0.9769\n",
            "Epoch 45/100\n",
            "21/21 [==============================] - 1s 48ms/step - loss: 1.4749e-05 - accuracy: 1.0000 - val_loss: 0.0683 - val_accuracy: 0.9769\n",
            "Epoch 46/100\n",
            "21/21 [==============================] - 1s 48ms/step - loss: 1.3926e-05 - accuracy: 1.0000 - val_loss: 0.0685 - val_accuracy: 0.9769\n",
            "Epoch 47/100\n",
            "21/21 [==============================] - 1s 49ms/step - loss: 1.3221e-05 - accuracy: 1.0000 - val_loss: 0.0688 - val_accuracy: 0.9769\n",
            "Epoch 48/100\n",
            "21/21 [==============================] - 1s 48ms/step - loss: 1.2615e-05 - accuracy: 1.0000 - val_loss: 0.0690 - val_accuracy: 0.9769\n",
            "Epoch 49/100\n",
            "21/21 [==============================] - 1s 48ms/step - loss: 1.2102e-05 - accuracy: 1.0000 - val_loss: 0.0692 - val_accuracy: 0.9769\n",
            "Epoch 50/100\n",
            "21/21 [==============================] - 1s 48ms/step - loss: 1.1494e-05 - accuracy: 1.0000 - val_loss: 0.0694 - val_accuracy: 0.9769\n",
            "Epoch 51/100\n",
            "21/21 [==============================] - 1s 48ms/step - loss: 1.1038e-05 - accuracy: 1.0000 - val_loss: 0.0695 - val_accuracy: 0.9769\n",
            "Epoch 52/100\n",
            "21/21 [==============================] - 1s 48ms/step - loss: 1.0572e-05 - accuracy: 1.0000 - val_loss: 0.0698 - val_accuracy: 0.9769\n",
            "Epoch 53/100\n",
            "21/21 [==============================] - 1s 49ms/step - loss: 1.0137e-05 - accuracy: 1.0000 - val_loss: 0.0700 - val_accuracy: 0.9769\n",
            "Epoch 54/100\n",
            "21/21 [==============================] - 1s 49ms/step - loss: 9.7502e-06 - accuracy: 1.0000 - val_loss: 0.0701 - val_accuracy: 0.9769\n",
            "Epoch 55/100\n",
            "21/21 [==============================] - 1s 48ms/step - loss: 9.3803e-06 - accuracy: 1.0000 - val_loss: 0.0703 - val_accuracy: 0.9769\n",
            "Epoch 56/100\n",
            "21/21 [==============================] - 1s 48ms/step - loss: 9.0508e-06 - accuracy: 1.0000 - val_loss: 0.0705 - val_accuracy: 0.9769\n",
            "Epoch 57/100\n",
            "21/21 [==============================] - 1s 49ms/step - loss: 8.6933e-06 - accuracy: 1.0000 - val_loss: 0.0706 - val_accuracy: 0.9769\n",
            "Epoch 58/100\n",
            "21/21 [==============================] - 1s 49ms/step - loss: 8.3811e-06 - accuracy: 1.0000 - val_loss: 0.0708 - val_accuracy: 0.9769\n",
            "Epoch 59/100\n",
            "21/21 [==============================] - 1s 50ms/step - loss: 8.0548e-06 - accuracy: 1.0000 - val_loss: 0.0710 - val_accuracy: 0.9769\n",
            "Epoch 60/100\n",
            "21/21 [==============================] - 1s 50ms/step - loss: 7.7920e-06 - accuracy: 1.0000 - val_loss: 0.0711 - val_accuracy: 0.9769\n",
            "Epoch 61/100\n",
            "21/21 [==============================] - 1s 51ms/step - loss: 7.5123e-06 - accuracy: 1.0000 - val_loss: 0.0712 - val_accuracy: 0.9769\n",
            "Epoch 62/100\n",
            "21/21 [==============================] - 1s 49ms/step - loss: 7.2785e-06 - accuracy: 1.0000 - val_loss: 0.0714 - val_accuracy: 0.9769\n",
            "Epoch 63/100\n",
            "21/21 [==============================] - 1s 49ms/step - loss: 7.0414e-06 - accuracy: 1.0000 - val_loss: 0.0715 - val_accuracy: 0.9769\n",
            "Epoch 64/100\n",
            "21/21 [==============================] - 1s 48ms/step - loss: 6.8219e-06 - accuracy: 1.0000 - val_loss: 0.0716 - val_accuracy: 0.9769\n",
            "Epoch 65/100\n",
            "21/21 [==============================] - 1s 49ms/step - loss: 6.6197e-06 - accuracy: 1.0000 - val_loss: 0.0717 - val_accuracy: 0.9769\n",
            "Epoch 66/100\n",
            "21/21 [==============================] - 1s 49ms/step - loss: 6.4128e-06 - accuracy: 1.0000 - val_loss: 0.0718 - val_accuracy: 0.9769\n",
            "Epoch 67/100\n",
            "21/21 [==============================] - 1s 50ms/step - loss: 6.2216e-06 - accuracy: 1.0000 - val_loss: 0.0720 - val_accuracy: 0.9769\n",
            "Epoch 68/100\n",
            "21/21 [==============================] - 1s 49ms/step - loss: 6.0515e-06 - accuracy: 1.0000 - val_loss: 0.0721 - val_accuracy: 0.9769\n",
            "Epoch 69/100\n",
            "21/21 [==============================] - 1s 50ms/step - loss: 5.8635e-06 - accuracy: 1.0000 - val_loss: 0.0722 - val_accuracy: 0.9769\n",
            "Epoch 70/100\n",
            "21/21 [==============================] - 1s 50ms/step - loss: 5.7157e-06 - accuracy: 1.0000 - val_loss: 0.0723 - val_accuracy: 0.9769\n",
            "Epoch 71/100\n",
            "21/21 [==============================] - 1s 50ms/step - loss: 5.5343e-06 - accuracy: 1.0000 - val_loss: 0.0724 - val_accuracy: 0.9769\n",
            "Epoch 72/100\n",
            "21/21 [==============================] - 1s 49ms/step - loss: 5.3826e-06 - accuracy: 1.0000 - val_loss: 0.0725 - val_accuracy: 0.9769\n",
            "Epoch 73/100\n",
            "21/21 [==============================] - 1s 50ms/step - loss: 5.2322e-06 - accuracy: 1.0000 - val_loss: 0.0726 - val_accuracy: 0.9769\n",
            "Epoch 74/100\n",
            "21/21 [==============================] - 1s 50ms/step - loss: 5.0901e-06 - accuracy: 1.0000 - val_loss: 0.0728 - val_accuracy: 0.9769\n",
            "Epoch 75/100\n",
            "21/21 [==============================] - 1s 48ms/step - loss: 4.9572e-06 - accuracy: 1.0000 - val_loss: 0.0728 - val_accuracy: 0.9769\n",
            "Epoch 76/100\n",
            "21/21 [==============================] - 1s 49ms/step - loss: 4.8362e-06 - accuracy: 1.0000 - val_loss: 0.0729 - val_accuracy: 0.9769\n",
            "Epoch 77/100\n",
            "21/21 [==============================] - 1s 49ms/step - loss: 4.7022e-06 - accuracy: 1.0000 - val_loss: 0.0730 - val_accuracy: 0.9769\n",
            "Epoch 78/100\n",
            "21/21 [==============================] - 1s 50ms/step - loss: 4.5928e-06 - accuracy: 1.0000 - val_loss: 0.0731 - val_accuracy: 0.9769\n",
            "Epoch 79/100\n",
            "21/21 [==============================] - 1s 50ms/step - loss: 4.4701e-06 - accuracy: 1.0000 - val_loss: 0.0732 - val_accuracy: 0.9769\n",
            "Epoch 80/100\n",
            "21/21 [==============================] - 1s 51ms/step - loss: 4.3566e-06 - accuracy: 1.0000 - val_loss: 0.0733 - val_accuracy: 0.9769\n",
            "Epoch 81/100\n",
            "21/21 [==============================] - 1s 49ms/step - loss: 4.2465e-06 - accuracy: 1.0000 - val_loss: 0.0734 - val_accuracy: 0.9769\n",
            "Epoch 82/100\n",
            "21/21 [==============================] - 1s 50ms/step - loss: 4.1408e-06 - accuracy: 1.0000 - val_loss: 0.0735 - val_accuracy: 0.9769\n",
            "Epoch 83/100\n",
            "21/21 [==============================] - 1s 49ms/step - loss: 4.0460e-06 - accuracy: 1.0000 - val_loss: 0.0736 - val_accuracy: 0.9769\n",
            "Epoch 84/100\n",
            "21/21 [==============================] - 1s 49ms/step - loss: 3.9490e-06 - accuracy: 1.0000 - val_loss: 0.0737 - val_accuracy: 0.9769\n",
            "Epoch 85/100\n",
            "21/21 [==============================] - 1s 51ms/step - loss: 3.8605e-06 - accuracy: 1.0000 - val_loss: 0.0738 - val_accuracy: 0.9769\n",
            "Epoch 86/100\n",
            "21/21 [==============================] - 1s 49ms/step - loss: 3.7688e-06 - accuracy: 1.0000 - val_loss: 0.0739 - val_accuracy: 0.9769\n",
            "Epoch 87/100\n",
            "21/21 [==============================] - 1s 49ms/step - loss: 3.6850e-06 - accuracy: 1.0000 - val_loss: 0.0739 - val_accuracy: 0.9769\n",
            "Epoch 88/100\n",
            "21/21 [==============================] - 1s 48ms/step - loss: 3.6030e-06 - accuracy: 1.0000 - val_loss: 0.0741 - val_accuracy: 0.9769\n",
            "Epoch 89/100\n",
            "21/21 [==============================] - 1s 49ms/step - loss: 3.5175e-06 - accuracy: 1.0000 - val_loss: 0.0741 - val_accuracy: 0.9769\n",
            "Epoch 90/100\n",
            "21/21 [==============================] - 1s 51ms/step - loss: 3.4422e-06 - accuracy: 1.0000 - val_loss: 0.0742 - val_accuracy: 0.9769\n",
            "Epoch 91/100\n",
            "21/21 [==============================] - 1s 49ms/step - loss: 3.3664e-06 - accuracy: 1.0000 - val_loss: 0.0743 - val_accuracy: 0.9769\n",
            "Epoch 92/100\n",
            "21/21 [==============================] - 1s 49ms/step - loss: 3.2920e-06 - accuracy: 1.0000 - val_loss: 0.0744 - val_accuracy: 0.9769\n",
            "Epoch 93/100\n",
            "21/21 [==============================] - 1s 49ms/step - loss: 3.2191e-06 - accuracy: 1.0000 - val_loss: 0.0745 - val_accuracy: 0.9769\n",
            "Epoch 94/100\n",
            "21/21 [==============================] - 1s 49ms/step - loss: 3.1482e-06 - accuracy: 1.0000 - val_loss: 0.0746 - val_accuracy: 0.9769\n",
            "Epoch 95/100\n",
            "21/21 [==============================] - 1s 49ms/step - loss: 3.0836e-06 - accuracy: 1.0000 - val_loss: 0.0747 - val_accuracy: 0.9769\n",
            "Epoch 96/100\n",
            "21/21 [==============================] - 1s 50ms/step - loss: 3.0109e-06 - accuracy: 1.0000 - val_loss: 0.0748 - val_accuracy: 0.9769\n",
            "Epoch 97/100\n",
            "21/21 [==============================] - 1s 51ms/step - loss: 2.9409e-06 - accuracy: 1.0000 - val_loss: 0.0749 - val_accuracy: 0.9769\n",
            "Epoch 98/100\n",
            "21/21 [==============================] - 1s 50ms/step - loss: 2.8747e-06 - accuracy: 1.0000 - val_loss: 0.0749 - val_accuracy: 0.9769\n",
            "Epoch 99/100\n",
            "21/21 [==============================] - 1s 50ms/step - loss: 2.8184e-06 - accuracy: 1.0000 - val_loss: 0.0750 - val_accuracy: 0.9769\n",
            "Epoch 100/100\n",
            "21/21 [==============================] - 1s 52ms/step - loss: 2.7595e-06 - accuracy: 1.0000 - val_loss: 0.0751 - val_accuracy: 0.9769\n"
          ]
        }
      ]
    },
    {
      "cell_type": "code",
      "metadata": {
        "colab": {
          "base_uri": "https://localhost:8080/",
          "height": 334
        },
        "id": "FIqh9tCNseYT",
        "outputId": "11617633-3552-413f-b685-d4eae191b43d"
      },
      "source": [
        "# 모델 성능 시각화\n",
        "plt. figure(figsize = (15,5))\n",
        "\n",
        "plt.plot(model_history.history['accuracy'])\n",
        "plt.plot(model_history.history['val_accuracy'])\n",
        "plt.legend(['training', 'validation'], loc = 'best')\n",
        "plt.xlabel('Epoch')\n",
        "plt.ylabel('accuracy')\n",
        "\n",
        "plt.show()\n",
        "plt.close()"
      ],
      "execution_count": 64,
      "outputs": [
        {
          "output_type": "display_data",
          "data": {
            "image/png": "[encoded data removed]",
            "text/plain": [
              "<Figure size 1080x360 with 1 Axes>"
            ]
          },
          "metadata": {
            "needs_background": "light"
          }
        }
      ]
    },
    {
      "cell_type": "code",
      "metadata": {
        "colab": {
          "base_uri": "https://localhost:8080/"
        },
        "id": "woo8vKrZseUA",
        "outputId": "9428c5b7-7af9-4607-eae3-0cbeb9d4740a"
      },
      "source": [
        "model_eval = model.evaluate(X_test,y_test)\n",
        "print(model_eval[1])"
      ],
      "execution_count": 65,
      "outputs": [
        {
          "output_type": "stream",
          "name": "stdout",
          "text": [
            "12/12 [==============================] - 0s 10ms/step - loss: 0.1637 - accuracy: 0.9806\n",
            "0.980555534362793\n"
          ]
        }
      ]
    },
    {
      "cell_type": "code",
      "metadata": {
        "id": "5pt0VGA1seQ0"
      },
      "source": [
        "def digit_improve_deep_cnn():\n",
        "  model = Sequential() # 모델생성\n",
        "  \n",
        "  model.add(Conv2D(input_shape = (X_data.shape[1], X_data.shape[2],X_data.shape[3]), kernel_size = (3,3), strides = (1,1),filters = 10, padding = 'same'))# 합성곱 입력층 생성\n",
        "  model.add(BatchNormalization())\n",
        "  model.add(Activation('relu'))\n",
        "  \n",
        "\n",
        "  model.add(Conv2D(kernel_size = (3,3), strides = (1,1),filters = 50, padding = 'same', activation = 'relu'))\n",
        "  model.add(BatchNormalization())\n",
        "  model.add(Activation('relu'))\n",
        "\n",
        "  model.add(MaxPooling2D(pool_size=(2,2), padding = 'same')) # pooling\n",
        "  \n",
        "  model.add(Conv2D(kernel_size = (3,3), strides = (1,1),filters = 50, padding = 'same', activation = 'relu'))\n",
        "  model.add(BatchNormalization())\n",
        "  model.add(Activation('relu'))\n",
        "\n",
        "  model.add(Conv2D(kernel_size = (3,3), strides = (1,1),filters = 50, padding = 'same', activation = 'relu'))\n",
        "  model.add(BatchNormalization())\n",
        "  model.add(Activation('relu'))\n",
        "\n",
        "  model.add(MaxPooling2D(pool_size=(2,2), padding = 'same')) # pooling\n",
        "\n",
        "  model.add(Flatten())\n",
        "  model.add(Dense(50, activation = 'relu' , kernel_initializer='he_normal'))\n",
        "  model.add(Dropout(0.5))\n",
        "\n",
        "  model.add(Dense(10, activation = 'softmax', kernel_initializer='he_normal'))\n",
        "\n",
        "  model.compile(optimizer = Adam(learning_rate=0.01),\n",
        "              loss ='categorical_crossentropy',\n",
        "              metrics = ['accuracy'])\n",
        "  return model"
      ],
      "execution_count": 66,
      "outputs": []
    },
    {
      "cell_type": "code",
      "metadata": {
        "colab": {
          "base_uri": "https://localhost:8080/"
        },
        "id": "Kq3PAa2hu7XH",
        "outputId": "1d2fdc45-dea3-44d4-e252-1d74e8d9da1a"
      },
      "source": [
        "model = digit_improve_deep_cnn()\n",
        "model.summary()"
      ],
      "execution_count": 67,
      "outputs": [
        {
          "output_type": "stream",
          "name": "stdout",
          "text": [
            "Model: \"sequential_6\"\n",
            "_________________________________________________________________\n",
            "Layer (type)                 Output Shape              Param #   \n",
            "=================================================================\n",
            "conv2d_19 (Conv2D)           (None, 8, 8, 10)          100       \n",
            "_________________________________________________________________\n",
            "batch_normalization_4 (Batch (None, 8, 8, 10)          40        \n",
            "_________________________________________________________________\n",
            "activation_4 (Activation)    (None, 8, 8, 10)          0         \n",
            "_________________________________________________________________\n",
            "conv2d_20 (Conv2D)           (None, 8, 8, 50)          4550      \n",
            "_________________________________________________________________\n",
            "batch_normalization_5 (Batch (None, 8, 8, 50)          200       \n",
            "_________________________________________________________________\n",
            "activation_5 (Activation)    (None, 8, 8, 50)          0         \n",
            "_________________________________________________________________\n",
            "max_pooling2d_9 (MaxPooling2 (None, 4, 4, 50)          0         \n",
            "_________________________________________________________________\n",
            "conv2d_21 (Conv2D)           (None, 4, 4, 50)          22550     \n",
            "_________________________________________________________________\n",
            "batch_normalization_6 (Batch (None, 4, 4, 50)          200       \n",
            "_________________________________________________________________\n",
            "activation_6 (Activation)    (None, 4, 4, 50)          0         \n",
            "_________________________________________________________________\n",
            "conv2d_22 (Conv2D)           (None, 4, 4, 50)          22550     \n",
            "_________________________________________________________________\n",
            "batch_normalization_7 (Batch (None, 4, 4, 50)          200       \n",
            "_________________________________________________________________\n",
            "activation_7 (Activation)    (None, 4, 4, 50)          0         \n",
            "_________________________________________________________________\n",
            "max_pooling2d_10 (MaxPooling (None, 2, 2, 50)          0         \n",
            "_________________________________________________________________\n",
            "flatten_6 (Flatten)          (None, 200)               0         \n",
            "_________________________________________________________________\n",
            "dense_12 (Dense)             (None, 50)                10050     \n",
            "_________________________________________________________________\n",
            "dropout_1 (Dropout)          (None, 50)                0         \n",
            "_________________________________________________________________\n",
            "dense_13 (Dense)             (None, 10)                510       \n",
            "=================================================================\n",
            "Total params: 60,950\n",
            "Trainable params: 60,630\n",
            "Non-trainable params: 320\n",
            "_________________________________________________________________\n"
          ]
        }
      ]
    },
    {
      "cell_type": "code",
      "metadata": {
        "colab": {
          "base_uri": "https://localhost:8080/"
        },
        "id": "2HL-XYyCu7RS",
        "outputId": "9c128ea4-c820-4843-b1a9-729d87902a39"
      },
      "source": [
        "callbacks = [EarlyStopping(monitor='val_accuracy', patience=10)]\n",
        "model_history = model.fit(X_train, y_train, batch_size=50, validation_split=0.3, epochs=100, verbose=1,callbacks=callbacks)"
      ],
      "execution_count": 68,
      "outputs": [
        {
          "output_type": "stream",
          "name": "stdout",
          "text": [
            "Epoch 1/100\n",
            "21/21 [==============================] - 1s 35ms/step - loss: 2.2915 - accuracy: 0.2617 - val_loss: 3.2104 - val_accuracy: 0.1042\n",
            "Epoch 2/100\n",
            "21/21 [==============================] - 1s 24ms/step - loss: 1.5995 - accuracy: 0.4289 - val_loss: 2.5595 - val_accuracy: 0.2315\n",
            "Epoch 3/100\n",
            "21/21 [==============================] - 1s 24ms/step - loss: 1.2377 - accuracy: 0.5512 - val_loss: 1.4723 - val_accuracy: 0.4144\n",
            "Epoch 4/100\n",
            "21/21 [==============================] - 1s 25ms/step - loss: 1.0120 - accuracy: 0.6159 - val_loss: 0.9471 - val_accuracy: 0.7222\n",
            "Epoch 5/100\n",
            "21/21 [==============================] - 1s 25ms/step - loss: 0.7816 - accuracy: 0.6975 - val_loss: 0.5686 - val_accuracy: 0.8912\n",
            "Epoch 6/100\n",
            "21/21 [==============================] - 1s 25ms/step - loss: 0.7316 - accuracy: 0.7005 - val_loss: 0.5612 - val_accuracy: 0.8356\n",
            "Epoch 7/100\n",
            "21/21 [==============================] - 1s 24ms/step - loss: 0.6550 - accuracy: 0.7403 - val_loss: 0.3745 - val_accuracy: 0.9005\n",
            "Epoch 8/100\n",
            "21/21 [==============================] - 0s 24ms/step - loss: 0.7196 - accuracy: 0.7045 - val_loss: 0.2909 - val_accuracy: 0.9005\n",
            "Epoch 9/100\n",
            "21/21 [==============================] - 0s 24ms/step - loss: 0.6791 - accuracy: 0.7294 - val_loss: 0.3859 - val_accuracy: 0.8843\n",
            "Epoch 10/100\n",
            "21/21 [==============================] - 1s 24ms/step - loss: 0.5612 - accuracy: 0.7612 - val_loss: 0.2151 - val_accuracy: 0.9306\n",
            "Epoch 11/100\n",
            "21/21 [==============================] - 0s 23ms/step - loss: 0.6163 - accuracy: 0.7363 - val_loss: 0.4811 - val_accuracy: 0.8241\n",
            "Epoch 12/100\n",
            "21/21 [==============================] - 1s 24ms/step - loss: 0.5240 - accuracy: 0.7761 - val_loss: 0.2810 - val_accuracy: 0.9236\n",
            "Epoch 13/100\n",
            "21/21 [==============================] - 0s 24ms/step - loss: 0.4836 - accuracy: 0.7900 - val_loss: 0.1734 - val_accuracy: 0.9560\n",
            "Epoch 14/100\n",
            "21/21 [==============================] - 0s 24ms/step - loss: 0.8375 - accuracy: 0.7154 - val_loss: 0.7328 - val_accuracy: 0.7569\n",
            "Epoch 15/100\n",
            "21/21 [==============================] - 1s 24ms/step - loss: 0.8694 - accuracy: 0.7065 - val_loss: 0.6222 - val_accuracy: 0.8449\n",
            "Epoch 16/100\n",
            "21/21 [==============================] - 1s 24ms/step - loss: 0.6475 - accuracy: 0.7592 - val_loss: 0.5419 - val_accuracy: 0.8704\n",
            "Epoch 17/100\n",
            "21/21 [==============================] - 0s 23ms/step - loss: 1.1182 - accuracy: 0.6209 - val_loss: 7.3504 - val_accuracy: 0.4005\n",
            "Epoch 18/100\n",
            "21/21 [==============================] - 0s 24ms/step - loss: 0.7729 - accuracy: 0.6985 - val_loss: 2.3319 - val_accuracy: 0.5833\n",
            "Epoch 19/100\n",
            "21/21 [==============================] - 1s 24ms/step - loss: 0.6077 - accuracy: 0.7602 - val_loss: 0.6008 - val_accuracy: 0.7986\n",
            "Epoch 20/100\n",
            "21/21 [==============================] - 0s 24ms/step - loss: 0.6215 - accuracy: 0.7652 - val_loss: 0.6617 - val_accuracy: 0.7731\n",
            "Epoch 21/100\n",
            "21/21 [==============================] - 0s 23ms/step - loss: 0.5238 - accuracy: 0.8020 - val_loss: 0.3062 - val_accuracy: 0.8958\n",
            "Epoch 22/100\n",
            "21/21 [==============================] - 1s 25ms/step - loss: 0.3992 - accuracy: 0.8527 - val_loss: 0.4657 - val_accuracy: 0.8727\n",
            "Epoch 23/100\n",
            "21/21 [==============================] - 0s 23ms/step - loss: 0.3738 - accuracy: 0.8577 - val_loss: 0.1454 - val_accuracy: 0.9537\n"
          ]
        }
      ]
    },
    {
      "cell_type": "code",
      "metadata": {
        "colab": {
          "base_uri": "https://localhost:8080/",
          "height": 334
        },
        "id": "_c46N4aqu7Li",
        "outputId": "fa2333ce-d851-4733-f577-e922a3963153"
      },
      "source": [
        "# 모델 성능 시각화\n",
        "plt. figure(figsize = (15,5))\n",
        "\n",
        "plt.plot(model_history.history['accuracy'])\n",
        "plt.plot(model_history.history['val_accuracy'])\n",
        "plt.legend(['training', 'validation'], loc = 'best')\n",
        "plt.xlabel('Epoch')\n",
        "plt.ylabel('accuracy')\n",
        "\n",
        "plt.show()\n",
        "plt.close()"
      ],
      "execution_count": 69,
      "outputs": [
        {
          "output_type": "display_data",
          "data": {
            "image/png": "[encoded data removed]",
            "text/plain": [
              "<Figure size 1080x360 with 1 Axes>"
            ]
          },
          "metadata": {
            "needs_background": "light"
          }
        }
      ]
    },
    {
      "cell_type": "code",
      "metadata": {
        "colab": {
          "base_uri": "https://localhost:8080/"
        },
        "id": "vfARHk_5u7Gx",
        "outputId": "1772f9b7-aefd-483f-a334-6c317d8a74c6"
      },
      "source": [
        "model_eval = model.evaluate(X_test,y_test)\n",
        "print(model_eval[1])"
      ],
      "execution_count": 70,
      "outputs": [
        {
          "output_type": "stream",
          "name": "stdout",
          "text": [
            "12/12 [==============================] - 0s 5ms/step - loss: 0.1787 - accuracy: 0.9611\n",
            "0.9611111283302307\n"
          ]
        }
      ]
    }
  ]
}