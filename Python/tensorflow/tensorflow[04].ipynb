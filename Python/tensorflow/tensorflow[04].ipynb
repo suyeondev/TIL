{
  "nbformat": 4,
  "nbformat_minor": 0,
  "metadata": {
    "colab": {
      "name": "tensorflow[04].ipynb",
      "provenance": [],
      "collapsed_sections": []
    },
    "kernelspec": {
      "name": "python3",
      "display_name": "Python 3"
    },
    "language_info": {
      "name": "python"
    }
  },
  "cells": [
    {
      "cell_type": "markdown",
      "metadata": {
        "id": "39gaCe-mExiX"
      },
      "source": [
        "# 문장 분류를 위한 합성곱 신경망\n",
        "- 문장분류 (긍정인지 부정인지 이진분류)\n",
        "- I am a teacher"
      ]
    },
    {
      "cell_type": "code",
      "metadata": {
        "id": "sO6yI9m7Ex9d"
      },
      "source": [
        "from tensorflow.keras.models     import Sequential \n",
        "from tensorflow.keras.layers     import Activation , Dense , BatchNormalization , Dropout, Conv2D, MaxPooling2D, AveragePooling2D, GlobalMaxPooling2D,ZeroPadding2D, Flatten, Input\n",
        "from tensorflow.keras.layers     import Conv1D, MaxPooling1D, Embedding, Reshape, concatenate\n",
        "from tensorflow.keras.optimizers import SGD , Adam\n",
        "from tensorflow.keras.utils      import plot_model , to_categorical\n",
        "from tensorflow.keras.callbacks  import EarlyStopping , ModelCheckpoint\n",
        "\n",
        "from tensorflow.keras.wrappers.scikit_learn import KerasClassifier\n",
        "from tensorflow.keras.preprocessing.sequence import pad_sequences\n",
        "\n",
        "from sklearn.model_selection     import train_test_split\n",
        "from sklearn.preprocessing       import StandardScaler , MinMaxScaler , LabelEncoder\n",
        "from sklearn.datasets            import load_breast_cancer\n",
        "from sklearn.model_selection     import KFold\n",
        "from sklearn.ensemble            import VotingClassifier\n",
        "from sklearn.metrics             import accuracy_score\n",
        "\n",
        "\n",
        "\n",
        "import matplotlib.pyplot as plt\n",
        "\n",
        "import pandas  as pd\n",
        "import numpy   as np\n",
        "import seaborn as sns\n",
        "\n",
        "# dataset\n",
        "from tensorflow.keras.datasets.mnist import load_data\n",
        "from sklearn.datasets                import load_digits\n",
        "from tensorflow.keras.datasets             import imdb"
      ],
      "execution_count": null,
      "outputs": []
    },
    {
      "cell_type": "markdown",
      "metadata": {
        "id": "rO3hjWVjFsWu"
      },
      "source": [
        "- I am a teacher : 행렬에서 하나의 단어가 하나의 행을 차지하게 된다 → 4행의 행렬로 만들어짐.\n",
        "\n",
        "- 합성곱의 연산은 단어와 단어로 이루어진다(행 단위)"
      ]
    },
    {
      "cell_type": "code",
      "metadata": {
        "colab": {
          "base_uri": "https://localhost:8080/"
        },
        "id": "ZGH5IbC-FTsJ",
        "outputId": "6a716736-2c01-4c15-aa66-329e3c87ac70"
      },
      "source": [
        "# num_words:빈도순으로 사위 몇개의 단어를 포함시킬 것인가를 결정\n",
        "(X_train, y_train), (X_test,y_test) = imdb.load_data(num_words=3000)\n",
        "X_train.shape, y_train.shape, X_test.shape,y_test.shape"
      ],
      "execution_count": null,
      "outputs": [
        {
          "output_type": "execute_result",
          "data": {
            "text/plain": [
              "((25000,), (25000,), (25000,), (25000,))"
            ]
          },
          "metadata": {},
          "execution_count": 24
        }
      ]
    },
    {
      "cell_type": "code",
      "metadata": {
        "colab": {
          "base_uri": "https://localhost:8080/"
        },
        "id": "Dg41r7xyG1nb",
        "outputId": "23b4970f-8012-48aa-c510-5d902d542b2b"
      },
      "source": [
        "# sequence_length: 각 문자의 최대 길이\n",
        "sequence_length=300\n",
        "X_train = pad_sequences(X_train, maxlen=sequence_length)\n",
        "X_test = pad_sequences(X_test, maxlen=sequence_length)\n",
        "\n",
        "X_train.shape, y_train.shape, X_test.shape,y_test.shape"
      ],
      "execution_count": null,
      "outputs": [
        {
          "output_type": "execute_result",
          "data": {
            "text/plain": [
              "((25000, 300), (25000,), (25000, 300), (25000,))"
            ]
          },
          "metadata": {},
          "execution_count": 25
        }
      ]
    },
    {
      "cell_type": "code",
      "metadata": {
        "id": "xXFw7GDZG1qA"
      },
      "source": [
        "# output_dim : 각 단어를 표현하는 벡터 공간의 크기\n",
        "def cnn_sentence_conv1d():\n",
        "  model = Sequential()\n",
        "\n",
        "  model.add(Embedding(input_dim = 3000, output_dim = 100, input_length = sequence_length))\n",
        "  model.add(Conv1D(kernel_size = 5, strides = 1,filters = 50, padding = 'valid'))\n",
        "  model.add(MaxPooling1D(pool_size=2, padding='valid'))\n",
        "  \n",
        "  model.add(Flatten()) # 학습할 수 있는 노드와 연결이 가능하게 됨.\n",
        "  model.add(Dense(10, activation =  'relu'))\n",
        "\n",
        "  model.add(Dense(1, activation = 'sigmoid'))\n",
        "\n",
        "  model.compile(optimizer = Adam(learning_rate=0.001),\n",
        "              loss ='binary_crossentropy', # 이진분류니까\n",
        "              metrics = ['accuracy'])\n",
        "  \n",
        "  return model"
      ],
      "execution_count": null,
      "outputs": []
    },
    {
      "cell_type": "code",
      "metadata": {
        "colab": {
          "base_uri": "https://localhost:8080/"
        },
        "id": "cIjno3WULzQF",
        "outputId": "39c07b60-2265-4e53-c2d7-8f1335f9b4cc"
      },
      "source": [
        "X_train.shape, y_train.shape, X_test.shape,y_test.shape"
      ],
      "execution_count": null,
      "outputs": [
        {
          "output_type": "execute_result",
          "data": {
            "text/plain": [
              "((25000, 300), (25000,), (25000, 300), (25000,))"
            ]
          },
          "metadata": {},
          "execution_count": 27
        }
      ]
    },
    {
      "cell_type": "code",
      "metadata": {
        "colab": {
          "base_uri": "https://localhost:8080/"
        },
        "id": "ZsAMbweBG1t7",
        "outputId": "ed2240e1-d9f7-41db-8c15-8d74282a1ab9"
      },
      "source": [
        "model = cnn_sentence_conv1d()\n",
        "model.summary()"
      ],
      "execution_count": null,
      "outputs": [
        {
          "output_type": "stream",
          "name": "stdout",
          "text": [
            "Model: \"sequential_5\"\n",
            "_________________________________________________________________\n",
            "Layer (type)                 Output Shape              Param #   \n",
            "=================================================================\n",
            "embedding_4 (Embedding)      (None, 300, 100)          300000    \n",
            "_________________________________________________________________\n",
            "conv1d_4 (Conv1D)            (None, 296, 50)           25050     \n",
            "_________________________________________________________________\n",
            "max_pooling1d_4 (MaxPooling1 (None, 148, 50)           0         \n",
            "_________________________________________________________________\n",
            "flatten_4 (Flatten)          (None, 7400)              0         \n",
            "_________________________________________________________________\n",
            "dense_8 (Dense)              (None, 10)                74010     \n",
            "_________________________________________________________________\n",
            "dense_9 (Dense)              (None, 1)                 11        \n",
            "=================================================================\n",
            "Total params: 399,071\n",
            "Trainable params: 399,071\n",
            "Non-trainable params: 0\n",
            "_________________________________________________________________\n"
          ]
        }
      ]
    },
    {
      "cell_type": "code",
      "metadata": {
        "colab": {
          "base_uri": "https://localhost:8080/"
        },
        "id": "6Ts03lVNG1xY",
        "outputId": "86237cf7-19cf-41c2-e137-15dc383e7251"
      },
      "source": [
        "model_history = model.fit(X_train, y_train, batch_size=50, validation_split=0.2, epochs=50, verbose=1)"
      ],
      "execution_count": null,
      "outputs": [
        {
          "output_type": "stream",
          "name": "stdout",
          "text": [
            "Epoch 1/50\n",
            "400/400 [==============================] - 41s 102ms/step - loss: 0.3591 - accuracy: 0.8441 - val_loss: 0.3156 - val_accuracy: 0.8694\n",
            "Epoch 2/50\n",
            "400/400 [==============================] - 40s 100ms/step - loss: 0.1888 - accuracy: 0.9255 - val_loss: 0.3207 - val_accuracy: 0.8664\n",
            "Epoch 3/50\n",
            "400/400 [==============================] - 40s 100ms/step - loss: 0.0579 - accuracy: 0.9819 - val_loss: 0.4284 - val_accuracy: 0.8544\n",
            "Epoch 4/50\n",
            "400/400 [==============================] - 40s 100ms/step - loss: 0.0108 - accuracy: 0.9977 - val_loss: 0.5722 - val_accuracy: 0.8636\n",
            "Epoch 5/50\n",
            "400/400 [==============================] - 40s 100ms/step - loss: 0.0017 - accuracy: 0.9999 - val_loss: 0.6291 - val_accuracy: 0.8652\n",
            "Epoch 6/50\n",
            "400/400 [==============================] - 40s 100ms/step - loss: 5.0122e-04 - accuracy: 1.0000 - val_loss: 0.6677 - val_accuracy: 0.8658\n",
            "Epoch 7/50\n",
            "400/400 [==============================] - 40s 100ms/step - loss: 2.2216e-04 - accuracy: 1.0000 - val_loss: 0.6998 - val_accuracy: 0.8688\n",
            "Epoch 8/50\n",
            "400/400 [==============================] - 40s 100ms/step - loss: 1.5137e-04 - accuracy: 1.0000 - val_loss: 0.7240 - val_accuracy: 0.8682\n",
            "Epoch 9/50\n",
            "400/400 [==============================] - 40s 100ms/step - loss: 1.0620e-04 - accuracy: 1.0000 - val_loss: 0.7465 - val_accuracy: 0.8692\n",
            "Epoch 10/50\n",
            "400/400 [==============================] - 40s 100ms/step - loss: 7.7559e-05 - accuracy: 1.0000 - val_loss: 0.7660 - val_accuracy: 0.8676\n",
            "Epoch 11/50\n",
            "400/400 [==============================] - 40s 100ms/step - loss: 5.8725e-05 - accuracy: 1.0000 - val_loss: 0.7835 - val_accuracy: 0.8696\n",
            "Epoch 12/50\n",
            "400/400 [==============================] - 40s 100ms/step - loss: 4.4975e-05 - accuracy: 1.0000 - val_loss: 0.8036 - val_accuracy: 0.8690\n",
            "Epoch 13/50\n",
            "400/400 [==============================] - 40s 101ms/step - loss: 3.4100e-05 - accuracy: 1.0000 - val_loss: 0.8210 - val_accuracy: 0.8684\n",
            "Epoch 14/50\n",
            "400/400 [==============================] - 40s 100ms/step - loss: 2.6991e-05 - accuracy: 1.0000 - val_loss: 0.8398 - val_accuracy: 0.8678\n",
            "Epoch 15/50\n",
            "400/400 [==============================] - 40s 101ms/step - loss: 2.0866e-05 - accuracy: 1.0000 - val_loss: 0.8583 - val_accuracy: 0.8682\n",
            "Epoch 16/50\n",
            "400/400 [==============================] - 41s 102ms/step - loss: 1.6335e-05 - accuracy: 1.0000 - val_loss: 0.8754 - val_accuracy: 0.8684\n",
            "Epoch 17/50\n",
            "400/400 [==============================] - 41s 102ms/step - loss: 1.2864e-05 - accuracy: 1.0000 - val_loss: 0.8926 - val_accuracy: 0.8682\n",
            "Epoch 18/50\n",
            "400/400 [==============================] - 41s 102ms/step - loss: 1.0129e-05 - accuracy: 1.0000 - val_loss: 0.9089 - val_accuracy: 0.8686\n",
            "Epoch 19/50\n",
            "400/400 [==============================] - 41s 102ms/step - loss: 7.9727e-06 - accuracy: 1.0000 - val_loss: 0.9265 - val_accuracy: 0.8692\n",
            "Epoch 20/50\n",
            "400/400 [==============================] - 41s 102ms/step - loss: 6.2979e-06 - accuracy: 1.0000 - val_loss: 0.9434 - val_accuracy: 0.8686\n",
            "Epoch 21/50\n",
            "400/400 [==============================] - 41s 101ms/step - loss: 5.1025e-06 - accuracy: 1.0000 - val_loss: 0.9603 - val_accuracy: 0.8698\n",
            "Epoch 22/50\n",
            "400/400 [==============================] - 40s 101ms/step - loss: 3.9556e-06 - accuracy: 1.0000 - val_loss: 0.9771 - val_accuracy: 0.8692\n",
            "Epoch 23/50\n",
            "400/400 [==============================] - 40s 101ms/step - loss: 3.1410e-06 - accuracy: 1.0000 - val_loss: 0.9945 - val_accuracy: 0.8682\n",
            "Epoch 24/50\n",
            "400/400 [==============================] - 41s 101ms/step - loss: 2.5295e-06 - accuracy: 1.0000 - val_loss: 1.0113 - val_accuracy: 0.8688\n",
            "Epoch 25/50\n",
            "400/400 [==============================] - 40s 101ms/step - loss: 2.0058e-06 - accuracy: 1.0000 - val_loss: 1.0302 - val_accuracy: 0.8676\n",
            "Epoch 26/50\n",
            "400/400 [==============================] - 40s 101ms/step - loss: 1.5943e-06 - accuracy: 1.0000 - val_loss: 1.0454 - val_accuracy: 0.8690\n",
            "Epoch 27/50\n",
            "400/400 [==============================] - 40s 100ms/step - loss: 1.2579e-06 - accuracy: 1.0000 - val_loss: 1.0599 - val_accuracy: 0.8700\n",
            "Epoch 28/50\n",
            "400/400 [==============================] - 40s 101ms/step - loss: 1.0047e-06 - accuracy: 1.0000 - val_loss: 1.0788 - val_accuracy: 0.8688\n",
            "Epoch 29/50\n",
            "400/400 [==============================] - 40s 100ms/step - loss: 8.0467e-07 - accuracy: 1.0000 - val_loss: 1.0961 - val_accuracy: 0.8682\n",
            "Epoch 30/50\n",
            "400/400 [==============================] - 40s 101ms/step - loss: 6.4209e-07 - accuracy: 1.0000 - val_loss: 1.1124 - val_accuracy: 0.8684\n",
            "Epoch 31/50\n",
            "400/400 [==============================] - 40s 101ms/step - loss: 5.1668e-07 - accuracy: 1.0000 - val_loss: 1.1277 - val_accuracy: 0.8698\n",
            "Epoch 32/50\n",
            "400/400 [==============================] - 40s 101ms/step - loss: 4.1322e-07 - accuracy: 1.0000 - val_loss: 1.1444 - val_accuracy: 0.8692\n",
            "Epoch 33/50\n",
            "400/400 [==============================] - 40s 101ms/step - loss: 3.2904e-07 - accuracy: 1.0000 - val_loss: 1.1605 - val_accuracy: 0.8688\n",
            "Epoch 34/50\n",
            "400/400 [==============================] - 40s 100ms/step - loss: 2.6395e-07 - accuracy: 1.0000 - val_loss: 1.1767 - val_accuracy: 0.8702\n",
            "Epoch 35/50\n",
            "400/400 [==============================] - 40s 101ms/step - loss: 2.1354e-07 - accuracy: 1.0000 - val_loss: 1.1931 - val_accuracy: 0.8694\n",
            "Epoch 36/50\n",
            "400/400 [==============================] - 41s 102ms/step - loss: 1.7036e-07 - accuracy: 1.0000 - val_loss: 1.2086 - val_accuracy: 0.8696\n",
            "Epoch 37/50\n",
            "400/400 [==============================] - 41s 102ms/step - loss: 1.3905e-07 - accuracy: 1.0000 - val_loss: 1.2261 - val_accuracy: 0.8688\n",
            "Epoch 38/50\n",
            "400/400 [==============================] - 41s 102ms/step - loss: 1.1295e-07 - accuracy: 1.0000 - val_loss: 1.2433 - val_accuracy: 0.8684\n",
            "Epoch 39/50\n",
            "400/400 [==============================] - 41s 103ms/step - loss: 9.1229e-08 - accuracy: 1.0000 - val_loss: 1.2582 - val_accuracy: 0.8688\n",
            "Epoch 40/50\n",
            "400/400 [==============================] - 44s 110ms/step - loss: 7.4071e-08 - accuracy: 1.0000 - val_loss: 1.2748 - val_accuracy: 0.8678\n",
            "Epoch 41/50\n",
            "400/400 [==============================] - 41s 103ms/step - loss: 6.0224e-08 - accuracy: 1.0000 - val_loss: 1.2898 - val_accuracy: 0.8692\n",
            "Epoch 42/50\n",
            "400/400 [==============================] - 41s 102ms/step - loss: 4.9309e-08 - accuracy: 1.0000 - val_loss: 1.3033 - val_accuracy: 0.8692\n",
            "Epoch 43/50\n",
            "400/400 [==============================] - 41s 103ms/step - loss: 4.0148e-08 - accuracy: 1.0000 - val_loss: 1.3177 - val_accuracy: 0.8690\n",
            "Epoch 44/50\n",
            "400/400 [==============================] - 41s 102ms/step - loss: 3.3237e-08 - accuracy: 1.0000 - val_loss: 1.3330 - val_accuracy: 0.8692\n",
            "Epoch 45/50\n",
            "400/400 [==============================] - 41s 103ms/step - loss: 2.7252e-08 - accuracy: 1.0000 - val_loss: 1.3478 - val_accuracy: 0.8688\n",
            "Epoch 46/50\n",
            "400/400 [==============================] - 41s 103ms/step - loss: 2.2603e-08 - accuracy: 1.0000 - val_loss: 1.3613 - val_accuracy: 0.8696\n",
            "Epoch 47/50\n",
            "400/400 [==============================] - 42s 104ms/step - loss: 1.8854e-08 - accuracy: 1.0000 - val_loss: 1.3764 - val_accuracy: 0.8686\n",
            "Epoch 48/50\n",
            "400/400 [==============================] - 41s 103ms/step - loss: 1.5925e-08 - accuracy: 1.0000 - val_loss: 1.3883 - val_accuracy: 0.8690\n",
            "Epoch 49/50\n",
            "400/400 [==============================] - 41s 102ms/step - loss: 1.3172e-08 - accuracy: 1.0000 - val_loss: 1.4015 - val_accuracy: 0.8692\n",
            "Epoch 50/50\n",
            "400/400 [==============================] - 41s 102ms/step - loss: 1.1151e-08 - accuracy: 1.0000 - val_loss: 1.4156 - val_accuracy: 0.8680\n"
          ]
        }
      ]
    },
    {
      "cell_type": "code",
      "metadata": {
        "colab": {
          "base_uri": "https://localhost:8080/",
          "height": 334
        },
        "id": "ZAtjYE1rG120",
        "outputId": "4bda7493-c991-4144-9057-811938eb7c52"
      },
      "source": [
        "# 모델 성능 시각화\n",
        "plt. figure(figsize = (15,5))\n",
        "\n",
        "plt.plot(model_history.history['accuracy'])\n",
        "plt.plot(model_history.history['val_accuracy'])\n",
        "plt.legend(['training', 'validation'], loc = 'best')\n",
        "plt.xlabel('Epoch')\n",
        "plt.ylabel('accuracy')\n",
        "\n",
        "plt.show()\n",
        "plt.close()"
      ],
      "execution_count": null,
      "outputs": [
        {
          "output_type": "display_data",
          "data": {
            "image/png": "[encoded data removed]",
            "text/plain": [
              "<Figure size 1080x360 with 1 Axes>"
            ]
          },
          "metadata": {
            "needs_background": "light"
          }
        }
      ]
    },
    {
      "cell_type": "code",
      "metadata": {
        "id": "8cESqLxJSTJi"
      },
      "source": [
        "def cnn_improve_sentence_conv2d() :\n",
        "  model = Sequential()\n",
        "\n",
        "  model.add( Embedding(input_dim=3000 , output_dim=100 , input_length=sequence_length) )\n",
        "  model.add( Reshape( (300, 100, 1), input_shape=(300, 100) ))\n",
        "\n",
        "  model.add( Conv2D(kernel_size= (5,100)  , strides= (1,1) ,  filters=50 , padding='valid') )\n",
        "  model.add( GlobalMaxPooling2D()  )\n",
        "\n",
        "  \n",
        "  model.add( Dense(10) )\n",
        "  model.add( Activation('relu') )\n",
        "  model.add( Dropout(0.3) ) \n",
        "\n",
        "  model.add( Dense(10) )\n",
        "  model.add( Activation('relu') )\n",
        "  model.add( Dropout(0.3) ) \n",
        "\n",
        "  model.add( Dense(1  , activation='sigmoid') )\n",
        "\n",
        "  model.compile(optimizer = Adam(learning_rate=0.001) , \n",
        "               loss = 'binary_crossentropy' , \n",
        "               metrics=['accuracy']) \n",
        "  \n",
        "  return model"
      ],
      "execution_count": null,
      "outputs": []
    },
    {
      "cell_type": "code",
      "metadata": {
        "id": "lL2WdcywTfuX"
      },
      "source": [
        "model = cnn_improve_sentence_conv2d()"
      ],
      "execution_count": null,
      "outputs": []
    },
    {
      "cell_type": "code",
      "metadata": {
        "colab": {
          "base_uri": "https://localhost:8080/"
        },
        "id": "qxuAX7ImUAPp",
        "outputId": "cab0fdb3-6164-44d5-9a92-7420438a94c7"
      },
      "source": [
        "model_history = model.fit(X_train, y_train, batch_size=50, validation_split=0.2, epochs=50, verbose=1)"
      ],
      "execution_count": null,
      "outputs": [
        {
          "output_type": "stream",
          "name": "stdout",
          "text": [
            "Epoch 1/50\n",
            "400/400 [==============================] - 54s 133ms/step - loss: 0.5729 - accuracy: 0.6784 - val_loss: 0.3661 - val_accuracy: 0.8496\n",
            "Epoch 2/50\n",
            "400/400 [==============================] - 53s 132ms/step - loss: 0.3474 - accuracy: 0.8685 - val_loss: 0.3017 - val_accuracy: 0.8790\n",
            "Epoch 3/50\n",
            "400/400 [==============================] - 53s 133ms/step - loss: 0.2576 - accuracy: 0.9107 - val_loss: 0.2955 - val_accuracy: 0.8848\n",
            "Epoch 4/50\n",
            "400/400 [==============================] - 52s 131ms/step - loss: 0.1917 - accuracy: 0.9384 - val_loss: 0.3188 - val_accuracy: 0.8818\n",
            "Epoch 5/50\n",
            "400/400 [==============================] - 52s 131ms/step - loss: 0.1283 - accuracy: 0.9617 - val_loss: 0.3674 - val_accuracy: 0.8784\n",
            "Epoch 6/50\n",
            "400/400 [==============================] - 52s 131ms/step - loss: 0.0901 - accuracy: 0.9747 - val_loss: 0.4778 - val_accuracy: 0.8822\n",
            "Epoch 7/50\n",
            "400/400 [==============================] - 52s 131ms/step - loss: 0.0784 - accuracy: 0.9779 - val_loss: 0.4635 - val_accuracy: 0.8836\n",
            "Epoch 8/50\n",
            "400/400 [==============================] - 52s 131ms/step - loss: 0.0548 - accuracy: 0.9849 - val_loss: 0.6364 - val_accuracy: 0.8766\n",
            "Epoch 9/50\n",
            "400/400 [==============================] - 52s 131ms/step - loss: 0.0506 - accuracy: 0.9859 - val_loss: 0.6276 - val_accuracy: 0.8810\n",
            "Epoch 10/50\n",
            "400/400 [==============================] - 52s 131ms/step - loss: 0.0408 - accuracy: 0.9896 - val_loss: 0.6186 - val_accuracy: 0.8824\n",
            "Epoch 11/50\n",
            "400/400 [==============================] - 52s 130ms/step - loss: 0.0337 - accuracy: 0.9911 - val_loss: 0.6387 - val_accuracy: 0.8796\n",
            "Epoch 12/50\n",
            "400/400 [==============================] - 52s 131ms/step - loss: 0.0361 - accuracy: 0.9902 - val_loss: 0.6845 - val_accuracy: 0.8826\n",
            "Epoch 13/50\n",
            "400/400 [==============================] - 52s 131ms/step - loss: 0.0379 - accuracy: 0.9894 - val_loss: 0.7344 - val_accuracy: 0.8810\n",
            "Epoch 14/50\n",
            "400/400 [==============================] - 52s 131ms/step - loss: 0.0318 - accuracy: 0.9916 - val_loss: 0.8060 - val_accuracy: 0.8804\n",
            "Epoch 15/50\n",
            "400/400 [==============================] - 52s 131ms/step - loss: 0.0279 - accuracy: 0.9929 - val_loss: 0.8729 - val_accuracy: 0.8814\n",
            "Epoch 16/50\n",
            "400/400 [==============================] - 53s 131ms/step - loss: 0.0246 - accuracy: 0.9938 - val_loss: 0.9947 - val_accuracy: 0.8760\n",
            "Epoch 17/50\n",
            "400/400 [==============================] - 53s 131ms/step - loss: 0.0274 - accuracy: 0.9930 - val_loss: 0.8787 - val_accuracy: 0.8760\n",
            "Epoch 18/50\n",
            "400/400 [==============================] - 53s 131ms/step - loss: 0.0252 - accuracy: 0.9933 - val_loss: 0.7789 - val_accuracy: 0.8772\n",
            "Epoch 19/50\n",
            "400/400 [==============================] - 53s 132ms/step - loss: 0.0253 - accuracy: 0.9934 - val_loss: 0.9353 - val_accuracy: 0.8744\n",
            "Epoch 20/50\n",
            "400/400 [==============================] - 52s 131ms/step - loss: 0.0221 - accuracy: 0.9940 - val_loss: 1.0596 - val_accuracy: 0.8724\n",
            "Epoch 21/50\n",
            "400/400 [==============================] - 53s 131ms/step - loss: 0.0229 - accuracy: 0.9937 - val_loss: 1.0869 - val_accuracy: 0.8754\n",
            "Epoch 22/50\n",
            "400/400 [==============================] - 53s 131ms/step - loss: 0.0188 - accuracy: 0.9957 - val_loss: 1.0766 - val_accuracy: 0.8772\n",
            "Epoch 23/50\n",
            "400/400 [==============================] - 52s 131ms/step - loss: 0.0204 - accuracy: 0.9945 - val_loss: 1.1044 - val_accuracy: 0.8746\n",
            "Epoch 24/50\n",
            "400/400 [==============================] - 53s 132ms/step - loss: 0.0260 - accuracy: 0.9936 - val_loss: 0.8575 - val_accuracy: 0.8686\n",
            "Epoch 25/50\n",
            "400/400 [==============================] - 53s 132ms/step - loss: 0.0257 - accuracy: 0.9931 - val_loss: 0.9971 - val_accuracy: 0.8730\n",
            "Epoch 26/50\n",
            "400/400 [==============================] - 52s 131ms/step - loss: 0.0209 - accuracy: 0.9943 - val_loss: 0.9935 - val_accuracy: 0.8734\n",
            "Epoch 27/50\n",
            "400/400 [==============================] - 53s 132ms/step - loss: 0.0188 - accuracy: 0.9951 - val_loss: 1.1549 - val_accuracy: 0.8730\n",
            "Epoch 28/50\n",
            "400/400 [==============================] - 53s 132ms/step - loss: 0.0215 - accuracy: 0.9945 - val_loss: 1.2171 - val_accuracy: 0.8734\n",
            "Epoch 29/50\n",
            "400/400 [==============================] - 53s 132ms/step - loss: 0.0178 - accuracy: 0.9955 - val_loss: 1.2300 - val_accuracy: 0.8740\n",
            "Epoch 30/50\n",
            "400/400 [==============================] - 53s 132ms/step - loss: 0.0173 - accuracy: 0.9954 - val_loss: 0.9223 - val_accuracy: 0.8798\n",
            "Epoch 31/50\n",
            "400/400 [==============================] - 53s 131ms/step - loss: 0.0189 - accuracy: 0.9949 - val_loss: 1.1627 - val_accuracy: 0.8736\n",
            "Epoch 32/50\n",
            "400/400 [==============================] - 52s 131ms/step - loss: 0.0190 - accuracy: 0.9942 - val_loss: 1.2934 - val_accuracy: 0.8742\n",
            "Epoch 33/50\n",
            "400/400 [==============================] - 53s 132ms/step - loss: 0.0140 - accuracy: 0.9965 - val_loss: 1.4749 - val_accuracy: 0.8802\n",
            "Epoch 34/50\n",
            "400/400 [==============================] - 53s 131ms/step - loss: 0.0171 - accuracy: 0.9952 - val_loss: 1.3784 - val_accuracy: 0.8782\n",
            "Epoch 35/50\n",
            "400/400 [==============================] - 53s 132ms/step - loss: 0.0155 - accuracy: 0.9958 - val_loss: 1.1330 - val_accuracy: 0.8784\n",
            "Epoch 36/50\n",
            "400/400 [==============================] - 53s 132ms/step - loss: 0.0152 - accuracy: 0.9960 - val_loss: 1.3033 - val_accuracy: 0.8768\n",
            "Epoch 37/50\n",
            "400/400 [==============================] - 53s 132ms/step - loss: 0.0155 - accuracy: 0.9962 - val_loss: 1.3498 - val_accuracy: 0.8740\n",
            "Epoch 38/50\n",
            "400/400 [==============================] - 53s 132ms/step - loss: 0.0202 - accuracy: 0.9945 - val_loss: 1.1612 - val_accuracy: 0.8756\n",
            "Epoch 39/50\n",
            "400/400 [==============================] - 53s 133ms/step - loss: 0.0177 - accuracy: 0.9953 - val_loss: 1.3692 - val_accuracy: 0.8780\n",
            "Epoch 40/50\n",
            "400/400 [==============================] - 53s 132ms/step - loss: 0.0141 - accuracy: 0.9962 - val_loss: 1.4034 - val_accuracy: 0.8808\n",
            "Epoch 41/50\n",
            "400/400 [==============================] - 53s 133ms/step - loss: 0.0133 - accuracy: 0.9965 - val_loss: 1.4149 - val_accuracy: 0.8710\n",
            "Epoch 42/50\n",
            "400/400 [==============================] - 54s 134ms/step - loss: 0.0124 - accuracy: 0.9966 - val_loss: 1.4238 - val_accuracy: 0.8816\n",
            "Epoch 43/50\n",
            "400/400 [==============================] - 54s 134ms/step - loss: 0.0173 - accuracy: 0.9954 - val_loss: 1.2885 - val_accuracy: 0.8776\n",
            "Epoch 44/50\n",
            "400/400 [==============================] - 53s 133ms/step - loss: 0.0138 - accuracy: 0.9967 - val_loss: 1.3054 - val_accuracy: 0.8784\n",
            "Epoch 45/50\n",
            "400/400 [==============================] - 53s 132ms/step - loss: 0.0193 - accuracy: 0.9946 - val_loss: 1.0974 - val_accuracy: 0.8756\n",
            "Epoch 46/50\n",
            "400/400 [==============================] - 54s 134ms/step - loss: 0.0141 - accuracy: 0.9962 - val_loss: 1.5433 - val_accuracy: 0.8800\n",
            "Epoch 47/50\n",
            "400/400 [==============================] - 53s 133ms/step - loss: 0.0098 - accuracy: 0.9975 - val_loss: 1.5806 - val_accuracy: 0.8834\n",
            "Epoch 48/50\n",
            "400/400 [==============================] - 53s 134ms/step - loss: 0.0138 - accuracy: 0.9966 - val_loss: 1.2153 - val_accuracy: 0.8794\n",
            "Epoch 49/50\n",
            "400/400 [==============================] - 53s 133ms/step - loss: 0.0218 - accuracy: 0.9939 - val_loss: 1.1964 - val_accuracy: 0.8776\n",
            "Epoch 50/50\n",
            "400/400 [==============================] - 53s 133ms/step - loss: 0.0155 - accuracy: 0.9959 - val_loss: 1.2694 - val_accuracy: 0.8806\n"
          ]
        }
      ]
    },
    {
      "cell_type": "code",
      "metadata": {
        "colab": {
          "base_uri": "https://localhost:8080/",
          "height": 334
        },
        "id": "8xVDt4bjUADG",
        "outputId": "b26ef76f-4490-4721-a44f-4c4a80abdd01"
      },
      "source": [
        "# 모델 성능 시각화\n",
        "plt. figure(figsize = (15,5))\n",
        "\n",
        "plt.plot(model_history.history['accuracy'])\n",
        "plt.plot(model_history.history['val_accuracy'])\n",
        "plt.legend(['training', 'validation'], loc = 'best')\n",
        "plt.xlabel('Epoch')\n",
        "plt.ylabel('accuracy')\n",
        "\n",
        "plt.show()\n",
        "plt.close()"
      ],
      "execution_count": null,
      "outputs": [
        {
          "output_type": "display_data",
          "data": {
            "image/png": "[encoded data removed]",
            "text/plain": [
              "<Figure size 1080x360 with 1 Axes>"
            ]
          },
          "metadata": {
            "needs_background": "light"
          }
        }
      ]
    },
    {
      "cell_type": "code",
      "metadata": {
        "colab": {
          "base_uri": "https://localhost:8080/"
        },
        "id": "nvmYKehPUEVr",
        "outputId": "1be34284-7169-4ee2-8574-7d2a6ad5a43a"
      },
      "source": [
        "sentence_result=model.evaluate(X_test,y_test)\n",
        "print('accuracy : ', sentence_result[1])"
      ],
      "execution_count": null,
      "outputs": [
        {
          "output_type": "stream",
          "name": "stdout",
          "text": [
            "782/782 [==============================] - 13s 16ms/step - loss: 1.3331 - accuracy: 0.8705\n",
            "accuracy :  0.8705199956893921\n"
          ]
        }
      ]
    }
  ]
}