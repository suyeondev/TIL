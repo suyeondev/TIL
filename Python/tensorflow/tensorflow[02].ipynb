{
  "nbformat": 4,
  "nbformat_minor": 0,
  "metadata": {
    "colab": {
      "name": "tensorflow[02].ipynb",
      "provenance": [],
      "collapsed_sections": []
    },
    "kernelspec": {
      "name": "python3",
      "display_name": "Python 3"
    },
    "language_info": {
      "name": "python"
    }
  },
  "cells": [
    {
      "cell_type": "markdown",
      "metadata": {
        "id": "XvAzu-I7Eu6m"
      },
      "source": [
        "# 학습모델 개선하는 방법\n",
        "1. Weight initialization\n",
        "2. Activation Function\n",
        "3. Optimizer"
      ]
    },
    {
      "cell_type": "code",
      "metadata": {
        "id": "ADH18FQEEwOr"
      },
      "source": [
        "from tensorflow.keras.models     import Sequential \n",
        "from tensorflow.keras.layers     import Activation , Dense , BatchNormalization , Dropout\n",
        "from tensorflow.keras.optimizers import SGD , Adam\n",
        "from tensorflow.keras.utils      import plot_model , to_categorical\n",
        "from tensorflow.keras.callbacks  import EarlyStopping , ModelCheckpoint\n",
        "\n",
        "from tensorflow.keras.wrappers.scikit_learn import KerasClassifier\n",
        "\n",
        "\n",
        "from sklearn.model_selection     import train_test_split\n",
        "from sklearn.preprocessing       import StandardScaler , MinMaxScaler , LabelEncoder\n",
        "from sklearn.datasets            import load_breast_cancer\n",
        "from sklearn.model_selection     import KFold\n",
        "from sklearn.ensemble            import VotingClassifier\n",
        "from sklearn.metrics             import accuracy_score\n",
        "\n",
        "\n",
        "\n",
        "import matplotlib.pyplot as plt\n",
        "\n",
        "import pandas  as pd\n",
        "import numpy   as np\n",
        "import seaborn as sns\n",
        "\n",
        "# dataset\n",
        "from tensorflow.keras.datasets.mnist import load_data\n"
      ],
      "execution_count": 1,
      "outputs": []
    },
    {
      "cell_type": "code",
      "metadata": {
        "colab": {
          "base_uri": "https://localhost:8080/"
        },
        "id": "rAwzUn9YEwRS",
        "outputId": "cda22469-24d9-44be-a778-c49d7a53367e"
      },
      "source": [
        "(X_train, y_train),(X_test,y_test) = load_data()\n",
        "X_train.shape, X_test.shape, y_train.shape, y_test.shape"
      ],
      "execution_count": 2,
      "outputs": [
        {
          "output_type": "stream",
          "name": "stdout",
          "text": [
            "Downloading data from https://storage.googleapis.com/tensorflow/tf-keras-datasets/mnist.npz\n",
            "11493376/11490434 [==============================] - 0s 0us/step\n",
            "11501568/11490434 [==============================] - 0s 0us/step\n"
          ]
        },
        {
          "output_type": "execute_result",
          "data": {
            "text/plain": [
              "((60000, 28, 28), (10000, 28, 28), (60000,), (10000,))"
            ]
          },
          "metadata": {},
          "execution_count": 2
        }
      ]
    },
    {
      "cell_type": "code",
      "metadata": {
        "id": "1LWX4l3XEwU-"
      },
      "source": [
        "X_train = X_train.reshape((X_train.shape[0],-1))\n",
        "X_test = X_test.reshape((X_test.shape[0],-1))"
      ],
      "execution_count": 3,
      "outputs": []
    },
    {
      "cell_type": "code",
      "metadata": {
        "id": "6EtUbHfDK2I1"
      },
      "source": [
        "# 원-핫 인코딩\n",
        "y_train = to_categorical(y_train)\n",
        "y_test = to_categorical(y_test)"
      ],
      "execution_count": 4,
      "outputs": []
    },
    {
      "cell_type": "code",
      "metadata": {
        "colab": {
          "base_uri": "https://localhost:8080/"
        },
        "id": "a23pd-4QEwZb",
        "outputId": "b59400cc-b410-487e-a31f-3435b43ce127"
      },
      "source": [
        "X_train.shape, X_test.shape, y_train.shape, y_test.shape"
      ],
      "execution_count": 5,
      "outputs": [
        {
          "output_type": "execute_result",
          "data": {
            "text/plain": [
              "((60000, 784), (10000, 784), (60000, 10), (10000, 10))"
            ]
          },
          "metadata": {},
          "execution_count": 5
        }
      ]
    },
    {
      "cell_type": "code",
      "metadata": {
        "colab": {
          "base_uri": "https://localhost:8080/"
        },
        "id": "0g341j_FEwdM",
        "outputId": "f06704ba-3271-4e18-bb30-d26eb7d12aad"
      },
      "source": [
        "y_train[0]"
      ],
      "execution_count": 6,
      "outputs": [
        {
          "output_type": "execute_result",
          "data": {
            "text/plain": [
              "array([0., 0., 0., 0., 0., 1., 0., 0., 0., 0.], dtype=float32)"
            ]
          },
          "metadata": {},
          "execution_count": 6
        }
      ]
    },
    {
      "cell_type": "code",
      "metadata": {
        "id": "PjT4eM5hEw6d"
      },
      "source": [
        "# 모델생성하는 함수 만들기\n",
        "def get_mnist_model():\n",
        "  model = Sequential()\n",
        "\n",
        "  model.add( Dense(50, activation = 'sigmoid', input_shape = (784, ) ) ) # 입력층\n",
        "\n",
        "  model.add( Dense(50, activation = 'sigmoid' ) ) # 은닉층1\n",
        "  model.add( Dense(50, activation = 'sigmoid' ) ) # 은닉층2\n",
        "  model.add( Dense(50, activation = 'sigmoid' ) ) # 은닉층3\n",
        "\n",
        "  model.add( Dense(10, activation = 'softmax' ) )\n",
        "  return model"
      ],
      "execution_count": 7,
      "outputs": []
    },
    {
      "cell_type": "markdown",
      "metadata": {
        "id": "MEFmnGfmIWWy"
      },
      "source": [
        "# 전체데이터의 30%만 가져와서 학습데이터로 사용해보자"
      ]
    },
    {
      "cell_type": "code",
      "metadata": {
        "colab": {
          "base_uri": "https://localhost:8080/"
        },
        "id": "4p9YZhzMEw9f",
        "outputId": "cd7361da-1fbc-4797-bec7-832ed1fc675a"
      },
      "source": [
        "# 학습모델 개선을 위해서 전체 데이터가 아닌 일부의 데이터를 이용해서 학습 데이터를 만들어 보자!\n",
        "\n",
        "X_train, X_test, y_train, y_test = train_test_split(X_train, y_train, test_size = 0.7, random_state = 100)\n",
        "X_train.shape, X_test.shape, y_train.shape, y_test.shape"
      ],
      "execution_count": 8,
      "outputs": [
        {
          "output_type": "execute_result",
          "data": {
            "text/plain": [
              "((18000, 784), (42000, 784), (18000, 10), (42000, 10))"
            ]
          },
          "metadata": {},
          "execution_count": 8
        }
      ]
    },
    {
      "cell_type": "code",
      "metadata": {
        "colab": {
          "base_uri": "https://localhost:8080/"
        },
        "id": "n1_lj3NATh7d",
        "outputId": "24e1d6d8-4d20-430f-803e-33178cc36c26"
      },
      "source": [
        "# 모델 학습전 컴파일\n",
        "\n",
        "model = get_mnist_model()\n",
        "optimizer = SGD(learning_rate=0.01)\n",
        "model.compile(optimizer = optimizer,\n",
        "              loss ='categorical_crossentropy',\n",
        "              metrics = ['accuracy'])\n",
        "model.summary()"
      ],
      "execution_count": 9,
      "outputs": [
        {
          "output_type": "stream",
          "name": "stdout",
          "text": [
            "Model: \"sequential\"\n",
            "_________________________________________________________________\n",
            "Layer (type)                 Output Shape              Param #   \n",
            "=================================================================\n",
            "dense (Dense)                (None, 50)                39250     \n",
            "_________________________________________________________________\n",
            "dense_1 (Dense)              (None, 50)                2550      \n",
            "_________________________________________________________________\n",
            "dense_2 (Dense)              (None, 50)                2550      \n",
            "_________________________________________________________________\n",
            "dense_3 (Dense)              (None, 50)                2550      \n",
            "_________________________________________________________________\n",
            "dense_4 (Dense)              (None, 10)                510       \n",
            "=================================================================\n",
            "Total params: 47,410\n",
            "Trainable params: 47,410\n",
            "Non-trainable params: 0\n",
            "_________________________________________________________________\n"
          ]
        }
      ]
    },
    {
      "cell_type": "code",
      "metadata": {
        "colab": {
          "base_uri": "https://localhost:8080/"
        },
        "id": "hqWITATfTh_H",
        "outputId": "c888374d-a62a-4435-d9f9-2ccdc0261ec8"
      },
      "source": [
        "model_history = model.fit(X_train, y_train, batch_size=256, validation_split=0.3, epochs=100, verbose=1)"
      ],
      "execution_count": 10,
      "outputs": [
        {
          "output_type": "stream",
          "name": "stdout",
          "text": [
            "Epoch 1/100\n",
            "50/50 [==============================] - 1s 10ms/step - loss: 2.3931 - accuracy: 0.0984 - val_loss: 2.3255 - val_accuracy: 0.1065\n",
            "Epoch 2/100\n",
            "50/50 [==============================] - 0s 5ms/step - loss: 2.3174 - accuracy: 0.0952 - val_loss: 2.3027 - val_accuracy: 0.1065\n",
            "Epoch 3/100\n",
            "50/50 [==============================] - 0s 6ms/step - loss: 2.3032 - accuracy: 0.1085 - val_loss: 2.3000 - val_accuracy: 0.1117\n",
            "Epoch 4/100\n",
            "50/50 [==============================] - 0s 6ms/step - loss: 2.3005 - accuracy: 0.1152 - val_loss: 2.2998 - val_accuracy: 0.1117\n",
            "Epoch 5/100\n",
            "50/50 [==============================] - 0s 6ms/step - loss: 2.2997 - accuracy: 0.1152 - val_loss: 2.2997 - val_accuracy: 0.1117\n",
            "Epoch 6/100\n",
            "50/50 [==============================] - 0s 6ms/step - loss: 2.2993 - accuracy: 0.1152 - val_loss: 2.2997 - val_accuracy: 0.1117\n",
            "Epoch 7/100\n",
            "50/50 [==============================] - 0s 6ms/step - loss: 2.2989 - accuracy: 0.1152 - val_loss: 2.2994 - val_accuracy: 0.1117\n",
            "Epoch 8/100\n",
            "50/50 [==============================] - 0s 6ms/step - loss: 2.2987 - accuracy: 0.1152 - val_loss: 2.2992 - val_accuracy: 0.1117\n",
            "Epoch 9/100\n",
            "50/50 [==============================] - 0s 6ms/step - loss: 2.2984 - accuracy: 0.1152 - val_loss: 2.2991 - val_accuracy: 0.1117\n",
            "Epoch 10/100\n",
            "50/50 [==============================] - 0s 7ms/step - loss: 2.2981 - accuracy: 0.1152 - val_loss: 2.2988 - val_accuracy: 0.1117\n",
            "Epoch 11/100\n",
            "50/50 [==============================] - 0s 6ms/step - loss: 2.2979 - accuracy: 0.1152 - val_loss: 2.2983 - val_accuracy: 0.1117\n",
            "Epoch 12/100\n",
            "50/50 [==============================] - 0s 6ms/step - loss: 2.2977 - accuracy: 0.1152 - val_loss: 2.2983 - val_accuracy: 0.1117\n",
            "Epoch 13/100\n",
            "50/50 [==============================] - 0s 6ms/step - loss: 2.2974 - accuracy: 0.1152 - val_loss: 2.2982 - val_accuracy: 0.1117\n",
            "Epoch 14/100\n",
            "50/50 [==============================] - 0s 6ms/step - loss: 2.2971 - accuracy: 0.1152 - val_loss: 2.2977 - val_accuracy: 0.1117\n",
            "Epoch 15/100\n",
            "50/50 [==============================] - 0s 6ms/step - loss: 2.2969 - accuracy: 0.1152 - val_loss: 2.2975 - val_accuracy: 0.1117\n",
            "Epoch 16/100\n",
            "50/50 [==============================] - 0s 6ms/step - loss: 2.2966 - accuracy: 0.1152 - val_loss: 2.2973 - val_accuracy: 0.1117\n",
            "Epoch 17/100\n",
            "50/50 [==============================] - 0s 6ms/step - loss: 2.2964 - accuracy: 0.1152 - val_loss: 2.2970 - val_accuracy: 0.1117\n",
            "Epoch 18/100\n",
            "50/50 [==============================] - 0s 6ms/step - loss: 2.2960 - accuracy: 0.1152 - val_loss: 2.2968 - val_accuracy: 0.1117\n",
            "Epoch 19/100\n",
            "50/50 [==============================] - 0s 5ms/step - loss: 2.2958 - accuracy: 0.1152 - val_loss: 2.2964 - val_accuracy: 0.1117\n",
            "Epoch 20/100\n",
            "50/50 [==============================] - 0s 6ms/step - loss: 2.2955 - accuracy: 0.1152 - val_loss: 2.2961 - val_accuracy: 0.1117\n",
            "Epoch 21/100\n",
            "50/50 [==============================] - 0s 6ms/step - loss: 2.2953 - accuracy: 0.1152 - val_loss: 2.2961 - val_accuracy: 0.1117\n",
            "Epoch 22/100\n",
            "50/50 [==============================] - 0s 6ms/step - loss: 2.2950 - accuracy: 0.1152 - val_loss: 2.2958 - val_accuracy: 0.1117\n",
            "Epoch 23/100\n",
            "50/50 [==============================] - 0s 6ms/step - loss: 2.2947 - accuracy: 0.1152 - val_loss: 2.2955 - val_accuracy: 0.1117\n",
            "Epoch 24/100\n",
            "50/50 [==============================] - 0s 6ms/step - loss: 2.2945 - accuracy: 0.1152 - val_loss: 2.2950 - val_accuracy: 0.1117\n",
            "Epoch 25/100\n",
            "50/50 [==============================] - 0s 6ms/step - loss: 2.2942 - accuracy: 0.1152 - val_loss: 2.2947 - val_accuracy: 0.1117\n",
            "Epoch 26/100\n",
            "50/50 [==============================] - 0s 6ms/step - loss: 2.2939 - accuracy: 0.1152 - val_loss: 2.2945 - val_accuracy: 0.1117\n",
            "Epoch 27/100\n",
            "50/50 [==============================] - 0s 6ms/step - loss: 2.2936 - accuracy: 0.1152 - val_loss: 2.2942 - val_accuracy: 0.1117\n",
            "Epoch 28/100\n",
            "50/50 [==============================] - 0s 6ms/step - loss: 2.2933 - accuracy: 0.1152 - val_loss: 2.2941 - val_accuracy: 0.1117\n",
            "Epoch 29/100\n",
            "50/50 [==============================] - 0s 6ms/step - loss: 2.2930 - accuracy: 0.1152 - val_loss: 2.2938 - val_accuracy: 0.1117\n",
            "Epoch 30/100\n",
            "50/50 [==============================] - 0s 6ms/step - loss: 2.2927 - accuracy: 0.1152 - val_loss: 2.2936 - val_accuracy: 0.1117\n",
            "Epoch 31/100\n",
            "50/50 [==============================] - 0s 6ms/step - loss: 2.2925 - accuracy: 0.1152 - val_loss: 2.2932 - val_accuracy: 0.1117\n",
            "Epoch 32/100\n",
            "50/50 [==============================] - 0s 6ms/step - loss: 2.2922 - accuracy: 0.1152 - val_loss: 2.2930 - val_accuracy: 0.1117\n",
            "Epoch 33/100\n",
            "50/50 [==============================] - 0s 6ms/step - loss: 2.2919 - accuracy: 0.1152 - val_loss: 2.2927 - val_accuracy: 0.1117\n",
            "Epoch 34/100\n",
            "50/50 [==============================] - 0s 6ms/step - loss: 2.2916 - accuracy: 0.1152 - val_loss: 2.2921 - val_accuracy: 0.1117\n",
            "Epoch 35/100\n",
            "50/50 [==============================] - 0s 6ms/step - loss: 2.2913 - accuracy: 0.1152 - val_loss: 2.2920 - val_accuracy: 0.1117\n",
            "Epoch 36/100\n",
            "50/50 [==============================] - 0s 6ms/step - loss: 2.2909 - accuracy: 0.1152 - val_loss: 2.2918 - val_accuracy: 0.1117\n",
            "Epoch 37/100\n",
            "50/50 [==============================] - 0s 6ms/step - loss: 2.2906 - accuracy: 0.1152 - val_loss: 2.2915 - val_accuracy: 0.1117\n",
            "Epoch 38/100\n",
            "50/50 [==============================] - 0s 6ms/step - loss: 2.2903 - accuracy: 0.1152 - val_loss: 2.2910 - val_accuracy: 0.1117\n",
            "Epoch 39/100\n",
            "50/50 [==============================] - 0s 6ms/step - loss: 2.2899 - accuracy: 0.1152 - val_loss: 2.2906 - val_accuracy: 0.1117\n",
            "Epoch 40/100\n",
            "50/50 [==============================] - 0s 6ms/step - loss: 2.2896 - accuracy: 0.1152 - val_loss: 2.2902 - val_accuracy: 0.1117\n",
            "Epoch 41/100\n",
            "50/50 [==============================] - 0s 6ms/step - loss: 2.2893 - accuracy: 0.1152 - val_loss: 2.2898 - val_accuracy: 0.1117\n",
            "Epoch 42/100\n",
            "50/50 [==============================] - 0s 6ms/step - loss: 2.2889 - accuracy: 0.1152 - val_loss: 2.2895 - val_accuracy: 0.1117\n",
            "Epoch 43/100\n",
            "50/50 [==============================] - 0s 5ms/step - loss: 2.2886 - accuracy: 0.1152 - val_loss: 2.2893 - val_accuracy: 0.1117\n",
            "Epoch 44/100\n",
            "50/50 [==============================] - 0s 6ms/step - loss: 2.2882 - accuracy: 0.1152 - val_loss: 2.2889 - val_accuracy: 0.1117\n",
            "Epoch 45/100\n",
            "50/50 [==============================] - 0s 6ms/step - loss: 2.2879 - accuracy: 0.1152 - val_loss: 2.2885 - val_accuracy: 0.1117\n",
            "Epoch 46/100\n",
            "50/50 [==============================] - 0s 6ms/step - loss: 2.2875 - accuracy: 0.1152 - val_loss: 2.2881 - val_accuracy: 0.1117\n",
            "Epoch 47/100\n",
            "50/50 [==============================] - 0s 5ms/step - loss: 2.2871 - accuracy: 0.1152 - val_loss: 2.2877 - val_accuracy: 0.1117\n",
            "Epoch 48/100\n",
            "50/50 [==============================] - 0s 6ms/step - loss: 2.2868 - accuracy: 0.1152 - val_loss: 2.2873 - val_accuracy: 0.1117\n",
            "Epoch 49/100\n",
            "50/50 [==============================] - 0s 6ms/step - loss: 2.2863 - accuracy: 0.1152 - val_loss: 2.2870 - val_accuracy: 0.1117\n",
            "Epoch 50/100\n",
            "50/50 [==============================] - 0s 6ms/step - loss: 2.2860 - accuracy: 0.1152 - val_loss: 2.2866 - val_accuracy: 0.1117\n",
            "Epoch 51/100\n",
            "50/50 [==============================] - 0s 6ms/step - loss: 2.2855 - accuracy: 0.1152 - val_loss: 2.2863 - val_accuracy: 0.1117\n",
            "Epoch 52/100\n",
            "50/50 [==============================] - 0s 6ms/step - loss: 2.2852 - accuracy: 0.1152 - val_loss: 2.2858 - val_accuracy: 0.1117\n",
            "Epoch 53/100\n",
            "50/50 [==============================] - 0s 6ms/step - loss: 2.2847 - accuracy: 0.1152 - val_loss: 2.2855 - val_accuracy: 0.1117\n",
            "Epoch 54/100\n",
            "50/50 [==============================] - 0s 6ms/step - loss: 2.2843 - accuracy: 0.1152 - val_loss: 2.2850 - val_accuracy: 0.1117\n",
            "Epoch 55/100\n",
            "50/50 [==============================] - 0s 6ms/step - loss: 2.2838 - accuracy: 0.1152 - val_loss: 2.2846 - val_accuracy: 0.1117\n",
            "Epoch 56/100\n",
            "50/50 [==============================] - 0s 6ms/step - loss: 2.2834 - accuracy: 0.1152 - val_loss: 2.2841 - val_accuracy: 0.1117\n",
            "Epoch 57/100\n",
            "50/50 [==============================] - 0s 6ms/step - loss: 2.2829 - accuracy: 0.1152 - val_loss: 2.2837 - val_accuracy: 0.1117\n",
            "Epoch 58/100\n",
            "50/50 [==============================] - 0s 6ms/step - loss: 2.2825 - accuracy: 0.1152 - val_loss: 2.2830 - val_accuracy: 0.1117\n",
            "Epoch 59/100\n",
            "50/50 [==============================] - 0s 6ms/step - loss: 2.2819 - accuracy: 0.1152 - val_loss: 2.2825 - val_accuracy: 0.1117\n",
            "Epoch 60/100\n",
            "50/50 [==============================] - 0s 5ms/step - loss: 2.2814 - accuracy: 0.1152 - val_loss: 2.2821 - val_accuracy: 0.1117\n",
            "Epoch 61/100\n",
            "50/50 [==============================] - 0s 6ms/step - loss: 2.2809 - accuracy: 0.1152 - val_loss: 2.2817 - val_accuracy: 0.1117\n",
            "Epoch 62/100\n",
            "50/50 [==============================] - 0s 7ms/step - loss: 2.2804 - accuracy: 0.1152 - val_loss: 2.2811 - val_accuracy: 0.1117\n",
            "Epoch 63/100\n",
            "50/50 [==============================] - 0s 6ms/step - loss: 2.2798 - accuracy: 0.1152 - val_loss: 2.2807 - val_accuracy: 0.1117\n",
            "Epoch 64/100\n",
            "50/50 [==============================] - 0s 6ms/step - loss: 2.2792 - accuracy: 0.1152 - val_loss: 2.2799 - val_accuracy: 0.1117\n",
            "Epoch 65/100\n",
            "50/50 [==============================] - 0s 6ms/step - loss: 2.2787 - accuracy: 0.1155 - val_loss: 2.2793 - val_accuracy: 0.1117\n",
            "Epoch 66/100\n",
            "50/50 [==============================] - 0s 6ms/step - loss: 2.2781 - accuracy: 0.1152 - val_loss: 2.2788 - val_accuracy: 0.1117\n",
            "Epoch 67/100\n",
            "50/50 [==============================] - 0s 5ms/step - loss: 2.2775 - accuracy: 0.1152 - val_loss: 2.2783 - val_accuracy: 0.1117\n",
            "Epoch 68/100\n",
            "50/50 [==============================] - 0s 6ms/step - loss: 2.2769 - accuracy: 0.1152 - val_loss: 2.2775 - val_accuracy: 0.1117\n",
            "Epoch 69/100\n",
            "50/50 [==============================] - 0s 6ms/step - loss: 2.2763 - accuracy: 0.1162 - val_loss: 2.2770 - val_accuracy: 0.1117\n",
            "Epoch 70/100\n",
            "50/50 [==============================] - 0s 6ms/step - loss: 2.2756 - accuracy: 0.1152 - val_loss: 2.2763 - val_accuracy: 0.1117\n",
            "Epoch 71/100\n",
            "50/50 [==============================] - 0s 6ms/step - loss: 2.2750 - accuracy: 0.1156 - val_loss: 2.2756 - val_accuracy: 0.1185\n",
            "Epoch 72/100\n",
            "50/50 [==============================] - 0s 6ms/step - loss: 2.2742 - accuracy: 0.1248 - val_loss: 2.2751 - val_accuracy: 0.1117\n",
            "Epoch 73/100\n",
            "50/50 [==============================] - 0s 6ms/step - loss: 2.2735 - accuracy: 0.1152 - val_loss: 2.2745 - val_accuracy: 0.1239\n",
            "Epoch 74/100\n",
            "50/50 [==============================] - 0s 6ms/step - loss: 2.2729 - accuracy: 0.1174 - val_loss: 2.2736 - val_accuracy: 0.1117\n",
            "Epoch 75/100\n",
            "50/50 [==============================] - 0s 6ms/step - loss: 2.2721 - accuracy: 0.1158 - val_loss: 2.2730 - val_accuracy: 0.1117\n",
            "Epoch 76/100\n",
            "50/50 [==============================] - 0s 6ms/step - loss: 2.2713 - accuracy: 0.1152 - val_loss: 2.2721 - val_accuracy: 0.1117\n",
            "Epoch 77/100\n",
            "50/50 [==============================] - 0s 6ms/step - loss: 2.2705 - accuracy: 0.1228 - val_loss: 2.2713 - val_accuracy: 0.1117\n",
            "Epoch 78/100\n",
            "50/50 [==============================] - 0s 6ms/step - loss: 2.2698 - accuracy: 0.1152 - val_loss: 2.2704 - val_accuracy: 0.1128\n",
            "Epoch 79/100\n",
            "50/50 [==============================] - 0s 6ms/step - loss: 2.2690 - accuracy: 0.1154 - val_loss: 2.2697 - val_accuracy: 0.1124\n",
            "Epoch 80/100\n",
            "50/50 [==============================] - 0s 6ms/step - loss: 2.2681 - accuracy: 0.1285 - val_loss: 2.2690 - val_accuracy: 0.1117\n",
            "Epoch 81/100\n",
            "50/50 [==============================] - 0s 6ms/step - loss: 2.2673 - accuracy: 0.1159 - val_loss: 2.2682 - val_accuracy: 0.1117\n",
            "Epoch 82/100\n",
            "50/50 [==============================] - 0s 6ms/step - loss: 2.2664 - accuracy: 0.1154 - val_loss: 2.2673 - val_accuracy: 0.1117\n",
            "Epoch 83/100\n",
            "50/50 [==============================] - 0s 6ms/step - loss: 2.2655 - accuracy: 0.1174 - val_loss: 2.2664 - val_accuracy: 0.1120\n",
            "Epoch 84/100\n",
            "50/50 [==============================] - 0s 6ms/step - loss: 2.2645 - accuracy: 0.1185 - val_loss: 2.2654 - val_accuracy: 0.1117\n",
            "Epoch 85/100\n",
            "50/50 [==============================] - 0s 6ms/step - loss: 2.2636 - accuracy: 0.1167 - val_loss: 2.2644 - val_accuracy: 0.1304\n",
            "Epoch 86/100\n",
            "50/50 [==============================] - 0s 6ms/step - loss: 2.2626 - accuracy: 0.1260 - val_loss: 2.2634 - val_accuracy: 0.1439\n",
            "Epoch 87/100\n",
            "50/50 [==============================] - 0s 6ms/step - loss: 2.2616 - accuracy: 0.1421 - val_loss: 2.2623 - val_accuracy: 0.1537\n",
            "Epoch 88/100\n",
            "50/50 [==============================] - 0s 6ms/step - loss: 2.2605 - accuracy: 0.1425 - val_loss: 2.2613 - val_accuracy: 0.1404\n",
            "Epoch 89/100\n",
            "50/50 [==============================] - 0s 6ms/step - loss: 2.2594 - accuracy: 0.1546 - val_loss: 2.2603 - val_accuracy: 0.1289\n",
            "Epoch 90/100\n",
            "50/50 [==============================] - 0s 6ms/step - loss: 2.2583 - accuracy: 0.1354 - val_loss: 2.2593 - val_accuracy: 0.1454\n",
            "Epoch 91/100\n",
            "50/50 [==============================] - 0s 6ms/step - loss: 2.2572 - accuracy: 0.1463 - val_loss: 2.2580 - val_accuracy: 0.1787\n",
            "Epoch 92/100\n",
            "50/50 [==============================] - 0s 6ms/step - loss: 2.2560 - accuracy: 0.1861 - val_loss: 2.2568 - val_accuracy: 0.1641\n",
            "Epoch 93/100\n",
            "50/50 [==============================] - 0s 6ms/step - loss: 2.2547 - accuracy: 0.1713 - val_loss: 2.2556 - val_accuracy: 0.1581\n",
            "Epoch 94/100\n",
            "50/50 [==============================] - 0s 6ms/step - loss: 2.2534 - accuracy: 0.1672 - val_loss: 2.2543 - val_accuracy: 0.1589\n",
            "Epoch 95/100\n",
            "50/50 [==============================] - 0s 6ms/step - loss: 2.2522 - accuracy: 0.1689 - val_loss: 2.2530 - val_accuracy: 0.1639\n",
            "Epoch 96/100\n",
            "50/50 [==============================] - 0s 6ms/step - loss: 2.2508 - accuracy: 0.1773 - val_loss: 2.2515 - val_accuracy: 0.1957\n",
            "Epoch 97/100\n",
            "50/50 [==============================] - 0s 6ms/step - loss: 2.2494 - accuracy: 0.1897 - val_loss: 2.2502 - val_accuracy: 0.1728\n",
            "Epoch 98/100\n",
            "50/50 [==============================] - 0s 6ms/step - loss: 2.2479 - accuracy: 0.1788 - val_loss: 2.2486 - val_accuracy: 0.2181\n",
            "Epoch 99/100\n",
            "50/50 [==============================] - 0s 6ms/step - loss: 2.2465 - accuracy: 0.2258 - val_loss: 2.2473 - val_accuracy: 0.1939\n",
            "Epoch 100/100\n",
            "50/50 [==============================] - 0s 6ms/step - loss: 2.2449 - accuracy: 0.2113 - val_loss: 2.2456 - val_accuracy: 0.1919\n"
          ]
        }
      ]
    },
    {
      "cell_type": "code",
      "metadata": {
        "colab": {
          "base_uri": "https://localhost:8080/"
        },
        "id": "RMNQi0YETiDs",
        "outputId": "1ce760fe-edf3-4ad4-eec5-9b039fba1a68"
      },
      "source": [
        "model_history.history.keys()"
      ],
      "execution_count": 11,
      "outputs": [
        {
          "output_type": "execute_result",
          "data": {
            "text/plain": [
              "dict_keys(['loss', 'accuracy', 'val_loss', 'val_accuracy'])"
            ]
          },
          "metadata": {},
          "execution_count": 11
        }
      ]
    },
    {
      "cell_type": "code",
      "metadata": {
        "colab": {
          "base_uri": "https://localhost:8080/",
          "height": 311
        },
        "id": "a9I5FtTrTiK2",
        "outputId": "33604691-a890-48df-ff42-24625401dc9b"
      },
      "source": [
        "plt. figure(figsize = (15,5))\n",
        "\n",
        "plt.plot(model_history.history['accuracy'])\n",
        "plt.plot(model_history.history['val_accuracy'])\n",
        "plt.legend(['training', 'validation'], loc = 'best')\n",
        "plt.xlabel('Epoch')\n",
        "plt.ylabel('accuracy')\n",
        "\n",
        "plt.show()\n",
        "plt.close()"
      ],
      "execution_count": 12,
      "outputs": [
        {
          "output_type": "display_data",
          "data": {
            "image/png": "[encoded data removed]",
            "text/plain": [
              "<Figure size 1080x360 with 1 Axes>"
            ]
          },
          "metadata": {
            "needs_background": "light"
          }
        }
      ]
    },
    {
      "cell_type": "code",
      "metadata": {
        "colab": {
          "base_uri": "https://localhost:8080/"
        },
        "id": "xNiuv0QhTiOk",
        "outputId": "512ecb87-6266-4961-9fe3-e1fb8da9343e"
      },
      "source": [
        "# 모델 평가하기\n",
        "model_eval = model.evaluate(X_test,y_test)\n",
        "print(model_eval[1]) # 정확도만 추출"
      ],
      "execution_count": 13,
      "outputs": [
        {
          "output_type": "stream",
          "name": "stdout",
          "text": [
            "1313/1313 [==============================] - 2s 1ms/step - loss: 2.2451 - accuracy: 0.2013\n",
            "0.20133332908153534\n"
          ]
        }
      ]
    },
    {
      "cell_type": "markdown",
      "metadata": {
        "id": "wHyXcS9mYPUf"
      },
      "source": [
        "## 가중치 초기화\n",
        "- LeCun\n",
        "- Xaiver\n",
        "- He-Normal"
      ]
    },
    {
      "cell_type": "code",
      "metadata": {
        "id": "y4NyRAepTiTF"
      },
      "source": [
        "# Sigmoid, Tanh - > Xaiver(glorot_normal) , relu -> he_normal과 매칭시키는게 좋음\n",
        "# 가중치를 초기화시켜줄 함수 + 컴파일까지\n",
        "def get_mnist_weight_initialization_model():\n",
        "  model = Sequential()\n",
        "\n",
        "  model.add( Dense(50, activation = 'sigmoid', input_shape = (784, ), kernel_initializer='he_normal' ) ) # 입력층\n",
        "\n",
        "  model.add( Dense(50, activation = 'sigmoid', kernel_initializer='he_normal' ) ) # 은닉층1\n",
        "  model.add( Dense(50, activation = 'sigmoid', kernel_initializer='he_normal' ) ) # 은닉층2\n",
        "  model.add( Dense(50, activation = 'sigmoid', kernel_initializer='he_normal' ) ) # 은닉층3\n",
        "\n",
        "  model.add( Dense(10, activation = 'softmax' ) )\n",
        "\n",
        "  model.compile(optimizer = SGD(learning_rate=0.01),\n",
        "              loss ='categorical_crossentropy',\n",
        "              metrics = ['accuracy'])\n",
        "  \n",
        "  return model"
      ],
      "execution_count": 14,
      "outputs": []
    },
    {
      "cell_type": "code",
      "metadata": {
        "colab": {
          "base_uri": "https://localhost:8080/"
        },
        "id": "KY7fcWFLXrQc",
        "outputId": "b9d9e44c-5649-41db-f878-6b54f023327b"
      },
      "source": [
        "model = get_mnist_weight_initialization_model()\n",
        "model.summary()"
      ],
      "execution_count": 15,
      "outputs": [
        {
          "output_type": "stream",
          "name": "stdout",
          "text": [
            "Model: \"sequential_1\"\n",
            "_________________________________________________________________\n",
            "Layer (type)                 Output Shape              Param #   \n",
            "=================================================================\n",
            "dense_5 (Dense)              (None, 50)                39250     \n",
            "_________________________________________________________________\n",
            "dense_6 (Dense)              (None, 50)                2550      \n",
            "_________________________________________________________________\n",
            "dense_7 (Dense)              (None, 50)                2550      \n",
            "_________________________________________________________________\n",
            "dense_8 (Dense)              (None, 50)                2550      \n",
            "_________________________________________________________________\n",
            "dense_9 (Dense)              (None, 10)                510       \n",
            "=================================================================\n",
            "Total params: 47,410\n",
            "Trainable params: 47,410\n",
            "Non-trainable params: 0\n",
            "_________________________________________________________________\n"
          ]
        }
      ]
    },
    {
      "cell_type": "code",
      "metadata": {
        "colab": {
          "base_uri": "https://localhost:8080/"
        },
        "id": "6JkOEGwsXrTh",
        "outputId": "fce40291-79c9-4c4b-956e-780ff560fdd5"
      },
      "source": [
        "X_train.shape, X_test.shape, y_train.shape, y_test.shape"
      ],
      "execution_count": 16,
      "outputs": [
        {
          "output_type": "execute_result",
          "data": {
            "text/plain": [
              "((18000, 784), (42000, 784), (18000, 10), (42000, 10))"
            ]
          },
          "metadata": {},
          "execution_count": 16
        }
      ]
    },
    {
      "cell_type": "code",
      "metadata": {
        "colab": {
          "base_uri": "https://localhost:8080/"
        },
        "id": "2lqZv4fEXrXV",
        "outputId": "ce178286-9e6b-4d0c-9007-cd1f99a2804b"
      },
      "source": [
        "model_history = model.fit(X_train, y_train, batch_size=256, validation_split=0.3, epochs=100, verbose=1)"
      ],
      "execution_count": 17,
      "outputs": [
        {
          "output_type": "stream",
          "name": "stdout",
          "text": [
            "Epoch 1/100\n",
            "50/50 [==============================] - 1s 8ms/step - loss: 2.4147 - accuracy: 0.0987 - val_loss: 2.3391 - val_accuracy: 0.1048\n",
            "Epoch 2/100\n",
            "50/50 [==============================] - 0s 6ms/step - loss: 2.3184 - accuracy: 0.1036 - val_loss: 2.3044 - val_accuracy: 0.1385\n",
            "Epoch 3/100\n",
            "50/50 [==============================] - 0s 6ms/step - loss: 2.3002 - accuracy: 0.1291 - val_loss: 2.2976 - val_accuracy: 0.1111\n",
            "Epoch 4/100\n",
            "50/50 [==============================] - 0s 6ms/step - loss: 2.2962 - accuracy: 0.1151 - val_loss: 2.2957 - val_accuracy: 0.1117\n",
            "Epoch 5/100\n",
            "50/50 [==============================] - 0s 6ms/step - loss: 2.2945 - accuracy: 0.1152 - val_loss: 2.2946 - val_accuracy: 0.1117\n",
            "Epoch 6/100\n",
            "50/50 [==============================] - 0s 6ms/step - loss: 2.2934 - accuracy: 0.1156 - val_loss: 2.2937 - val_accuracy: 0.1117\n",
            "Epoch 7/100\n",
            "50/50 [==============================] - 0s 6ms/step - loss: 2.2924 - accuracy: 0.1152 - val_loss: 2.2926 - val_accuracy: 0.1117\n",
            "Epoch 8/100\n",
            "50/50 [==============================] - 0s 6ms/step - loss: 2.2915 - accuracy: 0.1157 - val_loss: 2.2916 - val_accuracy: 0.1117\n",
            "Epoch 9/100\n",
            "50/50 [==============================] - 0s 6ms/step - loss: 2.2905 - accuracy: 0.1152 - val_loss: 2.2909 - val_accuracy: 0.1117\n",
            "Epoch 10/100\n",
            "50/50 [==============================] - 0s 5ms/step - loss: 2.2895 - accuracy: 0.1152 - val_loss: 2.2901 - val_accuracy: 0.1183\n",
            "Epoch 11/100\n",
            "50/50 [==============================] - 0s 8ms/step - loss: 2.2885 - accuracy: 0.1188 - val_loss: 2.2890 - val_accuracy: 0.1244\n",
            "Epoch 12/100\n",
            "50/50 [==============================] - 0s 5ms/step - loss: 2.2875 - accuracy: 0.1234 - val_loss: 2.2879 - val_accuracy: 0.1185\n",
            "Epoch 13/100\n",
            "50/50 [==============================] - 0s 6ms/step - loss: 2.2865 - accuracy: 0.1215 - val_loss: 2.2871 - val_accuracy: 0.1146\n",
            "Epoch 14/100\n",
            "50/50 [==============================] - 0s 6ms/step - loss: 2.2856 - accuracy: 0.1182 - val_loss: 2.2863 - val_accuracy: 0.1154\n",
            "Epoch 15/100\n",
            "50/50 [==============================] - 0s 6ms/step - loss: 2.2846 - accuracy: 0.1254 - val_loss: 2.2852 - val_accuracy: 0.1133\n",
            "Epoch 16/100\n",
            "50/50 [==============================] - 0s 6ms/step - loss: 2.2836 - accuracy: 0.1242 - val_loss: 2.2841 - val_accuracy: 0.1122\n",
            "Epoch 17/100\n",
            "50/50 [==============================] - 0s 6ms/step - loss: 2.2826 - accuracy: 0.1163 - val_loss: 2.2830 - val_accuracy: 0.1152\n",
            "Epoch 18/100\n",
            "50/50 [==============================] - 0s 6ms/step - loss: 2.2815 - accuracy: 0.1213 - val_loss: 2.2820 - val_accuracy: 0.1185\n",
            "Epoch 19/100\n",
            "50/50 [==============================] - 0s 6ms/step - loss: 2.2803 - accuracy: 0.1201 - val_loss: 2.2809 - val_accuracy: 0.1369\n",
            "Epoch 20/100\n",
            "50/50 [==============================] - 0s 6ms/step - loss: 2.2792 - accuracy: 0.1277 - val_loss: 2.2799 - val_accuracy: 0.1454\n",
            "Epoch 21/100\n",
            "50/50 [==============================] - 0s 6ms/step - loss: 2.2780 - accuracy: 0.1390 - val_loss: 2.2785 - val_accuracy: 0.1317\n",
            "Epoch 22/100\n",
            "50/50 [==============================] - 0s 6ms/step - loss: 2.2767 - accuracy: 0.1359 - val_loss: 2.2775 - val_accuracy: 0.1341\n",
            "Epoch 23/100\n",
            "50/50 [==============================] - 0s 6ms/step - loss: 2.2754 - accuracy: 0.1521 - val_loss: 2.2764 - val_accuracy: 0.1235\n",
            "Epoch 24/100\n",
            "50/50 [==============================] - 0s 6ms/step - loss: 2.2742 - accuracy: 0.1490 - val_loss: 2.2748 - val_accuracy: 0.1219\n",
            "Epoch 25/100\n",
            "50/50 [==============================] - 0s 6ms/step - loss: 2.2729 - accuracy: 0.1321 - val_loss: 2.2739 - val_accuracy: 0.1298\n",
            "Epoch 26/100\n",
            "50/50 [==============================] - 0s 6ms/step - loss: 2.2717 - accuracy: 0.1433 - val_loss: 2.2726 - val_accuracy: 0.1389\n",
            "Epoch 27/100\n",
            "50/50 [==============================] - 0s 6ms/step - loss: 2.2703 - accuracy: 0.1363 - val_loss: 2.2713 - val_accuracy: 0.1563\n",
            "Epoch 28/100\n",
            "50/50 [==============================] - 0s 6ms/step - loss: 2.2690 - accuracy: 0.1749 - val_loss: 2.2698 - val_accuracy: 0.1383\n",
            "Epoch 29/100\n",
            "50/50 [==============================] - 0s 6ms/step - loss: 2.2676 - accuracy: 0.1408 - val_loss: 2.2685 - val_accuracy: 0.1589\n",
            "Epoch 30/100\n",
            "50/50 [==============================] - 0s 6ms/step - loss: 2.2662 - accuracy: 0.1664 - val_loss: 2.2670 - val_accuracy: 0.1633\n",
            "Epoch 31/100\n",
            "50/50 [==============================] - 0s 6ms/step - loss: 2.2649 - accuracy: 0.1713 - val_loss: 2.2657 - val_accuracy: 0.1572\n",
            "Epoch 32/100\n",
            "50/50 [==============================] - 0s 6ms/step - loss: 2.2635 - accuracy: 0.1726 - val_loss: 2.2644 - val_accuracy: 0.1533\n",
            "Epoch 33/100\n",
            "50/50 [==============================] - 0s 6ms/step - loss: 2.2619 - accuracy: 0.1679 - val_loss: 2.2626 - val_accuracy: 0.1554\n",
            "Epoch 34/100\n",
            "50/50 [==============================] - 0s 6ms/step - loss: 2.2604 - accuracy: 0.1739 - val_loss: 2.2611 - val_accuracy: 0.1541\n",
            "Epoch 35/100\n",
            "50/50 [==============================] - 0s 6ms/step - loss: 2.2587 - accuracy: 0.1698 - val_loss: 2.2596 - val_accuracy: 0.1593\n",
            "Epoch 36/100\n",
            "50/50 [==============================] - 0s 6ms/step - loss: 2.2571 - accuracy: 0.1792 - val_loss: 2.2579 - val_accuracy: 0.1667\n",
            "Epoch 37/100\n",
            "50/50 [==============================] - 0s 6ms/step - loss: 2.2554 - accuracy: 0.1767 - val_loss: 2.2562 - val_accuracy: 0.1815\n",
            "Epoch 38/100\n",
            "50/50 [==============================] - 0s 6ms/step - loss: 2.2536 - accuracy: 0.1900 - val_loss: 2.2545 - val_accuracy: 0.1789\n",
            "Epoch 39/100\n",
            "50/50 [==============================] - 0s 6ms/step - loss: 2.2518 - accuracy: 0.1957 - val_loss: 2.2528 - val_accuracy: 0.1748\n",
            "Epoch 40/100\n",
            "50/50 [==============================] - 0s 6ms/step - loss: 2.2499 - accuracy: 0.1824 - val_loss: 2.2509 - val_accuracy: 0.1856\n",
            "Epoch 41/100\n",
            "50/50 [==============================] - 0s 6ms/step - loss: 2.2480 - accuracy: 0.2001 - val_loss: 2.2491 - val_accuracy: 0.1906\n",
            "Epoch 42/100\n",
            "50/50 [==============================] - 0s 6ms/step - loss: 2.2460 - accuracy: 0.2025 - val_loss: 2.2469 - val_accuracy: 0.1865\n",
            "Epoch 43/100\n",
            "50/50 [==============================] - 0s 6ms/step - loss: 2.2440 - accuracy: 0.1979 - val_loss: 2.2449 - val_accuracy: 0.1920\n",
            "Epoch 44/100\n",
            "50/50 [==============================] - 0s 6ms/step - loss: 2.2419 - accuracy: 0.2040 - val_loss: 2.2428 - val_accuracy: 0.1948\n",
            "Epoch 45/100\n",
            "50/50 [==============================] - 0s 6ms/step - loss: 2.2397 - accuracy: 0.2063 - val_loss: 2.2403 - val_accuracy: 0.1950\n",
            "Epoch 46/100\n",
            "50/50 [==============================] - 0s 6ms/step - loss: 2.2372 - accuracy: 0.2083 - val_loss: 2.2382 - val_accuracy: 0.2194\n",
            "Epoch 47/100\n",
            "50/50 [==============================] - 0s 6ms/step - loss: 2.2349 - accuracy: 0.2227 - val_loss: 2.2360 - val_accuracy: 0.2183\n",
            "Epoch 48/100\n",
            "50/50 [==============================] - 0s 6ms/step - loss: 2.2324 - accuracy: 0.2212 - val_loss: 2.2336 - val_accuracy: 0.2163\n",
            "Epoch 49/100\n",
            "50/50 [==============================] - 0s 5ms/step - loss: 2.2300 - accuracy: 0.2463 - val_loss: 2.2308 - val_accuracy: 0.2189\n",
            "Epoch 50/100\n",
            "50/50 [==============================] - 0s 6ms/step - loss: 2.2273 - accuracy: 0.2369 - val_loss: 2.2281 - val_accuracy: 0.2167\n",
            "Epoch 51/100\n",
            "50/50 [==============================] - 0s 6ms/step - loss: 2.2244 - accuracy: 0.2402 - val_loss: 2.2251 - val_accuracy: 0.2156\n",
            "Epoch 52/100\n",
            "50/50 [==============================] - 0s 6ms/step - loss: 2.2215 - accuracy: 0.2309 - val_loss: 2.2222 - val_accuracy: 0.2591\n",
            "Epoch 53/100\n",
            "50/50 [==============================] - 0s 6ms/step - loss: 2.2184 - accuracy: 0.2687 - val_loss: 2.2192 - val_accuracy: 0.2404\n",
            "Epoch 54/100\n",
            "50/50 [==============================] - 0s 6ms/step - loss: 2.2151 - accuracy: 0.2654 - val_loss: 2.2162 - val_accuracy: 0.2296\n",
            "Epoch 55/100\n",
            "50/50 [==============================] - 0s 6ms/step - loss: 2.2118 - accuracy: 0.2610 - val_loss: 2.2130 - val_accuracy: 0.2528\n",
            "Epoch 56/100\n",
            "50/50 [==============================] - 0s 6ms/step - loss: 2.2084 - accuracy: 0.2597 - val_loss: 2.2094 - val_accuracy: 0.2826\n",
            "Epoch 57/100\n",
            "50/50 [==============================] - 0s 5ms/step - loss: 2.2048 - accuracy: 0.2894 - val_loss: 2.2058 - val_accuracy: 0.2639\n",
            "Epoch 58/100\n",
            "50/50 [==============================] - 0s 6ms/step - loss: 2.2011 - accuracy: 0.2744 - val_loss: 2.2023 - val_accuracy: 0.2937\n",
            "Epoch 59/100\n",
            "50/50 [==============================] - 0s 6ms/step - loss: 2.1973 - accuracy: 0.3101 - val_loss: 2.1981 - val_accuracy: 0.2835\n",
            "Epoch 60/100\n",
            "50/50 [==============================] - 0s 6ms/step - loss: 2.1933 - accuracy: 0.2976 - val_loss: 2.1945 - val_accuracy: 0.2869\n",
            "Epoch 61/100\n",
            "50/50 [==============================] - 0s 6ms/step - loss: 2.1891 - accuracy: 0.2996 - val_loss: 2.1902 - val_accuracy: 0.3319\n",
            "Epoch 62/100\n",
            "50/50 [==============================] - 0s 6ms/step - loss: 2.1848 - accuracy: 0.3414 - val_loss: 2.1859 - val_accuracy: 0.3246\n",
            "Epoch 63/100\n",
            "50/50 [==============================] - 0s 6ms/step - loss: 2.1803 - accuracy: 0.3433 - val_loss: 2.1812 - val_accuracy: 0.3257\n",
            "Epoch 64/100\n",
            "50/50 [==============================] - 0s 6ms/step - loss: 2.1755 - accuracy: 0.3521 - val_loss: 2.1764 - val_accuracy: 0.3152\n",
            "Epoch 65/100\n",
            "50/50 [==============================] - 0s 7ms/step - loss: 2.1706 - accuracy: 0.3352 - val_loss: 2.1716 - val_accuracy: 0.3352\n",
            "Epoch 66/100\n",
            "50/50 [==============================] - 0s 6ms/step - loss: 2.1655 - accuracy: 0.3463 - val_loss: 2.1665 - val_accuracy: 0.3522\n",
            "Epoch 67/100\n",
            "50/50 [==============================] - 0s 6ms/step - loss: 2.1602 - accuracy: 0.3860 - val_loss: 2.1613 - val_accuracy: 0.3300\n",
            "Epoch 68/100\n",
            "50/50 [==============================] - 0s 6ms/step - loss: 2.1545 - accuracy: 0.3578 - val_loss: 2.1556 - val_accuracy: 0.3661\n",
            "Epoch 69/100\n",
            "50/50 [==============================] - 0s 6ms/step - loss: 2.1487 - accuracy: 0.3925 - val_loss: 2.1498 - val_accuracy: 0.3481\n",
            "Epoch 70/100\n",
            "50/50 [==============================] - 0s 6ms/step - loss: 2.1427 - accuracy: 0.3665 - val_loss: 2.1436 - val_accuracy: 0.3526\n",
            "Epoch 71/100\n",
            "50/50 [==============================] - 0s 6ms/step - loss: 2.1364 - accuracy: 0.3763 - val_loss: 2.1371 - val_accuracy: 0.3761\n",
            "Epoch 72/100\n",
            "50/50 [==============================] - 0s 6ms/step - loss: 2.1297 - accuracy: 0.3991 - val_loss: 2.1304 - val_accuracy: 0.3698\n",
            "Epoch 73/100\n",
            "50/50 [==============================] - 0s 6ms/step - loss: 2.1228 - accuracy: 0.3883 - val_loss: 2.1233 - val_accuracy: 0.3874\n",
            "Epoch 74/100\n",
            "50/50 [==============================] - 0s 6ms/step - loss: 2.1155 - accuracy: 0.4048 - val_loss: 2.1162 - val_accuracy: 0.3900\n",
            "Epoch 75/100\n",
            "50/50 [==============================] - 0s 6ms/step - loss: 2.1081 - accuracy: 0.4150 - val_loss: 2.1087 - val_accuracy: 0.3906\n",
            "Epoch 76/100\n",
            "50/50 [==============================] - 0s 6ms/step - loss: 2.1004 - accuracy: 0.4184 - val_loss: 2.1008 - val_accuracy: 0.3904\n",
            "Epoch 77/100\n",
            "50/50 [==============================] - 0s 6ms/step - loss: 2.0923 - accuracy: 0.4127 - val_loss: 2.0927 - val_accuracy: 0.4119\n",
            "Epoch 78/100\n",
            "50/50 [==============================] - 0s 6ms/step - loss: 2.0840 - accuracy: 0.4198 - val_loss: 2.0842 - val_accuracy: 0.4165\n",
            "Epoch 79/100\n",
            "50/50 [==============================] - 0s 6ms/step - loss: 2.0751 - accuracy: 0.4227 - val_loss: 2.0755 - val_accuracy: 0.4213\n",
            "Epoch 80/100\n",
            "50/50 [==============================] - 0s 7ms/step - loss: 2.0661 - accuracy: 0.4352 - val_loss: 2.0663 - val_accuracy: 0.4298\n",
            "Epoch 81/100\n",
            "50/50 [==============================] - 0s 6ms/step - loss: 2.0568 - accuracy: 0.4485 - val_loss: 2.0568 - val_accuracy: 0.4200\n",
            "Epoch 82/100\n",
            "50/50 [==============================] - 0s 6ms/step - loss: 2.0470 - accuracy: 0.4494 - val_loss: 2.0471 - val_accuracy: 0.4119\n",
            "Epoch 83/100\n",
            "50/50 [==============================] - 0s 6ms/step - loss: 2.0369 - accuracy: 0.4279 - val_loss: 2.0369 - val_accuracy: 0.4280\n",
            "Epoch 84/100\n",
            "50/50 [==============================] - 0s 6ms/step - loss: 2.0266 - accuracy: 0.4429 - val_loss: 2.0264 - val_accuracy: 0.4276\n",
            "Epoch 85/100\n",
            "50/50 [==============================] - 0s 6ms/step - loss: 2.0158 - accuracy: 0.4433 - val_loss: 2.0158 - val_accuracy: 0.4365\n",
            "Epoch 86/100\n",
            "50/50 [==============================] - 0s 6ms/step - loss: 2.0047 - accuracy: 0.4571 - val_loss: 2.0042 - val_accuracy: 0.4394\n",
            "Epoch 87/100\n",
            "50/50 [==============================] - 0s 6ms/step - loss: 1.9932 - accuracy: 0.4615 - val_loss: 1.9930 - val_accuracy: 0.4424\n",
            "Epoch 88/100\n",
            "50/50 [==============================] - 0s 6ms/step - loss: 1.9815 - accuracy: 0.4594 - val_loss: 1.9812 - val_accuracy: 0.4444\n",
            "Epoch 89/100\n",
            "50/50 [==============================] - 0s 6ms/step - loss: 1.9694 - accuracy: 0.4580 - val_loss: 1.9692 - val_accuracy: 0.4485\n",
            "Epoch 90/100\n",
            "50/50 [==============================] - 0s 6ms/step - loss: 1.9572 - accuracy: 0.4637 - val_loss: 1.9571 - val_accuracy: 0.4530\n",
            "Epoch 91/100\n",
            "50/50 [==============================] - 0s 6ms/step - loss: 1.9447 - accuracy: 0.4694 - val_loss: 1.9443 - val_accuracy: 0.4574\n",
            "Epoch 92/100\n",
            "50/50 [==============================] - 0s 6ms/step - loss: 1.9321 - accuracy: 0.4735 - val_loss: 1.9314 - val_accuracy: 0.4635\n",
            "Epoch 93/100\n",
            "50/50 [==============================] - 0s 6ms/step - loss: 1.9191 - accuracy: 0.4798 - val_loss: 1.9186 - val_accuracy: 0.4620\n",
            "Epoch 94/100\n",
            "50/50 [==============================] - 0s 8ms/step - loss: 1.9059 - accuracy: 0.4801 - val_loss: 1.9057 - val_accuracy: 0.4665\n",
            "Epoch 95/100\n",
            "50/50 [==============================] - 0s 6ms/step - loss: 1.8925 - accuracy: 0.4815 - val_loss: 1.8924 - val_accuracy: 0.4706\n",
            "Epoch 96/100\n",
            "50/50 [==============================] - 0s 6ms/step - loss: 1.8789 - accuracy: 0.4900 - val_loss: 1.8791 - val_accuracy: 0.4717\n",
            "Epoch 97/100\n",
            "50/50 [==============================] - 0s 6ms/step - loss: 1.8651 - accuracy: 0.4888 - val_loss: 1.8656 - val_accuracy: 0.4722\n",
            "Epoch 98/100\n",
            "50/50 [==============================] - 0s 6ms/step - loss: 1.8514 - accuracy: 0.4944 - val_loss: 1.8519 - val_accuracy: 0.4767\n",
            "Epoch 99/100\n",
            "50/50 [==============================] - 0s 6ms/step - loss: 1.8372 - accuracy: 0.4940 - val_loss: 1.8384 - val_accuracy: 0.4824\n",
            "Epoch 100/100\n",
            "50/50 [==============================] - 0s 6ms/step - loss: 1.8233 - accuracy: 0.4995 - val_loss: 1.8248 - val_accuracy: 0.4841\n"
          ]
        }
      ]
    },
    {
      "cell_type": "code",
      "metadata": {
        "colab": {
          "base_uri": "https://localhost:8080/",
          "height": 311
        },
        "id": "tyiyI_mTXra9",
        "outputId": "855ad824-0be0-4a8a-db07-ee2b2c402d70"
      },
      "source": [
        "# 모델 성능 시각화\n",
        "plt. figure(figsize = (15,5))\n",
        "\n",
        "plt.plot(model_history.history['accuracy'])\n",
        "plt.plot(model_history.history['val_accuracy'])\n",
        "plt.legend(['training', 'validation'], loc = 'best')\n",
        "plt.xlabel('Epoch')\n",
        "plt.ylabel('accuracy')\n",
        "\n",
        "plt.show()\n",
        "plt.close()"
      ],
      "execution_count": 18,
      "outputs": [
        {
          "output_type": "display_data",
          "data": {
            "image/png": "[encoded data removed]",
            "text/plain": [
              "<Figure size 1080x360 with 1 Axes>"
            ]
          },
          "metadata": {
            "needs_background": "light"
          }
        }
      ]
    },
    {
      "cell_type": "markdown",
      "metadata": {
        "id": "eZPqOa1abLti"
      },
      "source": [
        "Xaiver 사용할때 보다 he_normal을 사용할때 더 성능이 좋다고 나왔다."
      ]
    },
    {
      "cell_type": "code",
      "metadata": {
        "colab": {
          "base_uri": "https://localhost:8080/"
        },
        "id": "3KeYVmhbXreV",
        "outputId": "e51c168e-cd07-4529-b1bf-9c08939a14ea"
      },
      "source": [
        "model_eval = model.evaluate(X_test,y_test)\n",
        "print(model_eval[1])"
      ],
      "execution_count": 19,
      "outputs": [
        {
          "output_type": "stream",
          "name": "stdout",
          "text": [
            "1313/1313 [==============================] - 2s 1ms/step - loss: 1.8234 - accuracy: 0.4968\n",
            "0.4967857003211975\n"
          ]
        }
      ]
    },
    {
      "cell_type": "markdown",
      "metadata": {
        "id": "ipJFxA_6g0Xd"
      },
      "source": [
        "## 활성화 함수를 변경해서 성능확인\n",
        "\n"
      ]
    },
    {
      "cell_type": "code",
      "metadata": {
        "id": "7fsDiKlwXrhV"
      },
      "source": [
        "def get_mnist_activation_model():\n",
        "  model = Sequential()\n",
        "\n",
        "  model.add( Dense(50, activation = 'relu', input_shape = (784, )) ) # 입력층\n",
        "\n",
        "  model.add( Dense(50, activation = 'relu' ) ) # 은닉층1\n",
        "  model.add( Dense(50, activation = 'relu' ) ) # 은닉층2\n",
        "  model.add( Dense(50, activation = 'relu' ) ) # 은닉층3\n",
        "\n",
        "  model.add( Dense(10, activation = 'softmax' ) )\n",
        "\n",
        "  model.compile(optimizer = SGD(learning_rate=0.01),\n",
        "              loss ='categorical_crossentropy',\n",
        "              metrics = ['accuracy'])\n",
        "  \n",
        "  return model"
      ],
      "execution_count": 20,
      "outputs": []
    },
    {
      "cell_type": "code",
      "metadata": {
        "colab": {
          "base_uri": "https://localhost:8080/"
        },
        "id": "9yx0_5cDXrk9",
        "outputId": "aab4aabd-babd-4ffa-8a9b-4c2c7afe4157"
      },
      "source": [
        "model = get_mnist_activation_model()\n",
        "model.summary()"
      ],
      "execution_count": 21,
      "outputs": [
        {
          "output_type": "stream",
          "name": "stdout",
          "text": [
            "Model: \"sequential_2\"\n",
            "_________________________________________________________________\n",
            "Layer (type)                 Output Shape              Param #   \n",
            "=================================================================\n",
            "dense_10 (Dense)             (None, 50)                39250     \n",
            "_________________________________________________________________\n",
            "dense_11 (Dense)             (None, 50)                2550      \n",
            "_________________________________________________________________\n",
            "dense_12 (Dense)             (None, 50)                2550      \n",
            "_________________________________________________________________\n",
            "dense_13 (Dense)             (None, 50)                2550      \n",
            "_________________________________________________________________\n",
            "dense_14 (Dense)             (None, 10)                510       \n",
            "=================================================================\n",
            "Total params: 47,410\n",
            "Trainable params: 47,410\n",
            "Non-trainable params: 0\n",
            "_________________________________________________________________\n"
          ]
        }
      ]
    },
    {
      "cell_type": "code",
      "metadata": {
        "colab": {
          "base_uri": "https://localhost:8080/"
        },
        "id": "JAeWZ08DXrod",
        "outputId": "b7a689fb-68f0-4406-e82c-c9ec03289224"
      },
      "source": [
        "model_history = model.fit(X_train, y_train, batch_size=256, validation_split=0.3, epochs=100, verbose=1)"
      ],
      "execution_count": 22,
      "outputs": [
        {
          "output_type": "stream",
          "name": "stdout",
          "text": [
            "Epoch 1/100\n",
            "50/50 [==============================] - 1s 9ms/step - loss: 20.4830 - accuracy: 0.1113 - val_loss: 2.3135 - val_accuracy: 0.1137\n",
            "Epoch 2/100\n",
            "50/50 [==============================] - 0s 6ms/step - loss: 2.3142 - accuracy: 0.1184 - val_loss: 2.3139 - val_accuracy: 0.1119\n",
            "Epoch 3/100\n",
            "50/50 [==============================] - 0s 6ms/step - loss: 2.2981 - accuracy: 0.1183 - val_loss: 2.3059 - val_accuracy: 0.1143\n",
            "Epoch 4/100\n",
            "50/50 [==============================] - 0s 6ms/step - loss: 2.2918 - accuracy: 0.1223 - val_loss: 2.2549 - val_accuracy: 0.1415\n",
            "Epoch 5/100\n",
            "50/50 [==============================] - 0s 6ms/step - loss: 2.1811 - accuracy: 0.1790 - val_loss: 2.1910 - val_accuracy: 0.1774\n",
            "Epoch 6/100\n",
            "50/50 [==============================] - 0s 6ms/step - loss: 2.1389 - accuracy: 0.1944 - val_loss: 2.1682 - val_accuracy: 0.1846\n",
            "Epoch 7/100\n",
            "50/50 [==============================] - 0s 6ms/step - loss: 2.1313 - accuracy: 0.1949 - val_loss: 2.1378 - val_accuracy: 0.1941\n",
            "Epoch 8/100\n",
            "50/50 [==============================] - 0s 6ms/step - loss: 2.1470 - accuracy: 0.1904 - val_loss: 2.1611 - val_accuracy: 0.1902\n",
            "Epoch 9/100\n",
            "50/50 [==============================] - 0s 6ms/step - loss: 2.1287 - accuracy: 0.1923 - val_loss: 2.1473 - val_accuracy: 0.1907\n",
            "Epoch 10/100\n",
            "50/50 [==============================] - 0s 6ms/step - loss: 2.1129 - accuracy: 0.1956 - val_loss: 2.1439 - val_accuracy: 0.1939\n",
            "Epoch 11/100\n",
            "50/50 [==============================] - 0s 6ms/step - loss: 2.1055 - accuracy: 0.1974 - val_loss: 2.1362 - val_accuracy: 0.1972\n",
            "Epoch 12/100\n",
            "50/50 [==============================] - 0s 6ms/step - loss: 2.0979 - accuracy: 0.2002 - val_loss: 2.1277 - val_accuracy: 0.1948\n",
            "Epoch 13/100\n",
            "50/50 [==============================] - 0s 6ms/step - loss: 2.0893 - accuracy: 0.2016 - val_loss: 2.1295 - val_accuracy: 0.2019\n",
            "Epoch 14/100\n",
            "50/50 [==============================] - 0s 6ms/step - loss: 2.0825 - accuracy: 0.2040 - val_loss: 2.1154 - val_accuracy: 0.2022\n",
            "Epoch 15/100\n",
            "50/50 [==============================] - 0s 6ms/step - loss: 2.0733 - accuracy: 0.2081 - val_loss: 2.1048 - val_accuracy: 0.2044\n",
            "Epoch 16/100\n",
            "50/50 [==============================] - 0s 5ms/step - loss: 2.0612 - accuracy: 0.2162 - val_loss: 2.0921 - val_accuracy: 0.2120\n",
            "Epoch 17/100\n",
            "50/50 [==============================] - 0s 6ms/step - loss: 2.0142 - accuracy: 0.2410 - val_loss: 1.9740 - val_accuracy: 0.2770\n",
            "Epoch 18/100\n",
            "50/50 [==============================] - 0s 6ms/step - loss: 1.9151 - accuracy: 0.2909 - val_loss: 2.0973 - val_accuracy: 0.2043\n",
            "Epoch 19/100\n",
            "50/50 [==============================] - 0s 6ms/step - loss: 1.9127 - accuracy: 0.2906 - val_loss: 1.9341 - val_accuracy: 0.2972\n",
            "Epoch 20/100\n",
            "50/50 [==============================] - 0s 8ms/step - loss: 1.8700 - accuracy: 0.3048 - val_loss: 1.9841 - val_accuracy: 0.2439\n",
            "Epoch 21/100\n",
            "50/50 [==============================] - 0s 6ms/step - loss: 1.8498 - accuracy: 0.3090 - val_loss: 1.9680 - val_accuracy: 0.2733\n",
            "Epoch 22/100\n",
            "50/50 [==============================] - 0s 6ms/step - loss: 1.8289 - accuracy: 0.3179 - val_loss: 1.8581 - val_accuracy: 0.3100\n",
            "Epoch 23/100\n",
            "50/50 [==============================] - 0s 6ms/step - loss: 1.7956 - accuracy: 0.3353 - val_loss: 1.8093 - val_accuracy: 0.3593\n",
            "Epoch 24/100\n",
            "50/50 [==============================] - 0s 6ms/step - loss: 1.7953 - accuracy: 0.3339 - val_loss: 1.8270 - val_accuracy: 0.3302\n",
            "Epoch 25/100\n",
            "50/50 [==============================] - 0s 6ms/step - loss: 1.7537 - accuracy: 0.3444 - val_loss: 1.8193 - val_accuracy: 0.3691\n",
            "Epoch 26/100\n",
            "50/50 [==============================] - 0s 6ms/step - loss: 1.7283 - accuracy: 0.3512 - val_loss: 1.7296 - val_accuracy: 0.3707\n",
            "Epoch 27/100\n",
            "50/50 [==============================] - 0s 6ms/step - loss: 1.7069 - accuracy: 0.3556 - val_loss: 1.7623 - val_accuracy: 0.3359\n",
            "Epoch 28/100\n",
            "50/50 [==============================] - 0s 6ms/step - loss: 1.6924 - accuracy: 0.3520 - val_loss: 1.7851 - val_accuracy: 0.3370\n",
            "Epoch 29/100\n",
            "50/50 [==============================] - 0s 6ms/step - loss: 1.6719 - accuracy: 0.3695 - val_loss: 1.7338 - val_accuracy: 0.3600\n",
            "Epoch 30/100\n",
            "50/50 [==============================] - 0s 6ms/step - loss: 1.6505 - accuracy: 0.3704 - val_loss: 1.7095 - val_accuracy: 0.3878\n",
            "Epoch 31/100\n",
            "50/50 [==============================] - 0s 6ms/step - loss: 1.6400 - accuracy: 0.3852 - val_loss: 1.7702 - val_accuracy: 0.3746\n",
            "Epoch 32/100\n",
            "50/50 [==============================] - 0s 6ms/step - loss: 1.6228 - accuracy: 0.3956 - val_loss: 1.8108 - val_accuracy: 0.3039\n",
            "Epoch 33/100\n",
            "50/50 [==============================] - 0s 6ms/step - loss: 1.6012 - accuracy: 0.4034 - val_loss: 2.2022 - val_accuracy: 0.2824\n",
            "Epoch 34/100\n",
            "50/50 [==============================] - 0s 6ms/step - loss: 1.6066 - accuracy: 0.4060 - val_loss: 1.6127 - val_accuracy: 0.4080\n",
            "Epoch 35/100\n",
            "50/50 [==============================] - 0s 6ms/step - loss: 1.5717 - accuracy: 0.4131 - val_loss: 1.7451 - val_accuracy: 0.3341\n",
            "Epoch 36/100\n",
            "50/50 [==============================] - 0s 6ms/step - loss: 1.5598 - accuracy: 0.4136 - val_loss: 1.6446 - val_accuracy: 0.3830\n",
            "Epoch 37/100\n",
            "50/50 [==============================] - 0s 6ms/step - loss: 1.5409 - accuracy: 0.4187 - val_loss: 2.0567 - val_accuracy: 0.2531\n",
            "Epoch 38/100\n",
            "50/50 [==============================] - 0s 6ms/step - loss: 1.5395 - accuracy: 0.4209 - val_loss: 1.6059 - val_accuracy: 0.4111\n",
            "Epoch 39/100\n",
            "50/50 [==============================] - 0s 6ms/step - loss: 1.5153 - accuracy: 0.4275 - val_loss: 1.6706 - val_accuracy: 0.3746\n",
            "Epoch 40/100\n",
            "50/50 [==============================] - 0s 6ms/step - loss: 1.5105 - accuracy: 0.4260 - val_loss: 1.5333 - val_accuracy: 0.4235\n",
            "Epoch 41/100\n",
            "50/50 [==============================] - 0s 6ms/step - loss: 1.4979 - accuracy: 0.4255 - val_loss: 1.6136 - val_accuracy: 0.3874\n",
            "Epoch 42/100\n",
            "50/50 [==============================] - 0s 6ms/step - loss: 1.4920 - accuracy: 0.4287 - val_loss: 1.5471 - val_accuracy: 0.4176\n",
            "Epoch 43/100\n",
            "50/50 [==============================] - 0s 6ms/step - loss: 1.4801 - accuracy: 0.4354 - val_loss: 1.5229 - val_accuracy: 0.4115\n",
            "Epoch 44/100\n",
            "50/50 [==============================] - 0s 6ms/step - loss: 1.4675 - accuracy: 0.4362 - val_loss: 1.5412 - val_accuracy: 0.4346\n",
            "Epoch 45/100\n",
            "50/50 [==============================] - 0s 6ms/step - loss: 1.4633 - accuracy: 0.4380 - val_loss: 1.5008 - val_accuracy: 0.4167\n",
            "Epoch 46/100\n",
            "50/50 [==============================] - 0s 5ms/step - loss: 1.4485 - accuracy: 0.4438 - val_loss: 1.5492 - val_accuracy: 0.4159\n",
            "Epoch 47/100\n",
            "50/50 [==============================] - 0s 6ms/step - loss: 1.4365 - accuracy: 0.4456 - val_loss: 1.6140 - val_accuracy: 0.3833\n",
            "Epoch 48/100\n",
            "50/50 [==============================] - 0s 6ms/step - loss: 1.4189 - accuracy: 0.4590 - val_loss: 1.4647 - val_accuracy: 0.4515\n",
            "Epoch 49/100\n",
            "50/50 [==============================] - 0s 6ms/step - loss: 1.4061 - accuracy: 0.4690 - val_loss: 1.4378 - val_accuracy: 0.4526\n",
            "Epoch 50/100\n",
            "50/50 [==============================] - 0s 6ms/step - loss: 1.3944 - accuracy: 0.4763 - val_loss: 1.4341 - val_accuracy: 0.4893\n",
            "Epoch 51/100\n",
            "50/50 [==============================] - 0s 6ms/step - loss: 1.3510 - accuracy: 0.5018 - val_loss: 1.3448 - val_accuracy: 0.4969\n",
            "Epoch 52/100\n",
            "50/50 [==============================] - 0s 6ms/step - loss: 1.3025 - accuracy: 0.5184 - val_loss: 1.3110 - val_accuracy: 0.5387\n",
            "Epoch 53/100\n",
            "50/50 [==============================] - 0s 5ms/step - loss: 1.2501 - accuracy: 0.5357 - val_loss: 1.2642 - val_accuracy: 0.5313\n",
            "Epoch 54/100\n",
            "50/50 [==============================] - 0s 6ms/step - loss: 1.2335 - accuracy: 0.5392 - val_loss: 1.4118 - val_accuracy: 0.4807\n",
            "Epoch 55/100\n",
            "50/50 [==============================] - 0s 6ms/step - loss: 1.2287 - accuracy: 0.5488 - val_loss: 1.2498 - val_accuracy: 0.5439\n",
            "Epoch 56/100\n",
            "50/50 [==============================] - 0s 6ms/step - loss: 1.1612 - accuracy: 0.5868 - val_loss: 1.1544 - val_accuracy: 0.5706\n",
            "Epoch 57/100\n",
            "50/50 [==============================] - 0s 6ms/step - loss: 1.1208 - accuracy: 0.6065 - val_loss: 1.3461 - val_accuracy: 0.5381\n",
            "Epoch 58/100\n",
            "50/50 [==============================] - 0s 6ms/step - loss: 1.0833 - accuracy: 0.6139 - val_loss: 1.2332 - val_accuracy: 0.5246\n",
            "Epoch 59/100\n",
            "50/50 [==============================] - 0s 5ms/step - loss: 1.0834 - accuracy: 0.6134 - val_loss: 1.0649 - val_accuracy: 0.6083\n",
            "Epoch 60/100\n",
            "50/50 [==============================] - 0s 6ms/step - loss: 1.0371 - accuracy: 0.6217 - val_loss: 1.1505 - val_accuracy: 0.5493\n",
            "Epoch 61/100\n",
            "50/50 [==============================] - 0s 6ms/step - loss: 0.9834 - accuracy: 0.6549 - val_loss: 1.3594 - val_accuracy: 0.5691\n",
            "Epoch 62/100\n",
            "50/50 [==============================] - 0s 6ms/step - loss: 0.9890 - accuracy: 0.6876 - val_loss: 1.0871 - val_accuracy: 0.6387\n",
            "Epoch 63/100\n",
            "50/50 [==============================] - 0s 6ms/step - loss: 0.9637 - accuracy: 0.6901 - val_loss: 1.1225 - val_accuracy: 0.6244\n",
            "Epoch 64/100\n",
            "50/50 [==============================] - 0s 6ms/step - loss: 0.9291 - accuracy: 0.6960 - val_loss: 0.9422 - val_accuracy: 0.7019\n",
            "Epoch 65/100\n",
            "50/50 [==============================] - 0s 6ms/step - loss: 0.8977 - accuracy: 0.7067 - val_loss: 1.4311 - val_accuracy: 0.5787\n",
            "Epoch 66/100\n",
            "50/50 [==============================] - 0s 6ms/step - loss: 0.9141 - accuracy: 0.7044 - val_loss: 1.0561 - val_accuracy: 0.6530\n",
            "Epoch 67/100\n",
            "50/50 [==============================] - 0s 6ms/step - loss: 0.8723 - accuracy: 0.7245 - val_loss: 0.9616 - val_accuracy: 0.6913\n",
            "Epoch 68/100\n",
            "50/50 [==============================] - 0s 6ms/step - loss: 0.8078 - accuracy: 0.7421 - val_loss: 0.9685 - val_accuracy: 0.6731\n",
            "Epoch 69/100\n",
            "50/50 [==============================] - 0s 6ms/step - loss: 0.8008 - accuracy: 0.7453 - val_loss: 0.8882 - val_accuracy: 0.6826\n",
            "Epoch 70/100\n",
            "50/50 [==============================] - 0s 6ms/step - loss: 0.7750 - accuracy: 0.7509 - val_loss: 0.9685 - val_accuracy: 0.7043\n",
            "Epoch 71/100\n",
            "50/50 [==============================] - 0s 6ms/step - loss: 0.7631 - accuracy: 0.7584 - val_loss: 0.8033 - val_accuracy: 0.7483\n",
            "Epoch 72/100\n",
            "50/50 [==============================] - 0s 6ms/step - loss: 0.7198 - accuracy: 0.7685 - val_loss: 0.9676 - val_accuracy: 0.6883\n",
            "Epoch 73/100\n",
            "50/50 [==============================] - 0s 5ms/step - loss: 0.7353 - accuracy: 0.7696 - val_loss: 0.7468 - val_accuracy: 0.7711\n",
            "Epoch 74/100\n",
            "50/50 [==============================] - 0s 6ms/step - loss: 0.6751 - accuracy: 0.7836 - val_loss: 1.0511 - val_accuracy: 0.6615\n",
            "Epoch 75/100\n",
            "50/50 [==============================] - 0s 6ms/step - loss: 0.6797 - accuracy: 0.7853 - val_loss: 0.9000 - val_accuracy: 0.7215\n",
            "Epoch 76/100\n",
            "50/50 [==============================] - 0s 6ms/step - loss: 0.6685 - accuracy: 0.7888 - val_loss: 0.8177 - val_accuracy: 0.7313\n",
            "Epoch 77/100\n",
            "50/50 [==============================] - 0s 6ms/step - loss: 0.6577 - accuracy: 0.7887 - val_loss: 0.6990 - val_accuracy: 0.7848\n",
            "Epoch 78/100\n",
            "50/50 [==============================] - 0s 6ms/step - loss: 0.6281 - accuracy: 0.8002 - val_loss: 0.8183 - val_accuracy: 0.7483\n",
            "Epoch 79/100\n",
            "50/50 [==============================] - 0s 6ms/step - loss: 0.6220 - accuracy: 0.8022 - val_loss: 0.7905 - val_accuracy: 0.7563\n",
            "Epoch 80/100\n",
            "50/50 [==============================] - 0s 6ms/step - loss: 0.6028 - accuracy: 0.8109 - val_loss: 0.7327 - val_accuracy: 0.7741\n",
            "Epoch 81/100\n",
            "50/50 [==============================] - 0s 6ms/step - loss: 0.5735 - accuracy: 0.8167 - val_loss: 0.6632 - val_accuracy: 0.8020\n",
            "Epoch 82/100\n",
            "50/50 [==============================] - 0s 6ms/step - loss: 0.5714 - accuracy: 0.8181 - val_loss: 0.9147 - val_accuracy: 0.7109\n",
            "Epoch 83/100\n",
            "50/50 [==============================] - 0s 6ms/step - loss: 0.5560 - accuracy: 0.8263 - val_loss: 0.6639 - val_accuracy: 0.8022\n",
            "Epoch 84/100\n",
            "50/50 [==============================] - 0s 6ms/step - loss: 0.5805 - accuracy: 0.8184 - val_loss: 0.6452 - val_accuracy: 0.8015\n",
            "Epoch 85/100\n",
            "50/50 [==============================] - 0s 6ms/step - loss: 0.5278 - accuracy: 0.8359 - val_loss: 0.7979 - val_accuracy: 0.7578\n",
            "Epoch 86/100\n",
            "50/50 [==============================] - 0s 6ms/step - loss: 0.5460 - accuracy: 0.8290 - val_loss: 0.6116 - val_accuracy: 0.8206\n",
            "Epoch 87/100\n",
            "50/50 [==============================] - 0s 6ms/step - loss: 0.5077 - accuracy: 0.8434 - val_loss: 0.5940 - val_accuracy: 0.8307\n",
            "Epoch 88/100\n",
            "50/50 [==============================] - 0s 6ms/step - loss: 0.4990 - accuracy: 0.8462 - val_loss: 0.6195 - val_accuracy: 0.8176\n",
            "Epoch 89/100\n",
            "50/50 [==============================] - 0s 6ms/step - loss: 0.5065 - accuracy: 0.8422 - val_loss: 0.7745 - val_accuracy: 0.7615\n",
            "Epoch 90/100\n",
            "50/50 [==============================] - 0s 6ms/step - loss: 0.5064 - accuracy: 0.8433 - val_loss: 0.6819 - val_accuracy: 0.7946\n",
            "Epoch 91/100\n",
            "50/50 [==============================] - 0s 6ms/step - loss: 0.4926 - accuracy: 0.8491 - val_loss: 0.6895 - val_accuracy: 0.7807\n",
            "Epoch 92/100\n",
            "50/50 [==============================] - 0s 6ms/step - loss: 0.4762 - accuracy: 0.8549 - val_loss: 0.5851 - val_accuracy: 0.8328\n",
            "Epoch 93/100\n",
            "50/50 [==============================] - 0s 6ms/step - loss: 0.4539 - accuracy: 0.8593 - val_loss: 0.9110 - val_accuracy: 0.7431\n",
            "Epoch 94/100\n",
            "50/50 [==============================] - 0s 7ms/step - loss: 0.4655 - accuracy: 0.8606 - val_loss: 0.7833 - val_accuracy: 0.7561\n",
            "Epoch 95/100\n",
            "50/50 [==============================] - 0s 6ms/step - loss: 0.4488 - accuracy: 0.8653 - val_loss: 0.5937 - val_accuracy: 0.8307\n",
            "Epoch 96/100\n",
            "50/50 [==============================] - 0s 6ms/step - loss: 0.4516 - accuracy: 0.8629 - val_loss: 0.8346 - val_accuracy: 0.7650\n",
            "Epoch 97/100\n",
            "50/50 [==============================] - 0s 6ms/step - loss: 0.4413 - accuracy: 0.8679 - val_loss: 0.6645 - val_accuracy: 0.8031\n",
            "Epoch 98/100\n",
            "50/50 [==============================] - 0s 6ms/step - loss: 0.4248 - accuracy: 0.8724 - val_loss: 0.5272 - val_accuracy: 0.8528\n",
            "Epoch 99/100\n",
            "50/50 [==============================] - 0s 5ms/step - loss: 0.4243 - accuracy: 0.8699 - val_loss: 0.5207 - val_accuracy: 0.8552\n",
            "Epoch 100/100\n",
            "50/50 [==============================] - 0s 7ms/step - loss: 0.4115 - accuracy: 0.8739 - val_loss: 0.5291 - val_accuracy: 0.8506\n"
          ]
        }
      ]
    },
    {
      "cell_type": "code",
      "metadata": {
        "colab": {
          "base_uri": "https://localhost:8080/",
          "height": 313
        },
        "id": "FPqLPocRTiW5",
        "outputId": "c8283cfe-2072-4ae3-ab61-e6f0ec2f24b5"
      },
      "source": [
        "# 모델 성능 시각화\n",
        "plt. figure(figsize = (15,5))\n",
        "\n",
        "plt.plot(model_history.history['accuracy'])\n",
        "plt.plot(model_history.history['val_accuracy'])\n",
        "plt.legend(['training', 'validation'], loc = 'best')\n",
        "plt.xlabel('Epoch')\n",
        "plt.ylabel('accuracy')\n",
        "\n",
        "plt.show()\n",
        "plt.close()"
      ],
      "execution_count": 23,
      "outputs": [
        {
          "output_type": "display_data",
          "data": {
            "image/png": "[encoded data removed]",
            "text/plain": [
              "<Figure size 1080x360 with 1 Axes>"
            ]
          },
          "metadata": {
            "needs_background": "light"
          }
        }
      ]
    },
    {
      "cell_type": "markdown",
      "metadata": {
        "id": "1VGNbkLEkgAU"
      },
      "source": [
        "## 옵티마이저를 변경해서 성능확인"
      ]
    },
    {
      "cell_type": "code",
      "metadata": {
        "id": "InVGKuK5TiaU"
      },
      "source": [
        "def get_mnist_optimizer_model():\n",
        "  model = Sequential()\n",
        "\n",
        "  model.add( Dense(50, activation = 'sigmoid', input_shape = (784, )) ) # 입력층\n",
        "\n",
        "  model.add( Dense(50, activation = 'sigmoid' ) ) # 은닉층1\n",
        "  model.add( Dense(50, activation = 'sigmoid' ) ) # 은닉층2\n",
        "  model.add( Dense(50, activation = 'sigmoid' ) ) # 은닉층3\n",
        "\n",
        "  model.add( Dense(10, activation = 'softmax' ) )\n",
        "\n",
        "  model.compile(optimizer = Adam(learning_rate=0.01),\n",
        "              loss ='categorical_crossentropy',\n",
        "              metrics = ['accuracy'])\n",
        "  \n",
        "  return model"
      ],
      "execution_count": 24,
      "outputs": []
    },
    {
      "cell_type": "code",
      "metadata": {
        "colab": {
          "base_uri": "https://localhost:8080/"
        },
        "id": "2RrOHYxTTieG",
        "outputId": "f8fbe87f-e634-4449-e03f-ee2358f3c61d"
      },
      "source": [
        "model = get_mnist_optimizer_model()\n",
        "model.summary()"
      ],
      "execution_count": 25,
      "outputs": [
        {
          "output_type": "stream",
          "name": "stdout",
          "text": [
            "Model: \"sequential_3\"\n",
            "_________________________________________________________________\n",
            "Layer (type)                 Output Shape              Param #   \n",
            "=================================================================\n",
            "dense_15 (Dense)             (None, 50)                39250     \n",
            "_________________________________________________________________\n",
            "dense_16 (Dense)             (None, 50)                2550      \n",
            "_________________________________________________________________\n",
            "dense_17 (Dense)             (None, 50)                2550      \n",
            "_________________________________________________________________\n",
            "dense_18 (Dense)             (None, 50)                2550      \n",
            "_________________________________________________________________\n",
            "dense_19 (Dense)             (None, 10)                510       \n",
            "=================================================================\n",
            "Total params: 47,410\n",
            "Trainable params: 47,410\n",
            "Non-trainable params: 0\n",
            "_________________________________________________________________\n"
          ]
        }
      ]
    },
    {
      "cell_type": "code",
      "metadata": {
        "colab": {
          "base_uri": "https://localhost:8080/"
        },
        "id": "fqgwxn_1kuwY",
        "outputId": "2f85ba4e-1fa5-4c96-fca6-3ff1a930b912"
      },
      "source": [
        "model_history = model.fit(X_train, y_train, batch_size=256, validation_split=0.3, epochs=100, verbose=1)"
      ],
      "execution_count": 26,
      "outputs": [
        {
          "output_type": "stream",
          "name": "stdout",
          "text": [
            "Epoch 1/100\n",
            "50/50 [==============================] - 1s 10ms/step - loss: 2.0280 - accuracy: 0.2637 - val_loss: 1.5638 - val_accuracy: 0.4789\n",
            "Epoch 2/100\n",
            "50/50 [==============================] - 0s 6ms/step - loss: 1.2854 - accuracy: 0.5357 - val_loss: 1.1516 - val_accuracy: 0.5872\n",
            "Epoch 3/100\n",
            "50/50 [==============================] - 0s 7ms/step - loss: 1.1028 - accuracy: 0.5732 - val_loss: 1.0707 - val_accuracy: 0.5720\n",
            "Epoch 4/100\n",
            "50/50 [==============================] - 0s 6ms/step - loss: 1.0103 - accuracy: 0.6251 - val_loss: 1.0492 - val_accuracy: 0.6252\n",
            "Epoch 5/100\n",
            "50/50 [==============================] - 0s 6ms/step - loss: 1.0199 - accuracy: 0.6329 - val_loss: 1.0606 - val_accuracy: 0.6446\n",
            "Epoch 6/100\n",
            "50/50 [==============================] - 0s 7ms/step - loss: 0.9999 - accuracy: 0.6407 - val_loss: 1.0626 - val_accuracy: 0.6224\n",
            "Epoch 7/100\n",
            "50/50 [==============================] - 0s 7ms/step - loss: 1.0116 - accuracy: 0.6437 - val_loss: 0.9652 - val_accuracy: 0.6720\n",
            "Epoch 8/100\n",
            "50/50 [==============================] - 0s 7ms/step - loss: 0.9330 - accuracy: 0.6777 - val_loss: 0.9039 - val_accuracy: 0.6935\n",
            "Epoch 9/100\n",
            "50/50 [==============================] - 0s 7ms/step - loss: 0.8770 - accuracy: 0.7063 - val_loss: 0.9649 - val_accuracy: 0.6881\n",
            "Epoch 10/100\n",
            "50/50 [==============================] - 0s 6ms/step - loss: 0.9506 - accuracy: 0.6706 - val_loss: 0.8921 - val_accuracy: 0.6956\n",
            "Epoch 11/100\n",
            "50/50 [==============================] - 0s 7ms/step - loss: 0.8875 - accuracy: 0.7090 - val_loss: 0.9016 - val_accuracy: 0.7080\n",
            "Epoch 12/100\n",
            "50/50 [==============================] - 0s 6ms/step - loss: 0.8524 - accuracy: 0.7030 - val_loss: 0.8380 - val_accuracy: 0.7087\n",
            "Epoch 13/100\n",
            "50/50 [==============================] - 0s 6ms/step - loss: 0.8127 - accuracy: 0.7218 - val_loss: 0.8437 - val_accuracy: 0.6981\n",
            "Epoch 14/100\n",
            "50/50 [==============================] - 0s 6ms/step - loss: 0.8274 - accuracy: 0.7071 - val_loss: 0.7785 - val_accuracy: 0.7348\n",
            "Epoch 15/100\n",
            "50/50 [==============================] - 0s 6ms/step - loss: 0.7925 - accuracy: 0.7231 - val_loss: 0.7848 - val_accuracy: 0.7250\n",
            "Epoch 16/100\n",
            "50/50 [==============================] - 0s 7ms/step - loss: 0.7489 - accuracy: 0.7425 - val_loss: 0.7790 - val_accuracy: 0.7407\n",
            "Epoch 17/100\n",
            "50/50 [==============================] - 0s 6ms/step - loss: 0.7596 - accuracy: 0.7358 - val_loss: 0.7374 - val_accuracy: 0.7398\n",
            "Epoch 18/100\n",
            "50/50 [==============================] - 0s 6ms/step - loss: 0.7220 - accuracy: 0.7492 - val_loss: 0.7027 - val_accuracy: 0.7522\n",
            "Epoch 19/100\n",
            "50/50 [==============================] - 0s 7ms/step - loss: 0.7223 - accuracy: 0.7496 - val_loss: 0.7437 - val_accuracy: 0.7407\n",
            "Epoch 20/100\n",
            "50/50 [==============================] - 0s 8ms/step - loss: 0.7287 - accuracy: 0.7494 - val_loss: 0.7564 - val_accuracy: 0.7387\n",
            "Epoch 21/100\n",
            "50/50 [==============================] - 0s 6ms/step - loss: 0.7644 - accuracy: 0.7392 - val_loss: 0.7831 - val_accuracy: 0.7315\n",
            "Epoch 22/100\n",
            "50/50 [==============================] - 0s 6ms/step - loss: 0.7154 - accuracy: 0.7533 - val_loss: 0.6807 - val_accuracy: 0.7726\n",
            "Epoch 23/100\n",
            "50/50 [==============================] - 0s 7ms/step - loss: 0.6738 - accuracy: 0.7679 - val_loss: 0.6671 - val_accuracy: 0.7746\n",
            "Epoch 24/100\n",
            "50/50 [==============================] - 0s 6ms/step - loss: 0.6514 - accuracy: 0.7771 - val_loss: 0.6776 - val_accuracy: 0.7665\n",
            "Epoch 25/100\n",
            "50/50 [==============================] - 0s 6ms/step - loss: 0.6603 - accuracy: 0.7796 - val_loss: 0.7181 - val_accuracy: 0.7596\n",
            "Epoch 26/100\n",
            "50/50 [==============================] - 0s 8ms/step - loss: 0.6542 - accuracy: 0.7828 - val_loss: 0.6258 - val_accuracy: 0.7972\n",
            "Epoch 27/100\n",
            "50/50 [==============================] - 0s 6ms/step - loss: 0.6523 - accuracy: 0.7800 - val_loss: 0.6863 - val_accuracy: 0.7694\n",
            "Epoch 28/100\n",
            "50/50 [==============================] - 0s 7ms/step - loss: 0.6890 - accuracy: 0.7579 - val_loss: 0.7768 - val_accuracy: 0.7215\n",
            "Epoch 29/100\n",
            "50/50 [==============================] - 0s 6ms/step - loss: 0.7121 - accuracy: 0.7534 - val_loss: 0.7338 - val_accuracy: 0.7531\n",
            "Epoch 30/100\n",
            "50/50 [==============================] - 0s 7ms/step - loss: 0.6997 - accuracy: 0.7652 - val_loss: 0.6880 - val_accuracy: 0.7670\n",
            "Epoch 31/100\n",
            "50/50 [==============================] - 0s 7ms/step - loss: 0.6939 - accuracy: 0.7606 - val_loss: 0.7442 - val_accuracy: 0.7441\n",
            "Epoch 32/100\n",
            "50/50 [==============================] - 0s 7ms/step - loss: 0.7375 - accuracy: 0.7414 - val_loss: 0.7176 - val_accuracy: 0.7472\n",
            "Epoch 33/100\n",
            "50/50 [==============================] - 0s 6ms/step - loss: 0.6757 - accuracy: 0.7657 - val_loss: 0.6672 - val_accuracy: 0.7817\n",
            "Epoch 34/100\n",
            "50/50 [==============================] - 0s 6ms/step - loss: 0.6593 - accuracy: 0.7793 - val_loss: 0.7183 - val_accuracy: 0.7628\n",
            "Epoch 35/100\n",
            "50/50 [==============================] - 0s 7ms/step - loss: 0.6815 - accuracy: 0.7736 - val_loss: 0.6999 - val_accuracy: 0.7643\n",
            "Epoch 36/100\n",
            "50/50 [==============================] - 0s 7ms/step - loss: 0.6679 - accuracy: 0.7711 - val_loss: 0.7120 - val_accuracy: 0.7569\n",
            "Epoch 37/100\n",
            "50/50 [==============================] - 0s 7ms/step - loss: 0.7292 - accuracy: 0.7456 - val_loss: 0.7474 - val_accuracy: 0.7406\n",
            "Epoch 38/100\n",
            "50/50 [==============================] - 0s 6ms/step - loss: 0.6919 - accuracy: 0.7609 - val_loss: 0.6873 - val_accuracy: 0.7648\n",
            "Epoch 39/100\n",
            "50/50 [==============================] - 0s 8ms/step - loss: 0.6521 - accuracy: 0.7721 - val_loss: 0.6647 - val_accuracy: 0.7680\n",
            "Epoch 40/100\n",
            "50/50 [==============================] - 0s 6ms/step - loss: 0.6471 - accuracy: 0.7764 - val_loss: 0.6875 - val_accuracy: 0.7691\n",
            "Epoch 41/100\n",
            "50/50 [==============================] - 0s 6ms/step - loss: 0.6433 - accuracy: 0.7824 - val_loss: 0.6444 - val_accuracy: 0.7831\n",
            "Epoch 42/100\n",
            "50/50 [==============================] - 0s 6ms/step - loss: 0.6121 - accuracy: 0.7975 - val_loss: 0.6445 - val_accuracy: 0.7907\n",
            "Epoch 43/100\n",
            "50/50 [==============================] - 0s 6ms/step - loss: 0.6308 - accuracy: 0.7906 - val_loss: 0.6632 - val_accuracy: 0.7806\n",
            "Epoch 44/100\n",
            "50/50 [==============================] - 0s 8ms/step - loss: 0.6439 - accuracy: 0.7863 - val_loss: 0.6959 - val_accuracy: 0.7665\n",
            "Epoch 45/100\n",
            "50/50 [==============================] - 0s 6ms/step - loss: 0.6751 - accuracy: 0.7747 - val_loss: 0.7099 - val_accuracy: 0.7580\n",
            "Epoch 46/100\n",
            "50/50 [==============================] - 0s 6ms/step - loss: 0.6694 - accuracy: 0.7694 - val_loss: 0.6642 - val_accuracy: 0.7731\n",
            "Epoch 47/100\n",
            "50/50 [==============================] - 0s 7ms/step - loss: 0.6185 - accuracy: 0.7903 - val_loss: 0.6639 - val_accuracy: 0.7604\n",
            "Epoch 48/100\n",
            "50/50 [==============================] - 0s 6ms/step - loss: 0.6120 - accuracy: 0.7874 - val_loss: 0.6087 - val_accuracy: 0.7911\n",
            "Epoch 49/100\n",
            "50/50 [==============================] - 0s 6ms/step - loss: 0.5961 - accuracy: 0.7971 - val_loss: 0.6092 - val_accuracy: 0.7952\n",
            "Epoch 50/100\n",
            "50/50 [==============================] - 0s 6ms/step - loss: 0.5930 - accuracy: 0.7989 - val_loss: 0.6509 - val_accuracy: 0.7781\n",
            "Epoch 51/100\n",
            "50/50 [==============================] - 0s 7ms/step - loss: 0.6065 - accuracy: 0.7910 - val_loss: 0.6304 - val_accuracy: 0.7902\n",
            "Epoch 52/100\n",
            "50/50 [==============================] - 0s 6ms/step - loss: 0.5940 - accuracy: 0.7988 - val_loss: 0.5713 - val_accuracy: 0.8107\n",
            "Epoch 53/100\n",
            "50/50 [==============================] - 0s 7ms/step - loss: 0.5938 - accuracy: 0.7987 - val_loss: 0.6199 - val_accuracy: 0.7904\n",
            "Epoch 54/100\n",
            "50/50 [==============================] - 0s 6ms/step - loss: 0.5883 - accuracy: 0.8000 - val_loss: 0.6272 - val_accuracy: 0.7911\n",
            "Epoch 55/100\n",
            "50/50 [==============================] - 0s 7ms/step - loss: 0.5825 - accuracy: 0.8037 - val_loss: 0.5906 - val_accuracy: 0.7913\n",
            "Epoch 56/100\n",
            "50/50 [==============================] - 0s 6ms/step - loss: 0.5607 - accuracy: 0.8106 - val_loss: 0.5874 - val_accuracy: 0.7963\n",
            "Epoch 57/100\n",
            "50/50 [==============================] - 0s 6ms/step - loss: 0.5657 - accuracy: 0.8056 - val_loss: 0.5810 - val_accuracy: 0.8026\n",
            "Epoch 58/100\n",
            "50/50 [==============================] - 0s 6ms/step - loss: 0.5932 - accuracy: 0.7927 - val_loss: 0.6334 - val_accuracy: 0.7887\n",
            "Epoch 59/100\n",
            "50/50 [==============================] - 0s 6ms/step - loss: 0.5711 - accuracy: 0.8045 - val_loss: 0.6136 - val_accuracy: 0.7870\n",
            "Epoch 60/100\n",
            "50/50 [==============================] - 0s 7ms/step - loss: 0.6233 - accuracy: 0.7854 - val_loss: 0.6414 - val_accuracy: 0.7830\n",
            "Epoch 61/100\n",
            "50/50 [==============================] - 0s 7ms/step - loss: 0.5804 - accuracy: 0.8013 - val_loss: 0.6210 - val_accuracy: 0.7813\n",
            "Epoch 62/100\n",
            "50/50 [==============================] - 0s 6ms/step - loss: 0.5625 - accuracy: 0.8062 - val_loss: 0.5649 - val_accuracy: 0.8161\n",
            "Epoch 63/100\n",
            "50/50 [==============================] - 0s 6ms/step - loss: 0.5038 - accuracy: 0.8343 - val_loss: 0.5424 - val_accuracy: 0.8193\n",
            "Epoch 64/100\n",
            "50/50 [==============================] - 0s 6ms/step - loss: 0.5026 - accuracy: 0.8324 - val_loss: 0.5701 - val_accuracy: 0.8135\n",
            "Epoch 65/100\n",
            "50/50 [==============================] - 0s 7ms/step - loss: 0.5402 - accuracy: 0.8204 - val_loss: 0.5918 - val_accuracy: 0.8033\n",
            "Epoch 66/100\n",
            "50/50 [==============================] - 0s 7ms/step - loss: 0.5716 - accuracy: 0.8028 - val_loss: 0.5785 - val_accuracy: 0.8046\n",
            "Epoch 67/100\n",
            "50/50 [==============================] - 0s 6ms/step - loss: 0.5573 - accuracy: 0.8090 - val_loss: 0.5916 - val_accuracy: 0.8057\n",
            "Epoch 68/100\n",
            "50/50 [==============================] - 0s 7ms/step - loss: 0.5418 - accuracy: 0.8185 - val_loss: 0.5553 - val_accuracy: 0.8167\n",
            "Epoch 69/100\n",
            "50/50 [==============================] - 0s 7ms/step - loss: 0.5232 - accuracy: 0.8260 - val_loss: 0.5402 - val_accuracy: 0.8215\n",
            "Epoch 70/100\n",
            "50/50 [==============================] - 0s 6ms/step - loss: 0.5303 - accuracy: 0.8248 - val_loss: 0.5577 - val_accuracy: 0.8143\n",
            "Epoch 71/100\n",
            "50/50 [==============================] - 0s 6ms/step - loss: 0.5269 - accuracy: 0.8256 - val_loss: 0.5650 - val_accuracy: 0.8137\n",
            "Epoch 72/100\n",
            "50/50 [==============================] - 0s 6ms/step - loss: 0.5260 - accuracy: 0.8282 - val_loss: 0.5794 - val_accuracy: 0.8128\n",
            "Epoch 73/100\n",
            "50/50 [==============================] - 0s 7ms/step - loss: 0.5431 - accuracy: 0.8216 - val_loss: 0.5617 - val_accuracy: 0.8209\n",
            "Epoch 74/100\n",
            "50/50 [==============================] - 0s 6ms/step - loss: 0.5285 - accuracy: 0.8235 - val_loss: 0.5475 - val_accuracy: 0.8278\n",
            "Epoch 75/100\n",
            "50/50 [==============================] - 0s 7ms/step - loss: 0.5190 - accuracy: 0.8310 - val_loss: 0.5663 - val_accuracy: 0.8217\n",
            "Epoch 76/100\n",
            "50/50 [==============================] - 0s 6ms/step - loss: 0.5353 - accuracy: 0.8256 - val_loss: 0.5854 - val_accuracy: 0.8169\n",
            "Epoch 77/100\n",
            "50/50 [==============================] - 0s 7ms/step - loss: 0.5189 - accuracy: 0.8312 - val_loss: 0.5190 - val_accuracy: 0.8280\n",
            "Epoch 78/100\n",
            "50/50 [==============================] - 0s 7ms/step - loss: 0.5029 - accuracy: 0.8369 - val_loss: 0.5114 - val_accuracy: 0.8330\n",
            "Epoch 79/100\n",
            "50/50 [==============================] - 0s 7ms/step - loss: 0.4951 - accuracy: 0.8429 - val_loss: 0.5277 - val_accuracy: 0.8352\n",
            "Epoch 80/100\n",
            "50/50 [==============================] - 0s 6ms/step - loss: 0.5144 - accuracy: 0.8282 - val_loss: 0.5485 - val_accuracy: 0.8076\n",
            "Epoch 81/100\n",
            "50/50 [==============================] - 0s 7ms/step - loss: 0.4922 - accuracy: 0.8351 - val_loss: 0.5440 - val_accuracy: 0.8235\n",
            "Epoch 82/100\n",
            "50/50 [==============================] - 0s 6ms/step - loss: 0.5197 - accuracy: 0.8287 - val_loss: 0.5658 - val_accuracy: 0.8183\n",
            "Epoch 83/100\n",
            "50/50 [==============================] - 0s 6ms/step - loss: 0.5177 - accuracy: 0.8241 - val_loss: 0.5483 - val_accuracy: 0.8159\n",
            "Epoch 84/100\n",
            "50/50 [==============================] - 0s 7ms/step - loss: 0.5105 - accuracy: 0.8340 - val_loss: 0.5598 - val_accuracy: 0.8074\n",
            "Epoch 85/100\n",
            "50/50 [==============================] - 0s 7ms/step - loss: 0.5010 - accuracy: 0.8316 - val_loss: 0.5399 - val_accuracy: 0.8150\n",
            "Epoch 86/100\n",
            "50/50 [==============================] - 0s 6ms/step - loss: 0.4991 - accuracy: 0.8287 - val_loss: 0.5297 - val_accuracy: 0.8198\n",
            "Epoch 87/100\n",
            "50/50 [==============================] - 0s 7ms/step - loss: 0.4767 - accuracy: 0.8410 - val_loss: 0.5029 - val_accuracy: 0.8374\n",
            "Epoch 88/100\n",
            "50/50 [==============================] - 0s 6ms/step - loss: 0.4859 - accuracy: 0.8387 - val_loss: 0.4855 - val_accuracy: 0.8400\n",
            "Epoch 89/100\n",
            "50/50 [==============================] - 0s 7ms/step - loss: 0.4639 - accuracy: 0.8536 - val_loss: 0.5025 - val_accuracy: 0.8298\n",
            "Epoch 90/100\n",
            "50/50 [==============================] - 0s 7ms/step - loss: 0.4358 - accuracy: 0.8614 - val_loss: 0.4548 - val_accuracy: 0.8572\n",
            "Epoch 91/100\n",
            "50/50 [==============================] - 0s 7ms/step - loss: 0.4130 - accuracy: 0.8650 - val_loss: 0.4480 - val_accuracy: 0.8565\n",
            "Epoch 92/100\n",
            "50/50 [==============================] - 0s 7ms/step - loss: 0.4117 - accuracy: 0.8690 - val_loss: 0.4486 - val_accuracy: 0.8620\n",
            "Epoch 93/100\n",
            "50/50 [==============================] - 0s 7ms/step - loss: 0.4147 - accuracy: 0.8670 - val_loss: 0.4843 - val_accuracy: 0.8439\n",
            "Epoch 94/100\n",
            "50/50 [==============================] - 0s 6ms/step - loss: 0.4645 - accuracy: 0.8414 - val_loss: 0.5268 - val_accuracy: 0.8261\n",
            "Epoch 95/100\n",
            "50/50 [==============================] - 0s 6ms/step - loss: 0.4652 - accuracy: 0.8393 - val_loss: 0.5125 - val_accuracy: 0.8239\n",
            "Epoch 96/100\n",
            "50/50 [==============================] - 0s 7ms/step - loss: 0.4710 - accuracy: 0.8436 - val_loss: 0.5022 - val_accuracy: 0.8300\n",
            "Epoch 97/100\n",
            "50/50 [==============================] - 0s 6ms/step - loss: 0.4592 - accuracy: 0.8462 - val_loss: 0.5189 - val_accuracy: 0.8317\n",
            "Epoch 98/100\n",
            "50/50 [==============================] - 0s 6ms/step - loss: 0.4624 - accuracy: 0.8490 - val_loss: 0.4676 - val_accuracy: 0.8535\n",
            "Epoch 99/100\n",
            "50/50 [==============================] - 0s 7ms/step - loss: 0.4352 - accuracy: 0.8625 - val_loss: 0.4609 - val_accuracy: 0.8565\n",
            "Epoch 100/100\n",
            "50/50 [==============================] - 0s 6ms/step - loss: 0.4504 - accuracy: 0.8590 - val_loss: 0.4802 - val_accuracy: 0.8467\n"
          ]
        }
      ]
    },
    {
      "cell_type": "code",
      "metadata": {
        "colab": {
          "base_uri": "https://localhost:8080/",
          "height": 313
        },
        "id": "_ZrRCttIkuz5",
        "outputId": "95b10f73-0d4a-411a-9705-7d621e827b1a"
      },
      "source": [
        "# 모델 성능 시각화\n",
        "plt. figure(figsize = (15,5))\n",
        "\n",
        "plt.plot(model_history.history['accuracy'])\n",
        "plt.plot(model_history.history['val_accuracy'])\n",
        "plt.legend(['training', 'validation'], loc = 'best')\n",
        "plt.xlabel('Epoch')\n",
        "plt.ylabel('accuracy')\n",
        "\n",
        "plt.show()\n",
        "plt.close()"
      ],
      "execution_count": 27,
      "outputs": [
        {
          "output_type": "display_data",
          "data": {
            "image/png": "[encoded data removed]",
            "text/plain": [
              "<Figure size 1080x360 with 1 Axes>"
            ]
          },
          "metadata": {
            "needs_background": "light"
          }
        }
      ]
    },
    {
      "cell_type": "code",
      "metadata": {
        "colab": {
          "base_uri": "https://localhost:8080/"
        },
        "id": "hCZ4C_WJku4_",
        "outputId": "f06ea4a7-d146-4716-aa53-b543062f161e"
      },
      "source": [
        "model_eval = model.evaluate(X_test,y_test)\n",
        "print(model_eval[1])"
      ],
      "execution_count": 28,
      "outputs": [
        {
          "output_type": "stream",
          "name": "stdout",
          "text": [
            "1313/1313 [==============================] - 2s 1ms/step - loss: 0.4980 - accuracy: 0.8404\n",
            "0.8404285907745361\n"
          ]
        }
      ]
    },
    {
      "cell_type": "markdown",
      "metadata": {
        "id": "0soN6pUNlpM3"
      },
      "source": [
        "## 배치정규화\n",
        "- 평균 0, 분산 1 정규화를 통해서 학습이 잘 일어나도록 도와주는 방식\n",
        "- 각 피처별 배치정규화를 진행"
      ]
    },
    {
      "cell_type": "code",
      "metadata": {
        "id": "Rj5YKLlWkvCW"
      },
      "source": [
        "def get_mnist_normalization_model():\n",
        "  model = Sequential()\n",
        "\n",
        "  model.add( Dense(50, input_shape = (784, )) ) # 입력층\n",
        "  model.add( BatchNormalization())\n",
        "  model.add( Activation ('sigmoid')  )  \n",
        "  \n",
        "  model.add(Dense(50)) # 은닉층1\n",
        "  model.add( BatchNormalization())\n",
        "  model.add( Activation ('sigmoid')  ) \n",
        "\n",
        "  model.add(Dense(50)) # 은닉층2\n",
        "  model.add( BatchNormalization())\n",
        "  model.add( Activation ('sigmoid')  ) \n",
        "\n",
        "  model.add(Dense(50)) # 은닉층3\n",
        "  model.add( BatchNormalization())\n",
        "  model.add( Activation ('sigmoid')  )  \n",
        "\n",
        "  model.add( Dense(10, activation = 'softmax' ))\n",
        "\n",
        "  model.compile(optimizer = Adam(learning_rate=0.01),\n",
        "              loss ='categorical_crossentropy',\n",
        "              metrics = ['accuracy'])\n",
        "  \n",
        "  return model"
      ],
      "execution_count": 29,
      "outputs": []
    },
    {
      "cell_type": "code",
      "metadata": {
        "colab": {
          "base_uri": "https://localhost:8080/"
        },
        "id": "mNqe0Ro2TjOF",
        "outputId": "af029913-6746-4acd-f000-e009fc670f51"
      },
      "source": [
        "model = get_mnist_normalization_model()\n",
        "model.summary()"
      ],
      "execution_count": 30,
      "outputs": [
        {
          "output_type": "stream",
          "name": "stdout",
          "text": [
            "Model: \"sequential_4\"\n",
            "_________________________________________________________________\n",
            "Layer (type)                 Output Shape              Param #   \n",
            "=================================================================\n",
            "dense_20 (Dense)             (None, 50)                39250     \n",
            "_________________________________________________________________\n",
            "batch_normalization (BatchNo (None, 50)                200       \n",
            "_________________________________________________________________\n",
            "activation (Activation)      (None, 50)                0         \n",
            "_________________________________________________________________\n",
            "dense_21 (Dense)             (None, 50)                2550      \n",
            "_________________________________________________________________\n",
            "batch_normalization_1 (Batch (None, 50)                200       \n",
            "_________________________________________________________________\n",
            "activation_1 (Activation)    (None, 50)                0         \n",
            "_________________________________________________________________\n",
            "dense_22 (Dense)             (None, 50)                2550      \n",
            "_________________________________________________________________\n",
            "batch_normalization_2 (Batch (None, 50)                200       \n",
            "_________________________________________________________________\n",
            "activation_2 (Activation)    (None, 50)                0         \n",
            "_________________________________________________________________\n",
            "dense_23 (Dense)             (None, 50)                2550      \n",
            "_________________________________________________________________\n",
            "batch_normalization_3 (Batch (None, 50)                200       \n",
            "_________________________________________________________________\n",
            "activation_3 (Activation)    (None, 50)                0         \n",
            "_________________________________________________________________\n",
            "dense_24 (Dense)             (None, 10)                510       \n",
            "=================================================================\n",
            "Total params: 48,210\n",
            "Trainable params: 47,810\n",
            "Non-trainable params: 400\n",
            "_________________________________________________________________\n"
          ]
        }
      ]
    },
    {
      "cell_type": "code",
      "metadata": {
        "colab": {
          "base_uri": "https://localhost:8080/"
        },
        "id": "SVLA8-MUTjSO",
        "outputId": "13a6e39b-4e6b-4242-fc22-72266fdd2e8b"
      },
      "source": [
        "model_history = model.fit(X_train, y_train, batch_size=256, validation_split=0.3, epochs=100, verbose=1)"
      ],
      "execution_count": 31,
      "outputs": [
        {
          "output_type": "stream",
          "name": "stdout",
          "text": [
            "Epoch 1/100\n",
            "50/50 [==============================] - 2s 12ms/step - loss: 0.8553 - accuracy: 0.8150 - val_loss: 2.1656 - val_accuracy: 0.0993\n",
            "Epoch 2/100\n",
            "50/50 [==============================] - 0s 8ms/step - loss: 0.3342 - accuracy: 0.9085 - val_loss: 2.1670 - val_accuracy: 0.1633\n",
            "Epoch 3/100\n",
            "50/50 [==============================] - 0s 7ms/step - loss: 0.2514 - accuracy: 0.9252 - val_loss: 1.7160 - val_accuracy: 0.4435\n",
            "Epoch 4/100\n",
            "50/50 [==============================] - 0s 8ms/step - loss: 0.1878 - accuracy: 0.9457 - val_loss: 1.4019 - val_accuracy: 0.6387\n",
            "Epoch 5/100\n",
            "50/50 [==============================] - 0s 8ms/step - loss: 0.1580 - accuracy: 0.9538 - val_loss: 1.3836 - val_accuracy: 0.7076\n",
            "Epoch 6/100\n",
            "50/50 [==============================] - 0s 8ms/step - loss: 0.1341 - accuracy: 0.9591 - val_loss: 1.0015 - val_accuracy: 0.7289\n",
            "Epoch 7/100\n",
            "50/50 [==============================] - 0s 8ms/step - loss: 0.1131 - accuracy: 0.9644 - val_loss: 0.8435 - val_accuracy: 0.7454\n",
            "Epoch 8/100\n",
            "50/50 [==============================] - 0s 8ms/step - loss: 0.0850 - accuracy: 0.9744 - val_loss: 0.3722 - val_accuracy: 0.8796\n",
            "Epoch 9/100\n",
            "50/50 [==============================] - 0s 8ms/step - loss: 0.0783 - accuracy: 0.9761 - val_loss: 1.3369 - val_accuracy: 0.6872\n",
            "Epoch 10/100\n",
            "50/50 [==============================] - 0s 8ms/step - loss: 0.0745 - accuracy: 0.9767 - val_loss: 0.2441 - val_accuracy: 0.9306\n",
            "Epoch 11/100\n",
            "50/50 [==============================] - 0s 8ms/step - loss: 0.0554 - accuracy: 0.9832 - val_loss: 0.2264 - val_accuracy: 0.9350\n",
            "Epoch 12/100\n",
            "50/50 [==============================] - 0s 8ms/step - loss: 0.0502 - accuracy: 0.9844 - val_loss: 0.4571 - val_accuracy: 0.8680\n",
            "Epoch 13/100\n",
            "50/50 [==============================] - 0s 8ms/step - loss: 0.0421 - accuracy: 0.9885 - val_loss: 0.4358 - val_accuracy: 0.8800\n",
            "Epoch 14/100\n",
            "50/50 [==============================] - 0s 8ms/step - loss: 0.0284 - accuracy: 0.9921 - val_loss: 0.2196 - val_accuracy: 0.9389\n",
            "Epoch 15/100\n",
            "50/50 [==============================] - 0s 8ms/step - loss: 0.0307 - accuracy: 0.9911 - val_loss: 0.2065 - val_accuracy: 0.9450\n",
            "Epoch 16/100\n",
            "50/50 [==============================] - 0s 7ms/step - loss: 0.0318 - accuracy: 0.9900 - val_loss: 0.2033 - val_accuracy: 0.9485\n",
            "Epoch 17/100\n",
            "50/50 [==============================] - 0s 8ms/step - loss: 0.0220 - accuracy: 0.9937 - val_loss: 0.2076 - val_accuracy: 0.9441\n",
            "Epoch 18/100\n",
            "50/50 [==============================] - 0s 7ms/step - loss: 0.0216 - accuracy: 0.9940 - val_loss: 0.2613 - val_accuracy: 0.9267\n",
            "Epoch 19/100\n",
            "50/50 [==============================] - 0s 8ms/step - loss: 0.0489 - accuracy: 0.9838 - val_loss: 0.2618 - val_accuracy: 0.9324\n",
            "Epoch 20/100\n",
            "50/50 [==============================] - 0s 8ms/step - loss: 0.0257 - accuracy: 0.9919 - val_loss: 0.2337 - val_accuracy: 0.9391\n",
            "Epoch 21/100\n",
            "50/50 [==============================] - 0s 7ms/step - loss: 0.0166 - accuracy: 0.9952 - val_loss: 0.2094 - val_accuracy: 0.9467\n",
            "Epoch 22/100\n",
            "50/50 [==============================] - 0s 8ms/step - loss: 0.0104 - accuracy: 0.9979 - val_loss: 0.2072 - val_accuracy: 0.9509\n",
            "Epoch 23/100\n",
            "50/50 [==============================] - 0s 8ms/step - loss: 0.0129 - accuracy: 0.9965 - val_loss: 0.2363 - val_accuracy: 0.9428\n",
            "Epoch 24/100\n",
            "50/50 [==============================] - 0s 8ms/step - loss: 0.0147 - accuracy: 0.9958 - val_loss: 0.2266 - val_accuracy: 0.9437\n",
            "Epoch 25/100\n",
            "50/50 [==============================] - 0s 8ms/step - loss: 0.0170 - accuracy: 0.9951 - val_loss: 0.2373 - val_accuracy: 0.9465\n",
            "Epoch 26/100\n",
            "50/50 [==============================] - 0s 8ms/step - loss: 0.0111 - accuracy: 0.9971 - val_loss: 0.2186 - val_accuracy: 0.9491\n",
            "Epoch 27/100\n",
            "50/50 [==============================] - 0s 8ms/step - loss: 0.0060 - accuracy: 0.9990 - val_loss: 0.1828 - val_accuracy: 0.9570\n",
            "Epoch 28/100\n",
            "50/50 [==============================] - 0s 8ms/step - loss: 0.0051 - accuracy: 0.9987 - val_loss: 0.1686 - val_accuracy: 0.9606\n",
            "Epoch 29/100\n",
            "50/50 [==============================] - 0s 8ms/step - loss: 0.0053 - accuracy: 0.9987 - val_loss: 0.1755 - val_accuracy: 0.9561\n",
            "Epoch 30/100\n",
            "50/50 [==============================] - 0s 8ms/step - loss: 0.0122 - accuracy: 0.9964 - val_loss: 0.2664 - val_accuracy: 0.9407\n",
            "Epoch 31/100\n",
            "50/50 [==============================] - 0s 9ms/step - loss: 0.0130 - accuracy: 0.9961 - val_loss: 0.2169 - val_accuracy: 0.9483\n",
            "Epoch 32/100\n",
            "50/50 [==============================] - 0s 8ms/step - loss: 0.0266 - accuracy: 0.9919 - val_loss: 0.2712 - val_accuracy: 0.9393\n",
            "Epoch 33/100\n",
            "50/50 [==============================] - 1s 10ms/step - loss: 0.0230 - accuracy: 0.9926 - val_loss: 0.2021 - val_accuracy: 0.9548\n",
            "Epoch 34/100\n",
            "50/50 [==============================] - 0s 8ms/step - loss: 0.0128 - accuracy: 0.9957 - val_loss: 0.2136 - val_accuracy: 0.9519\n",
            "Epoch 35/100\n",
            "50/50 [==============================] - 0s 8ms/step - loss: 0.0094 - accuracy: 0.9979 - val_loss: 0.2059 - val_accuracy: 0.9548\n",
            "Epoch 36/100\n",
            "50/50 [==============================] - 0s 8ms/step - loss: 0.0232 - accuracy: 0.9929 - val_loss: 0.2133 - val_accuracy: 0.9494\n",
            "Epoch 37/100\n",
            "50/50 [==============================] - 0s 8ms/step - loss: 0.0206 - accuracy: 0.9939 - val_loss: 0.2280 - val_accuracy: 0.9498\n",
            "Epoch 38/100\n",
            "50/50 [==============================] - 0s 10ms/step - loss: 0.0132 - accuracy: 0.9956 - val_loss: 0.2219 - val_accuracy: 0.9502\n",
            "Epoch 39/100\n",
            "50/50 [==============================] - 0s 9ms/step - loss: 0.0166 - accuracy: 0.9942 - val_loss: 0.2839 - val_accuracy: 0.9365\n",
            "Epoch 40/100\n",
            "50/50 [==============================] - 0s 8ms/step - loss: 0.0146 - accuracy: 0.9952 - val_loss: 0.2932 - val_accuracy: 0.9326\n",
            "Epoch 41/100\n",
            "50/50 [==============================] - 0s 8ms/step - loss: 0.0226 - accuracy: 0.9929 - val_loss: 0.2358 - val_accuracy: 0.9461\n",
            "Epoch 42/100\n",
            "50/50 [==============================] - 0s 8ms/step - loss: 0.0097 - accuracy: 0.9971 - val_loss: 0.2020 - val_accuracy: 0.9557\n",
            "Epoch 43/100\n",
            "50/50 [==============================] - 0s 8ms/step - loss: 0.0054 - accuracy: 0.9988 - val_loss: 0.2120 - val_accuracy: 0.9528\n",
            "Epoch 44/100\n",
            "50/50 [==============================] - 0s 8ms/step - loss: 0.0043 - accuracy: 0.9990 - val_loss: 0.1836 - val_accuracy: 0.9565\n",
            "Epoch 45/100\n",
            "50/50 [==============================] - 0s 8ms/step - loss: 0.0018 - accuracy: 0.9997 - val_loss: 0.1745 - val_accuracy: 0.9619\n",
            "Epoch 46/100\n",
            "50/50 [==============================] - 0s 8ms/step - loss: 7.2701e-04 - accuracy: 1.0000 - val_loss: 0.1737 - val_accuracy: 0.9631\n",
            "Epoch 47/100\n",
            "50/50 [==============================] - 0s 8ms/step - loss: 4.8592e-04 - accuracy: 1.0000 - val_loss: 0.1713 - val_accuracy: 0.9635\n",
            "Epoch 48/100\n",
            "50/50 [==============================] - 0s 8ms/step - loss: 5.5248e-04 - accuracy: 0.9999 - val_loss: 0.1737 - val_accuracy: 0.9628\n",
            "Epoch 49/100\n",
            "50/50 [==============================] - 0s 8ms/step - loss: 0.0046 - accuracy: 0.9987 - val_loss: 0.1985 - val_accuracy: 0.9583\n",
            "Epoch 50/100\n",
            "50/50 [==============================] - 0s 8ms/step - loss: 0.0034 - accuracy: 0.9990 - val_loss: 0.2059 - val_accuracy: 0.9570\n",
            "Epoch 51/100\n",
            "50/50 [==============================] - 0s 8ms/step - loss: 0.0033 - accuracy: 0.9992 - val_loss: 0.2147 - val_accuracy: 0.9550\n",
            "Epoch 52/100\n",
            "50/50 [==============================] - 0s 8ms/step - loss: 0.0024 - accuracy: 0.9997 - val_loss: 0.2213 - val_accuracy: 0.9581\n",
            "Epoch 53/100\n",
            "50/50 [==============================] - 0s 7ms/step - loss: 0.0045 - accuracy: 0.9987 - val_loss: 0.2303 - val_accuracy: 0.9506\n",
            "Epoch 54/100\n",
            "50/50 [==============================] - 0s 8ms/step - loss: 0.0154 - accuracy: 0.9952 - val_loss: 0.2842 - val_accuracy: 0.9400\n",
            "Epoch 55/100\n",
            "50/50 [==============================] - 0s 8ms/step - loss: 0.0175 - accuracy: 0.9942 - val_loss: 0.2773 - val_accuracy: 0.9448\n",
            "Epoch 56/100\n",
            "50/50 [==============================] - 0s 8ms/step - loss: 0.0293 - accuracy: 0.9901 - val_loss: 0.3254 - val_accuracy: 0.9306\n",
            "Epoch 57/100\n",
            "50/50 [==============================] - 0s 8ms/step - loss: 0.0144 - accuracy: 0.9948 - val_loss: 0.2551 - val_accuracy: 0.9485\n",
            "Epoch 58/100\n",
            "50/50 [==============================] - 0s 8ms/step - loss: 0.0172 - accuracy: 0.9945 - val_loss: 0.2794 - val_accuracy: 0.9407\n",
            "Epoch 59/100\n",
            "50/50 [==============================] - 0s 8ms/step - loss: 0.0089 - accuracy: 0.9971 - val_loss: 0.2525 - val_accuracy: 0.9454\n",
            "Epoch 60/100\n",
            "50/50 [==============================] - 0s 8ms/step - loss: 0.0071 - accuracy: 0.9975 - val_loss: 0.2334 - val_accuracy: 0.9535\n",
            "Epoch 61/100\n",
            "50/50 [==============================] - 0s 9ms/step - loss: 0.0058 - accuracy: 0.9983 - val_loss: 0.2384 - val_accuracy: 0.9520\n",
            "Epoch 62/100\n",
            "50/50 [==============================] - 0s 8ms/step - loss: 0.0020 - accuracy: 0.9997 - val_loss: 0.1956 - val_accuracy: 0.9591\n",
            "Epoch 63/100\n",
            "50/50 [==============================] - 0s 8ms/step - loss: 0.0024 - accuracy: 0.9990 - val_loss: 0.2019 - val_accuracy: 0.9606\n",
            "Epoch 64/100\n",
            "50/50 [==============================] - 0s 8ms/step - loss: 0.0053 - accuracy: 0.9983 - val_loss: 0.2101 - val_accuracy: 0.9569\n",
            "Epoch 65/100\n",
            "50/50 [==============================] - 0s 8ms/step - loss: 0.0032 - accuracy: 0.9991 - val_loss: 0.2255 - val_accuracy: 0.9572\n",
            "Epoch 66/100\n",
            "50/50 [==============================] - 0s 8ms/step - loss: 0.0013 - accuracy: 0.9997 - val_loss: 0.2001 - val_accuracy: 0.9598\n",
            "Epoch 67/100\n",
            "50/50 [==============================] - 0s 8ms/step - loss: 0.0011 - accuracy: 0.9998 - val_loss: 0.1992 - val_accuracy: 0.9613\n",
            "Epoch 68/100\n",
            "50/50 [==============================] - 0s 8ms/step - loss: 6.5736e-04 - accuracy: 0.9998 - val_loss: 0.2487 - val_accuracy: 0.9517\n",
            "Epoch 69/100\n",
            "50/50 [==============================] - 0s 8ms/step - loss: 0.0016 - accuracy: 0.9995 - val_loss: 0.1957 - val_accuracy: 0.9611\n",
            "Epoch 70/100\n",
            "50/50 [==============================] - 0s 8ms/step - loss: 9.8849e-04 - accuracy: 0.9998 - val_loss: 0.1968 - val_accuracy: 0.9619\n",
            "Epoch 71/100\n",
            "50/50 [==============================] - 0s 8ms/step - loss: 0.0029 - accuracy: 0.9994 - val_loss: 0.2185 - val_accuracy: 0.9580\n",
            "Epoch 72/100\n",
            "50/50 [==============================] - 0s 8ms/step - loss: 8.0397e-04 - accuracy: 1.0000 - val_loss: 0.1999 - val_accuracy: 0.9631\n",
            "Epoch 73/100\n",
            "50/50 [==============================] - 0s 8ms/step - loss: 5.3952e-04 - accuracy: 1.0000 - val_loss: 0.1950 - val_accuracy: 0.9624\n",
            "Epoch 74/100\n",
            "50/50 [==============================] - 0s 8ms/step - loss: 5.1907e-04 - accuracy: 0.9999 - val_loss: 0.1975 - val_accuracy: 0.9606\n",
            "Epoch 75/100\n",
            "50/50 [==============================] - 0s 8ms/step - loss: 4.0941e-04 - accuracy: 1.0000 - val_loss: 0.2003 - val_accuracy: 0.9622\n",
            "Epoch 76/100\n",
            "50/50 [==============================] - 0s 8ms/step - loss: 4.0232e-04 - accuracy: 0.9999 - val_loss: 0.2099 - val_accuracy: 0.9609\n",
            "Epoch 77/100\n",
            "50/50 [==============================] - 0s 8ms/step - loss: 0.0106 - accuracy: 0.9967 - val_loss: 0.2677 - val_accuracy: 0.9498\n",
            "Epoch 78/100\n",
            "50/50 [==============================] - 0s 8ms/step - loss: 0.0237 - accuracy: 0.9927 - val_loss: 0.3519 - val_accuracy: 0.9319\n",
            "Epoch 79/100\n",
            "50/50 [==============================] - 0s 8ms/step - loss: 0.0574 - accuracy: 0.9823 - val_loss: 0.4029 - val_accuracy: 0.9246\n",
            "Epoch 80/100\n",
            "50/50 [==============================] - 0s 8ms/step - loss: 0.0238 - accuracy: 0.9925 - val_loss: 0.2948 - val_accuracy: 0.9437\n",
            "Epoch 81/100\n",
            "50/50 [==============================] - 0s 9ms/step - loss: 0.0095 - accuracy: 0.9971 - val_loss: 0.2842 - val_accuracy: 0.9435\n",
            "Epoch 82/100\n",
            "50/50 [==============================] - 0s 8ms/step - loss: 0.0170 - accuracy: 0.9937 - val_loss: 0.2284 - val_accuracy: 0.9520\n",
            "Epoch 83/100\n",
            "50/50 [==============================] - 0s 8ms/step - loss: 0.0088 - accuracy: 0.9970 - val_loss: 0.2086 - val_accuracy: 0.9583\n",
            "Epoch 84/100\n",
            "50/50 [==============================] - 0s 8ms/step - loss: 0.0056 - accuracy: 0.9980 - val_loss: 0.2350 - val_accuracy: 0.9543\n",
            "Epoch 85/100\n",
            "50/50 [==============================] - 0s 8ms/step - loss: 0.0029 - accuracy: 0.9988 - val_loss: 0.2121 - val_accuracy: 0.9585\n",
            "Epoch 86/100\n",
            "50/50 [==============================] - 0s 9ms/step - loss: 0.0012 - accuracy: 0.9998 - val_loss: 0.1870 - val_accuracy: 0.9630\n",
            "Epoch 87/100\n",
            "50/50 [==============================] - 0s 8ms/step - loss: 9.6487e-04 - accuracy: 0.9998 - val_loss: 0.1832 - val_accuracy: 0.9648\n",
            "Epoch 88/100\n",
            "50/50 [==============================] - 0s 8ms/step - loss: 5.2287e-04 - accuracy: 1.0000 - val_loss: 0.1860 - val_accuracy: 0.9631\n",
            "Epoch 89/100\n",
            "50/50 [==============================] - 0s 8ms/step - loss: 3.2056e-04 - accuracy: 1.0000 - val_loss: 0.1846 - val_accuracy: 0.9631\n",
            "Epoch 90/100\n",
            "50/50 [==============================] - 0s 8ms/step - loss: 4.3891e-04 - accuracy: 0.9999 - val_loss: 0.1921 - val_accuracy: 0.9622\n",
            "Epoch 91/100\n",
            "50/50 [==============================] - 0s 8ms/step - loss: 3.8298e-04 - accuracy: 1.0000 - val_loss: 0.1879 - val_accuracy: 0.9646\n",
            "Epoch 92/100\n",
            "50/50 [==============================] - 0s 8ms/step - loss: 4.9584e-04 - accuracy: 0.9999 - val_loss: 0.1977 - val_accuracy: 0.9628\n",
            "Epoch 93/100\n",
            "50/50 [==============================] - 0s 8ms/step - loss: 9.5914e-04 - accuracy: 0.9997 - val_loss: 0.1990 - val_accuracy: 0.9607\n",
            "Epoch 94/100\n",
            "50/50 [==============================] - 0s 8ms/step - loss: 7.0414e-04 - accuracy: 0.9999 - val_loss: 0.1930 - val_accuracy: 0.9635\n",
            "Epoch 95/100\n",
            "50/50 [==============================] - 0s 7ms/step - loss: 3.0765e-04 - accuracy: 1.0000 - val_loss: 0.1895 - val_accuracy: 0.9639\n",
            "Epoch 96/100\n",
            "50/50 [==============================] - 0s 8ms/step - loss: 0.0044 - accuracy: 0.9987 - val_loss: 0.2128 - val_accuracy: 0.9617\n",
            "Epoch 97/100\n",
            "50/50 [==============================] - 0s 8ms/step - loss: 0.0053 - accuracy: 0.9982 - val_loss: 0.2756 - val_accuracy: 0.9507\n",
            "Epoch 98/100\n",
            "50/50 [==============================] - 0s 8ms/step - loss: 0.0058 - accuracy: 0.9977 - val_loss: 0.2300 - val_accuracy: 0.9569\n",
            "Epoch 99/100\n",
            "50/50 [==============================] - 0s 8ms/step - loss: 0.0055 - accuracy: 0.9983 - val_loss: 0.2437 - val_accuracy: 0.9557\n",
            "Epoch 100/100\n",
            "50/50 [==============================] - 0s 8ms/step - loss: 0.0047 - accuracy: 0.9986 - val_loss: 0.3401 - val_accuracy: 0.9398\n"
          ]
        }
      ]
    },
    {
      "cell_type": "code",
      "metadata": {
        "colab": {
          "base_uri": "https://localhost:8080/",
          "height": 313
        },
        "id": "C1VjpQhpndcr",
        "outputId": "619736b1-b365-4bb2-ffd9-942327318069"
      },
      "source": [
        "# 모델 성능 시각화\n",
        "plt. figure(figsize = (15,5))\n",
        "\n",
        "plt.plot(model_history.history['accuracy'])\n",
        "plt.plot(model_history.history['val_accuracy'])\n",
        "plt.legend(['training', 'validation'], loc = 'best')\n",
        "plt.xlabel('Epoch')\n",
        "plt.ylabel('accuracy')\n",
        "\n",
        "plt.show()\n",
        "plt.close()"
      ],
      "execution_count": 32,
      "outputs": [
        {
          "output_type": "display_data",
          "data": {
            "image/png": "[encoded data removed]",
            "text/plain": [
              "<Figure size 1080x360 with 1 Axes>"
            ]
          },
          "metadata": {
            "needs_background": "light"
          }
        }
      ]
    },
    {
      "cell_type": "code",
      "metadata": {
        "colab": {
          "base_uri": "https://localhost:8080/"
        },
        "id": "1Wl9Cyqhndh2",
        "outputId": "b9f1be8b-ea62-4959-9bf6-dd4e8e8b9b76"
      },
      "source": [
        "model_eval = model.evaluate(X_test, y_test)\n",
        "print(model_eval[1])"
      ],
      "execution_count": 33,
      "outputs": [
        {
          "output_type": "stream",
          "name": "stdout",
          "text": [
            "1313/1313 [==============================] - 2s 2ms/step - loss: 0.3758 - accuracy: 0.9371\n",
            "0.9370952248573303\n"
          ]
        }
      ]
    },
    {
      "cell_type": "markdown",
      "metadata": {
        "id": "mxDxFM1J7b0t"
      },
      "source": [
        "## Dropout\n",
        "- 과대적합(overfitting)을 방지하기 위한 방법이다.\n",
        "- 배치정규화를 적용하면 내부적으로 규제(regularization)를 포함하고 있어서 Dropout을 적용할 필요가 없다! \n",
        "- 학습 정확도가 100%라고 해서 테스트정확도가 높지 않을 수 있다."
      ]
    },
    {
      "cell_type": "code",
      "metadata": {
        "id": "qHygyKhQndli"
      },
      "source": [
        "# dropout 적용한 함수 \n",
        "def get_mnist_dropout_model():\n",
        "  model = Sequential()\n",
        "\n",
        "  model.add( Dense(50, input_shape = (784, )) ) # 입력층\n",
        "  model.add( Activation ('sigmoid')  )  \n",
        "  model.add(Dropout(0.2))\n",
        "\n",
        "  model.add(Dense(50)) # 은닉층1\n",
        "  model.add( Activation ('sigmoid')  ) \n",
        "  model.add(Dropout(0.2))\n",
        "\n",
        "  model.add(Dense(50)) # 은닉층2\n",
        "  model.add( Activation ('sigmoid')  ) \n",
        "  model.add(Dropout(0.2))\n",
        "  \n",
        "  model.add(Dense(50)) # 은닉층3\n",
        "  model.add( Activation ('sigmoid')  )  \n",
        "  model.add(Dropout(0.2))\n",
        "\n",
        "  model.add( Dense(10, activation = 'softmax' ))\n",
        "\n",
        "  model.compile(optimizer = Adam(learning_rate=0.01),\n",
        "              loss ='categorical_crossentropy',\n",
        "              metrics = ['accuracy'])\n",
        "  \n",
        "  return model"
      ],
      "execution_count": 34,
      "outputs": []
    },
    {
      "cell_type": "code",
      "metadata": {
        "colab": {
          "base_uri": "https://localhost:8080/"
        },
        "id": "7chr8UnR7GQk",
        "outputId": "73895b81-02a4-4dd8-8180-1aeed3c794c2"
      },
      "source": [
        "model = get_mnist_dropout_model()\n",
        "model.summary()"
      ],
      "execution_count": 35,
      "outputs": [
        {
          "output_type": "stream",
          "name": "stdout",
          "text": [
            "Model: \"sequential_5\"\n",
            "_________________________________________________________________\n",
            "Layer (type)                 Output Shape              Param #   \n",
            "=================================================================\n",
            "dense_25 (Dense)             (None, 50)                39250     \n",
            "_________________________________________________________________\n",
            "activation_4 (Activation)    (None, 50)                0         \n",
            "_________________________________________________________________\n",
            "dropout (Dropout)            (None, 50)                0         \n",
            "_________________________________________________________________\n",
            "dense_26 (Dense)             (None, 50)                2550      \n",
            "_________________________________________________________________\n",
            "activation_5 (Activation)    (None, 50)                0         \n",
            "_________________________________________________________________\n",
            "dropout_1 (Dropout)          (None, 50)                0         \n",
            "_________________________________________________________________\n",
            "dense_27 (Dense)             (None, 50)                2550      \n",
            "_________________________________________________________________\n",
            "activation_6 (Activation)    (None, 50)                0         \n",
            "_________________________________________________________________\n",
            "dropout_2 (Dropout)          (None, 50)                0         \n",
            "_________________________________________________________________\n",
            "dense_28 (Dense)             (None, 50)                2550      \n",
            "_________________________________________________________________\n",
            "activation_7 (Activation)    (None, 50)                0         \n",
            "_________________________________________________________________\n",
            "dropout_3 (Dropout)          (None, 50)                0         \n",
            "_________________________________________________________________\n",
            "dense_29 (Dense)             (None, 10)                510       \n",
            "=================================================================\n",
            "Total params: 47,410\n",
            "Trainable params: 47,410\n",
            "Non-trainable params: 0\n",
            "_________________________________________________________________\n"
          ]
        }
      ]
    },
    {
      "cell_type": "code",
      "metadata": {
        "colab": {
          "base_uri": "https://localhost:8080/"
        },
        "id": "r0dtFuYV7GVb",
        "outputId": "5b82b7c6-d6f9-4057-f780-3fa4ff12fbb9"
      },
      "source": [
        "callbacks=[EarlyStopping(monitor = 'val_accuracy',patience=10)]\n",
        "model_history = model.fit(X_train, y_train, batch_size=256, validation_split=0.3, epochs=100, verbose=1,callbacks=callbacks)"
      ],
      "execution_count": 36,
      "outputs": [
        {
          "output_type": "stream",
          "name": "stdout",
          "text": [
            "Epoch 1/100\n",
            "50/50 [==============================] - 1s 10ms/step - loss: 2.1888 - accuracy: 0.1837 - val_loss: 1.6250 - val_accuracy: 0.4280\n",
            "Epoch 2/100\n",
            "50/50 [==============================] - 0s 7ms/step - loss: 1.6527 - accuracy: 0.3585 - val_loss: 1.3573 - val_accuracy: 0.4570\n",
            "Epoch 3/100\n",
            "50/50 [==============================] - 0s 7ms/step - loss: 1.4901 - accuracy: 0.4316 - val_loss: 1.2231 - val_accuracy: 0.5356\n",
            "Epoch 4/100\n",
            "50/50 [==============================] - 0s 7ms/step - loss: 1.4005 - accuracy: 0.4636 - val_loss: 1.1484 - val_accuracy: 0.5698\n",
            "Epoch 5/100\n",
            "50/50 [==============================] - 0s 7ms/step - loss: 1.3010 - accuracy: 0.5114 - val_loss: 1.0810 - val_accuracy: 0.5789\n",
            "Epoch 6/100\n",
            "50/50 [==============================] - 0s 7ms/step - loss: 1.2263 - accuracy: 0.5452 - val_loss: 0.9884 - val_accuracy: 0.6252\n",
            "Epoch 7/100\n",
            "50/50 [==============================] - 0s 7ms/step - loss: 1.1762 - accuracy: 0.5732 - val_loss: 0.9565 - val_accuracy: 0.6833\n",
            "Epoch 8/100\n",
            "50/50 [==============================] - 0s 7ms/step - loss: 1.1468 - accuracy: 0.5941 - val_loss: 0.9616 - val_accuracy: 0.6741\n",
            "Epoch 9/100\n",
            "50/50 [==============================] - 0s 8ms/step - loss: 1.1660 - accuracy: 0.5784 - val_loss: 0.8870 - val_accuracy: 0.7120\n",
            "Epoch 10/100\n",
            "50/50 [==============================] - 0s 7ms/step - loss: 1.1374 - accuracy: 0.5937 - val_loss: 0.8802 - val_accuracy: 0.6987\n",
            "Epoch 11/100\n",
            "50/50 [==============================] - 0s 7ms/step - loss: 1.1278 - accuracy: 0.6000 - val_loss: 0.8887 - val_accuracy: 0.6904\n",
            "Epoch 12/100\n",
            "50/50 [==============================] - 0s 7ms/step - loss: 1.1048 - accuracy: 0.6117 - val_loss: 0.8853 - val_accuracy: 0.7172\n",
            "Epoch 13/100\n",
            "50/50 [==============================] - 0s 7ms/step - loss: 1.1410 - accuracy: 0.6015 - val_loss: 0.9342 - val_accuracy: 0.6741\n",
            "Epoch 14/100\n",
            "50/50 [==============================] - 0s 7ms/step - loss: 1.1575 - accuracy: 0.5939 - val_loss: 0.9010 - val_accuracy: 0.6878\n",
            "Epoch 15/100\n",
            "50/50 [==============================] - 0s 7ms/step - loss: 1.0900 - accuracy: 0.6136 - val_loss: 0.8549 - val_accuracy: 0.7022\n",
            "Epoch 16/100\n",
            "50/50 [==============================] - 0s 7ms/step - loss: 1.0552 - accuracy: 0.6326 - val_loss: 0.8313 - val_accuracy: 0.7109\n",
            "Epoch 17/100\n",
            "50/50 [==============================] - 0s 7ms/step - loss: 1.1356 - accuracy: 0.5975 - val_loss: 0.8798 - val_accuracy: 0.7165\n",
            "Epoch 18/100\n",
            "50/50 [==============================] - 0s 7ms/step - loss: 1.0939 - accuracy: 0.6130 - val_loss: 0.8569 - val_accuracy: 0.7085\n",
            "Epoch 19/100\n",
            "50/50 [==============================] - 0s 7ms/step - loss: 1.1013 - accuracy: 0.6156 - val_loss: 0.8303 - val_accuracy: 0.7250\n",
            "Epoch 20/100\n",
            "50/50 [==============================] - 0s 7ms/step - loss: 1.0679 - accuracy: 0.6298 - val_loss: 0.8175 - val_accuracy: 0.7248\n",
            "Epoch 21/100\n",
            "50/50 [==============================] - 0s 7ms/step - loss: 1.0216 - accuracy: 0.6517 - val_loss: 0.7507 - val_accuracy: 0.7683\n",
            "Epoch 22/100\n",
            "50/50 [==============================] - 0s 7ms/step - loss: 0.9498 - accuracy: 0.6770 - val_loss: 0.7299 - val_accuracy: 0.7569\n",
            "Epoch 23/100\n",
            "50/50 [==============================] - 0s 7ms/step - loss: 0.9466 - accuracy: 0.6749 - val_loss: 0.7248 - val_accuracy: 0.7517\n",
            "Epoch 24/100\n",
            "50/50 [==============================] - 0s 7ms/step - loss: 0.9691 - accuracy: 0.6657 - val_loss: 0.7255 - val_accuracy: 0.7635\n",
            "Epoch 25/100\n",
            "50/50 [==============================] - 0s 7ms/step - loss: 0.9535 - accuracy: 0.6734 - val_loss: 0.6983 - val_accuracy: 0.7678\n",
            "Epoch 26/100\n",
            "50/50 [==============================] - 0s 7ms/step - loss: 0.9384 - accuracy: 0.6850 - val_loss: 0.6753 - val_accuracy: 0.7717\n",
            "Epoch 27/100\n",
            "50/50 [==============================] - 0s 7ms/step - loss: 0.9336 - accuracy: 0.6911 - val_loss: 0.6901 - val_accuracy: 0.7809\n",
            "Epoch 28/100\n",
            "50/50 [==============================] - 0s 7ms/step - loss: 0.9328 - accuracy: 0.6860 - val_loss: 0.6837 - val_accuracy: 0.7735\n",
            "Epoch 29/100\n",
            "50/50 [==============================] - 0s 7ms/step - loss: 0.9333 - accuracy: 0.6798 - val_loss: 0.7082 - val_accuracy: 0.7607\n",
            "Epoch 30/100\n",
            "50/50 [==============================] - 0s 7ms/step - loss: 0.9388 - accuracy: 0.6811 - val_loss: 0.7057 - val_accuracy: 0.7578\n",
            "Epoch 31/100\n",
            "50/50 [==============================] - 0s 7ms/step - loss: 0.9452 - accuracy: 0.6717 - val_loss: 0.7639 - val_accuracy: 0.7476\n",
            "Epoch 32/100\n",
            "50/50 [==============================] - 0s 7ms/step - loss: 1.0059 - accuracy: 0.6536 - val_loss: 0.7256 - val_accuracy: 0.7683\n",
            "Epoch 33/100\n",
            "50/50 [==============================] - 0s 7ms/step - loss: 0.9696 - accuracy: 0.6699 - val_loss: 0.6921 - val_accuracy: 0.7681\n",
            "Epoch 34/100\n",
            "50/50 [==============================] - 0s 7ms/step - loss: 0.9210 - accuracy: 0.6934 - val_loss: 0.6708 - val_accuracy: 0.7765\n",
            "Epoch 35/100\n",
            "50/50 [==============================] - 0s 7ms/step - loss: 0.8836 - accuracy: 0.7028 - val_loss: 0.6379 - val_accuracy: 0.7952\n",
            "Epoch 36/100\n",
            "50/50 [==============================] - 0s 7ms/step - loss: 0.8820 - accuracy: 0.7075 - val_loss: 0.6760 - val_accuracy: 0.7772\n",
            "Epoch 37/100\n",
            "50/50 [==============================] - 0s 7ms/step - loss: 0.9223 - accuracy: 0.6848 - val_loss: 0.6959 - val_accuracy: 0.7680\n",
            "Epoch 38/100\n",
            "50/50 [==============================] - 0s 7ms/step - loss: 0.9067 - accuracy: 0.6888 - val_loss: 0.6800 - val_accuracy: 0.7861\n",
            "Epoch 39/100\n",
            "50/50 [==============================] - 0s 7ms/step - loss: 0.9314 - accuracy: 0.6948 - val_loss: 0.6880 - val_accuracy: 0.7707\n",
            "Epoch 40/100\n",
            "50/50 [==============================] - 0s 7ms/step - loss: 0.8803 - accuracy: 0.7060 - val_loss: 0.6738 - val_accuracy: 0.7798\n",
            "Epoch 41/100\n",
            "50/50 [==============================] - 0s 7ms/step - loss: 0.8842 - accuracy: 0.7090 - val_loss: 0.6733 - val_accuracy: 0.7917\n",
            "Epoch 42/100\n",
            "50/50 [==============================] - 0s 7ms/step - loss: 0.8451 - accuracy: 0.7219 - val_loss: 0.6400 - val_accuracy: 0.7996\n",
            "Epoch 43/100\n",
            "50/50 [==============================] - 0s 6ms/step - loss: 0.8649 - accuracy: 0.7190 - val_loss: 0.6631 - val_accuracy: 0.7881\n",
            "Epoch 44/100\n",
            "50/50 [==============================] - 0s 7ms/step - loss: 0.9164 - accuracy: 0.6991 - val_loss: 0.6807 - val_accuracy: 0.7804\n",
            "Epoch 45/100\n",
            "50/50 [==============================] - 0s 7ms/step - loss: 0.9012 - accuracy: 0.7037 - val_loss: 0.6390 - val_accuracy: 0.7919\n",
            "Epoch 46/100\n",
            "50/50 [==============================] - 0s 7ms/step - loss: 0.8581 - accuracy: 0.7106 - val_loss: 0.6379 - val_accuracy: 0.7883\n",
            "Epoch 47/100\n",
            "50/50 [==============================] - 0s 7ms/step - loss: 0.8709 - accuracy: 0.7103 - val_loss: 0.6271 - val_accuracy: 0.7924\n",
            "Epoch 48/100\n",
            "50/50 [==============================] - 0s 8ms/step - loss: 0.8879 - accuracy: 0.7041 - val_loss: 0.6433 - val_accuracy: 0.7889\n",
            "Epoch 49/100\n",
            "50/50 [==============================] - 0s 7ms/step - loss: 0.8710 - accuracy: 0.7055 - val_loss: 0.6194 - val_accuracy: 0.8065\n",
            "Epoch 50/100\n",
            "50/50 [==============================] - 0s 7ms/step - loss: 0.9025 - accuracy: 0.7044 - val_loss: 0.6468 - val_accuracy: 0.8000\n",
            "Epoch 51/100\n",
            "50/50 [==============================] - 0s 8ms/step - loss: 0.8907 - accuracy: 0.7049 - val_loss: 0.6631 - val_accuracy: 0.7863\n",
            "Epoch 52/100\n",
            "50/50 [==============================] - 0s 7ms/step - loss: 0.9299 - accuracy: 0.6860 - val_loss: 0.6637 - val_accuracy: 0.7931\n",
            "Epoch 53/100\n",
            "50/50 [==============================] - 0s 9ms/step - loss: 0.9119 - accuracy: 0.6914 - val_loss: 0.6229 - val_accuracy: 0.7959\n",
            "Epoch 54/100\n",
            "50/50 [==============================] - 0s 7ms/step - loss: 0.8757 - accuracy: 0.7083 - val_loss: 0.6251 - val_accuracy: 0.7974\n",
            "Epoch 55/100\n",
            "50/50 [==============================] - 0s 7ms/step - loss: 0.8604 - accuracy: 0.7190 - val_loss: 0.6323 - val_accuracy: 0.7952\n",
            "Epoch 56/100\n",
            "50/50 [==============================] - 0s 7ms/step - loss: 0.8609 - accuracy: 0.7148 - val_loss: 0.6102 - val_accuracy: 0.8006\n",
            "Epoch 57/100\n",
            "50/50 [==============================] - 0s 7ms/step - loss: 0.8437 - accuracy: 0.7248 - val_loss: 0.6106 - val_accuracy: 0.8041\n",
            "Epoch 58/100\n",
            "50/50 [==============================] - 0s 8ms/step - loss: 0.8214 - accuracy: 0.7354 - val_loss: 0.5808 - val_accuracy: 0.8176\n",
            "Epoch 59/100\n",
            "50/50 [==============================] - 0s 7ms/step - loss: 0.8145 - accuracy: 0.7356 - val_loss: 0.5959 - val_accuracy: 0.8109\n",
            "Epoch 60/100\n",
            "50/50 [==============================] - 0s 7ms/step - loss: 0.8283 - accuracy: 0.7233 - val_loss: 0.6047 - val_accuracy: 0.8057\n",
            "Epoch 61/100\n",
            "50/50 [==============================] - 0s 8ms/step - loss: 0.8709 - accuracy: 0.7063 - val_loss: 0.6137 - val_accuracy: 0.7980\n",
            "Epoch 62/100\n",
            "50/50 [==============================] - 0s 7ms/step - loss: 0.8615 - accuracy: 0.7060 - val_loss: 0.6307 - val_accuracy: 0.7833\n",
            "Epoch 63/100\n",
            "50/50 [==============================] - 0s 7ms/step - loss: 0.8739 - accuracy: 0.7071 - val_loss: 0.5988 - val_accuracy: 0.8117\n",
            "Epoch 64/100\n",
            "50/50 [==============================] - 0s 8ms/step - loss: 0.8353 - accuracy: 0.7287 - val_loss: 0.6062 - val_accuracy: 0.8113\n",
            "Epoch 65/100\n",
            "50/50 [==============================] - 0s 8ms/step - loss: 0.8274 - accuracy: 0.7329 - val_loss: 0.5711 - val_accuracy: 0.8224\n",
            "Epoch 66/100\n",
            "50/50 [==============================] - 0s 7ms/step - loss: 0.7903 - accuracy: 0.7471 - val_loss: 0.5802 - val_accuracy: 0.8157\n",
            "Epoch 67/100\n",
            "50/50 [==============================] - 0s 7ms/step - loss: 0.8510 - accuracy: 0.7194 - val_loss: 0.6232 - val_accuracy: 0.7998\n",
            "Epoch 68/100\n",
            "50/50 [==============================] - 0s 7ms/step - loss: 0.8585 - accuracy: 0.7114 - val_loss: 0.5930 - val_accuracy: 0.8063\n",
            "Epoch 69/100\n",
            "50/50 [==============================] - 0s 8ms/step - loss: 0.8328 - accuracy: 0.7179 - val_loss: 0.5874 - val_accuracy: 0.8102\n",
            "Epoch 70/100\n",
            "50/50 [==============================] - 0s 8ms/step - loss: 0.8416 - accuracy: 0.7201 - val_loss: 0.5912 - val_accuracy: 0.8148\n",
            "Epoch 71/100\n",
            "50/50 [==============================] - 0s 7ms/step - loss: 0.8255 - accuracy: 0.7269 - val_loss: 0.5760 - val_accuracy: 0.8180\n",
            "Epoch 72/100\n",
            "50/50 [==============================] - 0s 8ms/step - loss: 0.8167 - accuracy: 0.7316 - val_loss: 0.5779 - val_accuracy: 0.8104\n",
            "Epoch 73/100\n",
            "50/50 [==============================] - 0s 7ms/step - loss: 0.8369 - accuracy: 0.7234 - val_loss: 0.6167 - val_accuracy: 0.7963\n",
            "Epoch 74/100\n",
            "50/50 [==============================] - 0s 8ms/step - loss: 0.8511 - accuracy: 0.7125 - val_loss: 0.6187 - val_accuracy: 0.7943\n",
            "Epoch 75/100\n",
            "50/50 [==============================] - 0s 8ms/step - loss: 0.8513 - accuracy: 0.7146 - val_loss: 0.6194 - val_accuracy: 0.7972\n"
          ]
        }
      ]
    },
    {
      "cell_type": "code",
      "metadata": {
        "colab": {
          "base_uri": "https://localhost:8080/",
          "height": 313
        },
        "id": "DpFyhJ607GcK",
        "outputId": "9770c15e-4721-4d12-aa01-756364102117"
      },
      "source": [
        "# 모델 성능 시각화\n",
        "plt. figure(figsize = (15,5))\n",
        "\n",
        "plt.plot(model_history.history['accuracy'])\n",
        "plt.plot(model_history.history['val_accuracy'])\n",
        "plt.legend(['training', 'validation'], loc = 'best')\n",
        "plt.xlabel('Epoch')\n",
        "plt.ylabel('accuracy')\n",
        "\n",
        "plt.show()\n",
        "plt.close()"
      ],
      "execution_count": 37,
      "outputs": [
        {
          "output_type": "display_data",
          "data": {
            "image/png": "[encoded data removed]",
            "text/plain": [
              "<Figure size 1080x360 with 1 Axes>"
            ]
          },
          "metadata": {
            "needs_background": "light"
          }
        }
      ]
    },
    {
      "cell_type": "markdown",
      "metadata": {
        "id": "v71yW_NrBFlh"
      },
      "source": [
        "Dropout을 한다고 해서 무조건 성능이 좋아지는건 X,\n",
        "위의 그래프를 봤을때 과적합이 되지 않은 것으로 판단됨."
      ]
    },
    {
      "cell_type": "code",
      "metadata": {
        "colab": {
          "base_uri": "https://localhost:8080/"
        },
        "id": "9zBg5Gjr7Ghy",
        "outputId": "d72bd8f1-7e07-4762-dd7c-d77b0bb99c2f"
      },
      "source": [
        "model_eval = model.evaluate(X_test, y_test)\n",
        "print(model_eval[1])"
      ],
      "execution_count": 38,
      "outputs": [
        {
          "output_type": "stream",
          "name": "stdout",
          "text": [
            "1313/1313 [==============================] - 2s 1ms/step - loss: 0.6264 - accuracy: 0.7960\n",
            "0.7959761619567871\n"
          ]
        }
      ]
    },
    {
      "cell_type": "markdown",
      "metadata": {
        "id": "90jplD0wIgQn"
      },
      "source": [
        "# 전체학습데이터를 이용해서 신경망 모델을 학습후 검증해보자"
      ]
    },
    {
      "cell_type": "code",
      "metadata": {
        "colab": {
          "base_uri": "https://localhost:8080/"
        },
        "id": "3urkCpgr7GmY",
        "outputId": "d698d2e2-6fcd-4aa9-91dd-84f28f83cc78"
      },
      "source": [
        "# 전체데이터 불러오기\n",
        "(X_train, y_train),(X_test,y_test) = load_data()\n",
        "X_train.shape, X_test.shape, y_train.shape, y_test.shape"
      ],
      "execution_count": 39,
      "outputs": [
        {
          "output_type": "execute_result",
          "data": {
            "text/plain": [
              "((60000, 28, 28), (10000, 28, 28), (60000,), (10000,))"
            ]
          },
          "metadata": {},
          "execution_count": 39
        }
      ]
    },
    {
      "cell_type": "code",
      "metadata": {
        "id": "_BKQW5Io7GrH"
      },
      "source": [
        "X_train = X_train.reshape((X_train.shape[0],-1))\n",
        "X_test = X_test.reshape((X_test.shape[0],-1))"
      ],
      "execution_count": 40,
      "outputs": []
    },
    {
      "cell_type": "code",
      "metadata": {
        "id": "TQlb0fLN7G4R"
      },
      "source": [
        "y_train = to_categorical(y_train)\n",
        "y_test = to_categorical(y_test)"
      ],
      "execution_count": 41,
      "outputs": []
    },
    {
      "cell_type": "code",
      "metadata": {
        "colab": {
          "base_uri": "https://localhost:8080/"
        },
        "id": "Jf-LFKm47G-o",
        "outputId": "44a66b0b-2d5c-4deb-925d-d9732887fdd0"
      },
      "source": [
        "X_train.shape, X_test.shape, y_train.shape, y_test.shape"
      ],
      "execution_count": 42,
      "outputs": [
        {
          "output_type": "execute_result",
          "data": {
            "text/plain": [
              "((60000, 784), (10000, 784), (60000, 10), (10000, 10))"
            ]
          },
          "metadata": {},
          "execution_count": 42
        }
      ]
    },
    {
      "cell_type": "code",
      "metadata": {
        "id": "AmJdB_XG7HEt"
      },
      "source": [
        "def get_mnist_mip_model():\n",
        "  model = Sequential()\n",
        "\n",
        "  model.add( Dense(50, input_shape = (784, ), kernel_initializer='he_normal') ) # 입력층\n",
        "  model.add( BatchNormalization() )\n",
        "  model.add( Activation ('relu')  )  \n",
        "  model.add(Dropout(0.2))\n",
        "\n",
        "  model.add(Dense(50, kernel_initializer='he_normal')) # 은닉층1\n",
        "  model.add( BatchNormalization() )\n",
        "  model.add( Activation ('relu') ) \n",
        "  model.add(Dropout(0.2))\n",
        "\n",
        "  model.add(Dense(50, kernel_initializer='he_normal')) # 은닉층2\n",
        "  model.add( BatchNormalization() )\n",
        "  model.add( Activation ('relu') ) \n",
        "  model.add(Dropout(0.2))\n",
        "  \n",
        "  model.add(Dense(50, kernel_initializer='he_normal')) # 은닉층3\n",
        "  model.add( BatchNormalization() )\n",
        "  model.add( Activation ('relu')  )  \n",
        "  model.add(Dropout(0.2))\n",
        "\n",
        "  model.add( Dense(10, activation = 'softmax' ))\n",
        "\n",
        "  model.compile(optimizer = Adam(learning_rate=0.01),\n",
        "              loss ='categorical_crossentropy',\n",
        "              metrics = ['accuracy'])\n",
        "  \n",
        "  return model"
      ],
      "execution_count": 43,
      "outputs": []
    },
    {
      "cell_type": "code",
      "metadata": {
        "colab": {
          "base_uri": "https://localhost:8080/"
        },
        "id": "vKPNk4YmL5CH",
        "outputId": "f943df9a-11f7-48aa-e010-52d3f4c87938"
      },
      "source": [
        "model = get_mnist_mip_model()\n",
        "model.summary()"
      ],
      "execution_count": 44,
      "outputs": [
        {
          "output_type": "stream",
          "name": "stdout",
          "text": [
            "Model: \"sequential_6\"\n",
            "_________________________________________________________________\n",
            "Layer (type)                 Output Shape              Param #   \n",
            "=================================================================\n",
            "dense_30 (Dense)             (None, 50)                39250     \n",
            "_________________________________________________________________\n",
            "batch_normalization_4 (Batch (None, 50)                200       \n",
            "_________________________________________________________________\n",
            "activation_8 (Activation)    (None, 50)                0         \n",
            "_________________________________________________________________\n",
            "dropout_4 (Dropout)          (None, 50)                0         \n",
            "_________________________________________________________________\n",
            "dense_31 (Dense)             (None, 50)                2550      \n",
            "_________________________________________________________________\n",
            "batch_normalization_5 (Batch (None, 50)                200       \n",
            "_________________________________________________________________\n",
            "activation_9 (Activation)    (None, 50)                0         \n",
            "_________________________________________________________________\n",
            "dropout_5 (Dropout)          (None, 50)                0         \n",
            "_________________________________________________________________\n",
            "dense_32 (Dense)             (None, 50)                2550      \n",
            "_________________________________________________________________\n",
            "batch_normalization_6 (Batch (None, 50)                200       \n",
            "_________________________________________________________________\n",
            "activation_10 (Activation)   (None, 50)                0         \n",
            "_________________________________________________________________\n",
            "dropout_6 (Dropout)          (None, 50)                0         \n",
            "_________________________________________________________________\n",
            "dense_33 (Dense)             (None, 50)                2550      \n",
            "_________________________________________________________________\n",
            "batch_normalization_7 (Batch (None, 50)                200       \n",
            "_________________________________________________________________\n",
            "activation_11 (Activation)   (None, 50)                0         \n",
            "_________________________________________________________________\n",
            "dropout_7 (Dropout)          (None, 50)                0         \n",
            "_________________________________________________________________\n",
            "dense_34 (Dense)             (None, 10)                510       \n",
            "=================================================================\n",
            "Total params: 48,210\n",
            "Trainable params: 47,810\n",
            "Non-trainable params: 400\n",
            "_________________________________________________________________\n"
          ]
        }
      ]
    },
    {
      "cell_type": "code",
      "metadata": {
        "colab": {
          "base_uri": "https://localhost:8080/"
        },
        "id": "ULIWDLRHL-qg",
        "outputId": "405fa466-a7f9-4219-db0a-69906d9ba9a2"
      },
      "source": [
        "model_history = model.fit(X_train, y_train, batch_size=256, validation_split=0.3, epochs=200, verbose=1)"
      ],
      "execution_count": 45,
      "outputs": [
        {
          "output_type": "stream",
          "name": "stdout",
          "text": [
            "Epoch 1/200\n",
            "165/165 [==============================] - 3s 10ms/step - loss: 0.6030 - accuracy: 0.8186 - val_loss: 0.2484 - val_accuracy: 0.9334\n",
            "Epoch 2/200\n",
            "165/165 [==============================] - 1s 8ms/step - loss: 0.3360 - accuracy: 0.9082 - val_loss: 0.1940 - val_accuracy: 0.9442\n",
            "Epoch 3/200\n",
            "165/165 [==============================] - 1s 8ms/step - loss: 0.2723 - accuracy: 0.9256 - val_loss: 0.1930 - val_accuracy: 0.9452\n",
            "Epoch 4/200\n",
            "165/165 [==============================] - 1s 9ms/step - loss: 0.2565 - accuracy: 0.9291 - val_loss: 0.1617 - val_accuracy: 0.9539\n",
            "Epoch 5/200\n",
            "165/165 [==============================] - 1s 9ms/step - loss: 0.2313 - accuracy: 0.9364 - val_loss: 0.1453 - val_accuracy: 0.9592\n",
            "Epoch 6/200\n",
            "165/165 [==============================] - 1s 8ms/step - loss: 0.2090 - accuracy: 0.9423 - val_loss: 0.1513 - val_accuracy: 0.9566\n",
            "Epoch 7/200\n",
            "165/165 [==============================] - 2s 9ms/step - loss: 0.2184 - accuracy: 0.9387 - val_loss: 0.1360 - val_accuracy: 0.9610\n",
            "Epoch 8/200\n",
            "165/165 [==============================] - 1s 8ms/step - loss: 0.2169 - accuracy: 0.9407 - val_loss: 0.1333 - val_accuracy: 0.9617\n",
            "Epoch 9/200\n",
            "165/165 [==============================] - 1s 8ms/step - loss: 0.1891 - accuracy: 0.9478 - val_loss: 0.1306 - val_accuracy: 0.9633\n",
            "Epoch 10/200\n",
            "165/165 [==============================] - 2s 9ms/step - loss: 0.1847 - accuracy: 0.9491 - val_loss: 0.1340 - val_accuracy: 0.9620\n",
            "Epoch 11/200\n",
            "165/165 [==============================] - 2s 10ms/step - loss: 0.1774 - accuracy: 0.9505 - val_loss: 0.1322 - val_accuracy: 0.9639\n",
            "Epoch 12/200\n",
            "165/165 [==============================] - 1s 8ms/step - loss: 0.1839 - accuracy: 0.9480 - val_loss: 0.1311 - val_accuracy: 0.9642\n",
            "Epoch 13/200\n",
            "165/165 [==============================] - 1s 8ms/step - loss: 0.1697 - accuracy: 0.9537 - val_loss: 0.1323 - val_accuracy: 0.9644\n",
            "Epoch 14/200\n",
            "165/165 [==============================] - 1s 8ms/step - loss: 0.1656 - accuracy: 0.9543 - val_loss: 0.1227 - val_accuracy: 0.9654\n",
            "Epoch 15/200\n",
            "165/165 [==============================] - 1s 8ms/step - loss: 0.1654 - accuracy: 0.9548 - val_loss: 0.1207 - val_accuracy: 0.9671\n",
            "Epoch 16/200\n",
            "165/165 [==============================] - 1s 8ms/step - loss: 0.1603 - accuracy: 0.9555 - val_loss: 0.1272 - val_accuracy: 0.9646\n",
            "Epoch 17/200\n",
            "165/165 [==============================] - 1s 8ms/step - loss: 0.1679 - accuracy: 0.9534 - val_loss: 0.1244 - val_accuracy: 0.9651\n",
            "Epoch 18/200\n",
            "165/165 [==============================] - 2s 9ms/step - loss: 0.1540 - accuracy: 0.9573 - val_loss: 0.1368 - val_accuracy: 0.9621\n",
            "Epoch 19/200\n",
            "165/165 [==============================] - 1s 8ms/step - loss: 0.1630 - accuracy: 0.9552 - val_loss: 0.1154 - val_accuracy: 0.9678\n",
            "Epoch 20/200\n",
            "165/165 [==============================] - 1s 9ms/step - loss: 0.1529 - accuracy: 0.9581 - val_loss: 0.1266 - val_accuracy: 0.9654\n",
            "Epoch 21/200\n",
            "165/165 [==============================] - 1s 8ms/step - loss: 0.1447 - accuracy: 0.9590 - val_loss: 0.1286 - val_accuracy: 0.9662\n",
            "Epoch 22/200\n",
            "165/165 [==============================] - 1s 8ms/step - loss: 0.1478 - accuracy: 0.9583 - val_loss: 0.1083 - val_accuracy: 0.9692\n",
            "Epoch 23/200\n",
            "165/165 [==============================] - 1s 8ms/step - loss: 0.1380 - accuracy: 0.9618 - val_loss: 0.1179 - val_accuracy: 0.9685\n",
            "Epoch 24/200\n",
            "165/165 [==============================] - 2s 9ms/step - loss: 0.1385 - accuracy: 0.9611 - val_loss: 0.1126 - val_accuracy: 0.9691\n",
            "Epoch 25/200\n",
            "165/165 [==============================] - 2s 9ms/step - loss: 0.1444 - accuracy: 0.9599 - val_loss: 0.1181 - val_accuracy: 0.9672\n",
            "Epoch 26/200\n",
            "165/165 [==============================] - 1s 8ms/step - loss: 0.1489 - accuracy: 0.9589 - val_loss: 0.1252 - val_accuracy: 0.9669\n",
            "Epoch 27/200\n",
            "165/165 [==============================] - 1s 9ms/step - loss: 0.1365 - accuracy: 0.9620 - val_loss: 0.1204 - val_accuracy: 0.9673\n",
            "Epoch 28/200\n",
            "165/165 [==============================] - 2s 9ms/step - loss: 0.1264 - accuracy: 0.9644 - val_loss: 0.1286 - val_accuracy: 0.9672\n",
            "Epoch 29/200\n",
            "165/165 [==============================] - 1s 9ms/step - loss: 0.1386 - accuracy: 0.9615 - val_loss: 0.1153 - val_accuracy: 0.9693\n",
            "Epoch 30/200\n",
            "165/165 [==============================] - 1s 9ms/step - loss: 0.1313 - accuracy: 0.9638 - val_loss: 0.1109 - val_accuracy: 0.9691\n",
            "Epoch 31/200\n",
            "165/165 [==============================] - 2s 9ms/step - loss: 0.1365 - accuracy: 0.9616 - val_loss: 0.1140 - val_accuracy: 0.9691\n",
            "Epoch 32/200\n",
            "165/165 [==============================] - 1s 9ms/step - loss: 0.1265 - accuracy: 0.9639 - val_loss: 0.1175 - val_accuracy: 0.9674\n",
            "Epoch 33/200\n",
            "165/165 [==============================] - 1s 9ms/step - loss: 0.1391 - accuracy: 0.9614 - val_loss: 0.1259 - val_accuracy: 0.9666\n",
            "Epoch 34/200\n",
            "165/165 [==============================] - 2s 9ms/step - loss: 0.1311 - accuracy: 0.9623 - val_loss: 0.1143 - val_accuracy: 0.9679\n",
            "Epoch 35/200\n",
            "165/165 [==============================] - 1s 8ms/step - loss: 0.1268 - accuracy: 0.9645 - val_loss: 0.1145 - val_accuracy: 0.9686\n",
            "Epoch 36/200\n",
            "165/165 [==============================] - 2s 9ms/step - loss: 0.1294 - accuracy: 0.9630 - val_loss: 0.1153 - val_accuracy: 0.9689\n",
            "Epoch 37/200\n",
            "165/165 [==============================] - 1s 9ms/step - loss: 0.1298 - accuracy: 0.9640 - val_loss: 0.1112 - val_accuracy: 0.9703\n",
            "Epoch 38/200\n",
            "165/165 [==============================] - 2s 9ms/step - loss: 0.1243 - accuracy: 0.9650 - val_loss: 0.1176 - val_accuracy: 0.9688\n",
            "Epoch 39/200\n",
            "165/165 [==============================] - 1s 9ms/step - loss: 0.1408 - accuracy: 0.9604 - val_loss: 0.1166 - val_accuracy: 0.9689\n",
            "Epoch 40/200\n",
            "165/165 [==============================] - 2s 9ms/step - loss: 0.1224 - accuracy: 0.9652 - val_loss: 0.1188 - val_accuracy: 0.9701\n",
            "Epoch 41/200\n",
            "165/165 [==============================] - 1s 9ms/step - loss: 0.1239 - accuracy: 0.9650 - val_loss: 0.1182 - val_accuracy: 0.9691\n",
            "Epoch 42/200\n",
            "165/165 [==============================] - 2s 9ms/step - loss: 0.1162 - accuracy: 0.9671 - val_loss: 0.1129 - val_accuracy: 0.9698\n",
            "Epoch 43/200\n",
            "165/165 [==============================] - 2s 9ms/step - loss: 0.1212 - accuracy: 0.9659 - val_loss: 0.1113 - val_accuracy: 0.9703\n",
            "Epoch 44/200\n",
            "165/165 [==============================] - 1s 9ms/step - loss: 0.1183 - accuracy: 0.9664 - val_loss: 0.1243 - val_accuracy: 0.9659\n",
            "Epoch 45/200\n",
            "165/165 [==============================] - 1s 9ms/step - loss: 0.1209 - accuracy: 0.9664 - val_loss: 0.1141 - val_accuracy: 0.9697\n",
            "Epoch 46/200\n",
            "165/165 [==============================] - 2s 9ms/step - loss: 0.1159 - accuracy: 0.9675 - val_loss: 0.1168 - val_accuracy: 0.9689\n",
            "Epoch 47/200\n",
            "165/165 [==============================] - 1s 8ms/step - loss: 0.1218 - accuracy: 0.9655 - val_loss: 0.1182 - val_accuracy: 0.9672\n",
            "Epoch 48/200\n",
            "165/165 [==============================] - 1s 8ms/step - loss: 0.1092 - accuracy: 0.9691 - val_loss: 0.1128 - val_accuracy: 0.9708\n",
            "Epoch 49/200\n",
            "165/165 [==============================] - 1s 8ms/step - loss: 0.1153 - accuracy: 0.9680 - val_loss: 0.1244 - val_accuracy: 0.9683\n",
            "Epoch 50/200\n",
            "165/165 [==============================] - 2s 9ms/step - loss: 0.1087 - accuracy: 0.9700 - val_loss: 0.1138 - val_accuracy: 0.9677\n",
            "Epoch 51/200\n",
            "165/165 [==============================] - 1s 8ms/step - loss: 0.1215 - accuracy: 0.9647 - val_loss: 0.1258 - val_accuracy: 0.9683\n",
            "Epoch 52/200\n",
            "165/165 [==============================] - 2s 9ms/step - loss: 0.1123 - accuracy: 0.9679 - val_loss: 0.1184 - val_accuracy: 0.9681\n",
            "Epoch 53/200\n",
            "165/165 [==============================] - 2s 9ms/step - loss: 0.1185 - accuracy: 0.9668 - val_loss: 0.1091 - val_accuracy: 0.9716\n",
            "Epoch 54/200\n",
            "165/165 [==============================] - 1s 9ms/step - loss: 0.1268 - accuracy: 0.9634 - val_loss: 0.1183 - val_accuracy: 0.9684\n",
            "Epoch 55/200\n",
            "165/165 [==============================] - 2s 10ms/step - loss: 0.1212 - accuracy: 0.9647 - val_loss: 0.1202 - val_accuracy: 0.9687\n",
            "Epoch 56/200\n",
            "165/165 [==============================] - 2s 9ms/step - loss: 0.1109 - accuracy: 0.9687 - val_loss: 0.1095 - val_accuracy: 0.9711\n",
            "Epoch 57/200\n",
            "165/165 [==============================] - 2s 9ms/step - loss: 0.1193 - accuracy: 0.9662 - val_loss: 0.1140 - val_accuracy: 0.9709\n",
            "Epoch 58/200\n",
            "165/165 [==============================] - 1s 8ms/step - loss: 0.1047 - accuracy: 0.9694 - val_loss: 0.1130 - val_accuracy: 0.9699\n",
            "Epoch 59/200\n",
            "165/165 [==============================] - 1s 8ms/step - loss: 0.1066 - accuracy: 0.9697 - val_loss: 0.1180 - val_accuracy: 0.9682\n",
            "Epoch 60/200\n",
            "165/165 [==============================] - 2s 9ms/step - loss: 0.1057 - accuracy: 0.9710 - val_loss: 0.1132 - val_accuracy: 0.9701\n",
            "Epoch 61/200\n",
            "165/165 [==============================] - 1s 8ms/step - loss: 0.0983 - accuracy: 0.9716 - val_loss: 0.1184 - val_accuracy: 0.9706\n",
            "Epoch 62/200\n",
            "165/165 [==============================] - 2s 9ms/step - loss: 0.1112 - accuracy: 0.9685 - val_loss: 0.1127 - val_accuracy: 0.9706\n",
            "Epoch 63/200\n",
            "165/165 [==============================] - 2s 9ms/step - loss: 0.1063 - accuracy: 0.9691 - val_loss: 0.1190 - val_accuracy: 0.9704\n",
            "Epoch 64/200\n",
            "165/165 [==============================] - 1s 9ms/step - loss: 0.1061 - accuracy: 0.9693 - val_loss: 0.1146 - val_accuracy: 0.9703\n",
            "Epoch 65/200\n",
            "165/165 [==============================] - 2s 9ms/step - loss: 0.1011 - accuracy: 0.9713 - val_loss: 0.1074 - val_accuracy: 0.9718\n",
            "Epoch 66/200\n",
            "165/165 [==============================] - 1s 8ms/step - loss: 0.1003 - accuracy: 0.9708 - val_loss: 0.1166 - val_accuracy: 0.9708\n",
            "Epoch 67/200\n",
            "165/165 [==============================] - 1s 8ms/step - loss: 0.0932 - accuracy: 0.9737 - val_loss: 0.1174 - val_accuracy: 0.9694\n",
            "Epoch 68/200\n",
            "165/165 [==============================] - 1s 8ms/step - loss: 0.1035 - accuracy: 0.9703 - val_loss: 0.1157 - val_accuracy: 0.9711\n",
            "Epoch 69/200\n",
            "165/165 [==============================] - 1s 8ms/step - loss: 0.1056 - accuracy: 0.9699 - val_loss: 0.1194 - val_accuracy: 0.9687\n",
            "Epoch 70/200\n",
            "165/165 [==============================] - 1s 8ms/step - loss: 0.0992 - accuracy: 0.9726 - val_loss: 0.1159 - val_accuracy: 0.9708\n",
            "Epoch 71/200\n",
            "165/165 [==============================] - 2s 9ms/step - loss: 0.1159 - accuracy: 0.9662 - val_loss: 0.1198 - val_accuracy: 0.9694\n",
            "Epoch 72/200\n",
            "165/165 [==============================] - 1s 8ms/step - loss: 0.1035 - accuracy: 0.9707 - val_loss: 0.1132 - val_accuracy: 0.9709\n",
            "Epoch 73/200\n",
            "165/165 [==============================] - 1s 8ms/step - loss: 0.1010 - accuracy: 0.9714 - val_loss: 0.1243 - val_accuracy: 0.9686\n",
            "Epoch 74/200\n",
            "165/165 [==============================] - 1s 8ms/step - loss: 0.0977 - accuracy: 0.9721 - val_loss: 0.1237 - val_accuracy: 0.9688\n",
            "Epoch 75/200\n",
            "165/165 [==============================] - 2s 9ms/step - loss: 0.1027 - accuracy: 0.9696 - val_loss: 0.1170 - val_accuracy: 0.9696\n",
            "Epoch 76/200\n",
            "165/165 [==============================] - 1s 8ms/step - loss: 0.0954 - accuracy: 0.9727 - val_loss: 0.1123 - val_accuracy: 0.9707\n",
            "Epoch 77/200\n",
            "165/165 [==============================] - 1s 9ms/step - loss: 0.0938 - accuracy: 0.9734 - val_loss: 0.1172 - val_accuracy: 0.9696\n",
            "Epoch 78/200\n",
            "165/165 [==============================] - 2s 9ms/step - loss: 0.0970 - accuracy: 0.9723 - val_loss: 0.1332 - val_accuracy: 0.9679\n",
            "Epoch 79/200\n",
            "165/165 [==============================] - 2s 9ms/step - loss: 0.0932 - accuracy: 0.9736 - val_loss: 0.1138 - val_accuracy: 0.9716\n",
            "Epoch 80/200\n",
            "165/165 [==============================] - 1s 8ms/step - loss: 0.0924 - accuracy: 0.9731 - val_loss: 0.1169 - val_accuracy: 0.9704\n",
            "Epoch 81/200\n",
            "165/165 [==============================] - 1s 9ms/step - loss: 0.1112 - accuracy: 0.9685 - val_loss: 0.1178 - val_accuracy: 0.9714\n",
            "Epoch 82/200\n",
            "165/165 [==============================] - 1s 8ms/step - loss: 0.0975 - accuracy: 0.9722 - val_loss: 0.1187 - val_accuracy: 0.9696\n",
            "Epoch 83/200\n",
            "165/165 [==============================] - 1s 8ms/step - loss: 0.1095 - accuracy: 0.9690 - val_loss: 0.1134 - val_accuracy: 0.9708\n",
            "Epoch 84/200\n",
            "165/165 [==============================] - 2s 9ms/step - loss: 0.1009 - accuracy: 0.9712 - val_loss: 0.1157 - val_accuracy: 0.9694\n",
            "Epoch 85/200\n",
            "165/165 [==============================] - 1s 9ms/step - loss: 0.0940 - accuracy: 0.9720 - val_loss: 0.1184 - val_accuracy: 0.9694\n",
            "Epoch 86/200\n",
            "165/165 [==============================] - 2s 9ms/step - loss: 0.1085 - accuracy: 0.9684 - val_loss: 0.1251 - val_accuracy: 0.9682\n",
            "Epoch 87/200\n",
            "165/165 [==============================] - 1s 8ms/step - loss: 0.0997 - accuracy: 0.9716 - val_loss: 0.1179 - val_accuracy: 0.9707\n",
            "Epoch 88/200\n",
            "165/165 [==============================] - 2s 9ms/step - loss: 0.0902 - accuracy: 0.9735 - val_loss: 0.1162 - val_accuracy: 0.9687\n",
            "Epoch 89/200\n",
            "165/165 [==============================] - 2s 10ms/step - loss: 0.0914 - accuracy: 0.9735 - val_loss: 0.1117 - val_accuracy: 0.9712\n",
            "Epoch 90/200\n",
            "165/165 [==============================] - 1s 8ms/step - loss: 0.0916 - accuracy: 0.9730 - val_loss: 0.1129 - val_accuracy: 0.9709\n",
            "Epoch 91/200\n",
            "165/165 [==============================] - 2s 10ms/step - loss: 0.1015 - accuracy: 0.9713 - val_loss: 0.1097 - val_accuracy: 0.9709\n",
            "Epoch 92/200\n",
            "165/165 [==============================] - 1s 9ms/step - loss: 0.1061 - accuracy: 0.9686 - val_loss: 0.1216 - val_accuracy: 0.9687\n",
            "Epoch 93/200\n",
            "165/165 [==============================] - 1s 9ms/step - loss: 0.0936 - accuracy: 0.9739 - val_loss: 0.1222 - val_accuracy: 0.9702\n",
            "Epoch 94/200\n",
            "165/165 [==============================] - 1s 8ms/step - loss: 0.0983 - accuracy: 0.9727 - val_loss: 0.1148 - val_accuracy: 0.9711\n",
            "Epoch 95/200\n",
            "165/165 [==============================] - 2s 10ms/step - loss: 0.0938 - accuracy: 0.9729 - val_loss: 0.1211 - val_accuracy: 0.9683\n",
            "Epoch 96/200\n",
            "165/165 [==============================] - 2s 10ms/step - loss: 0.0925 - accuracy: 0.9734 - val_loss: 0.1167 - val_accuracy: 0.9693\n",
            "Epoch 97/200\n",
            "165/165 [==============================] - 1s 9ms/step - loss: 0.0937 - accuracy: 0.9733 - val_loss: 0.1198 - val_accuracy: 0.9694\n",
            "Epoch 98/200\n",
            "165/165 [==============================] - 1s 8ms/step - loss: 0.0924 - accuracy: 0.9734 - val_loss: 0.1198 - val_accuracy: 0.9696\n",
            "Epoch 99/200\n",
            "165/165 [==============================] - 1s 9ms/step - loss: 0.0871 - accuracy: 0.9755 - val_loss: 0.1124 - val_accuracy: 0.9711\n",
            "Epoch 100/200\n",
            "165/165 [==============================] - 1s 9ms/step - loss: 0.0856 - accuracy: 0.9750 - val_loss: 0.1249 - val_accuracy: 0.9686\n",
            "Epoch 101/200\n",
            "165/165 [==============================] - 2s 9ms/step - loss: 0.0898 - accuracy: 0.9741 - val_loss: 0.1136 - val_accuracy: 0.9707\n",
            "Epoch 102/200\n",
            "165/165 [==============================] - 2s 9ms/step - loss: 0.0851 - accuracy: 0.9765 - val_loss: 0.1178 - val_accuracy: 0.9711\n",
            "Epoch 103/200\n",
            "165/165 [==============================] - 2s 10ms/step - loss: 0.0961 - accuracy: 0.9721 - val_loss: 0.1235 - val_accuracy: 0.9704\n",
            "Epoch 104/200\n",
            "165/165 [==============================] - 1s 9ms/step - loss: 0.0878 - accuracy: 0.9747 - val_loss: 0.1273 - val_accuracy: 0.9686\n",
            "Epoch 105/200\n",
            "165/165 [==============================] - 1s 9ms/step - loss: 0.0891 - accuracy: 0.9749 - val_loss: 0.1144 - val_accuracy: 0.9718\n",
            "Epoch 106/200\n",
            "165/165 [==============================] - 2s 10ms/step - loss: 0.0869 - accuracy: 0.9752 - val_loss: 0.1194 - val_accuracy: 0.9697\n",
            "Epoch 107/200\n",
            "165/165 [==============================] - 1s 9ms/step - loss: 0.0858 - accuracy: 0.9750 - val_loss: 0.1267 - val_accuracy: 0.9693\n",
            "Epoch 108/200\n",
            "165/165 [==============================] - 1s 9ms/step - loss: 0.0998 - accuracy: 0.9721 - val_loss: 0.1182 - val_accuracy: 0.9699\n",
            "Epoch 109/200\n",
            "165/165 [==============================] - 1s 9ms/step - loss: 0.1025 - accuracy: 0.9703 - val_loss: 0.1272 - val_accuracy: 0.9688\n",
            "Epoch 110/200\n",
            "165/165 [==============================] - 1s 9ms/step - loss: 0.0900 - accuracy: 0.9742 - val_loss: 0.1208 - val_accuracy: 0.9697\n",
            "Epoch 111/200\n",
            "165/165 [==============================] - 1s 9ms/step - loss: 0.0911 - accuracy: 0.9744 - val_loss: 0.1227 - val_accuracy: 0.9686\n",
            "Epoch 112/200\n",
            "165/165 [==============================] - 2s 10ms/step - loss: 0.0900 - accuracy: 0.9744 - val_loss: 0.1303 - val_accuracy: 0.9679\n",
            "Epoch 113/200\n",
            "165/165 [==============================] - 1s 9ms/step - loss: 0.0916 - accuracy: 0.9737 - val_loss: 0.1187 - val_accuracy: 0.9702\n",
            "Epoch 114/200\n",
            "165/165 [==============================] - 1s 9ms/step - loss: 0.0877 - accuracy: 0.9745 - val_loss: 0.1180 - val_accuracy: 0.9698\n",
            "Epoch 115/200\n",
            "165/165 [==============================] - 1s 9ms/step - loss: 0.0821 - accuracy: 0.9768 - val_loss: 0.1229 - val_accuracy: 0.9697\n",
            "Epoch 116/200\n",
            "165/165 [==============================] - 2s 10ms/step - loss: 0.0842 - accuracy: 0.9750 - val_loss: 0.1206 - val_accuracy: 0.9699\n",
            "Epoch 117/200\n",
            "165/165 [==============================] - 2s 10ms/step - loss: 0.0900 - accuracy: 0.9739 - val_loss: 0.1247 - val_accuracy: 0.9704\n",
            "Epoch 118/200\n",
            "165/165 [==============================] - 1s 8ms/step - loss: 0.0811 - accuracy: 0.9762 - val_loss: 0.1264 - val_accuracy: 0.9693\n",
            "Epoch 119/200\n",
            "165/165 [==============================] - 1s 9ms/step - loss: 0.0875 - accuracy: 0.9746 - val_loss: 0.1223 - val_accuracy: 0.9687\n",
            "Epoch 120/200\n",
            "165/165 [==============================] - 1s 9ms/step - loss: 0.0934 - accuracy: 0.9739 - val_loss: 0.1173 - val_accuracy: 0.9708\n",
            "Epoch 121/200\n",
            "165/165 [==============================] - 1s 9ms/step - loss: 0.0814 - accuracy: 0.9766 - val_loss: 0.1211 - val_accuracy: 0.9706\n",
            "Epoch 122/200\n",
            "165/165 [==============================] - 1s 8ms/step - loss: 0.0892 - accuracy: 0.9753 - val_loss: 0.1129 - val_accuracy: 0.9718\n",
            "Epoch 123/200\n",
            "165/165 [==============================] - 1s 9ms/step - loss: 0.0872 - accuracy: 0.9743 - val_loss: 0.1216 - val_accuracy: 0.9694\n",
            "Epoch 124/200\n",
            "165/165 [==============================] - 1s 9ms/step - loss: 0.0987 - accuracy: 0.9718 - val_loss: 0.1159 - val_accuracy: 0.9706\n",
            "Epoch 125/200\n",
            "165/165 [==============================] - 1s 9ms/step - loss: 0.0918 - accuracy: 0.9740 - val_loss: 0.1339 - val_accuracy: 0.9691\n",
            "Epoch 126/200\n",
            "165/165 [==============================] - 1s 9ms/step - loss: 0.0828 - accuracy: 0.9766 - val_loss: 0.1193 - val_accuracy: 0.9705\n",
            "Epoch 127/200\n",
            "165/165 [==============================] - 2s 9ms/step - loss: 0.0923 - accuracy: 0.9732 - val_loss: 0.1160 - val_accuracy: 0.9712\n",
            "Epoch 128/200\n",
            "165/165 [==============================] - 1s 9ms/step - loss: 0.0824 - accuracy: 0.9754 - val_loss: 0.1219 - val_accuracy: 0.9698\n",
            "Epoch 129/200\n",
            "165/165 [==============================] - 1s 9ms/step - loss: 0.0848 - accuracy: 0.9758 - val_loss: 0.1231 - val_accuracy: 0.9702\n",
            "Epoch 130/200\n",
            "165/165 [==============================] - 1s 9ms/step - loss: 0.0796 - accuracy: 0.9769 - val_loss: 0.1237 - val_accuracy: 0.9706\n",
            "Epoch 131/200\n",
            "165/165 [==============================] - 1s 9ms/step - loss: 0.0831 - accuracy: 0.9748 - val_loss: 0.1244 - val_accuracy: 0.9698\n",
            "Epoch 132/200\n",
            "165/165 [==============================] - 2s 9ms/step - loss: 0.0814 - accuracy: 0.9763 - val_loss: 0.1230 - val_accuracy: 0.9697\n",
            "Epoch 133/200\n",
            "165/165 [==============================] - 2s 9ms/step - loss: 0.0806 - accuracy: 0.9771 - val_loss: 0.1202 - val_accuracy: 0.9715\n",
            "Epoch 134/200\n",
            "165/165 [==============================] - 1s 9ms/step - loss: 0.0805 - accuracy: 0.9775 - val_loss: 0.1217 - val_accuracy: 0.9702\n",
            "Epoch 135/200\n",
            "165/165 [==============================] - 1s 9ms/step - loss: 0.0799 - accuracy: 0.9776 - val_loss: 0.1262 - val_accuracy: 0.9700\n",
            "Epoch 136/200\n",
            "165/165 [==============================] - 2s 9ms/step - loss: 0.0795 - accuracy: 0.9771 - val_loss: 0.1226 - val_accuracy: 0.9703\n",
            "Epoch 137/200\n",
            "165/165 [==============================] - 2s 9ms/step - loss: 0.0790 - accuracy: 0.9770 - val_loss: 0.1297 - val_accuracy: 0.9701\n",
            "Epoch 138/200\n",
            "165/165 [==============================] - 1s 9ms/step - loss: 0.0856 - accuracy: 0.9750 - val_loss: 0.1343 - val_accuracy: 0.9694\n",
            "Epoch 139/200\n",
            "165/165 [==============================] - 1s 9ms/step - loss: 0.0864 - accuracy: 0.9753 - val_loss: 0.1196 - val_accuracy: 0.9714\n",
            "Epoch 140/200\n",
            "165/165 [==============================] - 1s 9ms/step - loss: 0.0768 - accuracy: 0.9775 - val_loss: 0.1259 - val_accuracy: 0.9707\n",
            "Epoch 141/200\n",
            "165/165 [==============================] - 1s 9ms/step - loss: 0.0784 - accuracy: 0.9774 - val_loss: 0.1200 - val_accuracy: 0.9702\n",
            "Epoch 142/200\n",
            "165/165 [==============================] - 1s 8ms/step - loss: 0.0782 - accuracy: 0.9772 - val_loss: 0.1391 - val_accuracy: 0.9674\n",
            "Epoch 143/200\n",
            "165/165 [==============================] - 1s 9ms/step - loss: 0.0760 - accuracy: 0.9771 - val_loss: 0.1220 - val_accuracy: 0.9708\n",
            "Epoch 144/200\n",
            "165/165 [==============================] - 1s 9ms/step - loss: 0.0765 - accuracy: 0.9786 - val_loss: 0.1171 - val_accuracy: 0.9704\n",
            "Epoch 145/200\n",
            "165/165 [==============================] - 1s 9ms/step - loss: 0.0853 - accuracy: 0.9754 - val_loss: 0.1230 - val_accuracy: 0.9700\n",
            "Epoch 146/200\n",
            "165/165 [==============================] - 1s 9ms/step - loss: 0.0858 - accuracy: 0.9743 - val_loss: 0.1360 - val_accuracy: 0.9682\n",
            "Epoch 147/200\n",
            "165/165 [==============================] - 2s 9ms/step - loss: 0.0893 - accuracy: 0.9742 - val_loss: 0.1236 - val_accuracy: 0.9703\n",
            "Epoch 148/200\n",
            "165/165 [==============================] - 1s 9ms/step - loss: 0.0810 - accuracy: 0.9763 - val_loss: 0.1229 - val_accuracy: 0.9704\n",
            "Epoch 149/200\n",
            "165/165 [==============================] - 2s 10ms/step - loss: 0.0758 - accuracy: 0.9790 - val_loss: 0.1277 - val_accuracy: 0.9699\n",
            "Epoch 150/200\n",
            "165/165 [==============================] - 2s 10ms/step - loss: 0.0778 - accuracy: 0.9769 - val_loss: 0.1372 - val_accuracy: 0.9687\n",
            "Epoch 151/200\n",
            "165/165 [==============================] - 2s 9ms/step - loss: 0.0840 - accuracy: 0.9766 - val_loss: 0.1331 - val_accuracy: 0.9684\n",
            "Epoch 152/200\n",
            "165/165 [==============================] - 2s 10ms/step - loss: 0.0894 - accuracy: 0.9740 - val_loss: 0.1191 - val_accuracy: 0.9700\n",
            "Epoch 153/200\n",
            "165/165 [==============================] - 2s 10ms/step - loss: 0.0796 - accuracy: 0.9770 - val_loss: 0.1238 - val_accuracy: 0.9688\n",
            "Epoch 154/200\n",
            "165/165 [==============================] - 1s 9ms/step - loss: 0.0790 - accuracy: 0.9770 - val_loss: 0.1210 - val_accuracy: 0.9702\n",
            "Epoch 155/200\n",
            "165/165 [==============================] - 2s 10ms/step - loss: 0.0727 - accuracy: 0.9792 - val_loss: 0.1245 - val_accuracy: 0.9706\n",
            "Epoch 156/200\n",
            "165/165 [==============================] - 2s 10ms/step - loss: 0.0773 - accuracy: 0.9773 - val_loss: 0.1332 - val_accuracy: 0.9686\n",
            "Epoch 157/200\n",
            "165/165 [==============================] - 1s 9ms/step - loss: 0.0903 - accuracy: 0.9737 - val_loss: 0.1239 - val_accuracy: 0.9691\n",
            "Epoch 158/200\n",
            "165/165 [==============================] - 1s 9ms/step - loss: 0.0835 - accuracy: 0.9758 - val_loss: 0.1296 - val_accuracy: 0.9689\n",
            "Epoch 159/200\n",
            "165/165 [==============================] - 1s 9ms/step - loss: 0.0758 - accuracy: 0.9775 - val_loss: 0.1313 - val_accuracy: 0.9694\n",
            "Epoch 160/200\n",
            "165/165 [==============================] - 2s 9ms/step - loss: 0.0827 - accuracy: 0.9762 - val_loss: 0.1271 - val_accuracy: 0.9688\n",
            "Epoch 161/200\n",
            "165/165 [==============================] - 1s 8ms/step - loss: 0.0774 - accuracy: 0.9779 - val_loss: 0.1255 - val_accuracy: 0.9702\n",
            "Epoch 162/200\n",
            "165/165 [==============================] - 2s 10ms/step - loss: 0.0856 - accuracy: 0.9754 - val_loss: 0.1292 - val_accuracy: 0.9702\n",
            "Epoch 163/200\n",
            "165/165 [==============================] - 1s 9ms/step - loss: 0.0888 - accuracy: 0.9748 - val_loss: 0.1280 - val_accuracy: 0.9696\n",
            "Epoch 164/200\n",
            "165/165 [==============================] - 2s 10ms/step - loss: 0.0815 - accuracy: 0.9770 - val_loss: 0.1233 - val_accuracy: 0.9703\n",
            "Epoch 165/200\n",
            "165/165 [==============================] - 1s 9ms/step - loss: 0.0762 - accuracy: 0.9780 - val_loss: 0.1171 - val_accuracy: 0.9707\n",
            "Epoch 166/200\n",
            "165/165 [==============================] - 2s 10ms/step - loss: 0.0761 - accuracy: 0.9782 - val_loss: 0.1241 - val_accuracy: 0.9703\n",
            "Epoch 167/200\n",
            "165/165 [==============================] - 1s 9ms/step - loss: 0.0731 - accuracy: 0.9789 - val_loss: 0.1273 - val_accuracy: 0.9694\n",
            "Epoch 168/200\n",
            "165/165 [==============================] - 1s 9ms/step - loss: 0.0704 - accuracy: 0.9793 - val_loss: 0.1242 - val_accuracy: 0.9704\n",
            "Epoch 169/200\n",
            "165/165 [==============================] - 1s 9ms/step - loss: 0.0828 - accuracy: 0.9759 - val_loss: 0.1300 - val_accuracy: 0.9691\n",
            "Epoch 170/200\n",
            "165/165 [==============================] - 1s 9ms/step - loss: 0.0710 - accuracy: 0.9801 - val_loss: 0.1330 - val_accuracy: 0.9692\n",
            "Epoch 171/200\n",
            "165/165 [==============================] - 1s 9ms/step - loss: 0.0806 - accuracy: 0.9772 - val_loss: 0.1268 - val_accuracy: 0.9698\n",
            "Epoch 172/200\n",
            "165/165 [==============================] - 2s 10ms/step - loss: 0.0725 - accuracy: 0.9786 - val_loss: 0.1262 - val_accuracy: 0.9706\n",
            "Epoch 173/200\n",
            "165/165 [==============================] - 1s 9ms/step - loss: 0.0737 - accuracy: 0.9787 - val_loss: 0.1322 - val_accuracy: 0.9694\n",
            "Epoch 174/200\n",
            "165/165 [==============================] - 1s 9ms/step - loss: 0.0778 - accuracy: 0.9775 - val_loss: 0.1269 - val_accuracy: 0.9687\n",
            "Epoch 175/200\n",
            "165/165 [==============================] - 2s 10ms/step - loss: 0.0766 - accuracy: 0.9778 - val_loss: 0.1364 - val_accuracy: 0.9682\n",
            "Epoch 176/200\n",
            "165/165 [==============================] - 1s 9ms/step - loss: 0.0772 - accuracy: 0.9774 - val_loss: 0.1188 - val_accuracy: 0.9705\n",
            "Epoch 177/200\n",
            "165/165 [==============================] - 2s 9ms/step - loss: 0.0735 - accuracy: 0.9792 - val_loss: 0.1297 - val_accuracy: 0.9697\n",
            "Epoch 178/200\n",
            "165/165 [==============================] - 2s 9ms/step - loss: 0.0731 - accuracy: 0.9790 - val_loss: 0.1306 - val_accuracy: 0.9681\n",
            "Epoch 179/200\n",
            "165/165 [==============================] - 1s 9ms/step - loss: 0.0785 - accuracy: 0.9767 - val_loss: 0.1237 - val_accuracy: 0.9702\n",
            "Epoch 180/200\n",
            "165/165 [==============================] - 2s 9ms/step - loss: 0.0737 - accuracy: 0.9787 - val_loss: 0.1280 - val_accuracy: 0.9693\n",
            "Epoch 181/200\n",
            "165/165 [==============================] - 1s 9ms/step - loss: 0.0877 - accuracy: 0.9751 - val_loss: 0.1272 - val_accuracy: 0.9683\n",
            "Epoch 182/200\n",
            "165/165 [==============================] - 1s 9ms/step - loss: 0.0731 - accuracy: 0.9790 - val_loss: 0.1392 - val_accuracy: 0.9682\n",
            "Epoch 183/200\n",
            "165/165 [==============================] - 2s 10ms/step - loss: 0.0737 - accuracy: 0.9794 - val_loss: 0.1296 - val_accuracy: 0.9696\n",
            "Epoch 184/200\n",
            "165/165 [==============================] - 2s 9ms/step - loss: 0.0875 - accuracy: 0.9754 - val_loss: 0.1295 - val_accuracy: 0.9683\n",
            "Epoch 185/200\n",
            "165/165 [==============================] - 1s 9ms/step - loss: 0.0713 - accuracy: 0.9798 - val_loss: 0.1258 - val_accuracy: 0.9695\n",
            "Epoch 186/200\n",
            "165/165 [==============================] - 1s 9ms/step - loss: 0.0739 - accuracy: 0.9784 - val_loss: 0.1297 - val_accuracy: 0.9691\n",
            "Epoch 187/200\n",
            "165/165 [==============================] - 2s 10ms/step - loss: 0.0706 - accuracy: 0.9802 - val_loss: 0.1392 - val_accuracy: 0.9679\n",
            "Epoch 188/200\n",
            "165/165 [==============================] - 1s 9ms/step - loss: 0.1020 - accuracy: 0.9707 - val_loss: 0.1281 - val_accuracy: 0.9680\n",
            "Epoch 189/200\n",
            "165/165 [==============================] - 1s 9ms/step - loss: 0.0731 - accuracy: 0.9785 - val_loss: 0.1298 - val_accuracy: 0.9696\n",
            "Epoch 190/200\n",
            "165/165 [==============================] - 2s 9ms/step - loss: 0.0717 - accuracy: 0.9787 - val_loss: 0.1300 - val_accuracy: 0.9699\n",
            "Epoch 191/200\n",
            "165/165 [==============================] - 2s 10ms/step - loss: 0.0833 - accuracy: 0.9755 - val_loss: 0.1226 - val_accuracy: 0.9703\n",
            "Epoch 192/200\n",
            "165/165 [==============================] - 2s 9ms/step - loss: 0.0726 - accuracy: 0.9784 - val_loss: 0.1363 - val_accuracy: 0.9683\n",
            "Epoch 193/200\n",
            "165/165 [==============================] - 2s 10ms/step - loss: 0.0712 - accuracy: 0.9798 - val_loss: 0.1247 - val_accuracy: 0.9717\n",
            "Epoch 194/200\n",
            "165/165 [==============================] - 1s 9ms/step - loss: 0.0704 - accuracy: 0.9795 - val_loss: 0.1269 - val_accuracy: 0.9709\n",
            "Epoch 195/200\n",
            "165/165 [==============================] - 1s 9ms/step - loss: 0.0655 - accuracy: 0.9811 - val_loss: 0.1311 - val_accuracy: 0.9690\n",
            "Epoch 196/200\n",
            "165/165 [==============================] - 2s 10ms/step - loss: 0.0674 - accuracy: 0.9810 - val_loss: 0.1292 - val_accuracy: 0.9694\n",
            "Epoch 197/200\n",
            "165/165 [==============================] - 1s 9ms/step - loss: 0.0702 - accuracy: 0.9791 - val_loss: 0.1268 - val_accuracy: 0.9690\n",
            "Epoch 198/200\n",
            "165/165 [==============================] - 2s 10ms/step - loss: 0.0725 - accuracy: 0.9792 - val_loss: 0.1361 - val_accuracy: 0.9691\n",
            "Epoch 199/200\n",
            "165/165 [==============================] - 1s 9ms/step - loss: 0.0723 - accuracy: 0.9794 - val_loss: 0.1319 - val_accuracy: 0.9696\n",
            "Epoch 200/200\n",
            "165/165 [==============================] - 1s 9ms/step - loss: 0.0696 - accuracy: 0.9799 - val_loss: 0.1289 - val_accuracy: 0.9689\n"
          ]
        }
      ]
    },
    {
      "cell_type": "code",
      "metadata": {
        "colab": {
          "base_uri": "https://localhost:8080/",
          "height": 311
        },
        "id": "YJZKGggW7HPA",
        "outputId": "0c1d5021-2359-40cd-d6cf-f28a2199a954"
      },
      "source": [
        "# 모델 성능 시각화\n",
        "plt. figure(figsize = (15,5))\n",
        "\n",
        "plt.plot(model_history.history['accuracy'])\n",
        "plt.plot(model_history.history['val_accuracy'])\n",
        "plt.legend(['training', 'validation'], loc = 'best')\n",
        "plt.xlabel('Epoch')\n",
        "plt.ylabel('accuracy')\n",
        "\n",
        "plt.show()\n",
        "plt.close()"
      ],
      "execution_count": 46,
      "outputs": [
        {
          "output_type": "display_data",
          "data": {
            "image/png": "[encoded data removed]",
            "text/plain": [
              "<Figure size 1080x360 with 1 Axes>"
            ]
          },
          "metadata": {
            "needs_background": "light"
          }
        }
      ]
    },
    {
      "cell_type": "code",
      "metadata": {
        "colab": {
          "base_uri": "https://localhost:8080/"
        },
        "id": "xsJvdSN97HR-",
        "outputId": "8d93c17c-457a-4c05-f5ca-8ea040bbb4a7"
      },
      "source": [
        "model_eval = model.evaluate(X_test, y_test)\n",
        "print(model_eval[1])"
      ],
      "execution_count": 47,
      "outputs": [
        {
          "output_type": "stream",
          "name": "stdout",
          "text": [
            "313/313 [==============================] - 0s 1ms/step - loss: 0.1190 - accuracy: 0.9741\n",
            "0.9740999937057495\n"
          ]
        }
      ]
    },
    {
      "cell_type": "markdown",
      "metadata": {
        "id": "4SKp_hT4M-Ss"
      },
      "source": [
        "### 학습된 모델을 통해서 값 예측"
      ]
    },
    {
      "cell_type": "code",
      "metadata": {
        "colab": {
          "base_uri": "https://localhost:8080/"
        },
        "id": "tyxG4lY87HVc",
        "outputId": "6f4d73f3-9c17-4405-bd87-9b257ee8d49b"
      },
      "source": [
        "y_pred = model.predict(X_test)\n",
        "y_pred.shape"
      ],
      "execution_count": 48,
      "outputs": [
        {
          "output_type": "execute_result",
          "data": {
            "text/plain": [
              "(10000, 10)"
            ]
          },
          "metadata": {},
          "execution_count": 48
        }
      ]
    },
    {
      "cell_type": "code",
      "metadata": {
        "id": "5QRtS2m5ndo9",
        "colab": {
          "base_uri": "https://localhost:8080/"
        },
        "outputId": "893c8366-adcd-4505-cdbe-fe1013557d73"
      },
      "source": [
        "y_pred[0]"
      ],
      "execution_count": 49,
      "outputs": [
        {
          "output_type": "execute_result",
          "data": {
            "text/plain": [
              "array([3.3432506e-09, 1.7465870e-06, 8.5683178e-07, 1.0794777e-05,\n",
              "       4.2392753e-07, 1.6535510e-07, 5.0158174e-13, 9.9998176e-01,\n",
              "       3.3099272e-09, 4.2014281e-06], dtype=float32)"
            ]
          },
          "metadata": {},
          "execution_count": 49
        }
      ]
    },
    {
      "cell_type": "code",
      "metadata": {
        "id": "7-JLaJhHnduJ",
        "colab": {
          "base_uri": "https://localhost:8080/"
        },
        "outputId": "3e77c056-83d0-404d-c1c5-9375cd89326a"
      },
      "source": [
        "y_test[0]"
      ],
      "execution_count": 50,
      "outputs": [
        {
          "output_type": "execute_result",
          "data": {
            "text/plain": [
              "array([0., 0., 0., 0., 0., 0., 0., 1., 0., 0.], dtype=float32)"
            ]
          },
          "metadata": {},
          "execution_count": 50
        }
      ]
    },
    {
      "cell_type": "code",
      "metadata": {
        "id": "jShkH55fExAr",
        "colab": {
          "base_uri": "https://localhost:8080/"
        },
        "outputId": "ba2dada0-bc3e-4241-b3a2-b2c3987567d3"
      },
      "source": [
        "arg_y_pred = np.argmax(y_pred[0])\n",
        "arg_y_pred"
      ],
      "execution_count": 51,
      "outputs": [
        {
          "output_type": "execute_result",
          "data": {
            "text/plain": [
              "7"
            ]
          },
          "metadata": {},
          "execution_count": 51
        }
      ]
    },
    {
      "cell_type": "markdown",
      "metadata": {
        "id": "F-Sdpcs_NzOE"
      },
      "source": [
        "## Ensemble"
      ]
    },
    {
      "cell_type": "code",
      "metadata": {
        "id": "tABluwpqNLBE"
      },
      "source": [
        "def get_mnist_ensemble_model():\n",
        "  model = Sequential()\n",
        "\n",
        "  model.add( Dense(50, activation = 'sigmoid', input_shape = (784, )) ) # 입력층\n",
        "\n",
        "  model.add(Dense(50, activation = 'sigmoid')) # 은닉층1\n",
        "  model.add(Dense(50, activation = 'sigmoid')) # 은닉층2\n",
        "  model.add(Dense(50, activation = 'sigmoid'))  # 은닉층3\n",
        "  \n",
        "  model.add( Dense(10, activation = 'softmax' )) # 출력층\n",
        "\n",
        "  model.compile(optimizer = Adam(learning_rate=0.01),\n",
        "              loss ='categorical_crossentropy',\n",
        "              metrics = ['accuracy'])\n",
        "  \n",
        "  return model"
      ],
      "execution_count": 52,
      "outputs": []
    },
    {
      "cell_type": "code",
      "metadata": {
        "id": "p3sR9ayrNLE4"
      },
      "source": [
        "# keras 사용해서 모델생성\n",
        "model01 = KerasClassifier(build_fn=get_mnist_ensemble_model, epochs=100, verbose=0)\n",
        "model02 = KerasClassifier(build_fn=get_mnist_ensemble_model, epochs=100, verbose=0)\n",
        "model03 = KerasClassifier(build_fn=get_mnist_ensemble_model, epochs=100, verbose=0)\n",
        "\n",
        "model01._estimator_type ='classifier'\n",
        "model02._estimator_type ='classifier'\n",
        "model03._estimator_type ='classifier'\n"
      ],
      "execution_count": 53,
      "outputs": []
    },
    {
      "cell_type": "code",
      "metadata": {
        "colab": {
          "base_uri": "https://localhost:8080/"
        },
        "id": "uPgMUn9DYKKA",
        "outputId": "8b919f94-acae-4480-f9fd-48d0f403b2eb"
      },
      "source": [
        "X_train.shape, X_test.shape, y_train.shape, y_test.shape"
      ],
      "execution_count": 54,
      "outputs": [
        {
          "output_type": "execute_result",
          "data": {
            "text/plain": [
              "((60000, 784), (10000, 784), (60000, 10), (10000, 10))"
            ]
          },
          "metadata": {},
          "execution_count": 54
        }
      ]
    },
    {
      "cell_type": "code",
      "metadata": {
        "colab": {
          "base_uri": "https://localhost:8080/"
        },
        "id": "itfEk3h7NLKp",
        "outputId": "2011511c-f514-4048-84ec-7b06340bd732"
      },
      "source": [
        "# keras 사용!\n",
        "y_train = np.argmax( y_train , axis = 1)\n",
        "y_test = np.argmax( y_test, axis = 1) \n",
        "final_model = VotingClassifier(estimators=[('model01',model01),('model02',model02),('model03',model03)],voting='soft')\n",
        "final_model.fit(X_train, y_train)\n"
      ],
      "execution_count": 57,
      "outputs": [
        {
          "output_type": "execute_result",
          "data": {
            "text/plain": [
              "VotingClassifier(estimators=[('model01',\n",
              "                              <keras.wrappers.scikit_learn.KerasClassifier object at 0x7f668b53d510>),\n",
              "                             ('model02',\n",
              "                              <keras.wrappers.scikit_learn.KerasClassifier object at 0x7f668b53d5d0>),\n",
              "                             ('model03',\n",
              "                              <keras.wrappers.scikit_learn.KerasClassifier object at 0x7f668b53d650>)],\n",
              "                 flatten_transform=True, n_jobs=None, voting='soft',\n",
              "                 weights=None)"
            ]
          },
          "metadata": {},
          "execution_count": 57
        }
      ]
    },
    {
      "cell_type": "code",
      "metadata": {
        "colab": {
          "base_uri": "https://localhost:8080/"
        },
        "id": "aFtYupf2PZhF",
        "outputId": "9973d91b-e449-4485-fdaa-cbc366fce2f7"
      },
      "source": [
        "y_pred = final_model.predict(X_test)\n",
        "print('Test accuracy : ', accuracy_score(y_pred, y_test))"
      ],
      "execution_count": 58,
      "outputs": [
        {
          "output_type": "stream",
          "name": "stdout",
          "text": [
            "Test accuracy :  0.8606\n"
          ]
        }
      ]
    }
  ]
}