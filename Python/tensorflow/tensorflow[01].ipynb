{
  "nbformat": 4,
  "nbformat_minor": 0,
  "metadata": {
    "colab": {
      "name": "tensorflow[01].ipynb",
      "provenance": [],
      "collapsed_sections": []
    },
    "kernelspec": {
      "name": "python3",
      "display_name": "Python 3"
    },
    "language_info": {
      "name": "python"
    }
  },
  "cells": [
    {
      "cell_type": "markdown",
      "metadata": {
        "id": "pKGAG33ZNJPC"
      },
      "source": [
        "# tensorflow"
      ]
    },
    {
      "cell_type": "code",
      "metadata": {
        "colab": {
          "base_uri": "https://localhost:8080/"
        },
        "id": "h3ljWR0rLK7d",
        "outputId": "10bd305f-a659-45d4-8fd1-b2b0eccfab78"
      },
      "source": [
        "print('다층 퍼셉트론')\n",
        "print('입력층 - 은닉층 - 출력층')"
      ],
      "execution_count": null,
      "outputs": [
        {
          "output_type": "stream",
          "name": "stdout",
          "text": [
            "다층 퍼셉트론\n",
            "입력층 - 은닉층 - 출력층\n"
          ]
        }
      ]
    },
    {
      "cell_type": "code",
      "metadata": {
        "id": "wfPq71pTLLLE"
      },
      "source": [
        "from tensorflow.keras.datasets import boston_housing\n",
        "from tensorflow.keras.models   import Sequential\n",
        "from tensorflow.keras.layers   import Dense,Activation\n",
        "from tensorflow.keras          import optimizers"
      ],
      "execution_count": null,
      "outputs": []
    },
    {
      "cell_type": "code",
      "metadata": {
        "colab": {
          "base_uri": "https://localhost:8080/"
        },
        "id": "bxzu2SOvLLOA",
        "outputId": "b9c0f608-e874-4e4d-925e-cb3686b00427"
      },
      "source": [
        "# sklearn과 데이터 가져오는 순서가 다름!!\n",
        "(X_train, y_train),(X_test,y_test) = boston_housing.load_data() \n",
        "X_train.shape, y_train.shape, X_test.shape, y_test.shape"
      ],
      "execution_count": null,
      "outputs": [
        {
          "output_type": "execute_result",
          "data": {
            "text/plain": [
              "((404, 13), (404,), (102, 13), (102,))"
            ]
          },
          "metadata": {},
          "execution_count": 26
        }
      ]
    },
    {
      "cell_type": "code",
      "metadata": {
        "id": "oxAJlAPkMEuy"
      },
      "source": [
        "# 모델만들기\n",
        "model = Sequential()"
      ],
      "execution_count": null,
      "outputs": []
    },
    {
      "cell_type": "code",
      "metadata": {
        "id": "l_fc_iefME7E"
      },
      "source": [
        "# layer추가 \n",
        "# 입력층 명시 \n",
        "model.add(Dense(10,input_shape=(13,))) # 13개의 피처가 들어옴. 10개의 노드를 만듬.\n",
        "model.add(Activation('sigmoid')) # 활성함수로 sigmoid사용 - 분류쪽의 함수.\n",
        "\n",
        "# 은닉층 명시1 (hidden layer) - input_shape이 없음 \n",
        "model.add(Dense(10)) # Dense를 줄여주지 않아서 제대로 학습되지 X\n",
        "model.add(Activation('sigmoid'))\n",
        "\n",
        "# 은닉층 명시2 (hidden layer) - input_shape이 없음 \n",
        "model.add(Dense(10))\n",
        "model.add(Activation('sigmoid'))\n",
        "\n",
        "# 출력층 명시\n",
        "model.add(Dense(1)) # 출력층이니까 노드가 1개만 나와야해서 Dense(1)이다."
      ],
      "execution_count": null,
      "outputs": []
    },
    {
      "cell_type": "code",
      "metadata": {
        "id": "e8da2qsdME99"
      },
      "source": [
        "# 이런식으로도 작성 가능\n",
        "model.add(Dense(10,input_shape =(13,),activation='sigmoid'))\n",
        "model.add(Dense(10,activation='sigmoid'))\n",
        "model.add(Dense(10,activation='sigmoid'))\n",
        "model.add(Dense(1))"
      ],
      "execution_count": null,
      "outputs": []
    },
    {
      "cell_type": "code",
      "metadata": {
        "colab": {
          "base_uri": "https://localhost:8080/"
        },
        "id": "-25UnP4xMFCe",
        "outputId": "25f9db8c-0923-41b0-c32e-8aaf217f15dd"
      },
      "source": [
        "# 모델을 만들었으면 학습 이전에 모델의 컴파일이 선행되어야 한다.\n",
        "opt = optimizers.SGD(lr=0.01)\n",
        "model.compile(optimizer = opt, # opt라는 알고리즘 사용\n",
        "              loss = 'mean_squared_error', # 손실함수 지정\n",
        "              metrics=['mse'])\n",
        "model.summary()"
      ],
      "execution_count": null,
      "outputs": [
        {
          "output_type": "stream",
          "name": "stdout",
          "text": [
            "Model: \"sequential_2\"\n",
            "_________________________________________________________________\n",
            "Layer (type)                 Output Shape              Param #   \n",
            "=================================================================\n",
            "dense_12 (Dense)             (None, 10)                140       \n",
            "_________________________________________________________________\n",
            "activation_7 (Activation)    (None, 10)                0         \n",
            "_________________________________________________________________\n",
            "dense_13 (Dense)             (None, 10)                110       \n",
            "_________________________________________________________________\n",
            "activation_8 (Activation)    (None, 10)                0         \n",
            "_________________________________________________________________\n",
            "dense_14 (Dense)             (None, 10)                110       \n",
            "_________________________________________________________________\n",
            "activation_9 (Activation)    (None, 10)                0         \n",
            "_________________________________________________________________\n",
            "dense_15 (Dense)             (None, 1)                 11        \n",
            "_________________________________________________________________\n",
            "dense_16 (Dense)             (None, 10)                20        \n",
            "_________________________________________________________________\n",
            "dense_17 (Dense)             (None, 10)                110       \n",
            "_________________________________________________________________\n",
            "dense_18 (Dense)             (None, 10)                110       \n",
            "_________________________________________________________________\n",
            "dense_19 (Dense)             (None, 1)                 11        \n",
            "=================================================================\n",
            "Total params: 622\n",
            "Trainable params: 622\n",
            "Non-trainable params: 0\n",
            "_________________________________________________________________\n"
          ]
        },
        {
          "output_type": "stream",
          "name": "stderr",
          "text": [
            "/usr/local/lib/python3.7/dist-packages/keras/optimizer_v2/optimizer_v2.py:356: UserWarning: The `lr` argument is deprecated, use `learning_rate` instead.\n",
            "  \"The `lr` argument is deprecated, use `learning_rate` instead.\")\n"
          ]
        }
      ]
    },
    {
      "cell_type": "code",
      "metadata": {
        "colab": {
          "base_uri": "https://localhost:8080/"
        },
        "id": "uTF7a7spMFFA",
        "outputId": "77a36788-608f-452f-a32f-f3ad29c0fee4"
      },
      "source": [
        "# 모델 학습시키기\n",
        "# batch_size : 한번 학습할때 데이터 몇개를 학습할 것인가\n",
        "# epochs : 모델 학습 횟수\n",
        "# verbose : 학습 과정을 출력할지 안할지 결정\n",
        "\n",
        "model.fit(X_train,y_train, batch_size=50, epochs = 100, verbose=1)"
      ],
      "execution_count": null,
      "outputs": [
        {
          "output_type": "stream",
          "name": "stdout",
          "text": [
            "Epoch 1/100\n",
            "9/9 [==============================] - 1s 3ms/step - loss: 371.9184 - mse: 371.9184\n",
            "Epoch 2/100\n",
            "9/9 [==============================] - 0s 3ms/step - loss: 106.0094 - mse: 106.0094\n",
            "Epoch 3/100\n",
            "9/9 [==============================] - 0s 2ms/step - loss: 85.7332 - mse: 85.7332\n",
            "Epoch 4/100\n",
            "9/9 [==============================] - 0s 3ms/step - loss: 84.8798 - mse: 84.8798\n",
            "Epoch 5/100\n",
            "9/9 [==============================] - 0s 2ms/step - loss: 84.8724 - mse: 84.8724\n",
            "Epoch 6/100\n",
            "9/9 [==============================] - 0s 2ms/step - loss: 85.0165 - mse: 85.0165\n",
            "Epoch 7/100\n",
            "9/9 [==============================] - 0s 2ms/step - loss: 85.1045 - mse: 85.1045\n",
            "Epoch 8/100\n",
            "9/9 [==============================] - 0s 2ms/step - loss: 85.0484 - mse: 85.0484\n",
            "Epoch 9/100\n",
            "9/9 [==============================] - 0s 2ms/step - loss: 84.8268 - mse: 84.8268\n",
            "Epoch 10/100\n",
            "9/9 [==============================] - 0s 3ms/step - loss: 84.7501 - mse: 84.7501\n",
            "Epoch 11/100\n",
            "9/9 [==============================] - 0s 2ms/step - loss: 84.8152 - mse: 84.8152\n",
            "Epoch 12/100\n",
            "9/9 [==============================] - 0s 2ms/step - loss: 84.8845 - mse: 84.8845\n",
            "Epoch 13/100\n",
            "9/9 [==============================] - 0s 2ms/step - loss: 85.2167 - mse: 85.2167\n",
            "Epoch 14/100\n",
            "9/9 [==============================] - 0s 2ms/step - loss: 85.4094 - mse: 85.4094\n",
            "Epoch 15/100\n",
            "9/9 [==============================] - 0s 3ms/step - loss: 84.9952 - mse: 84.9952\n",
            "Epoch 16/100\n",
            "9/9 [==============================] - 0s 3ms/step - loss: 85.1406 - mse: 85.1406\n",
            "Epoch 17/100\n",
            "9/9 [==============================] - 0s 3ms/step - loss: 84.9936 - mse: 84.9936\n",
            "Epoch 18/100\n",
            "9/9 [==============================] - 0s 2ms/step - loss: 85.2185 - mse: 85.2185\n",
            "Epoch 19/100\n",
            "9/9 [==============================] - 0s 2ms/step - loss: 85.0437 - mse: 85.0437\n",
            "Epoch 20/100\n",
            "9/9 [==============================] - 0s 2ms/step - loss: 84.7800 - mse: 84.7800\n",
            "Epoch 21/100\n",
            "9/9 [==============================] - 0s 3ms/step - loss: 84.8217 - mse: 84.8217\n",
            "Epoch 22/100\n",
            "9/9 [==============================] - 0s 2ms/step - loss: 84.9470 - mse: 84.9470\n",
            "Epoch 23/100\n",
            "9/9 [==============================] - 0s 3ms/step - loss: 84.7559 - mse: 84.7559\n",
            "Epoch 24/100\n",
            "9/9 [==============================] - 0s 2ms/step - loss: 84.8282 - mse: 84.8282\n",
            "Epoch 25/100\n",
            "9/9 [==============================] - 0s 2ms/step - loss: 84.7796 - mse: 84.7796\n",
            "Epoch 26/100\n",
            "9/9 [==============================] - 0s 2ms/step - loss: 84.7812 - mse: 84.7812\n",
            "Epoch 27/100\n",
            "9/9 [==============================] - 0s 2ms/step - loss: 84.8969 - mse: 84.8969\n",
            "Epoch 28/100\n",
            "9/9 [==============================] - 0s 2ms/step - loss: 84.8966 - mse: 84.8966\n",
            "Epoch 29/100\n",
            "9/9 [==============================] - 0s 2ms/step - loss: 85.3626 - mse: 85.3626\n",
            "Epoch 30/100\n",
            "9/9 [==============================] - 0s 2ms/step - loss: 85.0368 - mse: 85.0368\n",
            "Epoch 31/100\n",
            "9/9 [==============================] - 0s 3ms/step - loss: 84.8859 - mse: 84.8859\n",
            "Epoch 32/100\n",
            "9/9 [==============================] - 0s 2ms/step - loss: 85.1590 - mse: 85.1590\n",
            "Epoch 33/100\n",
            "9/9 [==============================] - 0s 2ms/step - loss: 85.3263 - mse: 85.3263\n",
            "Epoch 34/100\n",
            "9/9 [==============================] - 0s 3ms/step - loss: 85.1945 - mse: 85.1945\n",
            "Epoch 35/100\n",
            "9/9 [==============================] - 0s 2ms/step - loss: 84.8229 - mse: 84.8229\n",
            "Epoch 36/100\n",
            "9/9 [==============================] - 0s 2ms/step - loss: 84.9206 - mse: 84.9206\n",
            "Epoch 37/100\n",
            "9/9 [==============================] - 0s 2ms/step - loss: 84.8836 - mse: 84.8836\n",
            "Epoch 38/100\n",
            "9/9 [==============================] - 0s 2ms/step - loss: 85.3782 - mse: 85.3782\n",
            "Epoch 39/100\n",
            "9/9 [==============================] - 0s 3ms/step - loss: 85.1585 - mse: 85.1585\n",
            "Epoch 40/100\n",
            "9/9 [==============================] - 0s 2ms/step - loss: 86.6831 - mse: 86.6831\n",
            "Epoch 41/100\n",
            "9/9 [==============================] - 0s 2ms/step - loss: 85.0684 - mse: 85.0684\n",
            "Epoch 42/100\n",
            "9/9 [==============================] - 0s 2ms/step - loss: 85.0178 - mse: 85.0178\n",
            "Epoch 43/100\n",
            "9/9 [==============================] - 0s 2ms/step - loss: 85.0871 - mse: 85.0871\n",
            "Epoch 44/100\n",
            "9/9 [==============================] - 0s 2ms/step - loss: 84.7357 - mse: 84.7357\n",
            "Epoch 45/100\n",
            "9/9 [==============================] - 0s 2ms/step - loss: 84.9112 - mse: 84.9112\n",
            "Epoch 46/100\n",
            "9/9 [==============================] - 0s 3ms/step - loss: 86.2547 - mse: 86.2547\n",
            "Epoch 47/100\n",
            "9/9 [==============================] - 0s 2ms/step - loss: 84.9868 - mse: 84.9868\n",
            "Epoch 48/100\n",
            "9/9 [==============================] - 0s 2ms/step - loss: 85.0622 - mse: 85.0622\n",
            "Epoch 49/100\n",
            "9/9 [==============================] - 0s 2ms/step - loss: 84.9342 - mse: 84.9342\n",
            "Epoch 50/100\n",
            "9/9 [==============================] - 0s 2ms/step - loss: 85.6420 - mse: 85.6420\n",
            "Epoch 51/100\n",
            "9/9 [==============================] - 0s 2ms/step - loss: 85.0986 - mse: 85.0986\n",
            "Epoch 52/100\n",
            "9/9 [==============================] - 0s 4ms/step - loss: 85.0210 - mse: 85.0210\n",
            "Epoch 53/100\n",
            "9/9 [==============================] - 0s 2ms/step - loss: 85.3572 - mse: 85.3572\n",
            "Epoch 54/100\n",
            "9/9 [==============================] - 0s 3ms/step - loss: 84.8180 - mse: 84.8180\n",
            "Epoch 55/100\n",
            "9/9 [==============================] - 0s 2ms/step - loss: 84.7730 - mse: 84.7730\n",
            "Epoch 56/100\n",
            "9/9 [==============================] - 0s 2ms/step - loss: 85.4217 - mse: 85.4217\n",
            "Epoch 57/100\n",
            "9/9 [==============================] - 0s 2ms/step - loss: 85.5800 - mse: 85.5800\n",
            "Epoch 58/100\n",
            "9/9 [==============================] - 0s 3ms/step - loss: 85.2124 - mse: 85.2124\n",
            "Epoch 59/100\n",
            "9/9 [==============================] - 0s 2ms/step - loss: 85.1175 - mse: 85.1175\n",
            "Epoch 60/100\n",
            "9/9 [==============================] - 0s 3ms/step - loss: 84.8622 - mse: 84.8622\n",
            "Epoch 61/100\n",
            "9/9 [==============================] - 0s 2ms/step - loss: 86.2210 - mse: 86.2210\n",
            "Epoch 62/100\n",
            "9/9 [==============================] - 0s 2ms/step - loss: 84.9932 - mse: 84.9932\n",
            "Epoch 63/100\n",
            "9/9 [==============================] - 0s 3ms/step - loss: 85.1715 - mse: 85.1715\n",
            "Epoch 64/100\n",
            "9/9 [==============================] - 0s 2ms/step - loss: 84.9702 - mse: 84.9702\n",
            "Epoch 65/100\n",
            "9/9 [==============================] - 0s 2ms/step - loss: 85.1040 - mse: 85.1040\n",
            "Epoch 66/100\n",
            "9/9 [==============================] - 0s 2ms/step - loss: 85.6689 - mse: 85.6689\n",
            "Epoch 67/100\n",
            "9/9 [==============================] - 0s 3ms/step - loss: 84.9637 - mse: 84.9637\n",
            "Epoch 68/100\n",
            "9/9 [==============================] - 0s 2ms/step - loss: 85.6101 - mse: 85.6101\n",
            "Epoch 69/100\n",
            "9/9 [==============================] - 0s 2ms/step - loss: 84.8077 - mse: 84.8077\n",
            "Epoch 70/100\n",
            "9/9 [==============================] - 0s 3ms/step - loss: 85.1873 - mse: 85.1873\n",
            "Epoch 71/100\n",
            "9/9 [==============================] - 0s 4ms/step - loss: 84.9346 - mse: 84.9346\n",
            "Epoch 72/100\n",
            "9/9 [==============================] - 0s 3ms/step - loss: 85.0845 - mse: 85.0845\n",
            "Epoch 73/100\n",
            "9/9 [==============================] - 0s 3ms/step - loss: 85.4586 - mse: 85.4586\n",
            "Epoch 74/100\n",
            "9/9 [==============================] - 0s 2ms/step - loss: 84.7389 - mse: 84.7389\n",
            "Epoch 75/100\n",
            "9/9 [==============================] - 0s 3ms/step - loss: 85.0854 - mse: 85.0854\n",
            "Epoch 76/100\n",
            "9/9 [==============================] - 0s 3ms/step - loss: 84.7895 - mse: 84.7895\n",
            "Epoch 77/100\n",
            "9/9 [==============================] - 0s 2ms/step - loss: 84.9580 - mse: 84.9580\n",
            "Epoch 78/100\n",
            "9/9 [==============================] - 0s 2ms/step - loss: 85.0227 - mse: 85.0227\n",
            "Epoch 79/100\n",
            "9/9 [==============================] - 0s 3ms/step - loss: 84.6524 - mse: 84.6524\n",
            "Epoch 80/100\n",
            "9/9 [==============================] - 0s 2ms/step - loss: 84.7082 - mse: 84.7082\n",
            "Epoch 81/100\n",
            "9/9 [==============================] - 0s 3ms/step - loss: 85.2625 - mse: 85.2625\n",
            "Epoch 82/100\n",
            "9/9 [==============================] - 0s 2ms/step - loss: 84.9660 - mse: 84.9660\n",
            "Epoch 83/100\n",
            "9/9 [==============================] - 0s 3ms/step - loss: 84.7005 - mse: 84.7005\n",
            "Epoch 84/100\n",
            "9/9 [==============================] - 0s 3ms/step - loss: 84.9737 - mse: 84.9737\n",
            "Epoch 85/100\n",
            "9/9 [==============================] - 0s 2ms/step - loss: 85.7935 - mse: 85.7935\n",
            "Epoch 86/100\n",
            "9/9 [==============================] - 0s 3ms/step - loss: 84.8625 - mse: 84.8625\n",
            "Epoch 87/100\n",
            "9/9 [==============================] - 0s 2ms/step - loss: 85.1488 - mse: 85.1488\n",
            "Epoch 88/100\n",
            "9/9 [==============================] - 0s 2ms/step - loss: 84.8455 - mse: 84.8455\n",
            "Epoch 89/100\n",
            "9/9 [==============================] - 0s 2ms/step - loss: 84.9880 - mse: 84.9880\n",
            "Epoch 90/100\n",
            "9/9 [==============================] - 0s 2ms/step - loss: 84.8653 - mse: 84.8653\n",
            "Epoch 91/100\n",
            "9/9 [==============================] - 0s 2ms/step - loss: 84.7817 - mse: 84.7817\n",
            "Epoch 92/100\n",
            "9/9 [==============================] - 0s 2ms/step - loss: 85.6415 - mse: 85.6415\n",
            "Epoch 93/100\n",
            "9/9 [==============================] - 0s 2ms/step - loss: 85.0374 - mse: 85.0374\n",
            "Epoch 94/100\n",
            "9/9 [==============================] - 0s 3ms/step - loss: 84.8671 - mse: 84.8671\n",
            "Epoch 95/100\n",
            "9/9 [==============================] - 0s 3ms/step - loss: 84.8976 - mse: 84.8976\n",
            "Epoch 96/100\n",
            "9/9 [==============================] - 0s 3ms/step - loss: 85.7366 - mse: 85.7366\n",
            "Epoch 97/100\n",
            "9/9 [==============================] - 0s 2ms/step - loss: 85.6169 - mse: 85.6169\n",
            "Epoch 98/100\n",
            "9/9 [==============================] - 0s 2ms/step - loss: 84.9542 - mse: 84.9542\n",
            "Epoch 99/100\n",
            "9/9 [==============================] - 0s 2ms/step - loss: 85.5248 - mse: 85.5248\n",
            "Epoch 100/100\n",
            "9/9 [==============================] - 0s 3ms/step - loss: 85.8023 - mse: 85.8023\n"
          ]
        },
        {
          "output_type": "execute_result",
          "data": {
            "text/plain": [
              "<keras.callbacks.History at 0x7fd8f5090350>"
            ]
          },
          "metadata": {},
          "execution_count": 31
        }
      ]
    },
    {
      "cell_type": "code",
      "metadata": {
        "colab": {
          "base_uri": "https://localhost:8080/"
        },
        "id": "6CSAfzrOQXh2",
        "outputId": "0a90a7d6-d804-489c-9abe-22f2df2f93b7"
      },
      "source": [
        "# 모델 평가 - test데이터를 활용해서! train데이터 X \n",
        "eval_result = model.evaluate(X_test, y_test)\n",
        "print(model.metrics_names)\n",
        "print('loss function : ', eval_result[0])\n",
        "print('mse           : ', eval_result[1])"
      ],
      "execution_count": null,
      "outputs": [
        {
          "output_type": "stream",
          "name": "stdout",
          "text": [
            "4/4 [==============================] - 0s 3ms/step - loss: 86.0553 - mse: 86.0553\n",
            "['loss', 'mse']\n",
            "loss function :  86.0552749633789\n",
            "mse           :  86.0552749633789\n"
          ]
        }
      ]
    },
    {
      "cell_type": "markdown",
      "metadata": {
        "id": "-3Ml20YgYzHw"
      },
      "source": [
        "## 다른 데이터를 활용해서 다시한번 해보기"
      ]
    },
    {
      "cell_type": "code",
      "metadata": {
        "id": "2OxSws6oQXo-"
      },
      "source": [
        "from   sklearn.datasets import load_iris , load_breast_cancer , load_digits\n",
        "from   sklearn.model_selection import train_test_split , KFold , StratifiedKFold , cross_val_score , cross_validate , GridSearchCV\n"
      ],
      "execution_count": null,
      "outputs": []
    },
    {
      "cell_type": "code",
      "metadata": {
        "colab": {
          "base_uri": "https://localhost:8080/"
        },
        "id": "KLA74SEZQXrO",
        "outputId": "a57a3e4f-02b6-403e-c08d-d6573cc12a0a"
      },
      "source": [
        "# 데이터 불러오기\n",
        "cancer = load_breast_cancer()\n",
        "print('type : ', type(cancer))\n",
        "print('keys : ', cancer.keys())"
      ],
      "execution_count": null,
      "outputs": [
        {
          "output_type": "stream",
          "name": "stdout",
          "text": [
            "type :  <class 'sklearn.utils.Bunch'>\n",
            "keys :  dict_keys(['data', 'target', 'target_names', 'DESCR', 'feature_names', 'filename'])\n"
          ]
        }
      ]
    },
    {
      "cell_type": "code",
      "metadata": {
        "colab": {
          "base_uri": "https://localhost:8080/"
        },
        "id": "WkTHtBrIQXuM",
        "outputId": "ce4e3aeb-56cc-4922-ddc2-6ac0cd9d9894"
      },
      "source": [
        "# 데이터 분리\n",
        "X_train, X_test, y_train, y_test = train_test_split(cancer.data, \n",
        "                                                    cancer.target,\n",
        "                                                    test_size = 0.2,\n",
        "                                                    random_state = 111)\n",
        "X_train.shape, X_test.shape, y_train.shape, y_test.shape"
      ],
      "execution_count": null,
      "outputs": [
        {
          "output_type": "execute_result",
          "data": {
            "text/plain": [
              "((455, 30), (114, 30), (455,), (114,))"
            ]
          },
          "metadata": {},
          "execution_count": 35
        }
      ]
    },
    {
      "cell_type": "code",
      "metadata": {
        "id": "LOU_cwguMFMw"
      },
      "source": [
        "# 모델 생성\n",
        "cancer_model = Sequential()"
      ],
      "execution_count": null,
      "outputs": []
    },
    {
      "cell_type": "code",
      "metadata": {
        "id": "XXwCi3CuZt_F"
      },
      "source": [
        "# layer추가 \n",
        "# 입력층 명시 \n",
        "cancer_model.add(Dense(10,input_shape=(30,))) # 13개의 피처가 들어옴. 10개의 노드를 만듬.\n",
        "cancer_model.add(Activation('sigmoid')) # 활성함수로 sigmoid사용 - 분류쪽의 함수.\n",
        "\n",
        "# 은닉층 명시1 (hidden layer) - input_shape이 없음 \n",
        "cancer_model.add(Dense(10))\n",
        "cancer_model.add(Activation('sigmoid'))\n",
        "\n",
        "# 은닉층 명시2 (hidden layer) - input_shape이 없음 \n",
        "cancer_model.add(Dense(10))\n",
        "cancer_model.add(Activation('sigmoid'))\n",
        "\n",
        "# 출력층 명시\n",
        "cancer_model.add(Dense(1)) # 출력층이니까 노드가 1개만 나와야해서 Dense(1)이다.\n",
        "cancer_model.add(Activation('sigmoid'))"
      ],
      "execution_count": null,
      "outputs": []
    },
    {
      "cell_type": "code",
      "metadata": {
        "colab": {
          "base_uri": "https://localhost:8080/"
        },
        "id": "sp1n0mbfZuDd",
        "outputId": "44d6db19-9dd9-4b85-bba5-fe3db08cd2be"
      },
      "source": [
        "# 모델을 만들었으면 학습 이전에 모델의 컴파일이 선행되어야 한다.\n",
        "opt = optimizers.SGD(lr=0.01)\n",
        "cancer_model.compile(optimizer = opt, # opt라는 알고리즘 사용\n",
        "              loss = 'binary_crossentropy', # 손실함수 지정\n",
        "              metrics=['accuracy'])\n",
        "cancer_model.summary()"
      ],
      "execution_count": null,
      "outputs": [
        {
          "output_type": "stream",
          "name": "stdout",
          "text": [
            "Model: \"sequential_3\"\n",
            "_________________________________________________________________\n",
            "Layer (type)                 Output Shape              Param #   \n",
            "=================================================================\n",
            "dense_20 (Dense)             (None, 10)                310       \n",
            "_________________________________________________________________\n",
            "activation_10 (Activation)   (None, 10)                0         \n",
            "_________________________________________________________________\n",
            "dense_21 (Dense)             (None, 10)                110       \n",
            "_________________________________________________________________\n",
            "activation_11 (Activation)   (None, 10)                0         \n",
            "_________________________________________________________________\n",
            "dense_22 (Dense)             (None, 10)                110       \n",
            "_________________________________________________________________\n",
            "activation_12 (Activation)   (None, 10)                0         \n",
            "_________________________________________________________________\n",
            "dense_23 (Dense)             (None, 1)                 11        \n",
            "_________________________________________________________________\n",
            "activation_13 (Activation)   (None, 1)                 0         \n",
            "=================================================================\n",
            "Total params: 541\n",
            "Trainable params: 541\n",
            "Non-trainable params: 0\n",
            "_________________________________________________________________\n"
          ]
        },
        {
          "output_type": "stream",
          "name": "stderr",
          "text": [
            "/usr/local/lib/python3.7/dist-packages/keras/optimizer_v2/optimizer_v2.py:356: UserWarning: The `lr` argument is deprecated, use `learning_rate` instead.\n",
            "  \"The `lr` argument is deprecated, use `learning_rate` instead.\")\n"
          ]
        }
      ]
    },
    {
      "cell_type": "code",
      "metadata": {
        "colab": {
          "base_uri": "https://localhost:8080/"
        },
        "id": "stv5_RAPZuG4",
        "outputId": "4cfcc131-80a7-4569-ced4-4abb5a4bd2af"
      },
      "source": [
        "# 모델 학습시키기\n",
        "# batch_size : 한번 학습할때 데이터 몇개를 학습할 것인가\n",
        "# epochs : 모델 학습 횟수\n",
        "# verbose : 학습 과정을 출력할지 안할지 결정\n",
        "\n",
        "cancer_model.fit(X_train,y_train, batch_size=50, epochs = 100, verbose=1)"
      ],
      "execution_count": null,
      "outputs": [
        {
          "output_type": "stream",
          "name": "stdout",
          "text": [
            "Epoch 1/100\n",
            "10/10 [==============================] - 0s 2ms/step - loss: 0.8925 - accuracy: 0.3692\n",
            "Epoch 2/100\n",
            "10/10 [==============================] - 0s 2ms/step - loss: 0.8549 - accuracy: 0.3692\n",
            "Epoch 3/100\n",
            "10/10 [==============================] - 0s 2ms/step - loss: 0.8213 - accuracy: 0.3692\n",
            "Epoch 4/100\n",
            "10/10 [==============================] - 0s 2ms/step - loss: 0.7949 - accuracy: 0.3692\n",
            "Epoch 5/100\n",
            "10/10 [==============================] - 0s 2ms/step - loss: 0.7681 - accuracy: 0.3692\n",
            "Epoch 6/100\n",
            "10/10 [==============================] - 0s 2ms/step - loss: 0.7492 - accuracy: 0.3692\n",
            "Epoch 7/100\n",
            "10/10 [==============================] - 0s 3ms/step - loss: 0.7335 - accuracy: 0.3692\n",
            "Epoch 8/100\n",
            "10/10 [==============================] - 0s 2ms/step - loss: 0.7193 - accuracy: 0.3692\n",
            "Epoch 9/100\n",
            "10/10 [==============================] - 0s 2ms/step - loss: 0.7088 - accuracy: 0.3692\n",
            "Epoch 10/100\n",
            "10/10 [==============================] - 0s 3ms/step - loss: 0.7011 - accuracy: 0.3692\n",
            "Epoch 11/100\n",
            "10/10 [==============================] - 0s 3ms/step - loss: 0.6938 - accuracy: 0.4549\n",
            "Epoch 12/100\n",
            "10/10 [==============================] - 0s 2ms/step - loss: 0.6871 - accuracy: 0.6308\n",
            "Epoch 13/100\n",
            "10/10 [==============================] - 0s 2ms/step - loss: 0.6831 - accuracy: 0.6308\n",
            "Epoch 14/100\n",
            "10/10 [==============================] - 0s 3ms/step - loss: 0.6776 - accuracy: 0.6308\n",
            "Epoch 15/100\n",
            "10/10 [==============================] - 0s 2ms/step - loss: 0.6738 - accuracy: 0.6308\n",
            "Epoch 16/100\n",
            "10/10 [==============================] - 0s 2ms/step - loss: 0.6713 - accuracy: 0.6308\n",
            "Epoch 17/100\n",
            "10/10 [==============================] - 0s 2ms/step - loss: 0.6693 - accuracy: 0.6308\n",
            "Epoch 18/100\n",
            "10/10 [==============================] - 0s 2ms/step - loss: 0.6671 - accuracy: 0.6308\n",
            "Epoch 19/100\n",
            "10/10 [==============================] - 0s 2ms/step - loss: 0.6654 - accuracy: 0.6308\n",
            "Epoch 20/100\n",
            "10/10 [==============================] - 0s 3ms/step - loss: 0.6643 - accuracy: 0.6308\n",
            "Epoch 21/100\n",
            "10/10 [==============================] - 0s 2ms/step - loss: 0.6630 - accuracy: 0.6308\n",
            "Epoch 22/100\n",
            "10/10 [==============================] - 0s 3ms/step - loss: 0.6621 - accuracy: 0.6308\n",
            "Epoch 23/100\n",
            "10/10 [==============================] - 0s 3ms/step - loss: 0.6616 - accuracy: 0.6308\n",
            "Epoch 24/100\n",
            "10/10 [==============================] - 0s 3ms/step - loss: 0.6613 - accuracy: 0.6308\n",
            "Epoch 25/100\n",
            "10/10 [==============================] - 0s 3ms/step - loss: 0.6609 - accuracy: 0.6308\n",
            "Epoch 26/100\n",
            "10/10 [==============================] - 0s 2ms/step - loss: 0.6607 - accuracy: 0.6308\n",
            "Epoch 27/100\n",
            "10/10 [==============================] - 0s 2ms/step - loss: 0.6607 - accuracy: 0.6308\n",
            "Epoch 28/100\n",
            "10/10 [==============================] - 0s 3ms/step - loss: 0.6606 - accuracy: 0.6308\n",
            "Epoch 29/100\n",
            "10/10 [==============================] - 0s 2ms/step - loss: 0.6602 - accuracy: 0.6308\n",
            "Epoch 30/100\n",
            "10/10 [==============================] - 0s 2ms/step - loss: 0.6599 - accuracy: 0.6308\n",
            "Epoch 31/100\n",
            "10/10 [==============================] - 0s 2ms/step - loss: 0.6597 - accuracy: 0.6308\n",
            "Epoch 32/100\n",
            "10/10 [==============================] - 0s 2ms/step - loss: 0.6595 - accuracy: 0.6308\n",
            "Epoch 33/100\n",
            "10/10 [==============================] - 0s 2ms/step - loss: 0.6593 - accuracy: 0.6308\n",
            "Epoch 34/100\n",
            "10/10 [==============================] - 0s 2ms/step - loss: 0.6594 - accuracy: 0.6308\n",
            "Epoch 35/100\n",
            "10/10 [==============================] - 0s 2ms/step - loss: 0.6592 - accuracy: 0.6308\n",
            "Epoch 36/100\n",
            "10/10 [==============================] - 0s 2ms/step - loss: 0.6593 - accuracy: 0.6308\n",
            "Epoch 37/100\n",
            "10/10 [==============================] - 0s 2ms/step - loss: 0.6594 - accuracy: 0.6308\n",
            "Epoch 38/100\n",
            "10/10 [==============================] - 0s 3ms/step - loss: 0.6591 - accuracy: 0.6308\n",
            "Epoch 39/100\n",
            "10/10 [==============================] - 0s 2ms/step - loss: 0.6589 - accuracy: 0.6308\n",
            "Epoch 40/100\n",
            "10/10 [==============================] - 0s 2ms/step - loss: 0.6589 - accuracy: 0.6308\n",
            "Epoch 41/100\n",
            "10/10 [==============================] - 0s 3ms/step - loss: 0.6589 - accuracy: 0.6308\n",
            "Epoch 42/100\n",
            "10/10 [==============================] - 0s 3ms/step - loss: 0.6587 - accuracy: 0.6308\n",
            "Epoch 43/100\n",
            "10/10 [==============================] - 0s 3ms/step - loss: 0.6587 - accuracy: 0.6308\n",
            "Epoch 44/100\n",
            "10/10 [==============================] - 0s 3ms/step - loss: 0.6589 - accuracy: 0.6308\n",
            "Epoch 45/100\n",
            "10/10 [==============================] - 0s 3ms/step - loss: 0.6588 - accuracy: 0.6308\n",
            "Epoch 46/100\n",
            "10/10 [==============================] - 0s 3ms/step - loss: 0.6588 - accuracy: 0.6308\n",
            "Epoch 47/100\n",
            "10/10 [==============================] - 0s 2ms/step - loss: 0.6587 - accuracy: 0.6308\n",
            "Epoch 48/100\n",
            "10/10 [==============================] - 0s 2ms/step - loss: 0.6589 - accuracy: 0.6308\n",
            "Epoch 49/100\n",
            "10/10 [==============================] - 0s 3ms/step - loss: 0.6589 - accuracy: 0.6308\n",
            "Epoch 50/100\n",
            "10/10 [==============================] - 0s 3ms/step - loss: 0.6590 - accuracy: 0.6308\n",
            "Epoch 51/100\n",
            "10/10 [==============================] - 0s 2ms/step - loss: 0.6589 - accuracy: 0.6308\n",
            "Epoch 52/100\n",
            "10/10 [==============================] - 0s 2ms/step - loss: 0.6589 - accuracy: 0.6308\n",
            "Epoch 53/100\n",
            "10/10 [==============================] - 0s 2ms/step - loss: 0.6590 - accuracy: 0.6308\n",
            "Epoch 54/100\n",
            "10/10 [==============================] - 0s 2ms/step - loss: 0.6589 - accuracy: 0.6308\n",
            "Epoch 55/100\n",
            "10/10 [==============================] - 0s 2ms/step - loss: 0.6588 - accuracy: 0.6308\n",
            "Epoch 56/100\n",
            "10/10 [==============================] - 0s 2ms/step - loss: 0.6588 - accuracy: 0.6308\n",
            "Epoch 57/100\n",
            "10/10 [==============================] - 0s 2ms/step - loss: 0.6588 - accuracy: 0.6308\n",
            "Epoch 58/100\n",
            "10/10 [==============================] - 0s 2ms/step - loss: 0.6587 - accuracy: 0.6308\n",
            "Epoch 59/100\n",
            "10/10 [==============================] - 0s 2ms/step - loss: 0.6587 - accuracy: 0.6308\n",
            "Epoch 60/100\n",
            "10/10 [==============================] - 0s 2ms/step - loss: 0.6587 - accuracy: 0.6308\n",
            "Epoch 61/100\n",
            "10/10 [==============================] - 0s 3ms/step - loss: 0.6587 - accuracy: 0.6308\n",
            "Epoch 62/100\n",
            "10/10 [==============================] - 0s 2ms/step - loss: 0.6587 - accuracy: 0.6308\n",
            "Epoch 63/100\n",
            "10/10 [==============================] - 0s 2ms/step - loss: 0.6586 - accuracy: 0.6308\n",
            "Epoch 64/100\n",
            "10/10 [==============================] - 0s 2ms/step - loss: 0.6587 - accuracy: 0.6308\n",
            "Epoch 65/100\n",
            "10/10 [==============================] - 0s 2ms/step - loss: 0.6587 - accuracy: 0.6308\n",
            "Epoch 66/100\n",
            "10/10 [==============================] - 0s 2ms/step - loss: 0.6588 - accuracy: 0.6308\n",
            "Epoch 67/100\n",
            "10/10 [==============================] - 0s 2ms/step - loss: 0.6587 - accuracy: 0.6308\n",
            "Epoch 68/100\n",
            "10/10 [==============================] - 0s 2ms/step - loss: 0.6589 - accuracy: 0.6308\n",
            "Epoch 69/100\n",
            "10/10 [==============================] - 0s 2ms/step - loss: 0.6587 - accuracy: 0.6308\n",
            "Epoch 70/100\n",
            "10/10 [==============================] - 0s 2ms/step - loss: 0.6588 - accuracy: 0.6308\n",
            "Epoch 71/100\n",
            "10/10 [==============================] - 0s 3ms/step - loss: 0.6587 - accuracy: 0.6308\n",
            "Epoch 72/100\n",
            "10/10 [==============================] - 0s 3ms/step - loss: 0.6587 - accuracy: 0.6308\n",
            "Epoch 73/100\n",
            "10/10 [==============================] - 0s 3ms/step - loss: 0.6587 - accuracy: 0.6308\n",
            "Epoch 74/100\n",
            "10/10 [==============================] - 0s 2ms/step - loss: 0.6586 - accuracy: 0.6308\n",
            "Epoch 75/100\n",
            "10/10 [==============================] - 0s 3ms/step - loss: 0.6586 - accuracy: 0.6308\n",
            "Epoch 76/100\n",
            "10/10 [==============================] - 0s 2ms/step - loss: 0.6586 - accuracy: 0.6308\n",
            "Epoch 77/100\n",
            "10/10 [==============================] - 0s 4ms/step - loss: 0.6585 - accuracy: 0.6308\n",
            "Epoch 78/100\n",
            "10/10 [==============================] - 0s 2ms/step - loss: 0.6584 - accuracy: 0.6308\n",
            "Epoch 79/100\n",
            "10/10 [==============================] - 0s 3ms/step - loss: 0.6582 - accuracy: 0.6308\n",
            "Epoch 80/100\n",
            "10/10 [==============================] - 0s 3ms/step - loss: 0.6582 - accuracy: 0.6308\n",
            "Epoch 81/100\n",
            "10/10 [==============================] - 0s 2ms/step - loss: 0.6581 - accuracy: 0.6308\n",
            "Epoch 82/100\n",
            "10/10 [==============================] - 0s 2ms/step - loss: 0.6581 - accuracy: 0.6308\n",
            "Epoch 83/100\n",
            "10/10 [==============================] - 0s 3ms/step - loss: 0.6581 - accuracy: 0.6308\n",
            "Epoch 84/100\n",
            "10/10 [==============================] - 0s 2ms/step - loss: 0.6581 - accuracy: 0.6308\n",
            "Epoch 85/100\n",
            "10/10 [==============================] - 0s 2ms/step - loss: 0.6580 - accuracy: 0.6308\n",
            "Epoch 86/100\n",
            "10/10 [==============================] - 0s 2ms/step - loss: 0.6581 - accuracy: 0.6308\n",
            "Epoch 87/100\n",
            "10/10 [==============================] - 0s 2ms/step - loss: 0.6580 - accuracy: 0.6308\n",
            "Epoch 88/100\n",
            "10/10 [==============================] - 0s 3ms/step - loss: 0.6581 - accuracy: 0.6308\n",
            "Epoch 89/100\n",
            "10/10 [==============================] - 0s 2ms/step - loss: 0.6580 - accuracy: 0.6308\n",
            "Epoch 90/100\n",
            "10/10 [==============================] - 0s 3ms/step - loss: 0.6580 - accuracy: 0.6308\n",
            "Epoch 91/100\n",
            "10/10 [==============================] - 0s 3ms/step - loss: 0.6578 - accuracy: 0.6308\n",
            "Epoch 92/100\n",
            "10/10 [==============================] - 0s 3ms/step - loss: 0.6579 - accuracy: 0.6308\n",
            "Epoch 93/100\n",
            "10/10 [==============================] - 0s 2ms/step - loss: 0.6579 - accuracy: 0.6308\n",
            "Epoch 94/100\n",
            "10/10 [==============================] - 0s 2ms/step - loss: 0.6578 - accuracy: 0.6308\n",
            "Epoch 95/100\n",
            "10/10 [==============================] - 0s 2ms/step - loss: 0.6578 - accuracy: 0.6308\n",
            "Epoch 96/100\n",
            "10/10 [==============================] - 0s 2ms/step - loss: 0.6578 - accuracy: 0.6308\n",
            "Epoch 97/100\n",
            "10/10 [==============================] - 0s 2ms/step - loss: 0.6578 - accuracy: 0.6308\n",
            "Epoch 98/100\n",
            "10/10 [==============================] - 0s 3ms/step - loss: 0.6577 - accuracy: 0.6308\n",
            "Epoch 99/100\n",
            "10/10 [==============================] - 0s 2ms/step - loss: 0.6577 - accuracy: 0.6308\n",
            "Epoch 100/100\n",
            "10/10 [==============================] - 0s 3ms/step - loss: 0.6576 - accuracy: 0.6308\n"
          ]
        },
        {
          "output_type": "execute_result",
          "data": {
            "text/plain": [
              "<keras.callbacks.History at 0x7fd8f4f01750>"
            ]
          },
          "metadata": {},
          "execution_count": 39
        }
      ]
    },
    {
      "cell_type": "markdown",
      "metadata": {
        "id": "BOswiTpLxGOH"
      },
      "source": [
        "정확도가 36%였는데 63%로 올라감."
      ]
    },
    {
      "cell_type": "code",
      "metadata": {
        "colab": {
          "base_uri": "https://localhost:8080/"
        },
        "id": "LcS18K7bZuJt",
        "outputId": "b62aae1b-6fa7-427d-bed2-f2c660e89d9f"
      },
      "source": [
        "# 모델 평가 - test데이터를 활용해서! train데이터 X \n",
        "cancer_eval_result = cancer_model.evaluate(X_test, y_test)\n",
        "print(cancer_model.metrics_names)\n",
        "print('loss function : ', cancer_eval_result[0])\n",
        "print('mse           : ', cancer_eval_result[1])"
      ],
      "execution_count": null,
      "outputs": [
        {
          "output_type": "stream",
          "name": "stdout",
          "text": [
            "4/4 [==============================] - 0s 4ms/step - loss: 0.6669 - accuracy: 0.6140\n",
            "['loss', 'accuracy']\n",
            "loss function :  0.6668848395347595\n",
            "mse           :  0.6140350699424744\n"
          ]
        }
      ]
    },
    {
      "cell_type": "markdown",
      "metadata": {
        "id": "jDAaSSgPxTz9"
      },
      "source": [
        "## MNIST 데이터세트를 활용해서 이미지 모델 만들기\n"
      ]
    },
    {
      "cell_type": "code",
      "metadata": {
        "id": "JyLfSpW-ZuMO"
      },
      "source": [
        "from tensorflow.keras.datasets import boston_housing, mnist\n",
        "from tensorflow.keras.models   import Sequential,Model\n",
        "from tensorflow.keras.layers   import Dense,Activation, Input\n",
        "from tensorflow.keras          import optimizers\n",
        "\n",
        "import matplotlib.pyplot       as plt\n",
        "\n",
        "from tensorflow.keras.utils    import to_categorical\n"
      ],
      "execution_count": null,
      "outputs": []
    },
    {
      "cell_type": "code",
      "metadata": {
        "colab": {
          "base_uri": "https://localhost:8080/"
        },
        "id": "onoq7flOxAfM",
        "outputId": "a140ef0f-48ed-4b55-f67d-bf4b13152997"
      },
      "source": [
        "(X_train,y_train),(X_test,y_test) = mnist.load_data()\n",
        "X_train.shape,  X_test.shape, y_train.shape, y_test.shape"
      ],
      "execution_count": null,
      "outputs": [
        {
          "output_type": "execute_result",
          "data": {
            "text/plain": [
              "((60000, 28, 28), (10000, 28, 28), (60000,), (10000,))"
            ]
          },
          "metadata": {},
          "execution_count": 72
        }
      ]
    },
    {
      "cell_type": "code",
      "metadata": {
        "colab": {
          "base_uri": "https://localhost:8080/"
        },
        "id": "DVJ2-0RMxAix",
        "outputId": "aba1fc9b-74b6-4afb-db6a-c1659c49c262"
      },
      "source": [
        "print('target : ')\n",
        "for idx in range(10):\n",
        "  print(y_train[idx])"
      ],
      "execution_count": null,
      "outputs": [
        {
          "output_type": "stream",
          "name": "stdout",
          "text": [
            "target : \n",
            "5\n",
            "0\n",
            "4\n",
            "1\n",
            "9\n",
            "2\n",
            "1\n",
            "3\n",
            "1\n",
            "4\n"
          ]
        }
      ]
    },
    {
      "cell_type": "code",
      "metadata": {
        "colab": {
          "base_uri": "https://localhost:8080/",
          "height": 335
        },
        "id": "v53xY8HexAl6",
        "outputId": "7c1863f7-ad0b-450a-8cfd-b355dc2c5f36"
      },
      "source": [
        "print('feature : ')\n",
        "print()\n",
        "plt.imshow(X_train[0])\n",
        "plt.show()\n",
        "print()\n",
        "print('target : ',y_train[0])"
      ],
      "execution_count": null,
      "outputs": [
        {
          "output_type": "stream",
          "name": "stdout",
          "text": [
            "feature : \n",
            "\n"
          ]
        },
        {
          "output_type": "display_data",
          "data": {
            "image/png": "[encoded data removed]",
            "text/plain": [
              "<Figure size 432x288 with 1 Axes>"
            ]
          },
          "metadata": {
            "needs_background": "light"
          }
        },
        {
          "output_type": "stream",
          "name": "stdout",
          "text": [
            "\n",
            "target :  5\n"
          ]
        }
      ]
    },
    {
      "cell_type": "code",
      "metadata": {
        "colab": {
          "base_uri": "https://localhost:8080/",
          "height": 318
        },
        "id": "W3KrsJTUxApm",
        "outputId": "6d889c68-80a8-4b1c-ff2c-1cc85ac3893a"
      },
      "source": [
        "print('feature : ')\n",
        "print()\n",
        "plt.imshow(X_test[0], cmap = plt.cm.binary)\n",
        "plt.grid(False)\n",
        "plt.axis('off')\n",
        "\n",
        "plt.show()\n",
        "print()\n",
        "print('target : ',y_test[0])"
      ],
      "execution_count": null,
      "outputs": [
        {
          "output_type": "stream",
          "name": "stdout",
          "text": [
            "feature : \n",
            "\n"
          ]
        },
        {
          "output_type": "display_data",
          "data": {
            "image/png": "[encoded data removed]",
            "text/plain": [
              "<Figure size 432x288 with 1 Axes>"
            ]
          },
          "metadata": {
            "needs_background": "light"
          }
        },
        {
          "output_type": "stream",
          "name": "stdout",
          "text": [
            "\n",
            "target :  7\n"
          ]
        }
      ]
    },
    {
      "cell_type": "code",
      "metadata": {
        "colab": {
          "base_uri": "https://localhost:8080/"
        },
        "id": "pE6HicwpxAs9",
        "outputId": "9dc35174-027f-4cc6-8107-34cdf1726df4"
      },
      "source": [
        "# 행렬의 형태는 퍼셉트론 모델의 피처로 사용하기 부적합하다 \n",
        "# 그래서 1차원의 벡터로 변환해줘야 한다! \n",
        "# reshape 28 * 28 = 784\n",
        "\n",
        "# print(X_train.shape[0])\n",
        "# print(X_train.reshape(X_train.shape[0],-1))\n",
        "\n",
        "X_train = X_train.reshape(X_train.shape[0],-1)\n",
        "X_test = X_test.reshape(X_test.shape[0],-1)\n",
        "X_train.shape,  X_test.shape, y_train.shape, y_test.shape"
      ],
      "execution_count": null,
      "outputs": [
        {
          "output_type": "execute_result",
          "data": {
            "text/plain": [
              "((60000, 784), (10000, 784), (60000,), (10000,))"
            ]
          },
          "metadata": {},
          "execution_count": 76
        }
      ]
    },
    {
      "cell_type": "code",
      "metadata": {
        "id": "H7LyhfSyxAwB"
      },
      "source": [
        "# 원핫인코딩\n",
        "y_train = to_categorical(y_train)\n",
        "y_test = to_categorical(y_test)"
      ],
      "execution_count": null,
      "outputs": []
    },
    {
      "cell_type": "code",
      "metadata": {
        "colab": {
          "base_uri": "https://localhost:8080/"
        },
        "id": "zQ_NS_5RxAz6",
        "outputId": "dfdb48b4-d33f-42e6-fb10-7c677ac10c14"
      },
      "source": [
        "X_train.shape,  X_test.shape, y_train.shape, y_test.shape "
      ],
      "execution_count": null,
      "outputs": [
        {
          "output_type": "execute_result",
          "data": {
            "text/plain": [
              "((60000, 784), (10000, 784), (60000, 10), (10000, 10))"
            ]
          },
          "metadata": {},
          "execution_count": 78
        }
      ]
    },
    {
      "cell_type": "markdown",
      "metadata": {
        "id": "X947RVmF3t0g"
      },
      "source": [
        "10개의 카테고리로 원핫인코딩이 되었다."
      ]
    },
    {
      "cell_type": "code",
      "metadata": {
        "colab": {
          "base_uri": "https://localhost:8080/"
        },
        "id": "AeYrvOISxA51",
        "outputId": "cbe12780-1c13-4639-f1a0-894cfd3264f1"
      },
      "source": [
        "for idx in range(10):\n",
        "  print(y_train[idx])"
      ],
      "execution_count": null,
      "outputs": [
        {
          "output_type": "stream",
          "name": "stdout",
          "text": [
            "[0. 0. 0. 0. 0. 1. 0. 0. 0. 0.]\n",
            "[1. 0. 0. 0. 0. 0. 0. 0. 0. 0.]\n",
            "[0. 0. 0. 0. 1. 0. 0. 0. 0. 0.]\n",
            "[0. 1. 0. 0. 0. 0. 0. 0. 0. 0.]\n",
            "[0. 0. 0. 0. 0. 0. 0. 0. 0. 1.]\n",
            "[0. 0. 1. 0. 0. 0. 0. 0. 0. 0.]\n",
            "[0. 1. 0. 0. 0. 0. 0. 0. 0. 0.]\n",
            "[0. 0. 0. 1. 0. 0. 0. 0. 0. 0.]\n",
            "[0. 1. 0. 0. 0. 0. 0. 0. 0. 0.]\n",
            "[0. 0. 0. 0. 1. 0. 0. 0. 0. 0.]\n"
          ]
        }
      ]
    },
    {
      "cell_type": "code",
      "metadata": {
        "colab": {
          "base_uri": "https://localhost:8080/"
        },
        "id": "3R6jBBQOxA_C",
        "outputId": "6a1365bb-8fed-4414-ac7a-b28edcd6f8b9"
      },
      "source": [
        "# 모델생성\n",
        "mnist_model = Sequential()\n",
        "\n",
        "# layer 추가\n",
        "mnist_model.add(Dense(256,input_shape = (784,)))\n",
        "mnist_model.add(Activation('sigmoid'))\n",
        "\n",
        "mnist_model.add(Dense(150))\n",
        "mnist_model.add(Activation('sigmoid'))\n",
        "\n",
        "mnist_model.add(Dense(100))\n",
        "mnist_model.add(Activation('sigmoid'))\n",
        "\n",
        "mnist_model.add(Dense(32))\n",
        "mnist_model.add(Activation('sigmoid'))\n",
        "\n",
        "mnist_model.add(Dense(10))\n",
        "mnist_model.add(Activation('softmax')) # 확률로 선택할 수 있게 하는 확률함수\n",
        "\n",
        "mnist_model.summary()\n"
      ],
      "execution_count": null,
      "outputs": [
        {
          "output_type": "stream",
          "name": "stdout",
          "text": [
            "Model: \"sequential_6\"\n",
            "_________________________________________________________________\n",
            "Layer (type)                 Output Shape              Param #   \n",
            "=================================================================\n",
            "dense_34 (Dense)             (None, 256)               200960    \n",
            "_________________________________________________________________\n",
            "activation_24 (Activation)   (None, 256)               0         \n",
            "_________________________________________________________________\n",
            "dense_35 (Dense)             (None, 150)               38550     \n",
            "_________________________________________________________________\n",
            "activation_25 (Activation)   (None, 150)               0         \n",
            "_________________________________________________________________\n",
            "dense_36 (Dense)             (None, 100)               15100     \n",
            "_________________________________________________________________\n",
            "activation_26 (Activation)   (None, 100)               0         \n",
            "_________________________________________________________________\n",
            "dense_37 (Dense)             (None, 32)                3232      \n",
            "_________________________________________________________________\n",
            "activation_27 (Activation)   (None, 32)                0         \n",
            "_________________________________________________________________\n",
            "dense_38 (Dense)             (None, 10)                330       \n",
            "_________________________________________________________________\n",
            "activation_28 (Activation)   (None, 10)                0         \n",
            "=================================================================\n",
            "Total params: 258,172\n",
            "Trainable params: 258,172\n",
            "Non-trainable params: 0\n",
            "_________________________________________________________________\n"
          ]
        }
      ]
    },
    {
      "cell_type": "code",
      "metadata": {
        "colab": {
          "base_uri": "https://localhost:8080/"
        },
        "id": "3sQMq2NZxBB4",
        "outputId": "e162c6ca-1e0f-48e1-e82a-e76cb0f5956b"
      },
      "source": [
        "# 모델을 만들었으면 학습 이전에 모델의 컴파일이 선행되어야 한다.\n",
        "opt = optimizers.SGD(lr=0.01)\n",
        "mnist_model.compile(optimizer = opt, # opt라는 알고리즘 사용\n",
        "              loss = 'categorical_crossentropy', # 손실함수 지정\n",
        "              metrics=['accuracy'])\n",
        "mnist_model.summary()"
      ],
      "execution_count": null,
      "outputs": [
        {
          "output_type": "stream",
          "name": "stdout",
          "text": [
            "Model: \"sequential_6\"\n",
            "_________________________________________________________________\n",
            "Layer (type)                 Output Shape              Param #   \n",
            "=================================================================\n",
            "dense_34 (Dense)             (None, 256)               200960    \n",
            "_________________________________________________________________\n",
            "activation_24 (Activation)   (None, 256)               0         \n",
            "_________________________________________________________________\n",
            "dense_35 (Dense)             (None, 150)               38550     \n",
            "_________________________________________________________________\n",
            "activation_25 (Activation)   (None, 150)               0         \n",
            "_________________________________________________________________\n",
            "dense_36 (Dense)             (None, 100)               15100     \n",
            "_________________________________________________________________\n",
            "activation_26 (Activation)   (None, 100)               0         \n",
            "_________________________________________________________________\n",
            "dense_37 (Dense)             (None, 32)                3232      \n",
            "_________________________________________________________________\n",
            "activation_27 (Activation)   (None, 32)                0         \n",
            "_________________________________________________________________\n",
            "dense_38 (Dense)             (None, 10)                330       \n",
            "_________________________________________________________________\n",
            "activation_28 (Activation)   (None, 10)                0         \n",
            "=================================================================\n",
            "Total params: 258,172\n",
            "Trainable params: 258,172\n",
            "Non-trainable params: 0\n",
            "_________________________________________________________________\n"
          ]
        },
        {
          "output_type": "stream",
          "name": "stderr",
          "text": [
            "/usr/local/lib/python3.7/dist-packages/keras/optimizer_v2/optimizer_v2.py:356: UserWarning: The `lr` argument is deprecated, use `learning_rate` instead.\n",
            "  \"The `lr` argument is deprecated, use `learning_rate` instead.\")\n"
          ]
        }
      ]
    },
    {
      "cell_type": "code",
      "metadata": {
        "colab": {
          "base_uri": "https://localhost:8080/"
        },
        "id": "TajZgVhtzpxW",
        "outputId": "b18a53a4-68cc-47f4-a0cf-933d72ab2f6a"
      },
      "source": [
        "mnist_result = mnist_model.fit(X_train, y_train, batch_size=300, validation_split = 0.3,\n",
        "                               epochs=100,verbose=1)"
      ],
      "execution_count": null,
      "outputs": [
        {
          "output_type": "stream",
          "name": "stdout",
          "text": [
            "Epoch 1/100\n",
            "140/140 [==============================] - 3s 17ms/step - loss: 2.3266 - accuracy: 0.1000 - val_loss: 2.3052 - val_accuracy: 0.1112\n",
            "Epoch 2/100\n",
            "140/140 [==============================] - 2s 14ms/step - loss: 2.3005 - accuracy: 0.1143 - val_loss: 2.2997 - val_accuracy: 0.1079\n",
            "Epoch 3/100\n",
            "140/140 [==============================] - 2s 14ms/step - loss: 2.2977 - accuracy: 0.1143 - val_loss: 2.2975 - val_accuracy: 0.1079\n",
            "Epoch 4/100\n",
            "140/140 [==============================] - 2s 16ms/step - loss: 2.2958 - accuracy: 0.1143 - val_loss: 2.2958 - val_accuracy: 0.1079\n",
            "Epoch 5/100\n",
            "140/140 [==============================] - 3s 18ms/step - loss: 2.2940 - accuracy: 0.1143 - val_loss: 2.2939 - val_accuracy: 0.1079\n",
            "Epoch 6/100\n",
            "140/140 [==============================] - 3s 20ms/step - loss: 2.2921 - accuracy: 0.1143 - val_loss: 2.2920 - val_accuracy: 0.1079\n",
            "Epoch 7/100\n",
            "140/140 [==============================] - 3s 20ms/step - loss: 2.2901 - accuracy: 0.1143 - val_loss: 2.2899 - val_accuracy: 0.1079\n",
            "Epoch 8/100\n",
            "140/140 [==============================] - 3s 24ms/step - loss: 2.2881 - accuracy: 0.1143 - val_loss: 2.2879 - val_accuracy: 0.1079\n",
            "Epoch 9/100\n",
            "140/140 [==============================] - 3s 24ms/step - loss: 2.2860 - accuracy: 0.1143 - val_loss: 2.2857 - val_accuracy: 0.1079\n",
            "Epoch 10/100\n",
            "140/140 [==============================] - 4s 27ms/step - loss: 2.2837 - accuracy: 0.1143 - val_loss: 2.2833 - val_accuracy: 0.1083\n",
            "Epoch 11/100\n",
            "140/140 [==============================] - 3s 25ms/step - loss: 2.2814 - accuracy: 0.1156 - val_loss: 2.2808 - val_accuracy: 0.1079\n",
            "Epoch 12/100\n",
            "140/140 [==============================] - 4s 26ms/step - loss: 2.2789 - accuracy: 0.1149 - val_loss: 2.2781 - val_accuracy: 0.1083\n",
            "Epoch 13/100\n",
            "140/140 [==============================] - 3s 20ms/step - loss: 2.2761 - accuracy: 0.1169 - val_loss: 2.2754 - val_accuracy: 0.1109\n",
            "Epoch 14/100\n",
            "140/140 [==============================] - 3s 20ms/step - loss: 2.2732 - accuracy: 0.1220 - val_loss: 2.2723 - val_accuracy: 0.1127\n",
            "Epoch 15/100\n",
            "140/140 [==============================] - 3s 21ms/step - loss: 2.2700 - accuracy: 0.1244 - val_loss: 2.2689 - val_accuracy: 0.1309\n",
            "Epoch 16/100\n",
            "140/140 [==============================] - 3s 21ms/step - loss: 2.2665 - accuracy: 0.1441 - val_loss: 2.2653 - val_accuracy: 0.1357\n",
            "Epoch 17/100\n",
            "140/140 [==============================] - 2s 15ms/step - loss: 2.2626 - accuracy: 0.1452 - val_loss: 2.2612 - val_accuracy: 0.1659\n",
            "Epoch 18/100\n",
            "140/140 [==============================] - 3s 19ms/step - loss: 2.2583 - accuracy: 0.1831 - val_loss: 2.2569 - val_accuracy: 0.1503\n",
            "Epoch 19/100\n",
            "140/140 [==============================] - 4s 25ms/step - loss: 2.2537 - accuracy: 0.1744 - val_loss: 2.2518 - val_accuracy: 0.1995\n",
            "Epoch 20/100\n",
            "140/140 [==============================] - 4s 27ms/step - loss: 2.2484 - accuracy: 0.2099 - val_loss: 2.2462 - val_accuracy: 0.2299\n",
            "Epoch 21/100\n",
            "140/140 [==============================] - 3s 21ms/step - loss: 2.2426 - accuracy: 0.2370 - val_loss: 2.2399 - val_accuracy: 0.2477\n",
            "Epoch 22/100\n",
            "140/140 [==============================] - 2s 14ms/step - loss: 2.2359 - accuracy: 0.2527 - val_loss: 2.2328 - val_accuracy: 0.2709\n",
            "Epoch 23/100\n",
            "140/140 [==============================] - 2s 14ms/step - loss: 2.2283 - accuracy: 0.2779 - val_loss: 2.2248 - val_accuracy: 0.2881\n",
            "Epoch 24/100\n",
            "140/140 [==============================] - 2s 14ms/step - loss: 2.2197 - accuracy: 0.3143 - val_loss: 2.2156 - val_accuracy: 0.2799\n",
            "Epoch 25/100\n",
            "140/140 [==============================] - 2s 14ms/step - loss: 2.2097 - accuracy: 0.3026 - val_loss: 2.2047 - val_accuracy: 0.3064\n",
            "Epoch 26/100\n",
            "140/140 [==============================] - 2s 14ms/step - loss: 2.1982 - accuracy: 0.3164 - val_loss: 2.1925 - val_accuracy: 0.3187\n",
            "Epoch 27/100\n",
            "140/140 [==============================] - 2s 14ms/step - loss: 2.1847 - accuracy: 0.3315 - val_loss: 2.1780 - val_accuracy: 0.3374\n",
            "Epoch 28/100\n",
            "140/140 [==============================] - 2s 14ms/step - loss: 2.1690 - accuracy: 0.3376 - val_loss: 2.1610 - val_accuracy: 0.3607\n",
            "Epoch 29/100\n",
            "140/140 [==============================] - 2s 14ms/step - loss: 2.1507 - accuracy: 0.3670 - val_loss: 2.1413 - val_accuracy: 0.3494\n",
            "Epoch 30/100\n",
            "140/140 [==============================] - 2s 14ms/step - loss: 2.1292 - accuracy: 0.3604 - val_loss: 2.1183 - val_accuracy: 0.3664\n",
            "Epoch 31/100\n",
            "140/140 [==============================] - 2s 14ms/step - loss: 2.1044 - accuracy: 0.3889 - val_loss: 2.0917 - val_accuracy: 0.3531\n",
            "Epoch 32/100\n",
            "140/140 [==============================] - 2s 14ms/step - loss: 2.0755 - accuracy: 0.3717 - val_loss: 2.0608 - val_accuracy: 0.3864\n",
            "Epoch 33/100\n",
            "140/140 [==============================] - 2s 15ms/step - loss: 2.0425 - accuracy: 0.3937 - val_loss: 2.0258 - val_accuracy: 0.3898\n",
            "Epoch 34/100\n",
            "140/140 [==============================] - 2s 14ms/step - loss: 2.0055 - accuracy: 0.3883 - val_loss: 1.9868 - val_accuracy: 0.4157\n",
            "Epoch 35/100\n",
            "140/140 [==============================] - 2s 14ms/step - loss: 1.9647 - accuracy: 0.4130 - val_loss: 1.9445 - val_accuracy: 0.4153\n",
            "Epoch 36/100\n",
            "140/140 [==============================] - 2s 14ms/step - loss: 1.9211 - accuracy: 0.4196 - val_loss: 1.8999 - val_accuracy: 0.4216\n",
            "Epoch 37/100\n",
            "140/140 [==============================] - 2s 15ms/step - loss: 1.8756 - accuracy: 0.4250 - val_loss: 1.8539 - val_accuracy: 0.4344\n",
            "Epoch 38/100\n",
            "140/140 [==============================] - 2s 14ms/step - loss: 1.8295 - accuracy: 0.4374 - val_loss: 1.8074 - val_accuracy: 0.4496\n",
            "Epoch 39/100\n",
            "140/140 [==============================] - 2s 14ms/step - loss: 1.7834 - accuracy: 0.4500 - val_loss: 1.7616 - val_accuracy: 0.4593\n",
            "Epoch 40/100\n",
            "140/140 [==============================] - 2s 14ms/step - loss: 1.7385 - accuracy: 0.4627 - val_loss: 1.7175 - val_accuracy: 0.4741\n",
            "Epoch 41/100\n",
            "140/140 [==============================] - 2s 14ms/step - loss: 1.6956 - accuracy: 0.4741 - val_loss: 1.6757 - val_accuracy: 0.4868\n",
            "Epoch 42/100\n",
            "140/140 [==============================] - 2s 14ms/step - loss: 1.6548 - accuracy: 0.4879 - val_loss: 1.6360 - val_accuracy: 0.5006\n",
            "Epoch 43/100\n",
            "140/140 [==============================] - 2s 14ms/step - loss: 1.6164 - accuracy: 0.5022 - val_loss: 1.5988 - val_accuracy: 0.5157\n",
            "Epoch 44/100\n",
            "140/140 [==============================] - 2s 14ms/step - loss: 1.5802 - accuracy: 0.5136 - val_loss: 1.5638 - val_accuracy: 0.5436\n",
            "Epoch 45/100\n",
            "140/140 [==============================] - 2s 14ms/step - loss: 1.5461 - accuracy: 0.5354 - val_loss: 1.5308 - val_accuracy: 0.5631\n",
            "Epoch 46/100\n",
            "140/140 [==============================] - 2s 14ms/step - loss: 1.5139 - accuracy: 0.5561 - val_loss: 1.4996 - val_accuracy: 0.5772\n",
            "Epoch 47/100\n",
            "140/140 [==============================] - 2s 14ms/step - loss: 1.4835 - accuracy: 0.5749 - val_loss: 1.4700 - val_accuracy: 0.5888\n",
            "Epoch 48/100\n",
            "140/140 [==============================] - 2s 14ms/step - loss: 1.4542 - accuracy: 0.5912 - val_loss: 1.4414 - val_accuracy: 0.6104\n",
            "Epoch 49/100\n",
            "140/140 [==============================] - 2s 14ms/step - loss: 1.4260 - accuracy: 0.6145 - val_loss: 1.4135 - val_accuracy: 0.6244\n",
            "Epoch 50/100\n",
            "140/140 [==============================] - 2s 14ms/step - loss: 1.3985 - accuracy: 0.6276 - val_loss: 1.3864 - val_accuracy: 0.6449\n",
            "Epoch 51/100\n",
            "140/140 [==============================] - 2s 14ms/step - loss: 1.3715 - accuracy: 0.6450 - val_loss: 1.3597 - val_accuracy: 0.6661\n",
            "Epoch 52/100\n",
            "140/140 [==============================] - 2s 14ms/step - loss: 1.3447 - accuracy: 0.6586 - val_loss: 1.3331 - val_accuracy: 0.6795\n",
            "Epoch 53/100\n",
            "140/140 [==============================] - 2s 14ms/step - loss: 1.3178 - accuracy: 0.6764 - val_loss: 1.3064 - val_accuracy: 0.6897\n",
            "Epoch 54/100\n",
            "140/140 [==============================] - 2s 14ms/step - loss: 1.2911 - accuracy: 0.6877 - val_loss: 1.2800 - val_accuracy: 0.6989\n",
            "Epoch 55/100\n",
            "140/140 [==============================] - 2s 14ms/step - loss: 1.2642 - accuracy: 0.7008 - val_loss: 1.2536 - val_accuracy: 0.7083\n",
            "Epoch 56/100\n",
            "140/140 [==============================] - 2s 14ms/step - loss: 1.2371 - accuracy: 0.7112 - val_loss: 1.2265 - val_accuracy: 0.7231\n",
            "Epoch 57/100\n",
            "140/140 [==============================] - 2s 14ms/step - loss: 1.2099 - accuracy: 0.7255 - val_loss: 1.1996 - val_accuracy: 0.7302\n",
            "Epoch 58/100\n",
            "140/140 [==============================] - 2s 14ms/step - loss: 1.1819 - accuracy: 0.7347 - val_loss: 1.1722 - val_accuracy: 0.7414\n",
            "Epoch 59/100\n",
            "140/140 [==============================] - 2s 15ms/step - loss: 1.1538 - accuracy: 0.7481 - val_loss: 1.1444 - val_accuracy: 0.7537\n",
            "Epoch 60/100\n",
            "140/140 [==============================] - 3s 20ms/step - loss: 1.1253 - accuracy: 0.7589 - val_loss: 1.1167 - val_accuracy: 0.7590\n",
            "Epoch 61/100\n",
            "140/140 [==============================] - 4s 26ms/step - loss: 1.0968 - accuracy: 0.7660 - val_loss: 1.0886 - val_accuracy: 0.7708\n",
            "Epoch 62/100\n",
            "140/140 [==============================] - 3s 25ms/step - loss: 1.0680 - accuracy: 0.7768 - val_loss: 1.0607 - val_accuracy: 0.7793\n",
            "Epoch 63/100\n",
            "140/140 [==============================] - 3s 22ms/step - loss: 1.0391 - accuracy: 0.7866 - val_loss: 1.0324 - val_accuracy: 0.7864\n",
            "Epoch 64/100\n",
            "140/140 [==============================] - 3s 20ms/step - loss: 1.0102 - accuracy: 0.7944 - val_loss: 1.0040 - val_accuracy: 0.7951\n",
            "Epoch 65/100\n",
            "140/140 [==============================] - 3s 20ms/step - loss: 0.9814 - accuracy: 0.8021 - val_loss: 0.9765 - val_accuracy: 0.8029\n",
            "Epoch 66/100\n",
            "140/140 [==============================] - 3s 21ms/step - loss: 0.9525 - accuracy: 0.8105 - val_loss: 0.9485 - val_accuracy: 0.8097\n",
            "Epoch 67/100\n",
            "140/140 [==============================] - 3s 21ms/step - loss: 0.9241 - accuracy: 0.8184 - val_loss: 0.9214 - val_accuracy: 0.8150\n",
            "Epoch 68/100\n",
            "140/140 [==============================] - 3s 21ms/step - loss: 0.8962 - accuracy: 0.8243 - val_loss: 0.8941 - val_accuracy: 0.8218\n",
            "Epoch 69/100\n",
            "140/140 [==============================] - 3s 21ms/step - loss: 0.8690 - accuracy: 0.8298 - val_loss: 0.8688 - val_accuracy: 0.8243\n",
            "Epoch 70/100\n",
            "140/140 [==============================] - 4s 27ms/step - loss: 0.8422 - accuracy: 0.8357 - val_loss: 0.8432 - val_accuracy: 0.8313\n",
            "Epoch 71/100\n",
            "140/140 [==============================] - 3s 22ms/step - loss: 0.8163 - accuracy: 0.8423 - val_loss: 0.8183 - val_accuracy: 0.8342\n",
            "Epoch 72/100\n",
            "140/140 [==============================] - 3s 24ms/step - loss: 0.7912 - accuracy: 0.8454 - val_loss: 0.7951 - val_accuracy: 0.8394\n",
            "Epoch 73/100\n",
            "140/140 [==============================] - 4s 29ms/step - loss: 0.7673 - accuracy: 0.8508 - val_loss: 0.7730 - val_accuracy: 0.8426\n",
            "Epoch 74/100\n",
            "140/140 [==============================] - 4s 26ms/step - loss: 0.7444 - accuracy: 0.8542 - val_loss: 0.7518 - val_accuracy: 0.8466\n",
            "Epoch 75/100\n",
            "140/140 [==============================] - 4s 29ms/step - loss: 0.7227 - accuracy: 0.8576 - val_loss: 0.7317 - val_accuracy: 0.8494\n",
            "Epoch 76/100\n",
            "140/140 [==============================] - 3s 23ms/step - loss: 0.7023 - accuracy: 0.8618 - val_loss: 0.7125 - val_accuracy: 0.8534\n",
            "Epoch 77/100\n",
            "140/140 [==============================] - 4s 28ms/step - loss: 0.6826 - accuracy: 0.8645 - val_loss: 0.6949 - val_accuracy: 0.8546\n",
            "Epoch 78/100\n",
            "140/140 [==============================] - 4s 27ms/step - loss: 0.6641 - accuracy: 0.8669 - val_loss: 0.6781 - val_accuracy: 0.8572\n",
            "Epoch 79/100\n",
            "140/140 [==============================] - 4s 26ms/step - loss: 0.6465 - accuracy: 0.8705 - val_loss: 0.6622 - val_accuracy: 0.8584\n",
            "Epoch 80/100\n",
            "140/140 [==============================] - 3s 21ms/step - loss: 0.6301 - accuracy: 0.8731 - val_loss: 0.6479 - val_accuracy: 0.8610\n",
            "Epoch 81/100\n",
            "140/140 [==============================] - 3s 21ms/step - loss: 0.6148 - accuracy: 0.8752 - val_loss: 0.6338 - val_accuracy: 0.8629\n",
            "Epoch 82/100\n",
            "140/140 [==============================] - 3s 21ms/step - loss: 0.5999 - accuracy: 0.8776 - val_loss: 0.6211 - val_accuracy: 0.8636\n",
            "Epoch 83/100\n",
            "140/140 [==============================] - 3s 21ms/step - loss: 0.5860 - accuracy: 0.8800 - val_loss: 0.6089 - val_accuracy: 0.8648\n",
            "Epoch 84/100\n",
            "140/140 [==============================] - 3s 21ms/step - loss: 0.5728 - accuracy: 0.8809 - val_loss: 0.5970 - val_accuracy: 0.8671\n",
            "Epoch 85/100\n",
            "140/140 [==============================] - 3s 22ms/step - loss: 0.5603 - accuracy: 0.8834 - val_loss: 0.5864 - val_accuracy: 0.8668\n",
            "Epoch 86/100\n",
            "140/140 [==============================] - 3s 21ms/step - loss: 0.5485 - accuracy: 0.8847 - val_loss: 0.5758 - val_accuracy: 0.8693\n",
            "Epoch 87/100\n",
            "140/140 [==============================] - 2s 15ms/step - loss: 0.5370 - accuracy: 0.8872 - val_loss: 0.5662 - val_accuracy: 0.8710\n",
            "Epoch 88/100\n",
            "140/140 [==============================] - 2s 14ms/step - loss: 0.5265 - accuracy: 0.8883 - val_loss: 0.5571 - val_accuracy: 0.8709\n",
            "Epoch 89/100\n",
            "140/140 [==============================] - 2s 14ms/step - loss: 0.5163 - accuracy: 0.8896 - val_loss: 0.5493 - val_accuracy: 0.8713\n",
            "Epoch 90/100\n",
            "140/140 [==============================] - 2s 15ms/step - loss: 0.5068 - accuracy: 0.8915 - val_loss: 0.5408 - val_accuracy: 0.8729\n",
            "Epoch 91/100\n",
            "140/140 [==============================] - 3s 21ms/step - loss: 0.4975 - accuracy: 0.8932 - val_loss: 0.5334 - val_accuracy: 0.8740\n",
            "Epoch 92/100\n",
            "140/140 [==============================] - 4s 26ms/step - loss: 0.4887 - accuracy: 0.8946 - val_loss: 0.5260 - val_accuracy: 0.8748\n",
            "Epoch 93/100\n",
            "140/140 [==============================] - 3s 20ms/step - loss: 0.4802 - accuracy: 0.8956 - val_loss: 0.5185 - val_accuracy: 0.8760\n",
            "Epoch 94/100\n",
            "140/140 [==============================] - 3s 21ms/step - loss: 0.4723 - accuracy: 0.8970 - val_loss: 0.5120 - val_accuracy: 0.8770\n",
            "Epoch 95/100\n",
            "140/140 [==============================] - 3s 19ms/step - loss: 0.4650 - accuracy: 0.8980 - val_loss: 0.5060 - val_accuracy: 0.8762\n",
            "Epoch 96/100\n",
            "140/140 [==============================] - 3s 21ms/step - loss: 0.4573 - accuracy: 0.8994 - val_loss: 0.5003 - val_accuracy: 0.8775\n",
            "Epoch 97/100\n",
            "140/140 [==============================] - 3s 21ms/step - loss: 0.4501 - accuracy: 0.9012 - val_loss: 0.4940 - val_accuracy: 0.8797\n",
            "Epoch 98/100\n",
            "140/140 [==============================] - 3s 22ms/step - loss: 0.4431 - accuracy: 0.9018 - val_loss: 0.4891 - val_accuracy: 0.8794\n",
            "Epoch 99/100\n",
            "140/140 [==============================] - 2s 15ms/step - loss: 0.4367 - accuracy: 0.9030 - val_loss: 0.4832 - val_accuracy: 0.8798\n",
            "Epoch 100/100\n",
            "140/140 [==============================] - 2s 14ms/step - loss: 0.4300 - accuracy: 0.9050 - val_loss: 0.4785 - val_accuracy: 0.8809\n"
          ]
        }
      ]
    },
    {
      "cell_type": "code",
      "metadata": {
        "colab": {
          "base_uri": "https://localhost:8080/",
          "height": 320
        },
        "id": "XfO9OogFzp0Q",
        "outputId": "cc5eb447-ba7f-4947-e312-ae4ced4816a3"
      },
      "source": [
        "plt.figure(figsize=(10,5))\n",
        "\n",
        "plt.plot(mnist_result.history['accuracy'])\n",
        "plt.plot(mnist_result.history['val_accuracy'])\n",
        "\n",
        "plt.legend(['training','validation'], loc = 'best')\n",
        "\n",
        "plt.show()\n",
        "plt.close()"
      ],
      "execution_count": null,
      "outputs": [
        {
          "output_type": "display_data",
          "data": {
            "image/png": "[encoded data removed]",
            "text/plain": [
              "<Figure size 720x360 with 1 Axes>"
            ]
          },
          "metadata": {
            "needs_background": "light"
          }
        }
      ]
    },
    {
      "cell_type": "code",
      "metadata": {
        "colab": {
          "base_uri": "https://localhost:8080/"
        },
        "id": "Eix3Z7D4zp5d",
        "outputId": "6485b16d-7311-4254-cd00-583ccffd2e9b"
      },
      "source": [
        "mnist_model.evaluate(X_test,y_test)"
      ],
      "execution_count": null,
      "outputs": [
        {
          "output_type": "stream",
          "name": "stdout",
          "text": [
            "313/313 [==============================] - 2s 5ms/step - loss: 0.4769 - accuracy: 0.8862\n"
          ]
        },
        {
          "output_type": "execute_result",
          "data": {
            "text/plain": [
              "[0.4768851101398468, 0.8862000107765198]"
            ]
          },
          "metadata": {},
          "execution_count": 85
        }
      ]
    },
    {
      "cell_type": "markdown",
      "metadata": {
        "id": "qYqUzVoeBb8g"
      },
      "source": [
        "## 모델을 구성하는 두번째 방법으로 함수형 API"
      ]
    },
    {
      "cell_type": "code",
      "metadata": {
        "colab": {
          "base_uri": "https://localhost:8080/"
        },
        "id": "g0Hq5fWDzp8l",
        "outputId": "2bc855b3-6b45-4d3d-bc67-880aa829de89"
      },
      "source": [
        "# 다시한번 데이터 로드하기\n",
        "(X_train,y_train),(X_test,y_test) = mnist.load_data()\n",
        "X_train.shape,  X_test.shape, y_train.shape, y_test.shape"
      ],
      "execution_count": null,
      "outputs": [
        {
          "output_type": "execute_result",
          "data": {
            "text/plain": [
              "((60000, 28, 28), (10000, 28, 28), (60000,), (10000,))"
            ]
          },
          "metadata": {},
          "execution_count": 86
        }
      ]
    },
    {
      "cell_type": "code",
      "metadata": {
        "colab": {
          "base_uri": "https://localhost:8080/"
        },
        "id": "Lu6JOC4qzqAL",
        "outputId": "cb9a2fd1-704e-4553-88df-3fd779de1691"
      },
      "source": [
        "# 피처를 단일 벡터로 변환\n",
        "X_train = X_train.reshape(X_train.shape[0],-1)\n",
        "X_test = X_test.reshape(X_test.shape[0],-1)\n",
        "X_train.shape,  X_test.shape, y_train.shape, y_test.shape"
      ],
      "execution_count": null,
      "outputs": [
        {
          "output_type": "execute_result",
          "data": {
            "text/plain": [
              "((60000, 784), (10000, 784), (60000,), (10000,))"
            ]
          },
          "metadata": {},
          "execution_count": 87
        }
      ]
    },
    {
      "cell_type": "code",
      "metadata": {
        "id": "PmNn9wLAzqDp"
      },
      "source": [
        "# 타겟에 대한 원-핫 인코딩\n",
        "y_train = to_categorical(y_train)\n",
        "y_test = to_categorical(y_test)"
      ],
      "execution_count": null,
      "outputs": []
    },
    {
      "cell_type": "code",
      "metadata": {
        "colab": {
          "base_uri": "https://localhost:8080/"
        },
        "id": "k4nMUuJJzqGZ",
        "outputId": "b3de9b29-4c67-42fc-896b-fccffc6a859b"
      },
      "source": [
        "input = Input(shape = (784,),name='input')\n",
        "hidden_layer01 = Dense(256, activation = 'relu', name='hidden01')(input) # sigmoid는  0.5 이상이면 무조건 1을 반환\n",
        "hidden_layer02 = Dense(128, activation = 'relu', name='hidden02')(hidden_layer01)\n",
        "hidden_layer03 = Dense(64, activation = 'relu', name='hidden03')(hidden_layer02)\n",
        "hidden_layer04 = Dense(32, activation = 'relu', name='hidden04')(hidden_layer03)\n",
        "\n",
        "output = Dense(10, activation = 'softmax', name='output')(hidden_layer04)\n",
        "\n",
        "case02_mnist_model = Model(inputs=[input], outputs=[output])\n",
        "case02_mnist_model.summary()\n"
      ],
      "execution_count": null,
      "outputs": [
        {
          "output_type": "stream",
          "name": "stdout",
          "text": [
            "Model: \"model\"\n",
            "_________________________________________________________________\n",
            "Layer (type)                 Output Shape              Param #   \n",
            "=================================================================\n",
            "input (InputLayer)           [(None, 784)]             0         \n",
            "_________________________________________________________________\n",
            "hidden01 (Dense)             (None, 256)               200960    \n",
            "_________________________________________________________________\n",
            "hidden02 (Dense)             (None, 128)               32896     \n",
            "_________________________________________________________________\n",
            "hidden03 (Dense)             (None, 64)                8256      \n",
            "_________________________________________________________________\n",
            "hidden04 (Dense)             (None, 32)                2080      \n",
            "_________________________________________________________________\n",
            "output (Dense)               (None, 10)                330       \n",
            "=================================================================\n",
            "Total params: 244,522\n",
            "Trainable params: 244,522\n",
            "Non-trainable params: 0\n",
            "_________________________________________________________________\n"
          ]
        }
      ]
    },
    {
      "cell_type": "code",
      "metadata": {
        "colab": {
          "base_uri": "https://localhost:8080/"
        },
        "id": "-RCQ_CdYDGk4",
        "outputId": "66284f73-7a29-4fc1-fd1f-7d6f42b2bd12"
      },
      "source": [
        "# 모델 평가해보기 (Adam)\n",
        "opt = optimizers.Adam(lr=0.01)\n",
        "\n",
        "case02_mnist_model.compile(optimizer = opt, # opt라는 알고리즘 사용\n",
        "              loss = 'categorical_crossentropy', # 손실함수 지정\n",
        "              metrics=['accuracy'])\n",
        "mnist_model.summary()"
      ],
      "execution_count": 110,
      "outputs": [
        {
          "output_type": "stream",
          "name": "stdout",
          "text": [
            "Model: \"sequential_6\"\n",
            "_________________________________________________________________\n",
            "Layer (type)                 Output Shape              Param #   \n",
            "=================================================================\n",
            "dense_34 (Dense)             (None, 256)               200960    \n",
            "_________________________________________________________________\n",
            "activation_24 (Activation)   (None, 256)               0         \n",
            "_________________________________________________________________\n",
            "dense_35 (Dense)             (None, 150)               38550     \n",
            "_________________________________________________________________\n",
            "activation_25 (Activation)   (None, 150)               0         \n",
            "_________________________________________________________________\n",
            "dense_36 (Dense)             (None, 100)               15100     \n",
            "_________________________________________________________________\n",
            "activation_26 (Activation)   (None, 100)               0         \n",
            "_________________________________________________________________\n",
            "dense_37 (Dense)             (None, 32)                3232      \n",
            "_________________________________________________________________\n",
            "activation_27 (Activation)   (None, 32)                0         \n",
            "_________________________________________________________________\n",
            "dense_38 (Dense)             (None, 10)                330       \n",
            "_________________________________________________________________\n",
            "activation_28 (Activation)   (None, 10)                0         \n",
            "=================================================================\n",
            "Total params: 258,172\n",
            "Trainable params: 258,172\n",
            "Non-trainable params: 0\n",
            "_________________________________________________________________\n"
          ]
        },
        {
          "output_type": "stream",
          "name": "stderr",
          "text": [
            "/usr/local/lib/python3.7/dist-packages/keras/optimizer_v2/optimizer_v2.py:356: UserWarning: The `lr` argument is deprecated, use `learning_rate` instead.\n",
            "  \"The `lr` argument is deprecated, use `learning_rate` instead.\")\n"
          ]
        }
      ]
    },
    {
      "cell_type": "code",
      "metadata": {
        "colab": {
          "base_uri": "https://localhost:8080/"
        },
        "id": "QShDUJzUbVRa",
        "outputId": "5c9e88a3-3fb8-4b3b-f5b2-de49569b0fbe"
      },
      "source": [
        "# 모델 평가해보기 (SGD)\n",
        "opt = optimizers.SGD(lr=0.01)\n",
        "\n",
        "case02_mnist_model.compile(optimizer = opt, # opt라는 알고리즘 사용\n",
        "              loss = 'categorical_crossentropy', # 손실함수 지정\n",
        "              metrics=['accuracy'])\n",
        "mnist_model.summary()"
      ],
      "execution_count": 111,
      "outputs": [
        {
          "output_type": "stream",
          "name": "stdout",
          "text": [
            "Model: \"sequential_6\"\n",
            "_________________________________________________________________\n",
            "Layer (type)                 Output Shape              Param #   \n",
            "=================================================================\n",
            "dense_34 (Dense)             (None, 256)               200960    \n",
            "_________________________________________________________________\n",
            "activation_24 (Activation)   (None, 256)               0         \n",
            "_________________________________________________________________\n",
            "dense_35 (Dense)             (None, 150)               38550     \n",
            "_________________________________________________________________\n",
            "activation_25 (Activation)   (None, 150)               0         \n",
            "_________________________________________________________________\n",
            "dense_36 (Dense)             (None, 100)               15100     \n",
            "_________________________________________________________________\n",
            "activation_26 (Activation)   (None, 100)               0         \n",
            "_________________________________________________________________\n",
            "dense_37 (Dense)             (None, 32)                3232      \n",
            "_________________________________________________________________\n",
            "activation_27 (Activation)   (None, 32)                0         \n",
            "_________________________________________________________________\n",
            "dense_38 (Dense)             (None, 10)                330       \n",
            "_________________________________________________________________\n",
            "activation_28 (Activation)   (None, 10)                0         \n",
            "=================================================================\n",
            "Total params: 258,172\n",
            "Trainable params: 258,172\n",
            "Non-trainable params: 0\n",
            "_________________________________________________________________\n"
          ]
        },
        {
          "output_type": "stream",
          "name": "stderr",
          "text": [
            "/usr/local/lib/python3.7/dist-packages/keras/optimizer_v2/optimizer_v2.py:356: UserWarning: The `lr` argument is deprecated, use `learning_rate` instead.\n",
            "  \"The `lr` argument is deprecated, use `learning_rate` instead.\")\n"
          ]
        }
      ]
    },
    {
      "cell_type": "code",
      "metadata": {
        "colab": {
          "base_uri": "https://localhost:8080/"
        },
        "id": "pHUcpgXrDGns",
        "outputId": "aa75564a-09a5-4814-fc67-f2fe84e353ae"
      },
      "source": [
        "case02_mnist_result = case02_mnist_model.fit(X_train, y_train,validation_split = 0.3,\n",
        "                                             batch_size=300, epochs = 50,verbose=1 )"
      ],
      "execution_count": null,
      "outputs": [
        {
          "output_type": "stream",
          "name": "stdout",
          "text": [
            "Epoch 1/50\n",
            "140/140 [==============================] - 5s 29ms/step - loss: 5.9938 - accuracy: 0.2544 - val_loss: 1.8347 - val_accuracy: 0.2848\n",
            "Epoch 2/50\n",
            "140/140 [==============================] - 3s 23ms/step - loss: 1.8159 - accuracy: 0.2895 - val_loss: 1.8058 - val_accuracy: 0.2791\n",
            "Epoch 3/50\n",
            "140/140 [==============================] - 3s 23ms/step - loss: 1.7600 - accuracy: 0.2983 - val_loss: 1.7467 - val_accuracy: 0.2941\n",
            "Epoch 4/50\n",
            "140/140 [==============================] - 3s 20ms/step - loss: 1.7306 - accuracy: 0.3023 - val_loss: 1.7490 - val_accuracy: 0.2906\n",
            "Epoch 5/50\n",
            "140/140 [==============================] - 4s 28ms/step - loss: 1.7322 - accuracy: 0.3046 - val_loss: 1.7550 - val_accuracy: 0.2900\n",
            "Epoch 6/50\n",
            "140/140 [==============================] - 3s 25ms/step - loss: 1.6283 - accuracy: 0.3535 - val_loss: 1.3189 - val_accuracy: 0.4949\n",
            "Epoch 7/50\n",
            "140/140 [==============================] - 4s 27ms/step - loss: 0.9377 - accuracy: 0.6771 - val_loss: 0.5337 - val_accuracy: 0.8701\n",
            "Epoch 8/50\n",
            "140/140 [==============================] - 4s 28ms/step - loss: 0.3811 - accuracy: 0.9075 - val_loss: 0.3374 - val_accuracy: 0.9215\n",
            "Epoch 9/50\n",
            "140/140 [==============================] - 3s 18ms/step - loss: 0.2513 - accuracy: 0.9365 - val_loss: 0.3003 - val_accuracy: 0.9293\n",
            "Epoch 10/50\n",
            "140/140 [==============================] - 2s 14ms/step - loss: 0.1978 - accuracy: 0.9484 - val_loss: 0.2336 - val_accuracy: 0.9459\n",
            "Epoch 11/50\n",
            "140/140 [==============================] - 2s 16ms/step - loss: 0.1674 - accuracy: 0.9553 - val_loss: 0.2375 - val_accuracy: 0.9442\n",
            "Epoch 12/50\n",
            "140/140 [==============================] - 2s 15ms/step - loss: 0.1479 - accuracy: 0.9601 - val_loss: 0.2552 - val_accuracy: 0.9433\n",
            "Epoch 13/50\n",
            "140/140 [==============================] - 2s 14ms/step - loss: 0.1371 - accuracy: 0.9629 - val_loss: 0.2134 - val_accuracy: 0.9503\n",
            "Epoch 14/50\n",
            "140/140 [==============================] - 2s 14ms/step - loss: 0.1337 - accuracy: 0.9645 - val_loss: 0.2329 - val_accuracy: 0.9473\n",
            "Epoch 15/50\n",
            "140/140 [==============================] - 2s 14ms/step - loss: 0.1296 - accuracy: 0.9653 - val_loss: 0.2153 - val_accuracy: 0.9506\n",
            "Epoch 16/50\n",
            "140/140 [==============================] - 2s 14ms/step - loss: 0.1025 - accuracy: 0.9712 - val_loss: 0.1976 - val_accuracy: 0.9565\n",
            "Epoch 17/50\n",
            "140/140 [==============================] - 2s 14ms/step - loss: 0.1095 - accuracy: 0.9698 - val_loss: 0.2250 - val_accuracy: 0.9491\n",
            "Epoch 18/50\n",
            "140/140 [==============================] - 2s 14ms/step - loss: 0.0963 - accuracy: 0.9725 - val_loss: 0.2397 - val_accuracy: 0.9508\n",
            "Epoch 19/50\n",
            "140/140 [==============================] - 2s 14ms/step - loss: 0.1001 - accuracy: 0.9715 - val_loss: 0.2321 - val_accuracy: 0.9473\n",
            "Epoch 20/50\n",
            "140/140 [==============================] - 2s 15ms/step - loss: 0.0911 - accuracy: 0.9747 - val_loss: 0.2478 - val_accuracy: 0.9533\n",
            "Epoch 21/50\n",
            "140/140 [==============================] - 2s 14ms/step - loss: 0.0852 - accuracy: 0.9762 - val_loss: 0.2207 - val_accuracy: 0.9519\n",
            "Epoch 22/50\n",
            "140/140 [==============================] - 2s 14ms/step - loss: 0.0840 - accuracy: 0.9774 - val_loss: 0.2556 - val_accuracy: 0.9466\n",
            "Epoch 23/50\n",
            "140/140 [==============================] - 2s 14ms/step - loss: 0.1019 - accuracy: 0.9720 - val_loss: 0.2573 - val_accuracy: 0.9518\n",
            "Epoch 24/50\n",
            "140/140 [==============================] - 2s 14ms/step - loss: 0.0908 - accuracy: 0.9754 - val_loss: 0.2264 - val_accuracy: 0.9527\n",
            "Epoch 25/50\n",
            "140/140 [==============================] - 2s 14ms/step - loss: 0.0826 - accuracy: 0.9773 - val_loss: 0.2288 - val_accuracy: 0.9553\n",
            "Epoch 26/50\n",
            "140/140 [==============================] - 2s 14ms/step - loss: 0.0837 - accuracy: 0.9773 - val_loss: 0.2307 - val_accuracy: 0.9492\n",
            "Epoch 27/50\n",
            "140/140 [==============================] - 2s 14ms/step - loss: 0.0691 - accuracy: 0.9813 - val_loss: 0.2214 - val_accuracy: 0.9558\n",
            "Epoch 28/50\n",
            "140/140 [==============================] - 2s 14ms/step - loss: 0.0860 - accuracy: 0.9772 - val_loss: 0.2040 - val_accuracy: 0.9581\n",
            "Epoch 29/50\n",
            "140/140 [==============================] - 2s 14ms/step - loss: 0.0734 - accuracy: 0.9806 - val_loss: 0.2483 - val_accuracy: 0.9531\n",
            "Epoch 30/50\n",
            "140/140 [==============================] - 2s 14ms/step - loss: 0.0890 - accuracy: 0.9761 - val_loss: 0.2703 - val_accuracy: 0.9476\n",
            "Epoch 31/50\n",
            "140/140 [==============================] - 2s 14ms/step - loss: 0.0729 - accuracy: 0.9810 - val_loss: 0.2474 - val_accuracy: 0.9561\n",
            "Epoch 32/50\n",
            "140/140 [==============================] - 2s 14ms/step - loss: 0.0707 - accuracy: 0.9811 - val_loss: 0.2447 - val_accuracy: 0.9562\n",
            "Epoch 33/50\n",
            "140/140 [==============================] - 2s 14ms/step - loss: 0.0691 - accuracy: 0.9814 - val_loss: 0.2605 - val_accuracy: 0.9523\n",
            "Epoch 34/50\n",
            "140/140 [==============================] - 2s 14ms/step - loss: 0.0850 - accuracy: 0.9781 - val_loss: 0.2243 - val_accuracy: 0.9534\n",
            "Epoch 35/50\n",
            "140/140 [==============================] - 2s 14ms/step - loss: 0.0833 - accuracy: 0.9781 - val_loss: 0.2533 - val_accuracy: 0.9541\n",
            "Epoch 36/50\n",
            "140/140 [==============================] - 2s 14ms/step - loss: 0.0711 - accuracy: 0.9812 - val_loss: 0.2514 - val_accuracy: 0.9573\n",
            "Epoch 37/50\n",
            "140/140 [==============================] - 2s 14ms/step - loss: 0.0826 - accuracy: 0.9795 - val_loss: 0.2556 - val_accuracy: 0.9533\n",
            "Epoch 38/50\n",
            "140/140 [==============================] - 2s 14ms/step - loss: 0.0791 - accuracy: 0.9806 - val_loss: 0.2516 - val_accuracy: 0.9564\n",
            "Epoch 39/50\n",
            "140/140 [==============================] - 2s 14ms/step - loss: 0.0700 - accuracy: 0.9823 - val_loss: 0.2508 - val_accuracy: 0.9555\n",
            "Epoch 40/50\n",
            "140/140 [==============================] - 2s 14ms/step - loss: 0.0594 - accuracy: 0.9848 - val_loss: 0.2412 - val_accuracy: 0.9558\n",
            "Epoch 41/50\n",
            "140/140 [==============================] - 2s 14ms/step - loss: 0.0622 - accuracy: 0.9843 - val_loss: 0.2349 - val_accuracy: 0.9569\n",
            "Epoch 42/50\n",
            "140/140 [==============================] - 2s 14ms/step - loss: 0.0706 - accuracy: 0.9831 - val_loss: 0.2710 - val_accuracy: 0.9567\n",
            "Epoch 43/50\n",
            "140/140 [==============================] - 2s 14ms/step - loss: 0.0959 - accuracy: 0.9766 - val_loss: 0.2729 - val_accuracy: 0.9567\n",
            "Epoch 44/50\n",
            "140/140 [==============================] - 2s 13ms/step - loss: 0.0935 - accuracy: 0.9775 - val_loss: 0.2967 - val_accuracy: 0.9534\n",
            "Epoch 45/50\n",
            "140/140 [==============================] - 2s 14ms/step - loss: 0.1139 - accuracy: 0.9738 - val_loss: 0.3099 - val_accuracy: 0.9379\n",
            "Epoch 46/50\n",
            "140/140 [==============================] - 2s 14ms/step - loss: 0.1073 - accuracy: 0.9758 - val_loss: 0.2559 - val_accuracy: 0.9490\n",
            "Epoch 47/50\n",
            "140/140 [==============================] - 2s 14ms/step - loss: 0.1277 - accuracy: 0.9710 - val_loss: 0.5487 - val_accuracy: 0.8455\n",
            "Epoch 48/50\n",
            "140/140 [==============================] - 2s 14ms/step - loss: 0.4064 - accuracy: 0.9201 - val_loss: 0.7695 - val_accuracy: 0.8466\n",
            "Epoch 49/50\n",
            "140/140 [==============================] - 2s 14ms/step - loss: 0.3337 - accuracy: 0.9338 - val_loss: 0.3587 - val_accuracy: 0.9341\n",
            "Epoch 50/50\n",
            "140/140 [==============================] - 2s 14ms/step - loss: 0.1959 - accuracy: 0.9569 - val_loss: 0.3234 - val_accuracy: 0.9406\n"
          ]
        }
      ]
    },
    {
      "cell_type": "code",
      "metadata": {
        "colab": {
          "base_uri": "https://localhost:8080/"
        },
        "id": "haqr9PUWDGrp",
        "outputId": "9ad9215e-fc0b-43d6-d784-1e39b052fc28"
      },
      "source": [
        "case02_mnist_result.history.keys()"
      ],
      "execution_count": null,
      "outputs": [
        {
          "output_type": "execute_result",
          "data": {
            "text/plain": [
              "dict_keys(['loss', 'accuracy', 'val_loss', 'val_accuracy'])"
            ]
          },
          "metadata": {},
          "execution_count": 105
        }
      ]
    },
    {
      "cell_type": "code",
      "metadata": {
        "colab": {
          "base_uri": "https://localhost:8080/",
          "height": 406
        },
        "id": "qVvbZiaQDGw4",
        "outputId": "386f6e7e-6204-40af-8722-90e439a1e151"
      },
      "source": [
        "# loss, accuracy별 시각화\n",
        "print('loss , accuracy 별 시각화 - ')\n",
        "print()\n",
        "\n",
        "fig = plt.figure(figsize=(15,5))\n",
        "\n",
        "epoch = range(1, len(case02_mnist_result.history['loss'])+1 ) \n",
        "\n",
        "area01 = fig.add_subplot(1, 2, 1)\n",
        "area01.set_title('loss')\n",
        "\n",
        "area01.plot(epoch , case02_mnist_result.history['loss']     , color='blue' , label='train loss')\n",
        "area01.plot(epoch , case02_mnist_result.history['val_loss'] , color='red'  , label='val loss')\n",
        "\n",
        "area01.set_xlabel('Epoch')\n",
        "area01.set_ylabel('Loss')\n",
        "\n",
        "area01.legend()\n",
        "\n",
        "area02 = fig.add_subplot(1, 2, 2)\n",
        "area02.set_title('acc')\n",
        "area02.plot(epoch , case02_mnist_result.history['accuracy']     , color='blue' , label='train acc')\n",
        "area02.plot(epoch , case02_mnist_result.history['val_accuracy'] , color='red'  , label='val acc')\n",
        "area02.set_xlabel('Epoch')\n",
        "area02.set_ylabel('Accuracy')\n",
        "area02.legend()\n",
        "\n",
        "\n",
        "plt.show()\n",
        "plt.close()\n"
      ],
      "execution_count": null,
      "outputs": [
        {
          "output_type": "stream",
          "name": "stdout",
          "text": [
            "loss , accuracy 별 시각화 - \n",
            "\n"
          ]
        },
        {
          "output_type": "display_data",
          "data": {
            "image/png": "[encoded data removed]",
            "text/plain": [
              "<Figure size 1080x360 with 2 Axes>"
            ]
          },
          "metadata": {
            "needs_background": "light"
          }
        }
      ]
    },
    {
      "cell_type": "code",
      "metadata": {
        "colab": {
          "base_uri": "https://localhost:8080/"
        },
        "id": "LPWyEh51GTj9",
        "outputId": "99147d6b-9ab8-4bec-e0d4-eacbc60406b6"
      },
      "source": [
        "case02_mnist_model.evaluate(X_test, y_test)"
      ],
      "execution_count": null,
      "outputs": [
        {
          "output_type": "stream",
          "name": "stdout",
          "text": [
            "313/313 [==============================] - 2s 5ms/step - loss: 0.3116 - accuracy: 0.9402\n"
          ]
        },
        {
          "output_type": "execute_result",
          "data": {
            "text/plain": [
              "[0.3116016983985901, 0.9401999711990356]"
            ]
          },
          "metadata": {},
          "execution_count": 109
        }
      ]
    }
  ]
}