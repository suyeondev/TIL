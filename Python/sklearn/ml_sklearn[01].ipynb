{
 "cells": [
  {
   "cell_type": "markdown",
   "id": "97a3bafb",
   "metadata": {},
   "source": [
    "# 머신러닝의 개념(ML)\n",
    "- 데이터를 기반으로 패턴을 학습하고 결과를 추출하는 알고리즘 기법\n",
    "- 지도학습 (Supervised Learning): 정답이 있는 데이터를 활용해 데이터를 학습시키는 것입니다. 입력 값(X data)이 주어지면 입력값에 대한 Label(Y data)를 주어 학습시키며 대표적으로 분류, 회귀 문제가 있다.\n",
    "\n",
    "- 비지도 학습 (Un-Supervised Learning): 정답 라벨이 없는 데이터를 비슷한 특징끼리 군집화 하여 새로운 데이터에 대한 결과를 예측하는 방법을 비지도학습 이라고 합니다. 라벨링 되어있지 않은 데이터로부터 패턴이나 형태를 찾아야 한다. 실제로 지도 학습에서 적절한 피처를 찾아내기 위한 전처리 방법으로 비지도 학습을 이용하기도 한다. 군집화(클러스터링), 차원축소(PCA)가 대표적이다.\n",
    "- 강화학습(Reinforcement Learning): 데이터가 존재하는 것도 아니고 데이터가 있어도 정답이 따로 정해져 있지 않으며 자신이 한 행동에 대해 보상(reward)를 받으며 학습하는 것을 말합니다.\n",
    "\n",
    "\n",
    "\n",
    "# 머신러닝 용어\n",
    "- 피처(feature) : 데이터의 일반 속성, 데이터의 값을 잘 예측하기 위한 데이터의 특징들을 머신러닝/딥러닝에서는 \"Feature\"라고 부르며, 지도, 비지도, 강화학습 모두 적절한 feature를 잘 정의하는 것이 핵심이다.\n",
    "\n",
    "\n",
    "- 레이블, 클래스, 타겟 값, 결정 값 : 정답데이터를 의미한다."
   ]
  },
  {
   "cell_type": "markdown",
   "id": "44d2a3e1",
   "metadata": {},
   "source": [
    "# 사이킷런(scikit-learn)\n",
    "\n",
    "- scikit-learn을 이용하여 기계학습을 실행할 때, 자신이 하고 싶은 분석(분류/회귀/클러스터링 등)에 대해서 적당한 모델을 선택하는 것에 대해 도움이 된다. 그리고 scikit-learn으로 간단히 모델을 바꿔 기계학습을 하는 것도 가능하다."
   ]
  },
  {
   "cell_type": "code",
   "execution_count": 73,
   "id": "ef47d3ab",
   "metadata": {},
   "outputs": [
    {
     "data": {
      "text/plain": [
       "'0.24.1'"
      ]
     },
     "execution_count": 73,
     "metadata": {},
     "output_type": "execute_result"
    }
   ],
   "source": [
    "import numpy as np\n",
    "import pandas as pd\n",
    "import sklearn\n",
    "from sklearn.datasets import load_iris\n",
    "\n",
    "from sklearn.model_selection import train_test_split, KFold , StratifiedKFold, cross_val_score , cross_validate\n",
    "from sklearn.tree import DecisionTreeClassifier\n",
    "from sklearn.metrics import accuracy_score\n",
    "sklearn.__version__"
   ]
  },
  {
   "cell_type": "code",
   "execution_count": 5,
   "id": "f7566850",
   "metadata": {},
   "outputs": [
    {
     "name": "stdout",
     "output_type": "stream",
     "text": [
      "type:  <class 'sklearn.utils.Bunch'>\n",
      "keys: dict_keys(['data', 'target', 'frame', 'target_names', 'DESCR', 'feature_names', 'filename'])\n"
     ]
    }
   ],
   "source": [
    "iris = load_iris()\n",
    "print(\"type: \",type(iris))\n",
    "print('keys:', iris.keys())"
   ]
  },
  {
   "cell_type": "code",
   "execution_count": 8,
   "id": "e0d45ef9",
   "metadata": {},
   "outputs": [
    {
     "name": "stdout",
     "output_type": "stream",
     "text": [
      "data :  [[5.1 3.5 1.4 0.2]\n",
      " [4.9 3.  1.4 0.2]\n",
      " [4.7 3.2 1.3 0.2]\n",
      " [4.6 3.1 1.5 0.2]\n",
      " [5.  3.6 1.4 0.2]\n",
      " [5.4 3.9 1.7 0.4]\n",
      " [4.6 3.4 1.4 0.3]\n",
      " [5.  3.4 1.5 0.2]\n",
      " [4.4 2.9 1.4 0.2]\n",
      " [4.9 3.1 1.5 0.1]\n",
      " [5.4 3.7 1.5 0.2]\n",
      " [4.8 3.4 1.6 0.2]\n",
      " [4.8 3.  1.4 0.1]\n",
      " [4.3 3.  1.1 0.1]\n",
      " [5.8 4.  1.2 0.2]\n",
      " [5.7 4.4 1.5 0.4]\n",
      " [5.4 3.9 1.3 0.4]\n",
      " [5.1 3.5 1.4 0.3]\n",
      " [5.7 3.8 1.7 0.3]\n",
      " [5.1 3.8 1.5 0.3]\n",
      " [5.4 3.4 1.7 0.2]\n",
      " [5.1 3.7 1.5 0.4]\n",
      " [4.6 3.6 1.  0.2]\n",
      " [5.1 3.3 1.7 0.5]\n",
      " [4.8 3.4 1.9 0.2]\n",
      " [5.  3.  1.6 0.2]\n",
      " [5.  3.4 1.6 0.4]\n",
      " [5.2 3.5 1.5 0.2]\n",
      " [5.2 3.4 1.4 0.2]\n",
      " [4.7 3.2 1.6 0.2]\n",
      " [4.8 3.1 1.6 0.2]\n",
      " [5.4 3.4 1.5 0.4]\n",
      " [5.2 4.1 1.5 0.1]\n",
      " [5.5 4.2 1.4 0.2]\n",
      " [4.9 3.1 1.5 0.2]\n",
      " [5.  3.2 1.2 0.2]\n",
      " [5.5 3.5 1.3 0.2]\n",
      " [4.9 3.6 1.4 0.1]\n",
      " [4.4 3.  1.3 0.2]\n",
      " [5.1 3.4 1.5 0.2]\n",
      " [5.  3.5 1.3 0.3]\n",
      " [4.5 2.3 1.3 0.3]\n",
      " [4.4 3.2 1.3 0.2]\n",
      " [5.  3.5 1.6 0.6]\n",
      " [5.1 3.8 1.9 0.4]\n",
      " [4.8 3.  1.4 0.3]\n",
      " [5.1 3.8 1.6 0.2]\n",
      " [4.6 3.2 1.4 0.2]\n",
      " [5.3 3.7 1.5 0.2]\n",
      " [5.  3.3 1.4 0.2]\n",
      " [7.  3.2 4.7 1.4]\n",
      " [6.4 3.2 4.5 1.5]\n",
      " [6.9 3.1 4.9 1.5]\n",
      " [5.5 2.3 4.  1.3]\n",
      " [6.5 2.8 4.6 1.5]\n",
      " [5.7 2.8 4.5 1.3]\n",
      " [6.3 3.3 4.7 1.6]\n",
      " [4.9 2.4 3.3 1. ]\n",
      " [6.6 2.9 4.6 1.3]\n",
      " [5.2 2.7 3.9 1.4]\n",
      " [5.  2.  3.5 1. ]\n",
      " [5.9 3.  4.2 1.5]\n",
      " [6.  2.2 4.  1. ]\n",
      " [6.1 2.9 4.7 1.4]\n",
      " [5.6 2.9 3.6 1.3]\n",
      " [6.7 3.1 4.4 1.4]\n",
      " [5.6 3.  4.5 1.5]\n",
      " [5.8 2.7 4.1 1. ]\n",
      " [6.2 2.2 4.5 1.5]\n",
      " [5.6 2.5 3.9 1.1]\n",
      " [5.9 3.2 4.8 1.8]\n",
      " [6.1 2.8 4.  1.3]\n",
      " [6.3 2.5 4.9 1.5]\n",
      " [6.1 2.8 4.7 1.2]\n",
      " [6.4 2.9 4.3 1.3]\n",
      " [6.6 3.  4.4 1.4]\n",
      " [6.8 2.8 4.8 1.4]\n",
      " [6.7 3.  5.  1.7]\n",
      " [6.  2.9 4.5 1.5]\n",
      " [5.7 2.6 3.5 1. ]\n",
      " [5.5 2.4 3.8 1.1]\n",
      " [5.5 2.4 3.7 1. ]\n",
      " [5.8 2.7 3.9 1.2]\n",
      " [6.  2.7 5.1 1.6]\n",
      " [5.4 3.  4.5 1.5]\n",
      " [6.  3.4 4.5 1.6]\n",
      " [6.7 3.1 4.7 1.5]\n",
      " [6.3 2.3 4.4 1.3]\n",
      " [5.6 3.  4.1 1.3]\n",
      " [5.5 2.5 4.  1.3]\n",
      " [5.5 2.6 4.4 1.2]\n",
      " [6.1 3.  4.6 1.4]\n",
      " [5.8 2.6 4.  1.2]\n",
      " [5.  2.3 3.3 1. ]\n",
      " [5.6 2.7 4.2 1.3]\n",
      " [5.7 3.  4.2 1.2]\n",
      " [5.7 2.9 4.2 1.3]\n",
      " [6.2 2.9 4.3 1.3]\n",
      " [5.1 2.5 3.  1.1]\n",
      " [5.7 2.8 4.1 1.3]\n",
      " [6.3 3.3 6.  2.5]\n",
      " [5.8 2.7 5.1 1.9]\n",
      " [7.1 3.  5.9 2.1]\n",
      " [6.3 2.9 5.6 1.8]\n",
      " [6.5 3.  5.8 2.2]\n",
      " [7.6 3.  6.6 2.1]\n",
      " [4.9 2.5 4.5 1.7]\n",
      " [7.3 2.9 6.3 1.8]\n",
      " [6.7 2.5 5.8 1.8]\n",
      " [7.2 3.6 6.1 2.5]\n",
      " [6.5 3.2 5.1 2. ]\n",
      " [6.4 2.7 5.3 1.9]\n",
      " [6.8 3.  5.5 2.1]\n",
      " [5.7 2.5 5.  2. ]\n",
      " [5.8 2.8 5.1 2.4]\n",
      " [6.4 3.2 5.3 2.3]\n",
      " [6.5 3.  5.5 1.8]\n",
      " [7.7 3.8 6.7 2.2]\n",
      " [7.7 2.6 6.9 2.3]\n",
      " [6.  2.2 5.  1.5]\n",
      " [6.9 3.2 5.7 2.3]\n",
      " [5.6 2.8 4.9 2. ]\n",
      " [7.7 2.8 6.7 2. ]\n",
      " [6.3 2.7 4.9 1.8]\n",
      " [6.7 3.3 5.7 2.1]\n",
      " [7.2 3.2 6.  1.8]\n",
      " [6.2 2.8 4.8 1.8]\n",
      " [6.1 3.  4.9 1.8]\n",
      " [6.4 2.8 5.6 2.1]\n",
      " [7.2 3.  5.8 1.6]\n",
      " [7.4 2.8 6.1 1.9]\n",
      " [7.9 3.8 6.4 2. ]\n",
      " [6.4 2.8 5.6 2.2]\n",
      " [6.3 2.8 5.1 1.5]\n",
      " [6.1 2.6 5.6 1.4]\n",
      " [7.7 3.  6.1 2.3]\n",
      " [6.3 3.4 5.6 2.4]\n",
      " [6.4 3.1 5.5 1.8]\n",
      " [6.  3.  4.8 1.8]\n",
      " [6.9 3.1 5.4 2.1]\n",
      " [6.7 3.1 5.6 2.4]\n",
      " [6.9 3.1 5.1 2.3]\n",
      " [5.8 2.7 5.1 1.9]\n",
      " [6.8 3.2 5.9 2.3]\n",
      " [6.7 3.3 5.7 2.5]\n",
      " [6.7 3.  5.2 2.3]\n",
      " [6.3 2.5 5.  1.9]\n",
      " [6.5 3.  5.2 2. ]\n",
      " [6.2 3.4 5.4 2.3]\n",
      " [5.9 3.  5.1 1.8]] <class 'numpy.ndarray'>\n",
      "\n",
      "target:  [0 0 0 0 0 0 0 0 0 0 0 0 0 0 0 0 0 0 0 0 0 0 0 0 0 0 0 0 0 0 0 0 0 0 0 0 0\n",
      " 0 0 0 0 0 0 0 0 0 0 0 0 0 1 1 1 1 1 1 1 1 1 1 1 1 1 1 1 1 1 1 1 1 1 1 1 1\n",
      " 1 1 1 1 1 1 1 1 1 1 1 1 1 1 1 1 1 1 1 1 1 1 1 1 1 1 2 2 2 2 2 2 2 2 2 2 2\n",
      " 2 2 2 2 2 2 2 2 2 2 2 2 2 2 2 2 2 2 2 2 2 2 2 2 2 2 2 2 2 2 2 2 2 2 2 2 2\n",
      " 2 2]\n",
      "\n",
      "target_names:  ['setosa' 'versicolor' 'virginica']\n",
      "\n",
      "feature_names:  ['sepal length (cm)', 'sepal width (cm)', 'petal length (cm)', 'petal width (cm)']\n"
     ]
    }
   ],
   "source": [
    "print('data : ', iris.data, type(iris.data))\n",
    "print()\n",
    "print('target: ', iris.target) # 타겟값이 수치형으로 되어있다. \n",
    "print() # 학습을 하기위해서는 타겟값이 수치형이어야함!\n",
    "print('target_names: ', iris.target_names)\n",
    "print()\n",
    "print('feature_names: ', iris.feature_names)"
   ]
  },
  {
   "cell_type": "code",
   "execution_count": 12,
   "id": "e59ca36d",
   "metadata": {},
   "outputs": [
    {
     "data": {
      "text/html": [
       "<div>\n",
       "<style scoped>\n",
       "    .dataframe tbody tr th:only-of-type {\n",
       "        vertical-align: middle;\n",
       "    }\n",
       "\n",
       "    .dataframe tbody tr th {\n",
       "        vertical-align: top;\n",
       "    }\n",
       "\n",
       "    .dataframe thead th {\n",
       "        text-align: right;\n",
       "    }\n",
       "</style>\n",
       "<table border=\"1\" class=\"dataframe\">\n",
       "  <thead>\n",
       "    <tr style=\"text-align: right;\">\n",
       "      <th></th>\n",
       "      <th>sepal length (cm)</th>\n",
       "      <th>sepal width (cm)</th>\n",
       "      <th>petal length (cm)</th>\n",
       "      <th>petal width (cm)</th>\n",
       "      <th>target</th>\n",
       "    </tr>\n",
       "  </thead>\n",
       "  <tbody>\n",
       "    <tr>\n",
       "      <th>0</th>\n",
       "      <td>5.1</td>\n",
       "      <td>3.5</td>\n",
       "      <td>1.4</td>\n",
       "      <td>0.2</td>\n",
       "      <td>0</td>\n",
       "    </tr>\n",
       "    <tr>\n",
       "      <th>1</th>\n",
       "      <td>4.9</td>\n",
       "      <td>3.0</td>\n",
       "      <td>1.4</td>\n",
       "      <td>0.2</td>\n",
       "      <td>0</td>\n",
       "    </tr>\n",
       "    <tr>\n",
       "      <th>2</th>\n",
       "      <td>4.7</td>\n",
       "      <td>3.2</td>\n",
       "      <td>1.3</td>\n",
       "      <td>0.2</td>\n",
       "      <td>0</td>\n",
       "    </tr>\n",
       "    <tr>\n",
       "      <th>3</th>\n",
       "      <td>4.6</td>\n",
       "      <td>3.1</td>\n",
       "      <td>1.5</td>\n",
       "      <td>0.2</td>\n",
       "      <td>0</td>\n",
       "    </tr>\n",
       "    <tr>\n",
       "      <th>4</th>\n",
       "      <td>5.0</td>\n",
       "      <td>3.6</td>\n",
       "      <td>1.4</td>\n",
       "      <td>0.2</td>\n",
       "      <td>0</td>\n",
       "    </tr>\n",
       "    <tr>\n",
       "      <th>...</th>\n",
       "      <td>...</td>\n",
       "      <td>...</td>\n",
       "      <td>...</td>\n",
       "      <td>...</td>\n",
       "      <td>...</td>\n",
       "    </tr>\n",
       "    <tr>\n",
       "      <th>145</th>\n",
       "      <td>6.7</td>\n",
       "      <td>3.0</td>\n",
       "      <td>5.2</td>\n",
       "      <td>2.3</td>\n",
       "      <td>2</td>\n",
       "    </tr>\n",
       "    <tr>\n",
       "      <th>146</th>\n",
       "      <td>6.3</td>\n",
       "      <td>2.5</td>\n",
       "      <td>5.0</td>\n",
       "      <td>1.9</td>\n",
       "      <td>2</td>\n",
       "    </tr>\n",
       "    <tr>\n",
       "      <th>147</th>\n",
       "      <td>6.5</td>\n",
       "      <td>3.0</td>\n",
       "      <td>5.2</td>\n",
       "      <td>2.0</td>\n",
       "      <td>2</td>\n",
       "    </tr>\n",
       "    <tr>\n",
       "      <th>148</th>\n",
       "      <td>6.2</td>\n",
       "      <td>3.4</td>\n",
       "      <td>5.4</td>\n",
       "      <td>2.3</td>\n",
       "      <td>2</td>\n",
       "    </tr>\n",
       "    <tr>\n",
       "      <th>149</th>\n",
       "      <td>5.9</td>\n",
       "      <td>3.0</td>\n",
       "      <td>5.1</td>\n",
       "      <td>1.8</td>\n",
       "      <td>2</td>\n",
       "    </tr>\n",
       "  </tbody>\n",
       "</table>\n",
       "<p>150 rows × 5 columns</p>\n",
       "</div>"
      ],
      "text/plain": [
       "     sepal length (cm)  sepal width (cm)  petal length (cm)  petal width (cm)  \\\n",
       "0                  5.1               3.5                1.4               0.2   \n",
       "1                  4.9               3.0                1.4               0.2   \n",
       "2                  4.7               3.2                1.3               0.2   \n",
       "3                  4.6               3.1                1.5               0.2   \n",
       "4                  5.0               3.6                1.4               0.2   \n",
       "..                 ...               ...                ...               ...   \n",
       "145                6.7               3.0                5.2               2.3   \n",
       "146                6.3               2.5                5.0               1.9   \n",
       "147                6.5               3.0                5.2               2.0   \n",
       "148                6.2               3.4                5.4               2.3   \n",
       "149                5.9               3.0                5.1               1.8   \n",
       "\n",
       "     target  \n",
       "0         0  \n",
       "1         0  \n",
       "2         0  \n",
       "3         0  \n",
       "4         0  \n",
       "..      ...  \n",
       "145       2  \n",
       "146       2  \n",
       "147       2  \n",
       "148       2  \n",
       "149       2  \n",
       "\n",
       "[150 rows x 5 columns]"
      ]
     },
     "execution_count": 12,
     "metadata": {},
     "output_type": "execute_result"
    }
   ],
   "source": [
    "# feature, target을 이용해서 데이터 프레임을 만들어보자\n",
    "iris_label = iris.target # 변수값에 복사\n",
    "iris_data = iris.data # 변수값에 복사\n",
    "\n",
    "iris_frm = pd.DataFrame(data = iris_data,\n",
    "                       columns=iris.feature_names)\n",
    "iris_frm['target'] = iris_label\n",
    "iris_frm"
   ]
  },
  {
   "cell_type": "markdown",
   "id": "758c996c",
   "metadata": {},
   "source": [
    "### 지도학습(Supervised Learning) - 분류(classification)\n",
    "- step 01. 데이터세트 분리(학습 데이터, 테스트 데이터)\n",
    "- step 02. 학습 데이터를 기반으로 NL 알고리즘을 적용해 학습 모델을 만든다.\n",
    "- step 03. 분류예측을 수행(테스트 데이터를 활용해서)\n",
    "- step 04. 평가\n",
    "\n",
    "#### 분류(Classifier)\n",
    "- DecisionTreeClassifier\n",
    "- RandomForestClassifier\n",
    "- GradientBoostingClassifier\n",
    "- GaussianNB\n",
    "- SYC\n",
    "\n",
    "#### 회귀(Regression)\n",
    "- LinearRegression\n",
    "- Ridge\n",
    "- Lasso\n",
    "- RandomForestRegression\n",
    "- GradientBoostingRegression"
   ]
  },
  {
   "cell_type": "code",
   "execution_count": 15,
   "id": "a3002b6a",
   "metadata": {},
   "outputs": [
    {
     "name": "stdout",
     "output_type": "stream",
     "text": [
      "학습데이터와 테스트 데이터로 분리\n"
     ]
    }
   ],
   "source": [
    "print('학습데이터와 테스트 데이터로 분리')\n",
    "\n",
    "X_train,X_test,y_train,y_test = train_test_split(iris_data,\n",
    "                                                 iris_label,\n",
    "                                                test_size=0.2,\n",
    "                                                shuffle=False,\n",
    "                                                random_state = 200)\n"
   ]
  },
  {
   "cell_type": "code",
   "execution_count": 16,
   "id": "d7afc9d7",
   "metadata": {},
   "outputs": [
    {
     "name": "stdout",
     "output_type": "stream",
     "text": [
      "train data: [[5.1 3.5 1.4 0.2]\n",
      " [4.9 3.  1.4 0.2]\n",
      " [4.7 3.2 1.3 0.2]\n",
      " [4.6 3.1 1.5 0.2]\n",
      " [5.  3.6 1.4 0.2]\n",
      " [5.4 3.9 1.7 0.4]\n",
      " [4.6 3.4 1.4 0.3]\n",
      " [5.  3.4 1.5 0.2]\n",
      " [4.4 2.9 1.4 0.2]\n",
      " [4.9 3.1 1.5 0.1]\n",
      " [5.4 3.7 1.5 0.2]\n",
      " [4.8 3.4 1.6 0.2]\n",
      " [4.8 3.  1.4 0.1]\n",
      " [4.3 3.  1.1 0.1]\n",
      " [5.8 4.  1.2 0.2]\n",
      " [5.7 4.4 1.5 0.4]\n",
      " [5.4 3.9 1.3 0.4]\n",
      " [5.1 3.5 1.4 0.3]\n",
      " [5.7 3.8 1.7 0.3]\n",
      " [5.1 3.8 1.5 0.3]\n",
      " [5.4 3.4 1.7 0.2]\n",
      " [5.1 3.7 1.5 0.4]\n",
      " [4.6 3.6 1.  0.2]\n",
      " [5.1 3.3 1.7 0.5]\n",
      " [4.8 3.4 1.9 0.2]\n",
      " [5.  3.  1.6 0.2]\n",
      " [5.  3.4 1.6 0.4]\n",
      " [5.2 3.5 1.5 0.2]\n",
      " [5.2 3.4 1.4 0.2]\n",
      " [4.7 3.2 1.6 0.2]\n",
      " [4.8 3.1 1.6 0.2]\n",
      " [5.4 3.4 1.5 0.4]\n",
      " [5.2 4.1 1.5 0.1]\n",
      " [5.5 4.2 1.4 0.2]\n",
      " [4.9 3.1 1.5 0.2]\n",
      " [5.  3.2 1.2 0.2]\n",
      " [5.5 3.5 1.3 0.2]\n",
      " [4.9 3.6 1.4 0.1]\n",
      " [4.4 3.  1.3 0.2]\n",
      " [5.1 3.4 1.5 0.2]\n",
      " [5.  3.5 1.3 0.3]\n",
      " [4.5 2.3 1.3 0.3]\n",
      " [4.4 3.2 1.3 0.2]\n",
      " [5.  3.5 1.6 0.6]\n",
      " [5.1 3.8 1.9 0.4]\n",
      " [4.8 3.  1.4 0.3]\n",
      " [5.1 3.8 1.6 0.2]\n",
      " [4.6 3.2 1.4 0.2]\n",
      " [5.3 3.7 1.5 0.2]\n",
      " [5.  3.3 1.4 0.2]\n",
      " [7.  3.2 4.7 1.4]\n",
      " [6.4 3.2 4.5 1.5]\n",
      " [6.9 3.1 4.9 1.5]\n",
      " [5.5 2.3 4.  1.3]\n",
      " [6.5 2.8 4.6 1.5]\n",
      " [5.7 2.8 4.5 1.3]\n",
      " [6.3 3.3 4.7 1.6]\n",
      " [4.9 2.4 3.3 1. ]\n",
      " [6.6 2.9 4.6 1.3]\n",
      " [5.2 2.7 3.9 1.4]\n",
      " [5.  2.  3.5 1. ]\n",
      " [5.9 3.  4.2 1.5]\n",
      " [6.  2.2 4.  1. ]\n",
      " [6.1 2.9 4.7 1.4]\n",
      " [5.6 2.9 3.6 1.3]\n",
      " [6.7 3.1 4.4 1.4]\n",
      " [5.6 3.  4.5 1.5]\n",
      " [5.8 2.7 4.1 1. ]\n",
      " [6.2 2.2 4.5 1.5]\n",
      " [5.6 2.5 3.9 1.1]\n",
      " [5.9 3.2 4.8 1.8]\n",
      " [6.1 2.8 4.  1.3]\n",
      " [6.3 2.5 4.9 1.5]\n",
      " [6.1 2.8 4.7 1.2]\n",
      " [6.4 2.9 4.3 1.3]\n",
      " [6.6 3.  4.4 1.4]\n",
      " [6.8 2.8 4.8 1.4]\n",
      " [6.7 3.  5.  1.7]\n",
      " [6.  2.9 4.5 1.5]\n",
      " [5.7 2.6 3.5 1. ]\n",
      " [5.5 2.4 3.8 1.1]\n",
      " [5.5 2.4 3.7 1. ]\n",
      " [5.8 2.7 3.9 1.2]\n",
      " [6.  2.7 5.1 1.6]\n",
      " [5.4 3.  4.5 1.5]\n",
      " [6.  3.4 4.5 1.6]\n",
      " [6.7 3.1 4.7 1.5]\n",
      " [6.3 2.3 4.4 1.3]\n",
      " [5.6 3.  4.1 1.3]\n",
      " [5.5 2.5 4.  1.3]\n",
      " [5.5 2.6 4.4 1.2]\n",
      " [6.1 3.  4.6 1.4]\n",
      " [5.8 2.6 4.  1.2]\n",
      " [5.  2.3 3.3 1. ]\n",
      " [5.6 2.7 4.2 1.3]\n",
      " [5.7 3.  4.2 1.2]\n",
      " [5.7 2.9 4.2 1.3]\n",
      " [6.2 2.9 4.3 1.3]\n",
      " [5.1 2.5 3.  1.1]\n",
      " [5.7 2.8 4.1 1.3]\n",
      " [6.3 3.3 6.  2.5]\n",
      " [5.8 2.7 5.1 1.9]\n",
      " [7.1 3.  5.9 2.1]\n",
      " [6.3 2.9 5.6 1.8]\n",
      " [6.5 3.  5.8 2.2]\n",
      " [7.6 3.  6.6 2.1]\n",
      " [4.9 2.5 4.5 1.7]\n",
      " [7.3 2.9 6.3 1.8]\n",
      " [6.7 2.5 5.8 1.8]\n",
      " [7.2 3.6 6.1 2.5]\n",
      " [6.5 3.2 5.1 2. ]\n",
      " [6.4 2.7 5.3 1.9]\n",
      " [6.8 3.  5.5 2.1]\n",
      " [5.7 2.5 5.  2. ]\n",
      " [5.8 2.8 5.1 2.4]\n",
      " [6.4 3.2 5.3 2.3]\n",
      " [6.5 3.  5.5 1.8]\n",
      " [7.7 3.8 6.7 2.2]\n",
      " [7.7 2.6 6.9 2.3]\n",
      " [6.  2.2 5.  1.5]]\n",
      "train label: [0 0 0 0 0 0 0 0 0 0 0 0 0 0 0 0 0 0 0 0 0 0 0 0 0 0 0 0 0 0 0 0 0 0 0 0 0\n",
      " 0 0 0 0 0 0 0 0 0 0 0 0 0 1 1 1 1 1 1 1 1 1 1 1 1 1 1 1 1 1 1 1 1 1 1 1 1\n",
      " 1 1 1 1 1 1 1 1 1 1 1 1 1 1 1 1 1 1 1 1 1 1 1 1 1 1 2 2 2 2 2 2 2 2 2 2 2\n",
      " 2 2 2 2 2 2 2 2 2]\n",
      "\n",
      "test data: [[6.9 3.2 5.7 2.3]\n",
      " [5.6 2.8 4.9 2. ]\n",
      " [7.7 2.8 6.7 2. ]\n",
      " [6.3 2.7 4.9 1.8]\n",
      " [6.7 3.3 5.7 2.1]\n",
      " [7.2 3.2 6.  1.8]\n",
      " [6.2 2.8 4.8 1.8]\n",
      " [6.1 3.  4.9 1.8]\n",
      " [6.4 2.8 5.6 2.1]\n",
      " [7.2 3.  5.8 1.6]\n",
      " [7.4 2.8 6.1 1.9]\n",
      " [7.9 3.8 6.4 2. ]\n",
      " [6.4 2.8 5.6 2.2]\n",
      " [6.3 2.8 5.1 1.5]\n",
      " [6.1 2.6 5.6 1.4]\n",
      " [7.7 3.  6.1 2.3]\n",
      " [6.3 3.4 5.6 2.4]\n",
      " [6.4 3.1 5.5 1.8]\n",
      " [6.  3.  4.8 1.8]\n",
      " [6.9 3.1 5.4 2.1]\n",
      " [6.7 3.1 5.6 2.4]\n",
      " [6.9 3.1 5.1 2.3]\n",
      " [5.8 2.7 5.1 1.9]\n",
      " [6.8 3.2 5.9 2.3]\n",
      " [6.7 3.3 5.7 2.5]\n",
      " [6.7 3.  5.2 2.3]\n",
      " [6.3 2.5 5.  1.9]\n",
      " [6.5 3.  5.2 2. ]\n",
      " [6.2 3.4 5.4 2.3]\n",
      " [5.9 3.  5.1 1.8]]\n",
      "test data: [2 2 2 2 2 2 2 2 2 2 2 2 2 2 2 2 2 2 2 2 2 2 2 2 2 2 2 2 2 2]\n"
     ]
    }
   ],
   "source": [
    "print('train data:',X_train)\n",
    "print('train label:',y_train)\n",
    "print()\n",
    "print('test data:',X_test)\n",
    "print('test data:',y_test)"
   ]
  },
  {
   "cell_type": "code",
   "execution_count": 17,
   "id": "3bbb3375",
   "metadata": {},
   "outputs": [
    {
     "name": "stdout",
     "output_type": "stream",
     "text": [
      "알고리즘이 적용된 모델을 선정해서 학습시켜보자\n",
      "\n"
     ]
    },
    {
     "data": {
      "text/plain": [
       "DecisionTreeClassifier()"
      ]
     },
     "execution_count": 17,
     "metadata": {},
     "output_type": "execute_result"
    }
   ],
   "source": [
    "print('알고리즘이 적용된 모델을 선정해서 학습시켜보자')\n",
    "print()\n",
    "\n",
    "dtc = DecisionTreeClassifier()\n",
    "dtc.fit(X_train,y_train)\n"
   ]
  },
  {
   "cell_type": "code",
   "execution_count": 18,
   "id": "b3c2876a",
   "metadata": {},
   "outputs": [
    {
     "name": "stdout",
     "output_type": "stream",
     "text": [
      "새로운 데이터를(test) 이용해서 예측을 해보자\n",
      "\n",
      "y_test: [2 2 2 2 2 2 2 2 2 2 2 2 2 2 2 2 2 2 2 2 2 2 2 2 2 2 2 2 2 2]\n",
      "y_predict: [2 1 2 1 2 2 1 1 2 1 2 2 2 2 2 2 2 2 1 2 2 2 2 2 2 2 2 2 2 2]\n"
     ]
    }
   ],
   "source": [
    "print('새로운 데이터를(test) 이용해서 예측을 해보자')\n",
    "print()\n",
    "y_predict = dtc.predict(X_test)\n",
    "print('y_test:',y_test)\n",
    "print('y_predict:',y_predict)"
   ]
  },
  {
   "cell_type": "code",
   "execution_count": 25,
   "id": "09fbe2bb",
   "metadata": {},
   "outputs": [
    {
     "name": "stdout",
     "output_type": "stream",
     "text": [
      "예측 정확도구해보기\n",
      "\n",
      "예측정확도 : 0.80\n"
     ]
    }
   ],
   "source": [
    "print('예측 정확도구해보기')\n",
    "print()\n",
    "print('예측정확도 : {0:.2f}'.format(accuracy_score(y_test, y_predict)))"
   ]
  },
  {
   "cell_type": "code",
   "execution_count": 28,
   "id": "78269e8c",
   "metadata": {},
   "outputs": [
    {
     "name": "stdout",
     "output_type": "stream",
     "text": [
      "데이터 프레임 형식에서 학습 데이터와 테스트데이터를 분리한다면?\n",
      "피처만 추출한다면?\n",
      "레이블만 추출한다면?\n"
     ]
    }
   ],
   "source": [
    "print('데이터 프레임 형식에서 학습 데이터와 테스트데이터를 분리한다면?')\n",
    "print('피처만 추출한다면?')\n",
    "iris_feature_frm = iris_frm.iloc[:,:-1]\n",
    "print('레이블만 추출한다면?')\n",
    "iris_label_frm = iris_frm.iloc[:,-1]\n",
    "\n",
    "X_train,X_test,y_train,y_test = train_test_split(iris_feature_frm,\n",
    "                                                 iris_label_frm,\n",
    "                                                test_size=0.2,\n",
    "                                                shuffle=True,\n",
    "                                                random_state = 200)"
   ]
  },
  {
   "cell_type": "code",
   "execution_count": 29,
   "id": "6456b1a1",
   "metadata": {
    "scrolled": true
   },
   "outputs": [
    {
     "name": "stdout",
     "output_type": "stream",
     "text": [
      "train data:      sepal length (cm)  sepal width (cm)  petal length (cm)  petal width (cm)\n",
      "39                 5.1               3.4                1.5               0.2\n",
      "99                 5.7               2.8                4.1               1.3\n",
      "92                 5.8               2.6                4.0               1.2\n",
      "4                  5.0               3.6                1.4               0.2\n",
      "97                 6.2               2.9                4.3               1.3\n",
      "..                 ...               ...                ...               ...\n",
      "42                 4.4               3.2                1.3               0.2\n",
      "68                 6.2               2.2                4.5               1.5\n",
      "16                 5.4               3.9                1.3               0.4\n",
      "105                7.6               3.0                6.6               2.1\n",
      "26                 5.0               3.4                1.6               0.4\n",
      "\n",
      "[120 rows x 4 columns]\n",
      "train label: 39     0\n",
      "99     1\n",
      "92     1\n",
      "4      0\n",
      "97     1\n",
      "      ..\n",
      "42     0\n",
      "68     1\n",
      "16     0\n",
      "105    2\n",
      "26     0\n",
      "Name: target, Length: 120, dtype: int32\n",
      "\n",
      "test data:      sepal length (cm)  sepal width (cm)  petal length (cm)  petal width (cm)\n",
      "84                 5.4               3.0                4.5               1.5\n",
      "122                7.7               2.8                6.7               2.0\n",
      "28                 5.2               3.4                1.4               0.2\n",
      "24                 4.8               3.4                1.9               0.2\n",
      "75                 6.6               3.0                4.4               1.4\n",
      "109                7.2               3.6                6.1               2.5\n",
      "81                 5.5               2.4                3.7               1.0\n",
      "98                 5.1               2.5                3.0               1.1\n",
      "80                 5.5               2.4                3.8               1.1\n",
      "100                6.3               3.3                6.0               2.5\n",
      "124                6.7               3.3                5.7               2.1\n",
      "2                  4.7               3.2                1.3               0.2\n",
      "34                 4.9               3.1                1.5               0.2\n",
      "44                 5.1               3.8                1.9               0.4\n",
      "128                6.4               2.8                5.6               2.1\n",
      "13                 4.3               3.0                1.1               0.1\n",
      "93                 5.0               2.3                3.3               1.0\n",
      "41                 4.5               2.3                1.3               0.3\n",
      "63                 6.1               2.9                4.7               1.4\n",
      "137                6.4               3.1                5.5               1.8\n",
      "19                 5.1               3.8                1.5               0.3\n",
      "60                 5.0               2.0                3.5               1.0\n",
      "126                6.2               2.8                4.8               1.8\n",
      "11                 4.8               3.4                1.6               0.2\n",
      "47                 4.6               3.2                1.4               0.2\n",
      "18                 5.7               3.8                1.7               0.3\n",
      "96                 5.7               2.9                4.2               1.3\n",
      "107                7.3               2.9                6.3               1.8\n",
      "141                6.9               3.1                5.1               2.3\n",
      "53                 5.5               2.3                4.0               1.3\n",
      "test data: 84     1\n",
      "122    2\n",
      "28     0\n",
      "24     0\n",
      "75     1\n",
      "109    2\n",
      "81     1\n",
      "98     1\n",
      "80     1\n",
      "100    2\n",
      "124    2\n",
      "2      0\n",
      "34     0\n",
      "44     0\n",
      "128    2\n",
      "13     0\n",
      "93     1\n",
      "41     0\n",
      "63     1\n",
      "137    2\n",
      "19     0\n",
      "60     1\n",
      "126    2\n",
      "11     0\n",
      "47     0\n",
      "18     0\n",
      "96     1\n",
      "107    2\n",
      "141    2\n",
      "53     1\n",
      "Name: target, dtype: int32\n"
     ]
    }
   ],
   "source": [
    "print('train data:',X_train)\n",
    "print('train label:',y_train)\n",
    "print()\n",
    "print('test data:',X_test)\n",
    "print('test data:',y_test)"
   ]
  },
  {
   "cell_type": "code",
   "execution_count": 30,
   "id": "27af85b7",
   "metadata": {},
   "outputs": [
    {
     "name": "stdout",
     "output_type": "stream",
     "text": [
      "알고리즘이 적용된 모델을 선정해서 학습시켜보자\n",
      "\n"
     ]
    },
    {
     "data": {
      "text/plain": [
       "DecisionTreeClassifier()"
      ]
     },
     "execution_count": 30,
     "metadata": {},
     "output_type": "execute_result"
    }
   ],
   "source": [
    "print('알고리즘이 적용된 모델을 선정해서 학습시켜보자')\n",
    "print()\n",
    "\n",
    "dtc02 = DecisionTreeClassifier()\n",
    "dtc02.fit(X_train,y_train)"
   ]
  },
  {
   "cell_type": "code",
   "execution_count": 31,
   "id": "beeee9b8",
   "metadata": {},
   "outputs": [
    {
     "name": "stdout",
     "output_type": "stream",
     "text": [
      "새로운 데이터를(test) 이용해서 예측을 해보자\n",
      "\n",
      "y_test: 84     1\n",
      "122    2\n",
      "28     0\n",
      "24     0\n",
      "75     1\n",
      "109    2\n",
      "81     1\n",
      "98     1\n",
      "80     1\n",
      "100    2\n",
      "124    2\n",
      "2      0\n",
      "34     0\n",
      "44     0\n",
      "128    2\n",
      "13     0\n",
      "93     1\n",
      "41     0\n",
      "63     1\n",
      "137    2\n",
      "19     0\n",
      "60     1\n",
      "126    2\n",
      "11     0\n",
      "47     0\n",
      "18     0\n",
      "96     1\n",
      "107    2\n",
      "141    2\n",
      "53     1\n",
      "Name: target, dtype: int32\n",
      "y_predict: [1 2 0 0 1 2 1 1 1 2 2 0 0 0 2 0 1 0 1 2 0 1 2 0 0 0 1 2 2 1]\n"
     ]
    }
   ],
   "source": [
    "print('새로운 데이터를(test) 이용해서 예측을 해보자')\n",
    "print()\n",
    "y_predict = dtc02.predict(X_test)\n",
    "print('y_test:',y_test)\n",
    "print('y_predict:',y_predict)"
   ]
  },
  {
   "cell_type": "code",
   "execution_count": 32,
   "id": "bf224dd6",
   "metadata": {},
   "outputs": [
    {
     "name": "stdout",
     "output_type": "stream",
     "text": [
      "예측 정확도구해보기\n",
      "\n",
      "예측정확도 : 1.00\n"
     ]
    }
   ],
   "source": [
    "print('예측 정확도구해보기')\n",
    "print()\n",
    "print('예측정확도 : {0:.2f}'.format(accuracy_score(y_test, y_predict)))"
   ]
  },
  {
   "cell_type": "code",
   "execution_count": 34,
   "id": "4cde6069",
   "metadata": {},
   "outputs": [
    {
     "name": "stdout",
     "output_type": "stream",
     "text": [
      "학습과 예측시 테스트데이터를 사용하지 않고, 학습데이터로만 학습과 예측을 진행한다면?\n",
      "피처만 추출한다면?\n",
      "레이블만 추출한다면?\n",
      "예측정확도 : 1.00\n"
     ]
    }
   ],
   "source": [
    "print('학습과 예측시 테스트데이터를 사용하지 않고, 학습데이터로만 학습과 예측을 진행한다면?')\n",
    "\n",
    "print('피처만 추출한다면?')\n",
    "iris_feature_frm = iris_frm.iloc[:,:-1]\n",
    "print('레이블만 추출한다면?')\n",
    "iris_label_frm = iris_frm.iloc[:,-1]\n",
    "\n",
    "X_train,X_test,y_train,y_test = train_test_split(iris_feature_frm,\n",
    "                                                 iris_label_frm,\n",
    "                                                test_size=0.2,\n",
    "                                                shuffle=True,\n",
    "                                                random_state = 200)\n",
    "\n",
    "bad_dtc03 = DecisionTreeClassifier()\n",
    "bad_dtc03.fit(X_train, y_train)\n",
    "\n",
    "y_predict = bad_dtc03.predict(X_train)\n",
    "\n",
    "print('예측정확도 : {0:.2f}'.format(accuracy_score(y_train, y_predict))) \n",
    "# 학습된 데이터로 예측하면 당연히 100%가 나온다."
   ]
  },
  {
   "cell_type": "markdown",
   "id": "1129e341",
   "metadata": {},
   "source": [
    "### 교차검증(Cross Validation)\n",
    "- 교차검증을 사용하는 이유?\n",
    "    - 과적합(overfitting)을 방지하기 위한 방법\n",
    "    - 데이터의 편중을 막기위해서\n",
    "- KFold 방식"
   ]
  },
  {
   "cell_type": "code",
   "execution_count": 38,
   "id": "47f52c5b",
   "metadata": {},
   "outputs": [],
   "source": [
    "fold_iris = load_iris()\n",
    "features = fold_iris.data\n",
    "label = fold_iris.target\n",
    "\n",
    "fold_dt_clf = DecisionTreeClassifier()"
   ]
  },
  {
   "cell_type": "code",
   "execution_count": 41,
   "id": "02590849",
   "metadata": {},
   "outputs": [
    {
     "name": "stdout",
     "output_type": "stream",
     "text": [
      "5개의 폴더 세트를 분리하여 각 폴더 세트별 정확도를 담아보자\n"
     ]
    }
   ],
   "source": [
    "print('5개의 폴더 세트를 분리하여 각 폴더 세트별 정확도를 담아보자')\n",
    "cv_accuracy=[]\n",
    "kfold = KFold(n_splits=5)"
   ]
  },
  {
   "cell_type": "code",
   "execution_count": 45,
   "id": "7372ed26",
   "metadata": {},
   "outputs": [
    {
     "name": "stdout",
     "output_type": "stream",
     "text": [
      "1 교차검증 정확도 : 1.0, 학습 데이터 크기 : 120, 검증데이터 크기 : 30\n",
      "2 교차검증 정확도 : 0.9666666666666667, 학습 데이터 크기 : 120, 검증데이터 크기 : 30\n",
      "3 교차검증 정확도 : 0.8666666666666667, 학습 데이터 크기 : 120, 검증데이터 크기 : 30\n",
      "4 교차검증 정확도 : 0.9333333333333333, 학습 데이터 크기 : 120, 검증데이터 크기 : 30\n",
      "5 교차검증 정확도 : 0.8, 학습 데이터 크기 : 120, 검증데이터 크기 : 30\n",
      "교차검증 평균 정확도 :  0.9133333333333333\n"
     ]
    }
   ],
   "source": [
    "n_iter=0\n",
    "for train_idx, test_idx in kfold.split(features):\n",
    "#     print('train_idx : ',train_idx)\n",
    "#     print('test_idx : ',test_idx)\n",
    "        X_train, X_val = features[train_idx], features[test_idx]\n",
    "        y_train, y_val = label[train_idx], label[test_idx]\n",
    "        \n",
    "        # 학습과 예측\n",
    "        fold_dt_clf.fit(X_train,y_train)\n",
    "        fold_pred = fold_dt_clf.predict(X_val)\n",
    "        \n",
    "        n_iter += 1\n",
    "        \n",
    "        #학습 데이터에 대한 검증 정확도 측정\n",
    "        acc = accuracy_score(y_val, fold_pred)\n",
    "        print('{} 교차검증 정확도 : {}, 학습 데이터 크기 : {}, 검증데이터 크기 : {}'.format(n_iter, acc, X_train.shape[0],X_val.shape[0]))\n",
    "        \n",
    "        cv_accuracy.append(acc)\n",
    "print('교차검증 평균 정확도 : ', np.mean(cv_accuracy))"
   ]
  },
  {
   "cell_type": "markdown",
   "id": "b87a6dd7",
   "metadata": {},
   "source": [
    "- 불균형한 분포도를 가진 레이블 데이터 집합을 위한 KFold 방식 -> Stratified KFold\n",
    "- 레이블의 분폴르 먼저 고려한뒤 이 분포와 동일하게 학습, 검증 데이터 세트로 분할"
   ]
  },
  {
   "cell_type": "code",
   "execution_count": 48,
   "id": "614320b2",
   "metadata": {},
   "outputs": [
    {
     "name": "stdout",
     "output_type": "stream",
     "text": [
      "기존 KFold 방식의 문제점을 확인해보자\n",
      "\n",
      "--value counts--\n",
      "0    50\n",
      "1    50\n",
      "2    50\n",
      "Name: target, dtype: int64\n"
     ]
    }
   ],
   "source": [
    "print('기존 KFold 방식의 문제점을 확인해보자')\n",
    "print()\n",
    "\n",
    "fold_iris_frm = pd.DataFrame(data = fold_iris.data,\n",
    "                            columns= fold_iris.feature_names)\n",
    "fold_iris_frm['target'] = fold_iris.target\n",
    "fold_iris_frm\n",
    "\n",
    "print('--value counts--')\n",
    "print(fold_iris_frm['target'].value_counts())"
   ]
  },
  {
   "cell_type": "code",
   "execution_count": 49,
   "id": "12d6840a",
   "metadata": {},
   "outputs": [],
   "source": [
    "bad_fold_iris = KFold(n_splits = 3)\n",
    "n_iter =0 "
   ]
  },
  {
   "cell_type": "code",
   "execution_count": 52,
   "id": "bcdcb7c3",
   "metadata": {},
   "outputs": [
    {
     "name": "stdout",
     "output_type": "stream",
     "text": [
      "교차검증 횟수 : 1\n",
      "학습 레이블 데이터 분포 : \n",
      " 1    50\n",
      "2    50\n",
      "Name: target, dtype: int64\n",
      "검증 레이블 데이터 분포 : \n",
      " 0    50\n",
      "Name: target, dtype: int64\n",
      "교차검증 횟수 : 2\n",
      "학습 레이블 데이터 분포 : \n",
      " 0    50\n",
      "2    50\n",
      "Name: target, dtype: int64\n",
      "검증 레이블 데이터 분포 : \n",
      " 1    50\n",
      "Name: target, dtype: int64\n",
      "교차검증 횟수 : 3\n",
      "학습 레이블 데이터 분포 : \n",
      " 0    50\n",
      "1    50\n",
      "Name: target, dtype: int64\n",
      "검증 레이블 데이터 분포 : \n",
      " 2    50\n",
      "Name: target, dtype: int64\n"
     ]
    }
   ],
   "source": [
    "for train_idx, test_idx in bad_fold_iris.split(fold_iris_frm):\n",
    "    #print(train_idx, test_idx)\n",
    "    n_iter += 1\n",
    "    label_train = fold_iris_frm['target'].iloc[train_idx]\n",
    "    label_val = fold_iris_frm['target'].iloc[test_idx]\n",
    "    \n",
    "    print('교차검증 횟수 :', n_iter)\n",
    "    print('학습 레이블 데이터 분포 : \\n' , label_train.value_counts() )\n",
    "    print('검증 레이블 데이터 분포 : \\n' , label_val.value_counts() ) # 편중되어 있는 것 확인 가능\n",
    "    "
   ]
  },
  {
   "cell_type": "code",
   "execution_count": 56,
   "id": "92b02699",
   "metadata": {},
   "outputs": [
    {
     "name": "stdout",
     "output_type": "stream",
     "text": [
      "레이블 값의 분포를 반영해주지 못하는 문제를 해결하기 위해서 Stratified KFold 사용\n",
      "\n",
      "교차검증 횟수 : 1\n",
      "학습 레이블 데이터 분포 : \n",
      " 2    34\n",
      "0    33\n",
      "1    33\n",
      "Name: target, dtype: int64\n",
      "검증 레이블 데이터 분포 : \n",
      " 0    17\n",
      "1    17\n",
      "2    16\n",
      "Name: target, dtype: int64\n",
      "교차검증 횟수 : 2\n",
      "학습 레이블 데이터 분포 : \n",
      " 1    34\n",
      "0    33\n",
      "2    33\n",
      "Name: target, dtype: int64\n",
      "검증 레이블 데이터 분포 : \n",
      " 0    17\n",
      "2    17\n",
      "1    16\n",
      "Name: target, dtype: int64\n",
      "교차검증 횟수 : 3\n",
      "학습 레이블 데이터 분포 : \n",
      " 0    34\n",
      "1    33\n",
      "2    33\n",
      "Name: target, dtype: int64\n",
      "검증 레이블 데이터 분포 : \n",
      " 1    17\n",
      "2    17\n",
      "0    16\n",
      "Name: target, dtype: int64\n"
     ]
    }
   ],
   "source": [
    "print('레이블 값의 분포를 반영해주지 못하는 문제를 해결하기 위해서 Stratified KFold 사용')\n",
    "print()\n",
    "\n",
    "skf = StratifiedKFold(n_splits = 3)\n",
    "n_iter = 0\n",
    "\n",
    "for train_idx, test_idx in skf.split(fold_iris_frm,fold_iris_frm['target']):\n",
    "    #print(train_idx, test_idx)\n",
    "    n_iter += 1\n",
    "    label_train = fold_iris_frm['target'].iloc[train_idx]\n",
    "    label_val = fold_iris_frm['target'].iloc[test_idx]\n",
    "    \n",
    "    print('교차검증 횟수 :', n_iter)\n",
    "    print('학습 레이블 데이터 분포 : \\n' , label_train.value_counts() )\n",
    "    print('검증 레이블 데이터 분포 : \\n' , label_val.value_counts() ) \n",
    "    "
   ]
  },
  {
   "cell_type": "markdown",
   "id": "c6d993d2",
   "metadata": {},
   "source": [
    "- iris 데이터를 이용해서 StratifiedKFold 교차검증을 진행해보자\n",
    "- random_state = 100\n",
    "- StratifiedKFold 교차검증을 (3, 5) 진행후 평균 정확도를 확인해보자\n",
    "- 회귀 X , 분류 O \n",
    "- 회귀에서 지원되지 않는 이유 : 회귀는 연속되는 숫자값이기 때문이다."
   ]
  },
  {
   "cell_type": "code",
   "execution_count": 63,
   "id": "52d53c42",
   "metadata": {},
   "outputs": [],
   "source": [
    "fold_iris = load_iris()\n",
    "features = fold_iris.data\n",
    "label = fold_iris.target\n",
    "\n",
    "dt_model = DecisionTreeClassifier(random_state=100)"
   ]
  },
  {
   "cell_type": "code",
   "execution_count": 71,
   "id": "326dc679",
   "metadata": {},
   "outputs": [
    {
     "name": "stdout",
     "output_type": "stream",
     "text": [
      "5개의 폴더 세트를 분리하여 각 폴더 세트별 정확도를 담아보자\n"
     ]
    }
   ],
   "source": [
    "print('5개의 폴더 세트를 분리하여 각 폴더 세트별 정확도를 담아보자')\n",
    "cv_accuracy=[]\n",
    "stf_kfold = StratifiedKFold(n_splits=5)"
   ]
  },
  {
   "cell_type": "code",
   "execution_count": 72,
   "id": "548f3c62",
   "metadata": {},
   "outputs": [
    {
     "name": "stdout",
     "output_type": "stream",
     "text": [
      "1 교차검증 정확도 : 0.9666666666666667, 학습 데이터 크기 : 120, 검증데이터 크기 : 30\n",
      "2 교차검증 정확도 : 0.9666666666666667, 학습 데이터 크기 : 120, 검증데이터 크기 : 30\n",
      "3 교차검증 정확도 : 0.9, 학습 데이터 크기 : 120, 검증데이터 크기 : 30\n",
      "4 교차검증 정확도 : 0.9333333333333333, 학습 데이터 크기 : 120, 검증데이터 크기 : 30\n",
      "5 교차검증 정확도 : 1.0, 학습 데이터 크기 : 120, 검증데이터 크기 : 30\n",
      "교차검증 평균 정확도 :  0.9533333333333334\n"
     ]
    }
   ],
   "source": [
    "n_iter=0\n",
    "for train_idx, test_idx in stf_kfold.split(features,label):\n",
    "#     print('train_idx : ',train_idx)\n",
    "#     print('test_idx : ',test_idx)\n",
    "        X_train, X_val = features[train_idx], features[test_idx]\n",
    "        y_train, y_val = label[train_idx], label[test_idx]\n",
    "        \n",
    "        # 학습과 예측\n",
    "        dt_model.fit(X_train,y_train)\n",
    "        fold_pred = dt_model.predict(X_val)\n",
    "        \n",
    "        n_iter += 1\n",
    "        \n",
    "        #학습 데이터에 대한 검증 정확도 측정\n",
    "        acc = accuracy_score(y_val, fold_pred)\n",
    "        print('{} 교차검증 정확도 : {}, 학습 데이터 크기 : {}, 검증데이터 크기 : {}'.format(n_iter, acc, X_train.shape[0],X_val.shape[0]))\n",
    "        \n",
    "        cv_accuracy.append(acc)\n",
    "print('교차검증 평균 정확도 : ', np.mean(cv_accuracy))"
   ]
  },
  {
   "cell_type": "markdown",
   "id": "66d47ca2",
   "metadata": {},
   "source": [
    "- 위 과정을 한번에 수행해주는 함수가 존재 : cross_val_score(예측모델, 피쳐세트, 레이블, 성능평가 지표 , 폴드수)\n",
    "- 위 과정의 절차는 폴드 설정 → 반복을 통해서 학습 및 테스트의 인덱스를 추출 → 학습과 예측"
   ]
  },
  {
   "cell_type": "code",
   "execution_count": 84,
   "id": "186c0c94",
   "metadata": {},
   "outputs": [
    {
     "name": "stdout",
     "output_type": "stream",
     "text": [
      "성능평가지표:accuracy, 교차검증 5회 수행시\n",
      "[0.96666667 0.96666667 0.9        0.93333333 1.        ]\n",
      "평균 검증 정확도 :  0.95\n",
      "<class 'numpy.ndarray'> \n",
      "\n",
      "cross_validate 함수 사용시\n",
      "type :  <class 'dict'> scores :  {'fit_time': array([0.00299621, 0.00100017, 0.00216556, 0.00299573, 0.00399208]), 'score_time': array([0.00099206, 0.00099826, 0.0008235 , 0.        , 0.00199246]), 'test_score': array([0.96666667, 0.96666667, 0.9       , 0.93333333, 1.        ])}\n",
      "교차검증시간 :  [0.00299621 0.00100017 0.00216556 0.00299573 0.00399208]\n",
      "교차검증별 정확도 :  [0.96666667 0.96666667 0.9        0.93333333 1.        ]\n",
      "평균 검증 정확도 :  0.95\n"
     ]
    }
   ],
   "source": [
    "fold_iris = load_iris()\n",
    "features = fold_iris.data\n",
    "labels = fold_iris.target\n",
    "\n",
    "dt_model = DecisionTreeClassifier(random_state=100)\n",
    "\n",
    "# 성능평가지표로 accuracy, 교차검증 5회를 수행한다면?\n",
    "print('성능평가지표:accuracy, 교차검증 5회 수행시')\n",
    "scores = cross_val_score(dt_model,features,labels,scoring='accuracy',cv=5)\n",
    "print(scores)\n",
    "print('평균 검증 정확도 : ',np.round(np.mean(scores),2))\n",
    "print(type(scores),'\\n')\n",
    "\n",
    "print('cross_validate 함수 사용시') # 부가적인 다른 정보도 반환해줌.\n",
    "scores = cross_validate(dt_model,features,labels, scoring='accuracy',cv=5)\n",
    "print('type : ', type(scores), 'scores : ', scores)\n",
    "# Dictionary 형태로 반환되어 key로 접근 가능\n",
    "print('교차검증시간 : ', scores['fit_time'])\n",
    "print('교차검증별 정확도 : ', scores['test_score'])\n",
    "print('평균 검증 정확도 : ', np.round(np.mean(scores['test_score']),2))"
   ]
  }
 ],
 "metadata": {
  "kernelspec": {
   "display_name": "Python 3",
   "language": "python",
   "name": "python3"
  },
  "language_info": {
   "codemirror_mode": {
    "name": "ipython",
    "version": 3
   },
   "file_extension": ".py",
   "mimetype": "text/x-python",
   "name": "python",
   "nbconvert_exporter": "python",
   "pygments_lexer": "ipython3",
   "version": "3.8.8"
  }
 },
 "nbformat": 4,
 "nbformat_minor": 5
}
