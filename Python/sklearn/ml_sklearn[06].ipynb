{
 "cells": [
  {
   "cell_type": "markdown",
   "id": "30959103",
   "metadata": {},
   "source": [
    "# 분류알고리즘"
   ]
  },
  {
   "cell_type": "code",
   "execution_count": 16,
   "id": "35006809",
   "metadata": {},
   "outputs": [
    {
     "name": "stdout",
     "output_type": "stream",
     "text": [
      "numpy version: 1.20.1\n",
      "pandas version: 1.2.4\n"
     ]
    },
    {
     "data": {
      "text/plain": [
       "'0.24.1'"
      ]
     },
     "execution_count": 16,
     "metadata": {},
     "output_type": "execute_result"
    }
   ],
   "source": [
    "# 필요한 라이브러리 import\n",
    "import numpy as np\n",
    "import pandas as pd\n",
    "import matplotlib.pyplot as plt\n",
    "\n",
    "\n",
    "# seaborn lib add\n",
    "import seaborn as sns\n",
    "\n",
    "from glob import glob\n",
    "\n",
    "%matplotlib inline\n",
    "\n",
    "import json\n",
    "\n",
    "import warnings\n",
    "warnings.filterwarnings(action = 'ignore') \n",
    "\n",
    "from datetime import date, datetime, timedelta\n",
    "from dateutil.parser import parse\n",
    "\n",
    "print(\"numpy version:\",np.__version__) \n",
    "print(\"pandas version:\",pd.__version__)\n",
    "\n",
    "# 한글 폰트 문제 해결\n",
    "import platform\n",
    "\n",
    "from matplotlib import font_manager, rc\n",
    "\n",
    "if platform.system() == 'Darwin':\n",
    "    plt.rc('font', family='AppleGothic')\n",
    "elif platform.system() == 'Windows':\n",
    "    path = \"c:/Windows/Fonts/malgun.ttf\"\n",
    "    font_name = font_manager.FontProperties(fname=path).get_name()\n",
    "    plt.rc('font', family=font_name)\n",
    "else:\n",
    "    print('Unknown system... sorry~~~~') \n",
    "\n",
    "\n",
    "# 차트 축 <- 음수 부호 지원\n",
    "import matplotlib\n",
    "matplotlib.rcParams['axes.unicode_minus'] = False\n",
    "\n",
    "import numpy as np\n",
    "import pandas as pd\n",
    "import sklearn\n",
    "from sklearn.datasets import load_iris, load_breast_cancer, load_digits\n",
    "\n",
    "from IPython.display import Image\n",
    "\n",
    "from sklearn.model_selection import train_test_split, KFold , StratifiedKFold, cross_val_score , cross_validate,GridSearchCV\n",
    "from sklearn.tree import DecisionTreeClassifier\n",
    "from sklearn.ensemble import RandomForestClassifier, VotingClassifier\n",
    "from sklearn.svm import SVC\n",
    "from sklearn.neighbors import KNeighborsClassifier\n",
    "\n",
    "\n",
    "from sklearn.linear_model import LogisticRegression\n",
    "from sklearn.metrics import accuracy_score, precision_score, recall_score, f1_score, confusion_matrix, make_scorer, precision_recall_curve, roc_curve,roc_auc_score \n",
    "from sklearn.impute import SimpleImputer\n",
    "from sklearn.base import BaseEstimator\n",
    "from sklearn.preprocessing import LabelEncoder ,OneHotEncoder,StandardScaler, MinMaxScaler, Binarizer\n",
    "import graphviz\n",
    "\n",
    "import missingno as msno\n",
    "\n",
    "sklearn.__version__"
   ]
  },
  {
   "cell_type": "markdown",
   "id": "ed648602",
   "metadata": {},
   "source": [
    "## 분류의 머신러닝 알고리즘 종류\n",
    "- 나이브 베이즈\n",
    "- 로지스틱회귀(Logistic Regression) : \n",
    "- 결정트리(Decision Tree)\n",
    "- 서포트 벡터 머신(Support Vector Machine)\n",
    "- 최소 근접 알고리즘(Nearest Neighbor)\n",
    "- 심층 연결 기반의 신경망(Neural Network)\n",
    "- 서로 다른(또는 같은) 머신러닝 알고리즘을 결합한 앙상블(Ensemble)\n",
    "- 대표적인 배깅은 랜덤포레스트이다."
   ]
  },
  {
   "cell_type": "markdown",
   "id": "7600bdf6",
   "metadata": {},
   "source": [
    "## Voting 연습"
   ]
  },
  {
   "cell_type": "code",
   "execution_count": 6,
   "id": "1541071f",
   "metadata": {},
   "outputs": [
    {
     "name": "stdout",
     "output_type": "stream",
     "text": [
      "type: <class 'sklearn.utils.Bunch'>\n",
      "keys: dict_keys(['data', 'target', 'frame', 'feature_names', 'target_names', 'images', 'DESCR'])\n"
     ]
    }
   ],
   "source": [
    "mnist = load_digits()\n",
    "print('type:', type(mnist))\n",
    "print('keys:', mnist.keys())\n",
    "features, labels = mnist.data, mnist.target"
   ]
  },
  {
   "cell_type": "code",
   "execution_count": 12,
   "id": "14fb574d",
   "metadata": {},
   "outputs": [
    {
     "name": "stdout",
     "output_type": "stream",
     "text": [
      "features: \n",
      " [[ 0.  0.  5. ...  0.  0.  0.]\n",
      " [ 0.  0.  0. ... 10.  0.  0.]\n",
      " [ 0.  0.  0. ... 16.  9.  0.]\n",
      " ...\n",
      " [ 0.  0.  1. ...  6.  0.  0.]\n",
      " [ 0.  0.  2. ... 12.  0.  0.]\n",
      " [ 0.  0. 10. ... 12.  1.  0.]]\n",
      "labels: \n",
      " [0 1 2 ... 8 9 8]\n"
     ]
    }
   ],
   "source": [
    "print(\"features: \\n\",features)\n",
    "print(\"labels: \\n\",labels)"
   ]
  },
  {
   "cell_type": "code",
   "execution_count": 13,
   "id": "2a1c0450",
   "metadata": {},
   "outputs": [
    {
     "data": {
      "text/plain": [
       "((1797, 64), (1797,))"
      ]
     },
     "execution_count": 13,
     "metadata": {},
     "output_type": "execute_result"
    }
   ],
   "source": [
    "features.shape, labels.shape"
   ]
  },
  {
   "cell_type": "code",
   "execution_count": 14,
   "id": "1aa0eb83",
   "metadata": {},
   "outputs": [
    {
     "data": {
      "text/plain": [
       "array([0, 1, 2, ..., 8, 9, 8])"
      ]
     },
     "execution_count": 14,
     "metadata": {},
     "output_type": "execute_result"
    }
   ],
   "source": [
    "labels"
   ]
  },
  {
   "cell_type": "code",
   "execution_count": 19,
   "id": "028b2eae",
   "metadata": {},
   "outputs": [
    {
     "data": {
      "text/plain": [
       "((1437, 64), (360, 64), (1437,), (360,))"
      ]
     },
     "execution_count": 19,
     "metadata": {},
     "output_type": "execute_result"
    }
   ],
   "source": [
    "X_train, X_test, y_train, y_test = train_test_split(features,\n",
    "                                                    labels,\n",
    "                                                    test_size=0.2,\n",
    "                                                    random_state = 100)\n",
    "X_train.shape, X_test.shape, y_train.shape, y_test.shape"
   ]
  },
  {
   "cell_type": "code",
   "execution_count": 38,
   "id": "753fa660",
   "metadata": {},
   "outputs": [],
   "source": [
    "tree_model = DecisionTreeClassifier(criterion = 'entropy',\n",
    "                                   max_depth = 8,\n",
    "                                   max_features = 32,\n",
    "                                   random_state = 35)\n",
    "\n",
    "knn_model = KNeighborsClassifier(n_neighbors = 299)\n",
    "svm_model = SVC(probability = True)"
   ]
  },
  {
   "cell_type": "code",
   "execution_count": 25,
   "id": "b6e8882d",
   "metadata": {},
   "outputs": [],
   "source": [
    "def metrics_evaluation(target, prediction):\n",
    "    print('accuracy : ',accuracy_score(target, prediction))\n",
    "    "
   ]
  },
  {
   "cell_type": "code",
   "execution_count": 32,
   "id": "ba993416",
   "metadata": {},
   "outputs": [],
   "source": [
    "tree_model.fit(X_train,y_train)\n",
    "tree_pred = tree_model.predict(X_test)\n",
    "\n",
    "knn_model.fit(X_train,y_train)\n",
    "knn_pred = knn_model.predict(X_test)\n",
    "\n",
    "svm_model.fit(X_train,y_train)\n",
    "svm_pred = svm_model.predict(X_test)"
   ]
  },
  {
   "cell_type": "code",
   "execution_count": 33,
   "id": "39b10dd3",
   "metadata": {},
   "outputs": [
    {
     "name": "stdout",
     "output_type": "stream",
     "text": [
      "accuracy :  0.8694444444444445\n",
      "accuracy :  0.8555555555555555\n",
      "accuracy :  0.9916666666666667\n"
     ]
    }
   ],
   "source": [
    "metrics_evaluation(y_test, tree_pred)\n",
    "metrics_evaluation(y_test, knn_pred)\n",
    "metrics_evaluation(y_test, svm_pred)"
   ]
  },
  {
   "cell_type": "code",
   "execution_count": 44,
   "id": "4f52ab99",
   "metadata": {},
   "outputs": [
    {
     "name": "stdout",
     "output_type": "stream",
     "text": [
      "accuracy :  0.9361111111111111\n"
     ]
    }
   ],
   "source": [
    "hard_voting_model = VotingClassifier(estimators = [('tree',tree_model), ('knn', knn_model), ('svn',svm_model)],\n",
    "                               weights = [1,1,1],\n",
    "                               voting = 'hard')\n",
    "hard_voting_model.fit(X_train, y_train)\n",
    "hard_voting_pred = voting_model.predict(X_test)\n",
    "metrics_evaluation(y_test, hard_voting_pred)"
   ]
  },
  {
   "cell_type": "code",
   "execution_count": 45,
   "id": "b5c4de4d",
   "metadata": {},
   "outputs": [
    {
     "name": "stdout",
     "output_type": "stream",
     "text": [
      "accuracy :  0.9361111111111111\n"
     ]
    }
   ],
   "source": [
    "soft_voting_model = VotingClassifier(estimators = [('tree',tree_model), ('knn', knn_model), ('svn',svm_model)],\n",
    "                               weights = [1,1,1],\n",
    "                               voting = 'soft')\n",
    "soft_voting_model.fit(X_train, y_train)\n",
    "soft_voting_pred = voting_model.predict(X_test)\n",
    "metrics_evaluation(y_test, soft_voting_pred)"
   ]
  },
  {
   "cell_type": "code",
   "execution_count": 49,
   "id": "3de3f4fd",
   "metadata": {},
   "outputs": [
    {
     "data": {
      "image/png": "[encoded data removed]",
      "text/plain": [
       "<Figure size 1080x720 with 1 Axes>"
      ]
     },
     "metadata": {
      "needs_background": "light"
     },
     "output_type": "display_data"
    }
   ],
   "source": [
    "plt.figure(figsize = (15,10))\n",
    "x=np.arange(5)\n",
    "\n",
    "plt.bar(x,height =[\n",
    "    accuracy_score(y_test, tree_pred),\n",
    "    accuracy_score(y_test, svm_pred),\n",
    "    accuracy_score(y_test, knn_pred),\n",
    "    accuracy_score(y_test, hard_voting_pred),\n",
    "    accuracy_score(y_test, soft_voting_pred)\n",
    "])\n",
    "\n",
    "plt.xticks(x, ['tree', 'svm', 'knn','hard voting','soft voting'])\n",
    "plt.show()\n",
    "plt.close()"
   ]
  },
  {
   "cell_type": "code",
   "execution_count": null,
   "id": "ff3732d4",
   "metadata": {},
   "outputs": [],
   "source": []
  }
 ],
 "metadata": {
  "kernelspec": {
   "display_name": "Python 3",
   "language": "python",
   "name": "python3"
  },
  "language_info": {
   "codemirror_mode": {
    "name": "ipython",
    "version": 3
   },
   "file_extension": ".py",
   "mimetype": "text/x-python",
   "name": "python",
   "nbconvert_exporter": "python",
   "pygments_lexer": "ipython3",
   "version": "3.8.8"
  }
 },
 "nbformat": 4,
 "nbformat_minor": 5
}
